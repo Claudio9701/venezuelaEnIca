{
 "cells": [
  {
   "cell_type": "code",
   "execution_count": null,
   "id": "boolean-handling",
   "metadata": {},
   "outputs": [],
   "source": [
    "# Importing common libraries\n",
    "import pandas as pd\n",
    "import numpy as np\n",
    "import requests\n",
    "import time\n",
    "from pathlib import Path\n",
    "from tqdm.auto import tqdm\n",
    "from unidecode import unidecode\n",
    "\n",
    "# Importing geo libraries\n",
    "import urbanpy as up\n",
    "import geopandas as gpd\n",
    "from shapely.geometry import Point"
   ]
  },
  {
   "cell_type": "code",
   "execution_count": null,
   "id": "parallel-plaintiff",
   "metadata": {},
   "outputs": [],
   "source": [
    "# Reading the data\n",
    "df = pd.read_excel(\n",
    "    \"inputs/encuesta_limpieza_DIRECCIONES LIMPIAS CON LINK EN MAPS.xlsx\", index_col=0\n",
    ")"
   ]
  },
  {
   "cell_type": "code",
   "execution_count": null,
   "id": "interesting-residence",
   "metadata": {},
   "outputs": [],
   "source": [
    "# Check the number of rows and columns\n",
    "df.shape"
   ]
  },
  {
   "cell_type": "code",
   "execution_count": null,
   "id": "ce2fc4b1",
   "metadata": {},
   "outputs": [],
   "source": [
    "# Columnas relacionadas a la ubicacion geografica\n",
    "df.columns[4:12]"
   ]
  },
  {
   "cell_type": "code",
   "execution_count": null,
   "id": "013f90aa-d1a6-4ad0-bc05-9588b9f1e3f4",
   "metadata": {},
   "outputs": [],
   "source": [
    "# Check clean addresses values\n",
    "df[\"DIRECCION LIMPIA\"].value_counts()"
   ]
  },
  {
   "cell_type": "code",
   "execution_count": null,
   "id": "6c4760cd-5a29-4017-bd32-53dbc27f04a9",
   "metadata": {},
   "outputs": [],
   "source": [
    "# Check clean addresses number of null values\n",
    "df[\"DIRECCION LIMPIA\"].isna().sum()"
   ]
  },
  {
   "cell_type": "code",
   "execution_count": null,
   "id": "bba795dc-72c4-4389-9245-50536016262d",
   "metadata": {},
   "outputs": [],
   "source": [
    "# Check types of links\n",
    "df[\"LINK\"].value_counts()"
   ]
  },
  {
   "cell_type": "code",
   "execution_count": null,
   "id": "1d21a15c-1818-43ff-ac40-0b58e8b6d3ca",
   "metadata": {},
   "outputs": [],
   "source": [
    "# Check number of null values in links\n",
    "df[\"LINK\"].isna().sum()"
   ]
  },
  {
   "cell_type": "code",
   "execution_count": null,
   "id": "b117c484-edf3-4d63-993f-d960ce48c95f",
   "metadata": {},
   "outputs": [],
   "source": [
    "df[\"DIRECCION LIMPIA\"][df[\"LINK\"] == \"NO SE ENCUENTRA\"].value_counts()"
   ]
  },
  {
   "cell_type": "code",
   "execution_count": null,
   "id": "3f04e0bc-1cbe-4707-ab62-fb798ddbdf86",
   "metadata": {},
   "outputs": [],
   "source": [
    "df[\"DIRECCION LIMPIA\"][df[\"LINK\"] == \"YA GEORREFERENCIADA\"].value_counts()"
   ]
  },
  {
   "cell_type": "code",
   "execution_count": null,
   "id": "e25a5e82-9def-45b4-8f80-27c5f4ddfd88",
   "metadata": {},
   "outputs": [],
   "source": [
    "df[df[\"DIRECCION LIMPIA\"] == \"BÚSQUEDA MANUAL\"][\"LINK\"].isna().sum()"
   ]
  },
  {
   "cell_type": "code",
   "execution_count": null,
   "id": "e40766c0-3b20-42bf-a038-fda33dc71371",
   "metadata": {},
   "outputs": [],
   "source": [
    "# Extrae las coordenas de los links de busqueda de OSM\n",
    "search_df = df[\n",
    "    df[\"LINK\"].fillna(\"NAN\").str.startswith(\"https://www.openstreetmap.org/search\")\n",
    "].copy()\n",
    "search_df[[\"lat\", \"lon\"]] = search_df.apply(\n",
    "    lambda x: (\n",
    "        x[\"LINK\"]\n",
    "        .split(\"?\")[1]\n",
    "        .split(\"#\")[0]\n",
    "        .split(\"&\")[1]\n",
    "        .split(\"query=\")[1]\n",
    "        .split(\"%2C\")\n",
    "    ),\n",
    "    axis=1,\n",
    "    result_type=\"expand\",\n",
    ")"
   ]
  },
  {
   "cell_type": "code",
   "execution_count": null,
   "id": "405152f2-52c0-4cd1-898d-6cfb2c75729c",
   "metadata": {},
   "outputs": [],
   "source": [
    "search_df.shape"
   ]
  },
  {
   "cell_type": "code",
   "execution_count": null,
   "id": "0e31b2e5-1606-4b95-84c0-d54feca2d7b6",
   "metadata": {},
   "outputs": [],
   "source": [
    "# Crea un GeoDataFrame con las coordenadas extraidas\n",
    "search_gdf = gpd.GeoDataFrame(\n",
    "    data=search_df,\n",
    "    geometry=gpd.points_from_xy(search_df[\"lon\"], search_df[\"lat\"], crs=4326),\n",
    ")"
   ]
  },
  {
   "cell_type": "code",
   "execution_count": null,
   "id": "6aa3dec6-bdd9-4df7-a9fc-d298ece9afd2",
   "metadata": {},
   "outputs": [],
   "source": [
    "# Elimina las filas que ya tienen coordenadas\n",
    "not_search = df.drop(search_df.index)"
   ]
  },
  {
   "cell_type": "code",
   "execution_count": null,
   "id": "96e2dd3e-f4b2-4868-83ad-a0172c044136",
   "metadata": {},
   "outputs": [],
   "source": [
    "# Filtra las filas que tiene links de objetos de OSM\n",
    "df_osm_objects = not_search[\n",
    "    not_search[\"LINK\"].fillna(\"NAN\").str.startswith(\"https://\")\n",
    "].copy()"
   ]
  },
  {
   "cell_type": "code",
   "execution_count": null,
   "id": "6e49cf77-8ffe-49c4-96a1-1a5912b8c803",
   "metadata": {},
   "outputs": [],
   "source": [
    "df_osm_objects.shape"
   ]
  },
  {
   "cell_type": "code",
   "execution_count": null,
   "id": "ff203644-21c2-429a-824d-28ec889d792d",
   "metadata": {},
   "outputs": [],
   "source": [
    "# Extrae el tipo de objeto de OSM (node = N, way = W, relation = R)\n",
    "df_osm_objects[\"OSM_OBJ_TYPE\"] = df_osm_objects[\"LINK\"].apply(\n",
    "    lambda x: (x.split(\"/\")[3][0]).upper()\n",
    ")\n",
    "# Extrae el ID del objeto de OSM\n",
    "df_osm_objects[\"OSM_IDS\"] = df_osm_objects[\"LINK\"].apply(\n",
    "    lambda x: (x.split(\"/\")[4].split(\"#\")[0])\n",
    ")\n",
    "# Une el tipo de objeto y el ID para hacer la consulta a Nominatim API\n",
    "df_osm_objects[\"OSM_QUERY\"] = df_osm_objects[\"OSM_OBJ_TYPE\"] + df_osm_objects[\"OSM_IDS\"];"
   ]
  },
  {
   "cell_type": "code",
   "execution_count": null,
   "id": "63cc01e8-5a71-4f6d-a618-aede893d0454",
   "metadata": {},
   "outputs": [],
   "source": [
    "# Verifica el formato de la consulta\n",
    "df_osm_objects[\"OSM_QUERY\"].head()"
   ]
  },
  {
   "attachments": {},
   "cell_type": "markdown",
   "id": "59bb48f5-b522-4228-a82a-c8ab8b0e4959",
   "metadata": {},
   "source": [
    "Example OSM lookup query URL: https://nominatim.openstreetmap.org/lookup?osm_ids=R146656,W104393803,N240109189"
   ]
  },
  {
   "cell_type": "code",
   "execution_count": null,
   "id": "744a7868-2c4f-4cbb-a3d0-f42e461163b1",
   "metadata": {},
   "outputs": [],
   "source": [
    "def osm_lookup(df, obj_type):\n",
    "    \"\"\"\n",
    "    Queries the OSM Nominatim API for the coordinates of a list of OSM objects.\n",
    "    The query is done in chunks of 50 ids.\n",
    "\n",
    "    Parameters\n",
    "    ----------\n",
    "    df : pandas.DataFrame\n",
    "        DataFrame with the OSM ids to query.\n",
    "    obj_type : str\n",
    "        Type of OSM object to query. Can be 'N', 'W' or 'R'.\n",
    "\n",
    "    Returns\n",
    "    -------\n",
    "    all_data_df : pandas.DataFrame\n",
    "        DataFrame with the coordinates and address of the OSM objects.\n",
    "    \"\"\"\n",
    "\n",
    "    N = 50  # Up to 50 ids can be queried at the same time.\n",
    "\n",
    "    dff = df[df[\"OSM_OBJ_TYPE\"] == obj_type].copy()\n",
    "    query_chunks = [dff[i : i + N] for i in range(0, len(dff), N)]\n",
    "\n",
    "    query_responses = []\n",
    "    for chunk in query_chunks:\n",
    "        list_ids = \",\".join(chunk[\"OSM_QUERY\"].tolist())\n",
    "        url = f\"https://nominatim.openstreetmap.org/lookup?osm_ids={list_ids}&format=json&extratags=1\"\n",
    "        res = requests.get(url)\n",
    "        try:\n",
    "            data = res.json()\n",
    "            query_responses.append(data)\n",
    "        except:\n",
    "            pass\n",
    "        time.sleep(1)  # maximum of 1 request per second.\n",
    "\n",
    "    all_data = []\n",
    "    for q in query_responses:\n",
    "        for l in q:\n",
    "            all_data.append([l[\"lat\"], l[\"lon\"], l[\"display_name\"]])\n",
    "\n",
    "    all_data_df = pd.DataFrame(\n",
    "        all_data, columns=[\"lat\", \"lon\", \"osm_address\"], index=dff.index\n",
    "    )\n",
    "\n",
    "    return all_data_df"
   ]
  },
  {
   "cell_type": "code",
   "execution_count": null,
   "id": "74afdca3-2de0-496f-996f-103d092f4f9b",
   "metadata": {},
   "outputs": [],
   "source": [
    "# Use nominatim API to get the coordinates of the OSM objects\n",
    "\n",
    "fp = Path(\"outputs/clean_address_osm_ids_correct.geojson\")\n",
    "\n",
    "if fp.is_file():\n",
    "    gdf = gpd.read_file(fp)\n",
    "else:\n",
    "    all_nodes_df = osm_lookup(df_osm_objects, \"N\")\n",
    "    all_ways_df = osm_lookup(df_osm_objects, \"W\")\n",
    "    all_rel_df = osm_lookup(df_osm_objects, \"R\")\n",
    "\n",
    "    df_w_address = pd.concat([all_nodes_df, all_ways_df, all_rel_df])\n",
    "    df_complete = df_osm_objects.merge(df_w_address, left_index=True, right_index=True)\n",
    "\n",
    "    gdf = gpd.GeoDataFrame(\n",
    "        data=df_complete,\n",
    "        geometry=gpd.points_from_xy(df_complete[\"lon\"], df_complete[\"lat\"], crs=4326),\n",
    "    )\n",
    "\n",
    "    gdf.to_file(fp, driver=\"GeoJSON\")"
   ]
  },
  {
   "cell_type": "code",
   "execution_count": null,
   "id": "03a3ee98-7f58-4008-bc4a-d0ad4364fe87",
   "metadata": {
    "tags": []
   },
   "outputs": [],
   "source": [
    "gdf.head()"
   ]
  },
  {
   "cell_type": "code",
   "execution_count": null,
   "id": "d80967d0-3ad0-4a6c-af9e-79138c6c2b3f",
   "metadata": {},
   "outputs": [],
   "source": [
    "(df[\"LINK\"] == \"YA GEORREFERENCIADA\").sum()"
   ]
  },
  {
   "cell_type": "code",
   "execution_count": null,
   "id": "a39426db-378d-4c0b-bd69-ae9c79152d25",
   "metadata": {},
   "outputs": [],
   "source": [
    "df_osm_objects.shape, gdf.shape, df.shape"
   ]
  },
  {
   "cell_type": "code",
   "execution_count": null,
   "id": "6f3a864a-8fe2-4830-96a6-981ff0b95457",
   "metadata": {},
   "outputs": [],
   "source": [
    "n_new_georef = search_gdf.shape[0] + gdf.shape[0]\n",
    "n_new_georef"
   ]
  },
  {
   "cell_type": "code",
   "execution_count": null,
   "id": "8c7a3051-6d15-403f-b3fa-5f2ddece83f7",
   "metadata": {},
   "outputs": [],
   "source": [
    "n_prev_georef = (df[\"LINK\"] == \"YA GEORREFERENCIADA\").sum()\n",
    "n_prev_georef, n_new_georef + n_prev_georef"
   ]
  },
  {
   "cell_type": "code",
   "execution_count": null,
   "id": "6164f48e-c3fb-4c09-93d9-1ccd08717c45",
   "metadata": {},
   "outputs": [],
   "source": [
    "(n_new_georef + n_prev_georef) / df.shape[0]"
   ]
  },
  {
   "cell_type": "code",
   "execution_count": null,
   "id": "4f43384c-fdbd-4cb5-b8ac-1c60f6f9633a",
   "metadata": {},
   "outputs": [],
   "source": [
    "df.shape[0] - (n_new_georef + n_prev_georef)"
   ]
  },
  {
   "cell_type": "code",
   "execution_count": null,
   "id": "c9b69b58-b927-4cab-af3d-f43f98494db2",
   "metadata": {},
   "outputs": [],
   "source": [
    "prev_geo_df = pd.read_excel(\"outputs/datos_georef.xlsx\", index_col=0)"
   ]
  },
  {
   "cell_type": "code",
   "execution_count": null,
   "id": "8d187d05-b832-4937-a2ec-dee97b6a412e",
   "metadata": {},
   "outputs": [],
   "source": [
    "prev_geo_gdf = gpd.GeoDataFrame(\n",
    "    data=prev_geo_df,\n",
    "    geometry=gpd.points_from_xy(prev_geo_df[\"lon\"], prev_geo_df[\"lat\"], crs=4326),\n",
    ")"
   ]
  },
  {
   "cell_type": "code",
   "execution_count": null,
   "id": "ca2d1766-a1d6-4727-85d3-71662d4c82bb",
   "metadata": {},
   "outputs": [],
   "source": [
    "prev_geo_gdf.shape, n_prev_georef"
   ]
  },
  {
   "cell_type": "code",
   "execution_count": null,
   "id": "aa7d8cdf-9829-4ead-a2d4-8410e39d9191",
   "metadata": {},
   "outputs": [],
   "source": [
    "# Check two extra\n",
    "prev_geo_gdf.index[\n",
    "    ~prev_geo_gdf.index.isin(df[df[\"LINK\"] == \"YA GEORREFERENCIADA\"].index)\n",
    "]"
   ]
  },
  {
   "cell_type": "code",
   "execution_count": null,
   "id": "50702115-64a5-49d5-8242-63083653ae3a",
   "metadata": {},
   "outputs": [],
   "source": [
    "df.loc[1615][\"LINK\"]"
   ]
  },
  {
   "cell_type": "code",
   "execution_count": null,
   "id": "e908e388-0336-4da0-afaa-94b8b26fcef7",
   "metadata": {},
   "outputs": [],
   "source": [
    "df.loc[1699][\"DIRECCION LIMPIA\"]"
   ]
  },
  {
   "cell_type": "code",
   "execution_count": null,
   "id": "cf7830be-3568-4096-bd1d-18392eb20602",
   "metadata": {},
   "outputs": [],
   "source": [
    "ica = up.download.nominatim_osm(\"Ica, Peru\")\n",
    "ica.crs = 4326"
   ]
  },
  {
   "cell_type": "code",
   "execution_count": null,
   "id": "f78af16e-54f6-4cdd-8674-2d6b1365b0d5",
   "metadata": {},
   "outputs": [],
   "source": [
    "ax = ica.plot(facecolor=\"none\")\n",
    "prev_geo_gdf.plot(color=\"red\", ax=ax)\n",
    "search_gdf.plot(color=\"blue\", ax=ax)\n",
    "gdf.plot(color=\"green\", ax=ax)"
   ]
  },
  {
   "cell_type": "code",
   "execution_count": null,
   "id": "371bef65-dff4-4e1b-a2a9-2ea61c11ad1f",
   "metadata": {},
   "outputs": [],
   "source": [
    "## Fix point at the south (near La Serena, Chile)\n",
    "bad_point = search_df.iloc[search_df[\"lat\"].astype(float).argmin()]\n",
    "\n",
    "search_gdf.loc[bad_point.name, \"lat\"] = -13.83448\n",
    "search_gdf.loc[bad_point.name, \"lon\"] = -76.24896\n",
    "search_gdf.loc[bad_point.name, \"geometry\"] = Point(-76.24896, -13.83448)"
   ]
  },
  {
   "cell_type": "code",
   "execution_count": null,
   "id": "7c23b7ec-0c80-46ef-877b-a2d260c74a29",
   "metadata": {},
   "outputs": [],
   "source": [
    "search_gdf.shape"
   ]
  },
  {
   "cell_type": "code",
   "execution_count": null,
   "id": "4334a12c-843e-4a4c-a525-91d82654cd31",
   "metadata": {},
   "outputs": [],
   "source": [
    "bad_points_in_lima = search_gdf[~search_gdf.intersects(ica.loc[0, \"geometry\"])]"
   ]
  },
  {
   "cell_type": "code",
   "execution_count": null,
   "id": "89b2740f-eda3-44e2-8b3e-67260008fb6e",
   "metadata": {},
   "outputs": [],
   "source": [
    "bad_points_in_lima.index"
   ]
  },
  {
   "cell_type": "code",
   "execution_count": null,
   "id": "aa81791a-8846-4ae5-a0cb-e7ae7c3eefd4",
   "metadata": {},
   "outputs": [],
   "source": [
    "search_gdf.loc[745, \"lat\"] = -14.064057\n",
    "search_gdf.loc[745, \"lon\"] = -75.740620\n",
    "search_gdf.loc[745, \"geometry\"] = Point(-75.740620, -14.064057)\n",
    "\n",
    "search_gdf.loc[1354, \"lat\"] = -14.084670\n",
    "search_gdf.loc[1354, \"lon\"] = -75.723141\n",
    "search_gdf.loc[1354, \"geometry\"] = Point(-75.723141, -14.084670)"
   ]
  },
  {
   "cell_type": "code",
   "execution_count": null,
   "id": "f8f9cee7-e482-4f34-bc54-b83d3018a893",
   "metadata": {},
   "outputs": [],
   "source": [
    "gdf_ALL = pd.concat([prev_geo_gdf, search_gdf, gdf])"
   ]
  },
  {
   "cell_type": "code",
   "execution_count": null,
   "id": "b068ca68-6f56-403d-842e-5398c1bdccf1",
   "metadata": {},
   "outputs": [],
   "source": [
    "gdf_ALL = gdf_ALL[~gdf_ALL.index.duplicated(keep=\"last\")]"
   ]
  },
  {
   "cell_type": "code",
   "execution_count": null,
   "id": "44b16911",
   "metadata": {},
   "outputs": [],
   "source": [
    "gdf_ALL.shape"
   ]
  },
  {
   "cell_type": "code",
   "execution_count": null,
   "id": "1dfdabe7",
   "metadata": {},
   "outputs": [],
   "source": [
    "1085 / 1813"
   ]
  },
  {
   "cell_type": "code",
   "execution_count": null,
   "id": "379c03b4",
   "metadata": {},
   "outputs": [],
   "source": [
    "611 + 207 + 144"
   ]
  },
  {
   "cell_type": "code",
   "execution_count": null,
   "id": "6f8324bd",
   "metadata": {},
   "outputs": [],
   "source": [
    "1085 - 962"
   ]
  },
  {
   "cell_type": "code",
   "execution_count": null,
   "id": "8ac03be0",
   "metadata": {},
   "outputs": [],
   "source": [
    "gdf_ALL.to_file(\"outputs/datos_georef_completo.geojson\", driver=\"GeoJSON\")"
   ]
  },
  {
   "attachments": {},
   "cell_type": "markdown",
   "id": "ad680916",
   "metadata": {},
   "source": [
    "# END"
   ]
  },
  {
   "cell_type": "code",
   "execution_count": null,
   "id": "01bbbf26-35cc-4f8a-8340-17f0d94c5942",
   "metadata": {},
   "outputs": [],
   "source": [
    "ax = ica.plot(facecolor=\"none\")\n",
    "gdf_ALL.plot(ax=ax)"
   ]
  },
  {
   "cell_type": "code",
   "execution_count": null,
   "id": "9ab1854f-d64b-4e84-a597-c0e0acf2f03b",
   "metadata": {},
   "outputs": [],
   "source": [
    "ica_dist = up.download.nominatim_osm(\"Ica, Ica, Peru\", 1)\n",
    "pisco_dist = up.download.nominatim_osm(\"Pisco, Ica, Peru\", 1)\n",
    "chincha_dist = up.download.nominatim_osm(\"Chincha, Ica, Peru\")"
   ]
  },
  {
   "cell_type": "code",
   "execution_count": null,
   "id": "e5940fba-90d3-4c6a-aa2e-389048ad78cc",
   "metadata": {},
   "outputs": [],
   "source": [
    "gdf_ALL[\"Provincia donde vive\"].value_counts()"
   ]
  },
  {
   "cell_type": "code",
   "execution_count": null,
   "id": "f748c73e-8c0e-4ce4-847d-9f85445d2682",
   "metadata": {},
   "outputs": [],
   "source": [
    "gdf_ica = gdf_ALL[gdf_ALL[\"Provincia donde vive\"] == \"Ica\"]\n",
    "gdf_pisco = gdf_ALL[gdf_ALL[\"Provincia donde vive\"] == \"Pisco\"]\n",
    "gdf_chincha = gdf_ALL[gdf_ALL[\"Provincia donde vive\"] == \"Chincha\"]"
   ]
  },
  {
   "cell_type": "code",
   "execution_count": null,
   "id": "906ccb18-7628-4063-8d0b-000f749f994d",
   "metadata": {},
   "outputs": [],
   "source": [
    "import contextily as cx"
   ]
  },
  {
   "cell_type": "code",
   "execution_count": null,
   "id": "b50cf74c-d5a6-4043-88d7-d1cf3a363bbc",
   "metadata": {},
   "outputs": [],
   "source": [
    "ax = ica.plot(facecolor=\"none\", edgecolor=\"red\", figsize=(10, 10))\n",
    "ica_dist.plot(facecolor=\"none\", ax=ax)\n",
    "chincha_dist.plot(facecolor=\"none\", ax=ax)\n",
    "\n",
    "gdf_ALL.plot(ax=ax)\n",
    "\n",
    "pisco_dist.plot(facecolor=\"none\", ax=ax)\n",
    "ax.set_axis_off()\n",
    "cx.add_basemap(ax=ax, source=cx.providers.CartoDB.Positron, crs=4326)"
   ]
  },
  {
   "cell_type": "code",
   "execution_count": null,
   "id": "84747115-6853-488b-b97d-017dc34fcce5",
   "metadata": {},
   "outputs": [],
   "source": [
    "ax = ica.plot(facecolor=\"none\", edgecolor=\"red\", figsize=(10, 10))\n",
    "ica_dist.plot(facecolor=\"none\", ax=ax)\n",
    "chincha_dist.plot(facecolor=\"none\", ax=ax)\n",
    "\n",
    "gdf_ica.plot(color=\"red\", ax=ax)\n",
    "gdf_chincha.plot(color=\"blue\", ax=ax)\n",
    "gdf_pisco.plot(color=\"green\", ax=ax)\n",
    "\n",
    "pisco_dist.plot(facecolor=\"none\", ax=ax)\n",
    "ax.set_axis_off()\n",
    "cx.add_basemap(ax=ax, source=cx.providers.CartoDB.Positron, crs=4326)"
   ]
  },
  {
   "cell_type": "code",
   "execution_count": null,
   "id": "14629764-1d82-481b-8e0b-38dc247ccf03",
   "metadata": {},
   "outputs": [],
   "source": [
    "districts = gpd.read_file(\n",
    "    \"https://storage.googleapis.com/up_public_geodata/admin_bounds/peru/districts.zip\",\n",
    "    mask=ica,\n",
    ")"
   ]
  },
  {
   "cell_type": "code",
   "execution_count": null,
   "id": "50ca23d4-eced-46cb-9ef1-3c034e64d167",
   "metadata": {},
   "outputs": [],
   "source": [
    "ica_districts = districts[districts[\"DEPARTAMEN\"] == \"ICA\"]"
   ]
  },
  {
   "cell_type": "code",
   "execution_count": null,
   "id": "b427b78c-9edb-467b-a417-48907c149c47",
   "metadata": {},
   "outputs": [],
   "source": [
    "ax = ica.plot(facecolor=\"none\")\n",
    "ica_districts.plot(ax=ax)"
   ]
  },
  {
   "cell_type": "code",
   "execution_count": null,
   "id": "b6181520-4b63-4554-9305-639d56be9859",
   "metadata": {},
   "outputs": [],
   "source": [
    "ax = up.geom.merge_shape_hex(ica_districts, gdf_ALL, agg={\"lat\": \"size\"}).plot(\n",
    "    \"lat\", legend=True\n",
    ")\n",
    "gdf_ALL.plot(color=\"r\", ax=ax)"
   ]
  },
  {
   "cell_type": "code",
   "execution_count": null,
   "id": "6700c067-477d-4272-a435-870baaacff9f",
   "metadata": {},
   "outputs": [],
   "source": [
    "(\n",
    "    gdf_ALL.intersects(ica_dist.iloc[0].geometry).sum(),\n",
    "    gdf_ALL.intersects(chincha_dist.iloc[0].geometry).sum(),\n",
    "    gdf_ALL.intersects(pisco_dist.iloc[0].geometry).sum(),\n",
    ")"
   ]
  },
  {
   "cell_type": "code",
   "execution_count": null,
   "id": "05e74186-8e0b-4082-a5b1-ea0621ab6293",
   "metadata": {},
   "outputs": [],
   "source": [
    "hexs = up.geom.gen_hexagons(6, ica)\n",
    "hexs.plot()"
   ]
  },
  {
   "cell_type": "code",
   "execution_count": null,
   "id": "0745b8ad-b8cd-4a88-8c80-6fc204de2f72",
   "metadata": {},
   "outputs": [],
   "source": [
    "hexs_pip = up.geom.merge_shape_hex(hexs, gdf_ALL, agg={\"lat\": \"size\"})\n",
    "\n",
    "hexs_pip.plot(\"lat\", legend=True)"
   ]
  },
  {
   "cell_type": "code",
   "execution_count": null,
   "id": "dc6c1dca-b075-4414-b109-33bf6337b8e9",
   "metadata": {},
   "outputs": [],
   "source": [
    "# INSEGURIDAD ALIMENTARIA\n",
    "rename_cols = {\n",
    "    \"En los últimos 12 meses ¿Usted u otra persona en su hogar se haya preocupado por no tener suficientes alimentos para comer por falta de dinero u otros recursos?\": \"Preocupación por no tener alimentos (Leve)\",\n",
    "    \"Pensando aún en los últimos 12 meses, ¿hubo alguna vez en que usted u otra persona en su hogar no haya podido comer alimentos saludables y nutritivos  por falta de dinero u otros recursos?\": \"No pudo comer alimentos saludables y nutritivos (Moderada)\",\n",
    "    \"En los últimos 12 meses ¿Hubo alguna vez en que usted u otra persona en su hogar haya comido poca variedad de  alimentos por falta de dinero u otros recursos?\": \"Comió poca variedad de alimentos (Moderada)\",\n",
    "    \"En los últimos 12 meses Pensando aún en los últimos 12 meses, ¿hubo alguna vez en que usted u otra persona en su hogar haya comido menos de lo que pensaba que debía comer por falta de dinero u otros recursos?\": \"Comió menos de lo que pensaba que debía (Moderada)\",\n",
    "    \"En los últimos 12 meses ¿Hubo alguna vez en que usted u otra persona en su hogar haya tenido que dejar de desayunar, almorzar o cenar porque no había suficiente dinero u otros recursos para obtener alimentos?\": \"Se saltó alguna comida por falta de dinero para comprar alimentos (Moderada)\",\n",
    "    \"En los últimos 12 meses ¿Hubo alguna vez en que usted u otra persona en su hogar haya sentido  hambre pero no comió porque no había suficiente dinero u otros recursos para obtener alimentos?\": \"Tuvo hambre pero no comió por falta de alientos (Moderada)\",\n",
    "    \"En los últimos 12 meses ¿Hubo alguna vez en que su hogar se haya quedado sin alimentos por falta de dinero u otros recursos?\": \"Se quedó sin alimentos (Grave)\",\n",
    "    \"En los últimos 12 meses ¿Hubo alguna vez en que usted u otra persona en su hogar haya dejado de comer todo un día por falta de dinero u otros recursos?\": \"Dejo de comer todo un día (Grave)\",\n",
    "}"
   ]
  },
  {
   "cell_type": "code",
   "execution_count": null,
   "id": "893891c3-05f0-4662-ba74-ed42cf07bb32",
   "metadata": {},
   "outputs": [],
   "source": [
    "cols = list(rename_cols.values())\n",
    "cols.reverse()"
   ]
  },
  {
   "cell_type": "code",
   "execution_count": null,
   "id": "973b83be-a39f-4456-b88a-a063e45bad49",
   "metadata": {},
   "outputs": [],
   "source": [
    "gdf_ALL = gdf_ALL.rename(columns=rename_cols)"
   ]
  },
  {
   "cell_type": "code",
   "execution_count": null,
   "id": "875a1f03-dc59-4a61-8e51-af33899e4342",
   "metadata": {},
   "outputs": [],
   "source": [
    "def get_insec_alim(row):\n",
    "    for c in cols:\n",
    "        if row[c] == \"Si\":\n",
    "            return c.split(\"(\")[1][:-1]\n",
    "    return np.nan"
   ]
  },
  {
   "cell_type": "code",
   "execution_count": null,
   "id": "b173c015-e26d-4cf3-a034-93f511e9ce04",
   "metadata": {},
   "outputs": [],
   "source": [
    "gdf_ALL[\"inseg_alim_nivel\"] = gdf_ALL.apply(get_insec_alim, axis=1)"
   ]
  },
  {
   "cell_type": "code",
   "execution_count": null,
   "id": "5af1332d-92f7-4b27-b14a-709a0bdc71f7",
   "metadata": {},
   "outputs": [],
   "source": [
    "gdf_ALL[\"inseg_alim_nivel\"].value_counts()"
   ]
  },
  {
   "cell_type": "code",
   "execution_count": null,
   "id": "1814983d-7a41-47b4-a8b3-916c33532f69",
   "metadata": {},
   "outputs": [],
   "source": [
    "gdf_ALL[\"inseg_alim_nivel\"].isna().sum()"
   ]
  },
  {
   "cell_type": "code",
   "execution_count": null,
   "id": "9ee0e33f-33c4-43a5-b23d-d0b46971bf73",
   "metadata": {},
   "outputs": [],
   "source": [
    "# Zona Chincha\n",
    "hexs_chincha = hexs_pip.cx[-78:-76, -13.6:-13]\n",
    "ax = hexs_chincha.plot(\"lat\", legend=True)\n",
    "gdf_ALL.clip(hexs_chincha).plot(alpha=0.5, ax=ax)"
   ]
  },
  {
   "cell_type": "code",
   "execution_count": null,
   "id": "3ec4ec5e",
   "metadata": {},
   "outputs": [],
   "source": [
    "gdf_zona_chincha = gdf_ALL.clip(hexs_chincha)"
   ]
  },
  {
   "cell_type": "code",
   "execution_count": null,
   "id": "f25cc04b",
   "metadata": {},
   "outputs": [],
   "source": [
    "# Zona Pisco\n",
    "hexs_pisco = hexs_pip.cx[-78:-76, -14.0:-13.6]\n",
    "ax = hexs_pisco.plot(\"lat\", legend=True)\n",
    "gdf_ALL.clip(hexs_pisco).plot(alpha=0.5, ax=ax)"
   ]
  },
  {
   "cell_type": "code",
   "execution_count": null,
   "id": "53f99748-1e05-462f-8d33-e27851ae2262",
   "metadata": {},
   "outputs": [],
   "source": [
    "gdf_zona_pisco = gdf_ALL.clip(hexs_pisco)"
   ]
  },
  {
   "cell_type": "code",
   "execution_count": null,
   "id": "589b2c44-3569-4af5-a083-242279221b2e",
   "metadata": {},
   "outputs": [],
   "source": [
    "# Zona ICA\n",
    "hexs_ica = hexs_pip.cx[-76:-75.5, -14.5:-14]\n",
    "ax = hexs_ica.plot(\"lat\", legend=True)\n",
    "gdf_ALL.clip(hexs_ica).plot(alpha=0.5, ax=ax)"
   ]
  },
  {
   "cell_type": "code",
   "execution_count": null,
   "id": "1950d540-6207-4759-9730-bf5ace9b09dd",
   "metadata": {},
   "outputs": [],
   "source": [
    "gdf_zona_ica = gdf_ALL.clip(hexs_ica)"
   ]
  },
  {
   "attachments": {},
   "cell_type": "markdown",
   "id": "b855fffb-be2c-4170-b998-213e270453a3",
   "metadata": {},
   "source": [
    "--- MENCIONADOS EN INFORME ANTERIOR ---\n",
    "1. Mapas de inseguridad alimentaria para cada nivel \n",
    "2. Mapa de hogares que recibieron QW categorizado por si fue significativo o no\n",
    "3. Mapa con personas que estan dispuestas a organizarse\n",
    "4. Mapa con hogares por tipo de situación migratoria\n",
    "5. MApa con hogares por ingreso  \n",
    "\n",
    "---- PUEDO AGREGAR ---  \n",
    "1. Mapa hogares sobre densidad poblacional \n",
    "1. Mapa de hogares sobre caminabilidad a mercados (CENSO de mcdos 2016)\n",
    "1. Mapa de hogares sobre caminabilidad a centros de salud (Datos Abiertos de OpenStreetMap)"
   ]
  },
  {
   "attachments": {},
   "cell_type": "markdown",
   "id": "6d86a1cf-a2bd-42b8-9232-919e4ac9d649",
   "metadata": {},
   "source": [
    "## Mapas de inseguridad alimentaria para cada nivel \n"
   ]
  },
  {
   "cell_type": "code",
   "execution_count": null,
   "id": "ffa322b0",
   "metadata": {},
   "outputs": [],
   "source": [
    "from shapely.geometry import Polygon\n",
    "import contextily as cx\n",
    "from mpl_toolkits.axes_grid1 import make_axes_locatable\n",
    "import matplotlib.pyplot as plt"
   ]
  },
  {
   "cell_type": "code",
   "execution_count": null,
   "id": "b1257ee1",
   "metadata": {},
   "outputs": [],
   "source": [
    "minx, miny, maxx, maxy = -76.2, -13.45, -76.1, -13.38\n",
    "\n",
    "\n",
    "def bbox_to_gdf(minx, miny, maxx, maxy):\n",
    "    geometry = [Polygon([[minx, miny], [minx, maxy], [maxx, maxy], [maxx, miny]])]\n",
    "    return gpd.GeoSeries(geometry, crs=4326)"
   ]
  },
  {
   "cell_type": "code",
   "execution_count": null,
   "id": "e510e25a",
   "metadata": {},
   "outputs": [],
   "source": [
    "ica_districts[\"PROVINCIA\"].value_counts()"
   ]
  },
  {
   "cell_type": "code",
   "execution_count": null,
   "id": "ea121e3d",
   "metadata": {},
   "outputs": [],
   "source": [
    "fig, ax = plt.subplots(1, 1, figsize=(20, 10))\n",
    "\n",
    "ica_districts.plot(\"PROVINCIA\", alpha=0.5, legend=True, ax=ax)\n",
    "\n",
    "gdf_ALL.plot(color=\"orange\", ax=ax)\n",
    "\n",
    "bbox_to_gdf(*hexs_chincha.dropna().total_bounds).plot(\n",
    "    facecolor=\"none\", edgecolor=\"r\", ax=ax\n",
    ")\n",
    "bbox_to_gdf(*hexs_pisco.dropna().total_bounds).plot(\n",
    "    facecolor=\"none\", edgecolor=\"b\", ax=ax\n",
    ")\n",
    "bbox_to_gdf(*hexs_ica.dropna().total_bounds).plot(\n",
    "    facecolor=\"none\", edgecolor=\"g\", ax=ax\n",
    ")\n",
    "\n",
    "ax.set_axis_off()\n",
    "cx.add_basemap(ax, source=cx.providers.CartoDB.Positron, crs=4326)"
   ]
  },
  {
   "cell_type": "code",
   "execution_count": null,
   "id": "31ec0734",
   "metadata": {},
   "outputs": [],
   "source": [
    "# ICA\n",
    "gdf_ica = gdf_ALL.clip(\n",
    "    ica_districts[ica_districts[\"PROVINCIA\"] == \"ICA\"].unary_union\n",
    ").cx[-75.77531:-75.67972, -14.15:-13.970591]\n",
    "# CHINCHA\n",
    "gdf_chincha = gdf_ALL.clip(\n",
    "    ica_districts[\n",
    "        (ica_districts[\"PROVINCIA\"] == \"CHINCHA\")\n",
    "        & (ica_districts[\"DISTRITO\"] != \"SAN PEDRO DE HUACARPANA\")\n",
    "    ].unary_union\n",
    ").cx[-76.1818:-76.10, -13.45:-13.39094]\n",
    "# PISCO\n",
    "gdf_pisco = gdf_ALL.clip(\n",
    "    ica_districts[ica_districts[\"PROVINCIA\"] == \"PISCO\"].unary_union\n",
    ").cx[-76.25:-76.1, -13.78:-13.65]\n",
    "# .cx[-76.2:-76.1, -13.78:-13.65]\n",
    "# gdf_pisco: [-76.29258972 -13.8375251  -76.0048     -13.6229    ]\n",
    "\n",
    "print(\"gdf_ica:\", gdf_ica.total_bounds)\n",
    "print(\"gdf_chincha:\", gdf_chincha.total_bounds)\n",
    "print(\"gdf_pisco:\", gdf_pisco.total_bounds)\n",
    "\n",
    "# Plot every gdf\n",
    "gdf_ica.plot(\"inseg_alim_nivel\", legend=True)\n",
    "gdf_chincha.plot(\"inseg_alim_nivel\", legend=True)\n",
    "gdf_pisco.plot(\"inseg_alim_nivel\", legend=True)"
   ]
  },
  {
   "cell_type": "code",
   "execution_count": null,
   "id": "e2c44676",
   "metadata": {},
   "outputs": [],
   "source": [
    "from matplotlib_scalebar.scalebar import ScaleBar\n",
    "from matplotlib.lines import Line2D"
   ]
  },
  {
   "cell_type": "code",
   "execution_count": null,
   "id": "787ae30a",
   "metadata": {},
   "outputs": [],
   "source": [
    "points = gpd.GeoSeries(\n",
    "    [Point(-75, -13.75), Point(-76, -13.75)], crs=4326\n",
    ")  # Geographic WGS 84 - degrees\n",
    "points = points.to_crs(32618)  # Projected WGS 84 - meters"
   ]
  },
  {
   "cell_type": "code",
   "execution_count": null,
   "id": "55386296",
   "metadata": {},
   "outputs": [],
   "source": [
    "distance_meters = points[0].distance(points[1])"
   ]
  },
  {
   "cell_type": "code",
   "execution_count": null,
   "id": "0d869588",
   "metadata": {},
   "outputs": [],
   "source": [
    "distance_meters"
   ]
  },
  {
   "cell_type": "code",
   "execution_count": null,
   "id": "4f1c5ba2",
   "metadata": {},
   "outputs": [],
   "source": [
    "fig, ax = plt.subplots(1, 1, figsize=(20, 10))\n",
    "\n",
    "ica_districts[ica_districts[\"PROVINCIA\"].isin([\"CHINCHA\", \"PISCO\", \"ICA\"])].plot(\n",
    "    alpha=0.5, facecolor=\"none\", label=\"Encuestas\", legend=True, ax=ax\n",
    ")\n",
    "\n",
    "gdf_ica.plot(color=\"g\", ax=ax)\n",
    "gdf_chincha.plot(color=\"g\", ax=ax)\n",
    "gdf_pisco.plot(color=\"g\", ax=ax)\n",
    "\n",
    "bbox_to_gdf(*gdf_ica.total_bounds).plot(\n",
    "    facecolor=\"none\", edgecolor=\"r\", linewidth=3, ax=ax\n",
    ")\n",
    "bbox_to_gdf(*gdf_chincha.total_bounds).plot(\n",
    "    facecolor=\"none\", edgecolor=\"orange\", linewidth=3, ax=ax\n",
    ")\n",
    "bbox_to_gdf(*gdf_pisco.total_bounds).plot(\n",
    "    facecolor=\"none\", edgecolor=\"k\", linewidth=3, ax=ax\n",
    ")\n",
    "\n",
    "minx, miny, maxx, maxy = -76.4, -14.25, -75.6, -13.25\n",
    "ax.set_xlim(minx, maxx)\n",
    "ax.set_ylim(miny, maxy)\n",
    "\n",
    "ax.add_artist(ScaleBar(distance_meters, box_alpha=0.5, location=\"lower left\"))\n",
    "\n",
    "g_patch = Line2D([0], [0], marker=\"o\", color=\"g\", linewidth=0, label=\"Observaciones\")\n",
    "\n",
    "r_line = Line2D([0], [0], color=\"r\", linewidth=3, label=\"Ica\")\n",
    "b_line = Line2D([0], [0], color=\"k\", linewidth=3, label=\"Pisco\")\n",
    "o_line = Line2D([0], [0], color=\"orange\", linewidth=3, label=\"Chincha\")\n",
    "\n",
    "plt.legend(handles=[o_line, b_line, r_line, g_patch], title=\"Zonas de análisis\")\n",
    "\n",
    "ax.set_axis_off()\n",
    "cx.add_basemap(ax, source=cx.providers.CartoDB.Positron, crs=4326)\n",
    "\n",
    "plt.savefig(\"outputs/maps/zonas_de_analisis.png\", dpi=300, bbox_inches=\"tight\")"
   ]
  },
  {
   "cell_type": "code",
   "execution_count": null,
   "id": "b66f9219-bcaf-4976-b3c1-bb2745c797ce",
   "metadata": {},
   "outputs": [],
   "source": [
    "hexs_ica9 = up.geom.gen_hexagons(9, ica)"
   ]
  },
  {
   "cell_type": "code",
   "execution_count": null,
   "id": "2731a8ec",
   "metadata": {},
   "outputs": [],
   "source": [
    "hexs_ica9.shape"
   ]
  },
  {
   "cell_type": "code",
   "execution_count": null,
   "id": "a2007610-b703-41f3-8f95-60eb0a704a2c",
   "metadata": {},
   "outputs": [],
   "source": [
    "gdf_ALL = gdf_ALL.assign(**pd.get_dummies(gdf_ALL[\"inseg_alim_nivel\"]).to_dict())"
   ]
  },
  {
   "cell_type": "code",
   "execution_count": null,
   "id": "23b48fba",
   "metadata": {},
   "outputs": [],
   "source": [
    "gdf_ALL[\"inseg_alim_nivel\"].value_counts()"
   ]
  },
  {
   "cell_type": "code",
   "execution_count": null,
   "id": "d05cec30",
   "metadata": {},
   "outputs": [],
   "source": [
    "gdf_ica[\"inseg_alim_nivel\"] = gdf_ALL.loc[gdf_ica.index, \"inseg_alim_nivel\"]\n",
    "gdf_chincha[\"inseg_alim_nivel\"] = gdf_ALL.loc[gdf_ica.index, \"inseg_alim_nivel\"]\n",
    "gdf_pisco[\"inseg_alim_nivel\"] = gdf_ALL.loc[gdf_ica.index, \"inseg_alim_nivel\"]"
   ]
  },
  {
   "cell_type": "code",
   "execution_count": null,
   "id": "c406efce",
   "metadata": {},
   "outputs": [],
   "source": [
    "hexs_ica_inseg = up.geom.merge_shape_hex(\n",
    "    hexs_ica9, gdf_ALL, agg={\"Grave\": \"sum\", \"Moderada\": \"sum\", \"Leve\": \"sum\"}\n",
    ")"
   ]
  },
  {
   "cell_type": "code",
   "execution_count": null,
   "id": "cd7a6981",
   "metadata": {},
   "outputs": [],
   "source": [
    "hexs_ica_inseg.isna().sum() / hexs_ica_inseg.shape[0]"
   ]
  },
  {
   "cell_type": "code",
   "execution_count": null,
   "id": "f9ee0756",
   "metadata": {},
   "outputs": [],
   "source": [
    "# Create a function to plot a heatmap\n",
    "def plot_heatmap(df, column, title, cmap=\"Reds\", vmin=0, vmax=1, figsize=(20, 10)):\n",
    "    fig, ax = plt.subplots(1, 1, figsize=figsize)\n",
    "    ax.set_title(title)\n",
    "    df.plot(column=column, cmap=cmap, vmin=vmin, vmax=vmax, ax=ax, legend=True)\n",
    "    ax.set_axis_off()\n",
    "    cx.add_basemap(ax, source=cx.providers.CartoDB.Positron, crs=4326)\n",
    "    plt.savefig(f\"outputs/maps/{column}.png\", dpi=300, bbox_inches=\"tight\")"
   ]
  },
  {
   "cell_type": "code",
   "execution_count": null,
   "id": "9415d560-1acc-44ac-8b0f-2c0648690b51",
   "metadata": {},
   "outputs": [],
   "source": [
    "# Hex Map\n",
    "gdfs = [gdf_ica, gdf_chincha, gdf_pisco]\n",
    "ciudades = [\"Ica\", \"Chincha\", \"Pisco\"]\n",
    "inseg_niveles = [\"Grave\", \"Moderada\", \"Leve\"]\n",
    "\n",
    "for i, gdf in enumerate(gdfs):\n",
    "    fig, axes = plt.subplots(1, 3, figsize=(15, 5))\n",
    "    fig.suptitle(f\"Nivel de Inseguridad Alimentaria ({ciudades[i]})\")\n",
    "    for j, ax in enumerate(axes):\n",
    "        ica_districts.plot(facecolor=\"none\", edgecolor=\"lightgrey\", ax=ax)\n",
    "        minx, miny, maxx, maxy = gdf.total_bounds\n",
    "\n",
    "        ax.set_title(f\"Nivel: {inseg_niveles[j]}\")\n",
    "\n",
    "        if j == 2:\n",
    "            divider = make_axes_locatable(ax)\n",
    "            cax = divider.append_axes(\"right\", size=\"5%\", pad=0.1)\n",
    "            hexs_ica_inseg.cx[minx:maxx, miny:maxy].plot(\n",
    "                inseg_niveles[j],\n",
    "                edgecolor=\"none\",\n",
    "                alpha=0.75,\n",
    "                cmap=\"YlOrRd\",\n",
    "                ax=ax,\n",
    "                vmin=0,\n",
    "                vmax=20,\n",
    "                legend=True,\n",
    "                cax=cax,\n",
    "            )\n",
    "        else:\n",
    "            hexs_ica_inseg.cx[minx:maxx, miny:maxy].plot(\n",
    "                inseg_niveles[j],\n",
    "                edgecolor=\"none\",\n",
    "                alpha=0.75,\n",
    "                cmap=\"YlOrRd\",\n",
    "                ax=ax,\n",
    "                vmin=0,\n",
    "                vmax=20,\n",
    "            )\n",
    "\n",
    "        margins = 0.001\n",
    "        ax.set_xlim(minx - margins, maxx + margins)\n",
    "        ax.set_ylim(miny - margins, maxy + margins)\n",
    "\n",
    "        if j == 0:\n",
    "            ax.add_artist(\n",
    "                ScaleBar(distance_meters, box_alpha=0.5, location=\"lower left\")\n",
    "            )\n",
    "\n",
    "        ax.set_axis_off()\n",
    "        cx.add_basemap(\n",
    "            ax=ax,\n",
    "            source=cx.providers.CartoDB.Positron,\n",
    "            crs=\"EPSG:4326\",\n",
    "            attribution=False,\n",
    "        )\n",
    "\n",
    "    plt.tight_layout()\n",
    "    plt.savefig(\n",
    "        f\"outputs/maps/{ciudades[i]}_inseg_alim.png\", dpi=300, bbox_inches=\"tight\"\n",
    "    )"
   ]
  },
  {
   "cell_type": "code",
   "execution_count": null,
   "id": "008c0d69",
   "metadata": {},
   "outputs": [],
   "source": [
    "import geoplot as gplt"
   ]
  },
  {
   "cell_type": "code",
   "execution_count": null,
   "id": "8b9250c2",
   "metadata": {},
   "outputs": [],
   "source": [
    "import seaborn as sns"
   ]
  },
  {
   "cell_type": "code",
   "execution_count": null,
   "id": "9ab57842",
   "metadata": {},
   "outputs": [],
   "source": [
    "# Heat Map\n",
    "gdfs = [gdf_ica, gdf_chincha, gdf_pisco]\n",
    "ciudades = [\"Ica\", \"Chincha\", \"Pisco\"]\n",
    "inseg_niveles = [\"Grave\", \"Moderada\", \"Leve\"]\n",
    "\n",
    "for i, gdf in enumerate(gdfs):\n",
    "    fig, axes = plt.subplots(1, 3, figsize=(15, 5))\n",
    "    fig.suptitle(f\"Nivel de Inseguridad Alimentaria ({ciudades[i]})\")\n",
    "    for j, ax in enumerate(axes):\n",
    "        ica_districts.plot(facecolor=\"none\", edgecolor=\"lightgrey\", ax=ax)\n",
    "        minx, miny, maxx, maxy = gdf.total_bounds\n",
    "\n",
    "        ax.set_title(f\"Nivel: {inseg_niveles[j]}\")\n",
    "\n",
    "        gplt.kdeplot(\n",
    "            gdf.query(f\"inseg_alim_nivel == '{inseg_niveles[j]}'\"),\n",
    "            cmap=\"turbo\",\n",
    "            ax=ax,\n",
    "            alpha=0.5,\n",
    "            n_levels=100,\n",
    "            fill=True,\n",
    "            thresh=0.5,\n",
    "        )\n",
    "\n",
    "        margins = 0.001\n",
    "        ax.set_xlim(minx - margins, maxx + margins)\n",
    "        ax.set_ylim(miny - margins, maxy + margins)\n",
    "\n",
    "        if j == 0:\n",
    "            ax.add_artist(\n",
    "                ScaleBar(distance_meters, box_alpha=0.5, location=\"lower left\")\n",
    "            )\n",
    "\n",
    "        ax.set_axis_off()\n",
    "        cx.add_basemap(\n",
    "            ax=ax,\n",
    "            source=\"https://mt1.google.com/vt/lyrs=y&x={x}&y={y}&z={z}\",\n",
    "            crs=\"EPSG:4326\",\n",
    "            attribution=False,\n",
    "        )\n",
    "\n",
    "    plt.tight_layout()\n",
    "    plt.savefig(\n",
    "        f\"outputs/maps/density/{ciudades[i]}_inseg_alim.png\",\n",
    "        dpi=300,\n",
    "        bbox_inches=\"tight\",\n",
    "    )"
   ]
  },
  {
   "cell_type": "code",
   "execution_count": null,
   "id": "28d25acf-08be-4a8f-adb4-4324fbd10f75",
   "metadata": {},
   "outputs": [],
   "source": [
    "# Point Map\n",
    "fig, axes = plt.subplots(1, 3, figsize=(15, 5))\n",
    "fig.suptitle(f\"Nivel de Inseguridad Alimentaria\")\n",
    "\n",
    "gdfs = [gdf_ica, gdf_chincha, gdf_pisco]\n",
    "ciudades = [\"Ica\", \"Chincha\", \"Pisco\"]\n",
    "inseg_niveles = [\"Grave\", \"Moderada\", \"Leve\"]\n",
    "\n",
    "for j, ax in enumerate(axes):\n",
    "    ica_districts.plot(facecolor=\"none\", edgecolor=\"lightgrey\", ax=ax)\n",
    "    minx, miny, maxx, maxy = gdfs[j].total_bounds\n",
    "\n",
    "    ax.set_title(f\"Ciudad: {ciudades[j]}\")\n",
    "\n",
    "    if j == 2:\n",
    "        gdfs[j].plot(\n",
    "            \"inseg_alim_nivel\",\n",
    "            alpha=1,\n",
    "            cmap=\"Reds_r\",\n",
    "            ax=ax,\n",
    "            categories=[\"Grave\", \"Moderada\", \"Leve\"],\n",
    "            legend=True,\n",
    "            legend_kwds={\"loc\": \"lower left\", \"bbox_to_anchor\": (1, 0.5)},\n",
    "        )\n",
    "    else:\n",
    "        gdfs[j].plot(\n",
    "            \"inseg_alim_nivel\",\n",
    "            alpha=1,\n",
    "            cmap=\"Reds_r\",\n",
    "            ax=ax,\n",
    "            categories=[\"Grave\", \"Moderada\", \"Leve\"],\n",
    "        )\n",
    "\n",
    "    margins = 0.001\n",
    "    ax.set_xlim(minx - margins, maxx + margins)\n",
    "    ax.set_ylim(miny - margins, maxy + margins)\n",
    "\n",
    "    if j == 0:\n",
    "        ax.add_artist(ScaleBar(distance_meters, box_alpha=0.5, location=\"lower left\"))\n",
    "\n",
    "    ax.set_axis_off()\n",
    "    cx.add_basemap(\n",
    "        ax=ax,\n",
    "        source=\"https://mt1.google.com/vt/lyrs=y&x={x}&y={y}&z={z}\",\n",
    "        crs=\"EPSG:4326\",\n",
    "        attribution=False,\n",
    "    )\n",
    "\n",
    "plt.tight_layout()\n",
    "plt.savefig(f\"outputs/maps/inseg_alim_puntos.png\", dpi=300, bbox_inches=\"tight\")"
   ]
  },
  {
   "attachments": {},
   "cell_type": "markdown",
   "id": "68207e17-5094-4bde-b22c-8765b91d858f",
   "metadata": {},
   "source": [
    "## Mapa de hogares que recibieron QW categorizado por si fue significativo o no"
   ]
  },
  {
   "cell_type": "code",
   "execution_count": null,
   "id": "5757ae74",
   "metadata": {},
   "outputs": [],
   "source": [
    "gdf_ALL[\n",
    "    [\n",
    "        \"Si tiene hijos en edad escolar, ¿Alguno de sus hijos recibe Qali Warma?\",\n",
    "        \"¿Los alimentos recibidos por Qali Warma rma son un aporte importante a la alimentacion familiar?\",\n",
    "        \"¿Que modalidad de Qali Warma recibe su hijo?\",\n",
    "    ]\n",
    "]"
   ]
  },
  {
   "cell_type": "code",
   "execution_count": null,
   "id": "c3145e2f",
   "metadata": {},
   "outputs": [],
   "source": [
    "gdf_ALL[\n",
    "    \"Si tiene hijos en edad escolar, ¿Alguno de sus hijos recibe Qali Warma?\"\n",
    "].value_counts()"
   ]
  },
  {
   "cell_type": "code",
   "execution_count": null,
   "id": "b4390f55",
   "metadata": {},
   "outputs": [],
   "source": [
    "gdf_ALL[\n",
    "    \"¿Los alimentos recibidos por Qali Warma rma son un aporte importante a la alimentacion familiar?\"\n",
    "].value_counts()"
   ]
  },
  {
   "cell_type": "code",
   "execution_count": null,
   "id": "cab7a0b0",
   "metadata": {},
   "outputs": [],
   "source": [
    "gdf_ALL[\n",
    "    (\n",
    "        gdf_ALL[\n",
    "            \"Si tiene hijos en edad escolar, ¿Alguno de sus hijos recibe Qali Warma?\"\n",
    "        ]\n",
    "        == \"SÍ\"\n",
    "    )\n",
    "    & (\n",
    "        gdf_ALL[\n",
    "            \"¿Los alimentos recibidos por Qali Warma rma son un aporte importante a la alimentacion familiar?\"\n",
    "        ]\n",
    "        == \"SÍ\"\n",
    "    )\n",
    "]"
   ]
  },
  {
   "cell_type": "code",
   "execution_count": null,
   "id": "b3e39b41",
   "metadata": {},
   "outputs": [],
   "source": [
    "gdf_ALL[\"tiene_qw\"] = (\n",
    "    gdf_ALL[\"Si tiene hijos en edad escolar, ¿Alguno de sus hijos recibe Qali Warma?\"]\n",
    "    == \"SÍ\"\n",
    ").astype(int)\n",
    "gdf_ALL[\"qw_importante\"] = (\n",
    "    gdf_ALL[\n",
    "        \"¿Los alimentos recibidos por Qali Warma rma son un aporte importante a la alimentacion familiar?\"\n",
    "    ]\n",
    "    == \"SÍ\"\n",
    ").astype(int)"
   ]
  },
  {
   "cell_type": "code",
   "execution_count": null,
   "id": "a56b2d98",
   "metadata": {},
   "outputs": [],
   "source": [
    "hexs_ica_inseg = up.geom.merge_shape_hex(\n",
    "    hexs_ica9, gdf_ALL, agg={\"tiene_qw\": \"sum\", \"qw_importante\": \"sum\"}\n",
    ")"
   ]
  },
  {
   "cell_type": "code",
   "execution_count": null,
   "id": "30df076d",
   "metadata": {},
   "outputs": [],
   "source": [
    "# Hex Map\n",
    "gdfs = [gdf_ica, gdf_chincha, gdf_pisco]\n",
    "ciudades = [\"Ica\", \"Chincha\", \"Pisco\"]\n",
    "vars = [\"tiene_qw\", \"qw_importante\"]\n",
    "labels = [\n",
    "    \"Familias que reciben Qaliwarma\",\n",
    "    \"Los alimentos de Qaliwarma son importantes\\npara la alimentación familiar\",\n",
    "]\n",
    "\n",
    "for i, gdf in enumerate(gdfs):\n",
    "    fig, axes = plt.subplots(1, 2, figsize=(10, 5))\n",
    "    fig.suptitle(f\"{ciudades[i]}\")\n",
    "\n",
    "    for j, ax in enumerate(axes):\n",
    "        ica_districts.plot(facecolor=\"none\", edgecolor=\"lightgrey\", ax=ax)\n",
    "\n",
    "        minx, miny, maxx, maxy = gdf.total_bounds\n",
    "\n",
    "        ax.set_title(f\"{labels[j]}\")\n",
    "\n",
    "        if j == 1:\n",
    "            divider = make_axes_locatable(ax)\n",
    "            cax = divider.append_axes(\"right\", size=\"5%\", pad=0.1)\n",
    "            hexs_ica_inseg.cx[minx:maxx, miny:maxy].plot(\n",
    "                vars[j],\n",
    "                edgecolor=\"none\",\n",
    "                alpha=0.75,\n",
    "                cmap=\"YlOrRd\",\n",
    "                ax=ax,\n",
    "                vmin=0,\n",
    "                vmax=10,\n",
    "                legend=True,\n",
    "                cax=cax,\n",
    "            )\n",
    "        else:\n",
    "            hexs_ica_inseg.cx[minx:maxx, miny:maxy].plot(\n",
    "                vars[j],\n",
    "                edgecolor=\"none\",\n",
    "                alpha=0.75,\n",
    "                cmap=\"YlOrRd\",\n",
    "                ax=ax,\n",
    "                vmin=0,\n",
    "                vmax=10,\n",
    "            )\n",
    "\n",
    "        margins = 0.001\n",
    "        ax.set_xlim(minx - margins, maxx + margins)\n",
    "        ax.set_ylim(miny - margins, maxy + margins)\n",
    "\n",
    "        if j == 0:\n",
    "            ax.add_artist(\n",
    "                ScaleBar(distance_meters, box_alpha=0.5, location=\"lower left\")\n",
    "            )\n",
    "\n",
    "        ax.set_axis_off()\n",
    "        cx.add_basemap(\n",
    "            ax=ax,\n",
    "            source=cx.providers.CartoDB.Positron,\n",
    "            crs=\"EPSG:4326\",\n",
    "            attribution=False,\n",
    "        )\n",
    "\n",
    "    plt.tight_layout()\n",
    "    plt.savefig(\n",
    "        f\"outputs/maps/{ciudades[i]}_qaliwarma.png\", dpi=300, bbox_inches=\"tight\"\n",
    "    )"
   ]
  },
  {
   "cell_type": "code",
   "execution_count": null,
   "id": "d9557cab",
   "metadata": {},
   "outputs": [],
   "source": [
    "# Heat Map\n",
    "gdfs = [gdf_ica, gdf_chincha, gdf_pisco]\n",
    "ciudades = [\"Ica\", \"Chincha\", \"Pisco\"]\n",
    "vars = [\"tiene_qw\", \"qw_importante\"]\n",
    "labels = [\n",
    "    \"Familias que reciben Qaliwarma\",\n",
    "    \"Los alimentos de Qaliwarma son importantes\\npara la alimentación familiar\",\n",
    "]\n",
    "\n",
    "for i, gdf in enumerate(gdfs):\n",
    "    fig, axes = plt.subplots(1, 2, figsize=(10, 5))\n",
    "    fig.suptitle(f\"{ciudades[i]}\")\n",
    "\n",
    "    for j, ax in enumerate(axes):\n",
    "        ica_districts.plot(facecolor=\"none\", edgecolor=\"lightgrey\", ax=ax)\n",
    "\n",
    "        minx, miny, maxx, maxy = gdf.total_bounds\n",
    "\n",
    "        ax.set_title(f\"{labels[j]}\")\n",
    "\n",
    "        gplt.kdeplot(\n",
    "            gdf.query(f\"{vars[j]} == 1\"),\n",
    "            cmap=\"Reds\",\n",
    "            ax=ax,\n",
    "            alpha=0.5,\n",
    "            fill=True,\n",
    "            n_levels=100,\n",
    "            thresh=0.5,\n",
    "        )\n",
    "\n",
    "        margins = 0.001\n",
    "        ax.set_xlim(minx - margins, maxx + margins)\n",
    "        ax.set_ylim(miny - margins, maxy + margins)\n",
    "\n",
    "        if j == 0:\n",
    "            ax.add_artist(\n",
    "                ScaleBar(distance_meters, box_alpha=0.5, location=\"lower left\")\n",
    "            )\n",
    "\n",
    "        ax.set_axis_off()\n",
    "        cx.add_basemap(\n",
    "            ax=ax,\n",
    "            source=cx.providers.CartoDB.Positron,\n",
    "            crs=\"EPSG:4326\",\n",
    "            attribution=False,\n",
    "        )\n",
    "\n",
    "    plt.tight_layout()\n",
    "    plt.savefig(\n",
    "        f\"outputs/maps/density/{ciudades[i]}_qaliwarma.png\",\n",
    "        dpi=300,\n",
    "        bbox_inches=\"tight\",\n",
    "    )"
   ]
  },
  {
   "attachments": {},
   "cell_type": "markdown",
   "id": "cd608408",
   "metadata": {},
   "source": [
    "## Mapa con personas que estan dispuestas a organizarse "
   ]
  },
  {
   "cell_type": "code",
   "execution_count": null,
   "id": "0846ee30",
   "metadata": {},
   "outputs": [],
   "source": [
    "gdf_ALL[\"En caso no, ¿Estaria dispuesto en participar en una?\"].value_counts()"
   ]
  },
  {
   "cell_type": "code",
   "execution_count": null,
   "id": "fe7ca198",
   "metadata": {},
   "outputs": [],
   "source": [
    "gdf_ALL[\"dispuesto_organizarse\"] = (\n",
    "    gdf_ALL[\"En caso no, ¿Estaria dispuesto en participar en una?\"] == \"SÍ\"\n",
    ").astype(int)"
   ]
  },
  {
   "cell_type": "code",
   "execution_count": null,
   "id": "c88571d5",
   "metadata": {},
   "outputs": [],
   "source": [
    "hexs_ica_inseg = up.geom.merge_shape_hex(\n",
    "    hexs_ica9, gdf_ALL, agg={\"dispuesto_organizarse\": \"sum\"}\n",
    ")"
   ]
  },
  {
   "cell_type": "code",
   "execution_count": null,
   "id": "5668be4d",
   "metadata": {},
   "outputs": [],
   "source": [
    "# Hex Map\n",
    "fig, axes = plt.subplots(1, 3, figsize=(15, 5))\n",
    "fig.suptitle(\"Mapa con personas que estan dispuestas a organizarse\")\n",
    "\n",
    "gdfs = [gdf_ica, gdf_chincha, gdf_pisco]\n",
    "ciudades = [\"Ica\", \"Chincha\", \"Pisco\"]\n",
    "\n",
    "for j, ax in enumerate(axes):\n",
    "    ica_districts.plot(facecolor=\"none\", edgecolor=\"lightgrey\", ax=ax)\n",
    "    minx, miny, maxx, maxy = gdfs[j].total_bounds\n",
    "\n",
    "    ax.set_title(f\"Ciudad: {ciudades[j]}\")\n",
    "\n",
    "    if j == 2:\n",
    "        divider = make_axes_locatable(ax)\n",
    "        cax = divider.append_axes(\"right\", size=\"5%\", pad=0.1)\n",
    "        hexs_ica_inseg.cx[minx:maxx, miny:maxy].plot(\n",
    "            \"dispuesto_organizarse\",\n",
    "            alpha=0.75,\n",
    "            cmap=\"YlOrRd\",\n",
    "            ax=ax,\n",
    "            vmin=0,\n",
    "            vmax=30,\n",
    "            legend=True,\n",
    "            cax=cax,\n",
    "            edgecolor=\"none\",\n",
    "        )\n",
    "    else:\n",
    "        hexs_ica_inseg.cx[minx:maxx, miny:maxy].plot(\n",
    "            \"dispuesto_organizarse\",\n",
    "            alpha=0.75,\n",
    "            cmap=\"YlOrRd\",\n",
    "            ax=ax,\n",
    "            vmin=0,\n",
    "            vmax=30,\n",
    "            edgecolor=\"none\",\n",
    "        )\n",
    "\n",
    "    margins = 0.001\n",
    "    ax.set_xlim(minx - margins, maxx + margins)\n",
    "    ax.set_ylim(miny - margins, maxy + margins)\n",
    "\n",
    "    if j == 0:\n",
    "        ax.add_artist(ScaleBar(distance_meters, box_alpha=0.5, location=\"lower left\"))\n",
    "\n",
    "    ax.set_axis_off()\n",
    "    cx.add_basemap(ax=ax, source=cx.providers.CartoDB.Positron, crs=\"EPSG:4326\")\n",
    "\n",
    "plt.tight_layout()\n",
    "plt.savefig(f\"outputs/maps/dispuestas_organizarse.png\", dpi=300, bbox_inches=\"tight\")"
   ]
  },
  {
   "cell_type": "code",
   "execution_count": null,
   "id": "85e1fa71",
   "metadata": {},
   "outputs": [],
   "source": [
    "# Heat Map\n",
    "fig, axes = plt.subplots(1, 3, figsize=(15, 5))\n",
    "fig.suptitle(\"Mapa con personas que estan dispuestas a organizarse\")\n",
    "\n",
    "gdfs = [gdf_ica, gdf_chincha, gdf_pisco]\n",
    "ciudades = [\"Ica\", \"Chincha\", \"Pisco\"]\n",
    "\n",
    "for j, ax in enumerate(axes):\n",
    "    ica_districts.plot(facecolor=\"none\", edgecolor=\"lightgrey\", ax=ax)\n",
    "    minx, miny, maxx, maxy = gdfs[j].total_bounds\n",
    "\n",
    "    ax.set_title(f\"Ciudad: {ciudades[j]}\")\n",
    "\n",
    "    gplt.kdeplot(\n",
    "        gdfs[j].query(f\"dispuesto_organizarse == 1\"),\n",
    "        cmap=\"Reds\",\n",
    "        ax=ax,\n",
    "        alpha=0.5,\n",
    "        fill=True,\n",
    "        thresh=0.05,\n",
    "    )\n",
    "\n",
    "    margins = 0.001\n",
    "    ax.set_xlim(minx - margins, maxx + margins)\n",
    "    ax.set_ylim(miny - margins, maxy + margins)\n",
    "\n",
    "    ax.set_axis_off()\n",
    "    cx.add_basemap(ax=ax, source=cx.providers.CartoDB.Positron, crs=\"EPSG:4326\")\n",
    "\n",
    "plt.tight_layout()\n",
    "plt.savefig(\n",
    "    f\"outputs/maps/density/dispuestas_organizarse.png\", dpi=300, bbox_inches=\"tight\"\n",
    ")"
   ]
  },
  {
   "attachments": {},
   "cell_type": "markdown",
   "id": "fe599dcd",
   "metadata": {},
   "source": [
    "## Mapa con hogares por tipo de situación migratoria"
   ]
  },
  {
   "cell_type": "code",
   "execution_count": null,
   "id": "28a88d5e",
   "metadata": {},
   "outputs": [],
   "source": [
    "gdf_ALL[\"¿Cuál es SU actual ESTATUS MIGRATORIO?\"].value_counts()"
   ]
  },
  {
   "cell_type": "code",
   "execution_count": null,
   "id": "deeaf594",
   "metadata": {},
   "outputs": [],
   "source": [
    "gdf_ALL[\"status_migratorio\"] = (\n",
    "    gdf_ALL[\"¿Cuál es SU actual ESTATUS MIGRATORIO?\"]\n",
    "    .replace({\"Otro\": np.nan})\n",
    "    .fillna(gdf_ALL[\"Especifica otro estatus migratorio\"])\n",
    ")"
   ]
  },
  {
   "cell_type": "code",
   "execution_count": null,
   "id": "695574a0",
   "metadata": {},
   "outputs": [],
   "source": [
    "gdf_ALL[\"status_migratorio\"].value_counts()"
   ]
  },
  {
   "cell_type": "code",
   "execution_count": null,
   "id": "df2c7a4a",
   "metadata": {},
   "outputs": [],
   "source": [
    "gdf_ALL[\"status_migratorio\"].unique()"
   ]
  },
  {
   "cell_type": "code",
   "execution_count": null,
   "id": "0641b571",
   "metadata": {},
   "outputs": [],
   "source": [
    "gdf_ALL = gdf_ALL.assign(**pd.get_dummies(gdf_ALL[\"status_migratorio\"]).to_dict())"
   ]
  },
  {
   "cell_type": "code",
   "execution_count": null,
   "id": "b4eb767d",
   "metadata": {},
   "outputs": [],
   "source": [
    "# Check integrity of value counts\n",
    "gdf_ALL[\n",
    "    [\n",
    "        \"Carnet de Extranjeria\",\n",
    "        \"CPP\",\n",
    "        \"Mantengo mi documento de identidad venezolano\",\n",
    "        \"No especificado\",\n",
    "        \"Carnet de Solicitud de Refugio\",\n",
    "        \"No posee documentos\",\n",
    "    ]\n",
    "].sum()"
   ]
  },
  {
   "cell_type": "code",
   "execution_count": null,
   "id": "d0931e12",
   "metadata": {},
   "outputs": [],
   "source": [
    "hexs_ica_inseg = up.geom.merge_shape_hex(\n",
    "    hexs_ica9,\n",
    "    gdf_ALL,\n",
    "    agg={\n",
    "        \"Carnet de Extranjeria\": \"sum\",\n",
    "        \"CPP\": \"sum\",\n",
    "        \"Mantengo mi documento de identidad venezolano\": \"sum\",\n",
    "        \"No especificado\": \"sum\",\n",
    "        \"Carnet de Solicitud de Refugio\": \"sum\",\n",
    "        \"No posee documentos\": \"sum\",\n",
    "    },\n",
    ")"
   ]
  },
  {
   "cell_type": "code",
   "execution_count": null,
   "id": "6e180da9",
   "metadata": {},
   "outputs": [],
   "source": [
    "import geoplot as gplt"
   ]
  },
  {
   "cell_type": "code",
   "execution_count": null,
   "id": "7a53784c",
   "metadata": {},
   "outputs": [],
   "source": [
    "# # This is a temporary fix for geoplot\n",
    "# !pip install cartopy==0.17.0\n",
    "# !pip install geoplot"
   ]
  },
  {
   "cell_type": "code",
   "execution_count": null,
   "id": "a39f25ae",
   "metadata": {},
   "outputs": [],
   "source": [
    "# Hex Map\n",
    "gdfs = [gdf_ica, gdf_chincha, gdf_pisco]\n",
    "ciudades = [\"Ica\", \"Chincha\", \"Pisco\"]\n",
    "status_migratorio_options = [\n",
    "    \"Mantengo mi documento de identidad venezolano\",\n",
    "    \"Carnet de Extranjeria\",\n",
    "    \"CPP\",\n",
    "]\n",
    "#    'Carnet de Solicitud de Refugio', 'Documento de identidad peruano',\n",
    "#    'No posee documentos', 'No especificado',]\n",
    "\n",
    "for i, gdf in enumerate(gdfs):\n",
    "    fig, axes = plt.subplots(1, 3, figsize=(15, 5))\n",
    "    fig.suptitle(f\"Estatus migratorio ({ciudades[i]})\")\n",
    "    for j, ax in enumerate(axes):\n",
    "        ica_districts.plot(facecolor=\"none\", edgecolor=\"lightgrey\", ax=ax)\n",
    "        minx, miny, maxx, maxy = gdf.total_bounds\n",
    "\n",
    "        ax.set_title(f\"Estatus: {status_migratorio_options[j]}\")\n",
    "\n",
    "        if j == 2:\n",
    "            divider = make_axes_locatable(ax)\n",
    "            cax = divider.append_axes(\"right\", size=\"5%\", pad=0.1)\n",
    "            hexs_ica_inseg.cx[minx:maxx, miny:maxy].plot(\n",
    "                status_migratorio_options[j],\n",
    "                edgecolor=\"none\",\n",
    "                alpha=1,\n",
    "                cmap=\"Reds\",\n",
    "                ax=ax,\n",
    "                vmin=0,\n",
    "                vmax=15,\n",
    "                legend=True,\n",
    "                cax=cax,\n",
    "            )\n",
    "        else:\n",
    "            hexs_ica_inseg.cx[minx:maxx, miny:maxy].plot(\n",
    "                status_migratorio_options[j],\n",
    "                edgecolor=\"none\",\n",
    "                alpha=1,\n",
    "                cmap=\"Reds\",\n",
    "                ax=ax,\n",
    "                vmin=0,\n",
    "                vmax=15,\n",
    "            )\n",
    "\n",
    "        margins = 0.001\n",
    "        ax.set_xlim(minx - margins, maxx + margins)\n",
    "        ax.set_ylim(miny - margins, maxy + margins)\n",
    "\n",
    "        ax.set_axis_off()\n",
    "        cx.add_basemap(\n",
    "            ax=ax,\n",
    "            source=cx.providers.CartoDB.Positron,\n",
    "            crs=\"EPSG:4326\",\n",
    "            attribution=False,\n",
    "        )\n",
    "\n",
    "    plt.tight_layout()\n",
    "    plt.savefig(\n",
    "        f\"outputs/maps/{ciudades[i]}_status_migratorio.png\",\n",
    "        dpi=300,\n",
    "        bbox_inches=\"tight\",\n",
    "    )"
   ]
  },
  {
   "cell_type": "code",
   "execution_count": null,
   "id": "5e5e5316",
   "metadata": {},
   "outputs": [],
   "source": [
    "# Heat Map\n",
    "gdfs = [gdf_ica, gdf_chincha, gdf_pisco]\n",
    "ciudades = [\"Ica\", \"Chincha\", \"Pisco\"]\n",
    "status_migratorio_options = [\n",
    "    \"Mantengo mi documento de identidad venezolano\",\n",
    "    \"Carnet de Extranjeria\",\n",
    "    \"CPP\",\n",
    "]\n",
    "#    'Carnet de Solicitud de Refugio', 'Documento de identidad peruano',\n",
    "#    'No posee documentos', 'No especificado',]\n",
    "\n",
    "for i, gdf in enumerate(gdfs):\n",
    "    fig, axes = plt.subplots(1, 3, figsize=(15, 5))\n",
    "    fig.suptitle(f\"Estatus migratorio ({ciudades[i]})\")\n",
    "    for j, ax in enumerate(axes):\n",
    "        ica_districts.plot(facecolor=\"none\", edgecolor=\"lightgrey\", ax=ax)\n",
    "        minx, miny, maxx, maxy = gdf.total_bounds\n",
    "\n",
    "        ax.set_title(f\"Estatus: {status_migratorio_options[j]}\")\n",
    "\n",
    "        gplt.kdeplot(\n",
    "            gdf.query(f\"status_migratorio == '{status_migratorio_options[j]}'\"),\n",
    "            cmap=\"Reds\",\n",
    "            ax=ax,\n",
    "            alpha=0.5,\n",
    "            fill=True,\n",
    "            thresh=0.05,  # cbar=True, cbar_ax=cax,\n",
    "        )\n",
    "\n",
    "        margins = 0.001\n",
    "        ax.set_xlim(minx - margins, maxx + margins)\n",
    "        ax.set_ylim(miny - margins, maxy + margins)\n",
    "\n",
    "        ax.set_axis_off()\n",
    "        cx.add_basemap(\n",
    "            ax=ax,\n",
    "            source=cx.providers.CartoDB.Positron,\n",
    "            crs=\"EPSG:4326\",\n",
    "            attribution=False,\n",
    "        )\n",
    "\n",
    "    plt.tight_layout()\n",
    "    plt.savefig(\n",
    "        f\"outputs/maps/density/{ciudades[i]}_status_migratorio.png\",\n",
    "        dpi=300,\n",
    "        bbox_inches=\"tight\",\n",
    "    )"
   ]
  },
  {
   "attachments": {},
   "cell_type": "markdown",
   "id": "15bd666e",
   "metadata": {},
   "source": [
    "## MApa con hogares por ingreso "
   ]
  },
  {
   "cell_type": "code",
   "execution_count": null,
   "id": "b61931a4",
   "metadata": {},
   "outputs": [],
   "source": [
    "gdf_ALL[\n",
    "    \"Sumando a TODOS los miembros de su hogar que perciben algun tipo de ingreso ¿Cuál es el INGRESO PROMEDIO MENSUAL  que reciben?\"\n",
    "].value_counts()"
   ]
  },
  {
   "cell_type": "code",
   "execution_count": null,
   "id": "4adfa6fd",
   "metadata": {},
   "outputs": [],
   "source": [
    "gdf_ALL[\n",
    "    \"Sumando a TODOS los miembros de su hogar que perciben algun tipo de ingreso ¿Cuál es el INGRESO PROMEDIO MENSUAL  que reciben?\"\n",
    "].isna().sum()"
   ]
  },
  {
   "cell_type": "code",
   "execution_count": null,
   "id": "d24ee882",
   "metadata": {},
   "outputs": [],
   "source": [
    "gdf_ALL[\n",
    "    \"Sumando a TODOS los miembros de su hogar que perciben algun tipo de ingreso ¿Cuál es el INGRESO PROMEDIO MENSUAL  que reciben?\"\n",
    "].unique()"
   ]
  },
  {
   "cell_type": "code",
   "execution_count": null,
   "id": "20c9e2b5",
   "metadata": {},
   "outputs": [],
   "source": [
    "gdf_ALL[\"rango_ingreso\"] = (\n",
    "    gdf_ALL[\n",
    "        \"Sumando a TODOS los miembros de su hogar que perciben algun tipo de ingreso ¿Cuál es el INGRESO PROMEDIO MENSUAL  que reciben?\"\n",
    "    ]\n",
    "    .replace({0: \"0 a 300\", None: np.nan})\n",
    "    .fillna(\"No especificado\")\n",
    ")"
   ]
  },
  {
   "cell_type": "code",
   "execution_count": null,
   "id": "78d95497",
   "metadata": {},
   "outputs": [],
   "source": [
    "gdf_ALL[\"rango_ingreso\"].unique()"
   ]
  },
  {
   "cell_type": "code",
   "execution_count": null,
   "id": "dc05fe35",
   "metadata": {},
   "outputs": [],
   "source": [
    "gdf_ALL = gdf_ALL.assign(**pd.get_dummies(gdf_ALL[\"rango_ingreso\"]).to_dict())"
   ]
  },
  {
   "cell_type": "code",
   "execution_count": null,
   "id": "e9ecd552",
   "metadata": {},
   "outputs": [],
   "source": [
    "hexs_ica_inseg = up.geom.merge_shape_hex(\n",
    "    hexs_ica9,\n",
    "    gdf_ALL,\n",
    "    agg={\n",
    "        \"0 a 300\": \"sum\",\n",
    "        \"301 a 500\": \"sum\",\n",
    "        \"501 a 1025 SALARIO BASICO\": \"sum\",\n",
    "        \"1026 a 1500\": \"sum\",\n",
    "        \"1501 A 2000\": \"sum\",\n",
    "        \"2000 a más\": \"sum\",\n",
    "        \"No especificado\": \"sum\",\n",
    "    },\n",
    ")"
   ]
  },
  {
   "cell_type": "code",
   "execution_count": null,
   "id": "9736c6ad",
   "metadata": {},
   "outputs": [],
   "source": [
    "hexs_ica_inseg[ingreso_options].sum()"
   ]
  },
  {
   "cell_type": "code",
   "execution_count": null,
   "id": "1ca810c6",
   "metadata": {},
   "outputs": [],
   "source": [
    "# Hex Map\n",
    "gdfs = [gdf_ica, gdf_chincha, gdf_pisco]\n",
    "ciudades = [\"Ica\", \"Chincha\", \"Pisco\"]\n",
    "ingreso_options = [\n",
    "    \"0 a 300\",\n",
    "    \"301 a 500\",\n",
    "    \"501 a 1025 SALARIO BASICO\",\n",
    "    \"1026 a 1500\",\n",
    "    \"1501 A 2000\",\n",
    "    \"2000 a más\",\n",
    "]\n",
    "\n",
    "for i, gdf in enumerate(gdfs):\n",
    "    fig, axes = plt.subplots(2, 3, figsize=(15, 10))\n",
    "    fig.suptitle(f\"Ingreso promedio ({ciudades[i]})\")\n",
    "    for j, ax in enumerate(axes.flatten()):\n",
    "        ica_districts.plot(facecolor=\"none\", edgecolor=\"lightgrey\", ax=ax)\n",
    "        minx, miny, maxx, maxy = gdf.total_bounds\n",
    "\n",
    "        ax.set_title(f\"Ingreso promedio: {ingreso_options[j]}\")\n",
    "\n",
    "        if j == 5:\n",
    "            divider = make_axes_locatable(ax)\n",
    "            cax = divider.append_axes(\"right\", size=\"5%\", pad=0.1)\n",
    "            hexs_ica_inseg.cx[minx:maxx, miny:maxy].plot(\n",
    "                ingreso_options[j],\n",
    "                edgecolor=\"none\",\n",
    "                alpha=1,\n",
    "                cmap=\"Reds\",\n",
    "                ax=ax,\n",
    "                vmin=0,\n",
    "                vmax=15,\n",
    "                legend=True,\n",
    "                cax=cax,\n",
    "            )\n",
    "        else:\n",
    "            hexs_ica_inseg.cx[minx:maxx, miny:maxy].plot(\n",
    "                ingreso_options[j],\n",
    "                edgecolor=\"none\",\n",
    "                alpha=1,\n",
    "                cmap=\"Reds\",\n",
    "                ax=ax,\n",
    "                vmin=0,\n",
    "                vmax=15,\n",
    "            )\n",
    "\n",
    "        margins = 0.001\n",
    "        ax.set_xlim(minx - margins, maxx + margins)\n",
    "        ax.set_ylim(miny - margins, maxy + margins)\n",
    "\n",
    "        ax.set_axis_off()\n",
    "        cx.add_basemap(\n",
    "            ax=ax,\n",
    "            source=cx.providers.CartoDB.Positron,\n",
    "            crs=\"EPSG:4326\",\n",
    "            attribution=False,\n",
    "        )\n",
    "\n",
    "    plt.tight_layout()\n",
    "    plt.savefig(\n",
    "        f\"outputs/maps/{ciudades[i]}_ingreso_promedio.png\", dpi=300, bbox_inches=\"tight\"\n",
    "    )"
   ]
  },
  {
   "cell_type": "code",
   "execution_count": null,
   "id": "967ddc7e",
   "metadata": {},
   "outputs": [],
   "source": [
    "# Heat Map\n",
    "gdfs = [gdf_ica, gdf_chincha, gdf_pisco]\n",
    "ciudades = [\"Ica\", \"Chincha\", \"Pisco\"]\n",
    "ingreso_options = [\n",
    "    \"0 a 300\",\n",
    "    \"301 a 500\",\n",
    "    \"501 a 1025 SALARIO BASICO\",\n",
    "    \"1026 a 1500\",\n",
    "    \"1501 A 2000\",\n",
    "    \"2000 a más\",\n",
    "]\n",
    "\n",
    "for i, gdf in enumerate(gdfs):\n",
    "    fig, axes = plt.subplots(2, 3, figsize=(15, 10))\n",
    "    fig.suptitle(f\"Ingreso promedio ({ciudades[i]})\")\n",
    "    for j, ax in enumerate(axes.flatten()):\n",
    "        ica_districts.plot(facecolor=\"none\", edgecolor=\"lightgrey\", ax=ax)\n",
    "        minx, miny, maxx, maxy = gdf.total_bounds\n",
    "\n",
    "        ax.set_title(f\"Ingreso promedio: {ingreso_options[j]}\")\n",
    "\n",
    "        gplt.kdeplot(\n",
    "            gdf.query(f\"rango_ingreso == '{ingreso_options[j]}'\"),\n",
    "            cmap=\"Reds\",\n",
    "            ax=ax,\n",
    "            alpha=0.5,\n",
    "            fill=True,\n",
    "            thresh=0.05,  # cbar=True, cbar_ax=cax\n",
    "        )\n",
    "\n",
    "        margins = 0.001\n",
    "        ax.set_xlim(minx - margins, maxx + margins)\n",
    "        ax.set_ylim(miny - margins, maxy + margins)\n",
    "\n",
    "        ax.set_axis_off()\n",
    "        cx.add_basemap(\n",
    "            ax=ax,\n",
    "            source=cx.providers.CartoDB.Positron,\n",
    "            crs=\"EPSG:4326\",\n",
    "            attribution=False,\n",
    "        )\n",
    "\n",
    "    plt.tight_layout()\n",
    "    plt.savefig(\n",
    "        f\"outputs/maps/density/{ciudades[i]}_ingreso_promedio.png\",\n",
    "        dpi=300,\n",
    "        bbox_inches=\"tight\",\n",
    "    )"
   ]
  },
  {
   "attachments": {},
   "cell_type": "markdown",
   "id": "10c9da3e",
   "metadata": {},
   "source": [
    "## Mapa de densidad poblacional"
   ]
  },
  {
   "cell_type": "code",
   "execution_count": null,
   "id": "2ea12aa5",
   "metadata": {},
   "outputs": [],
   "source": [
    "ica"
   ]
  },
  {
   "cell_type": "code",
   "execution_count": null,
   "id": "f7a48788",
   "metadata": {},
   "outputs": [],
   "source": [
    "peru_pop = up.download.hdx_dataset(\n",
    "    \"4e74db39-87f1-4383-9255-eaf8ebceb0c9/resource/317f1c39-8417-4bde-a076-99bd37feefce/download/per_general_2020_csv.zip\"\n",
    ")\n",
    "# https://data.humdata.org/dataset"
   ]
  },
  {
   "cell_type": "code",
   "execution_count": null,
   "id": "85d4455d",
   "metadata": {},
   "outputs": [],
   "source": [
    "ica_pop = up.geom.filter_population(peru_pop, ica)"
   ]
  },
  {
   "cell_type": "code",
   "execution_count": null,
   "id": "221010f6",
   "metadata": {},
   "outputs": [],
   "source": [
    "ica_pop.head()"
   ]
  },
  {
   "cell_type": "code",
   "execution_count": null,
   "id": "ca1185f7",
   "metadata": {},
   "outputs": [],
   "source": [
    "hexs_ica9_pop = up.geom.merge_shape_hex(hexs_ica9, ica_pop, {\"per_general_2020\": \"sum\"})"
   ]
  },
  {
   "cell_type": "code",
   "execution_count": null,
   "id": "3474c038",
   "metadata": {},
   "outputs": [],
   "source": [
    "fig, axes = plt.subplots(1, 3, figsize=(15, 5))\n",
    "fig.suptitle(\"Mapa de densidad poblacional (hab./0.1km$^2$)\")\n",
    "\n",
    "gdfs = [gdf_ica, gdf_chincha, gdf_pisco]\n",
    "ciudades = [\"Ica\", \"Chincha\", \"Pisco\"]\n",
    "\n",
    "for j, ax in enumerate(axes):\n",
    "    ica_districts.plot(facecolor=\"none\", edgecolor=\"lightgrey\", ax=ax)\n",
    "    minx, miny, maxx, maxy = gdfs[j].total_bounds\n",
    "\n",
    "    ax.set_title(f\"Ciudad: {ciudades[j]}\")\n",
    "\n",
    "    if j == 2:\n",
    "        divider = make_axes_locatable(ax)\n",
    "        cax = divider.append_axes(\"right\", size=\"5%\", pad=0.1)\n",
    "        hexs_ica9_pop.cx[minx:maxx, miny:maxy].query(\"per_general_2020 > 0\").plot(\n",
    "            \"per_general_2020\",\n",
    "            alpha=0.6,\n",
    "            ax=ax,\n",
    "            cmap=\"Reds\",\n",
    "            vmin=0,\n",
    "            vmax=2000,\n",
    "            legend=True,\n",
    "            cax=cax,\n",
    "            edgecolor=\"none\",\n",
    "        )\n",
    "    else:\n",
    "        hexs_ica9_pop.cx[minx:maxx, miny:maxy].query(\"per_general_2020 > 0\").plot(\n",
    "            \"per_general_2020\",\n",
    "            alpha=0.6,\n",
    "            ax=ax,\n",
    "            cmap=\"Reds\",\n",
    "            vmin=0,\n",
    "            vmax=2000,\n",
    "            edgecolor=\"none\",\n",
    "        )\n",
    "\n",
    "    margins = 0.001\n",
    "    ax.set_xlim(minx - margins, maxx + margins)\n",
    "    ax.set_ylim(miny - margins, maxy + margins)\n",
    "\n",
    "    ax.set_axis_off()\n",
    "    cx.add_basemap(\n",
    "        ax=ax, source=cx.providers.CartoDB.Positron, crs=\"EPSG:4326\", attribution=False\n",
    "    )\n",
    "\n",
    "plt.tight_layout()\n",
    "plt.savefig(f\"outputs/maps/densidad_poblacional.png\", dpi=300, bbox_inches=\"tight\")"
   ]
  },
  {
   "cell_type": "code",
   "execution_count": null,
   "id": "7b7c2b83",
   "metadata": {},
   "outputs": [],
   "source": []
  }
 ],
 "metadata": {
  "kernelspec": {
   "display_name": "foodhub",
   "language": "python",
   "name": "python3"
  },
  "language_info": {
   "codemirror_mode": {
    "name": "ipython",
    "version": 3
   },
   "file_extension": ".py",
   "mimetype": "text/x-python",
   "name": "python",
   "nbconvert_exporter": "python",
   "pygments_lexer": "ipython3",
   "version": "3.10.10"
  },
  "vscode": {
   "interpreter": {
    "hash": "e658bfc97ecd70c7dea766bce17f1a0e667e24077454682876e78fda26193a5a"
   }
  }
 },
 "nbformat": 4,
 "nbformat_minor": 5
}
