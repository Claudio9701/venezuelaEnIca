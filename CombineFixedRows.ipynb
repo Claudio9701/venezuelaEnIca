{
 "cells": [
  {
   "cell_type": "code",
   "execution_count": null,
   "id": "14025991-05f3-4071-b2a8-36bb392cea4b",
   "metadata": {},
   "outputs": [],
   "source": [
    "import pandas as pd\n",
    "import numpy as np\n",
    "import matplotlib.pyplot as plt\n",
    "from pathlib import Path\n",
    "from openpyxl import load_workbook\n",
    "from datetime import datetime"
   ]
  },
  {
   "cell_type": "code",
   "execution_count": null,
   "id": "e9da9eb7-321b-48af-88de-6c9ce2e130cb",
   "metadata": {},
   "outputs": [],
   "source": [
    "df = pd.read_excel(\n",
    "    \"inputs/Encuesta_para_inmigrantes_venezolanos_en_Ica_-_all_versions_-_labels_-_2023-02-18-20-40-30.xlsx\",\n",
    "    parse_dates=[1, 85],\n",
    ")"
   ]
  },
  {
   "cell_type": "code",
   "execution_count": null,
   "id": "39aa6268-c67b-4a15-8704-8ef77feae929",
   "metadata": {},
   "outputs": [],
   "source": [
    "df.shape"
   ]
  },
  {
   "cell_type": "code",
   "execution_count": null,
   "id": "11a20d07-e457-4dcd-8dc3-bf5ebc293ff7",
   "metadata": {},
   "outputs": [],
   "source": [
    "def read_filtered_excel(file, sheet_number=0):\n",
    "    \"\"\"\n",
    "    Import filtered excel table into Python\n",
    "\n",
    "    Source: https://stackoverflow.com/questions/46002159/how-to-import-filtered-excel-table-into-python\n",
    "    \"\"\"\n",
    "    wb = load_workbook(file)\n",
    "    ws = wb[wb.sheetnames[sheet_number]]\n",
    "\n",
    "    # iterate over all the rows in the sheet\n",
    "    rows = []\n",
    "    for row in ws:\n",
    "        # use the row only if it has not been filtered out (i.e., it's not hidden)\n",
    "        if ws.row_dimensions[row[0].row].hidden == False:\n",
    "            rows.append([cell.value for cell in row])\n",
    "\n",
    "    # Handle duplicated column names\n",
    "    colnames = pd.Series(rows[0])\n",
    "    duplicated_colnames = colnames[colnames.duplicated()].sort_values()\n",
    "    for col in duplicated_colnames:\n",
    "        for i, (ix, dup_col) in enumerate(colnames[colnames == col].items()):\n",
    "            if i > 0:\n",
    "                colnames.loc[ix] = f\"{dup_col}.{i}\"\n",
    "\n",
    "    return pd.DataFrame(rows[1:], columns=colnames.values)"
   ]
  },
  {
   "cell_type": "code",
   "execution_count": null,
   "id": "699174de-2b37-4133-aa1a-d2834f156e27",
   "metadata": {},
   "outputs": [],
   "source": [
    "# get all xlsx files\n",
    "files = list(Path(\"inputs/EXCEL CORREGIDOS\").rglob(\"*.xlsx\"))"
   ]
  },
  {
   "cell_type": "code",
   "execution_count": null,
   "id": "c7c350b5-8733-4acc-a60c-b94e6ed9fdb3",
   "metadata": {
    "tags": []
   },
   "outputs": [],
   "source": [
    "# read only filtered rows\n",
    "fixed_rows = [read_filtered_excel(file) for file in files]"
   ]
  },
  {
   "cell_type": "code",
   "execution_count": null,
   "id": "9e4abce8-9cd7-487e-834b-c6876f6ecb1e",
   "metadata": {},
   "outputs": [],
   "source": [
    "# concatenate rows\n",
    "fixed_rows_df = pd.concat((fixed_rows), ignore_index=True)"
   ]
  },
  {
   "cell_type": "code",
   "execution_count": null,
   "id": "c31d07a3-ce7b-4cc7-a089-5f0296eb39f5",
   "metadata": {},
   "outputs": [],
   "source": [
    "fixed_rows_df.shape"
   ]
  },
  {
   "cell_type": "code",
   "execution_count": null,
   "id": "1235c8ac-e14b-4cb6-9b00-94acbfe0e1b0",
   "metadata": {},
   "outputs": [],
   "source": [
    "# parse dates\n",
    "fixed_rows_df[\"Fecha de la entrevista\"] = pd.to_datetime(\n",
    "    fixed_rows_df[\"Fecha de la entrevista\"]\n",
    ")\n",
    "fixed_rows_df[\"_submission_time\"] = pd.to_datetime(fixed_rows_df[\"_submission_time\"])"
   ]
  },
  {
   "cell_type": "code",
   "execution_count": null,
   "id": "2d3fef66-6feb-4369-adec-e90ff31a0806",
   "metadata": {},
   "outputs": [],
   "source": [
    "# parse others dtypes\n",
    "fixed_rows_df = fixed_rows_df.astype(df.dtypes.to_dict())"
   ]
  },
  {
   "cell_type": "code",
   "execution_count": null,
   "id": "9c56e660-f3b5-420d-9e33-c620819fa020",
   "metadata": {},
   "outputs": [],
   "source": [
    "# Verify _index integrity\n",
    "fixed_rows_df[\"_id\"].duplicated().sum()"
   ]
  },
  {
   "cell_type": "code",
   "execution_count": null,
   "id": "1f05ea83-ac9f-421e-818f-6b592d84393d",
   "metadata": {},
   "outputs": [],
   "source": [
    "# Keep only first modification (first day row was modified)\n",
    "fixed_rows_df = fixed_rows_df.drop_duplicates(subset=\"_id\", keep=\"first\")"
   ]
  },
  {
   "cell_type": "code",
   "execution_count": null,
   "id": "70bc90a9-0f0f-4e22-bae9-9036883be52b",
   "metadata": {},
   "outputs": [],
   "source": [
    "fixed_rows_df[\"new_id\"] = fixed_rows_df[\"Nombre del encuestador\"].fillna(\n",
    "    \"\"\n",
    ") + fixed_rows_df[\"_id\"].astype(str)"
   ]
  },
  {
   "cell_type": "code",
   "execution_count": null,
   "id": "586dd9e8-4fec-4f13-8991-210086e06490",
   "metadata": {},
   "outputs": [],
   "source": [
    "fixed_rows_df.shape, fixed_rows_df[\"new_id\"].unique().shape"
   ]
  },
  {
   "cell_type": "code",
   "execution_count": null,
   "id": "f2710212-cd67-45b9-b9fb-66b7fd769d1c",
   "metadata": {},
   "outputs": [],
   "source": [
    "df[\"new_id\"] = df[\"Nombre del encuestador\"].fillna(\"\") + df[\"_id\"].astype(str)"
   ]
  },
  {
   "cell_type": "code",
   "execution_count": null,
   "id": "10d083f3-71dd-48e0-a64e-e747025f2c5c",
   "metadata": {},
   "outputs": [],
   "source": [
    "df.shape, df[\"new_id\"].unique().shape"
   ]
  },
  {
   "cell_type": "code",
   "execution_count": null,
   "id": "7cff06a9-f5e7-4d12-aefb-deadf1555c20",
   "metadata": {},
   "outputs": [],
   "source": [
    "# Remove duplicated according to main df\n",
    "fixed_rows_wo_dups = fixed_rows_df[fixed_rows_df[\"new_id\"].isin(df[\"new_id\"].unique())]"
   ]
  },
  {
   "cell_type": "code",
   "execution_count": null,
   "id": "3d26a083-4dd4-4d27-826c-cabaf016b8c0",
   "metadata": {},
   "outputs": [],
   "source": [
    "# Verify _id integrity\n",
    "fixed_rows_wo_dups.duplicated(\"new_id\").sum()"
   ]
  },
  {
   "cell_type": "code",
   "execution_count": null,
   "id": "62e33763-eaeb-4126-8778-ee43169394ad",
   "metadata": {},
   "outputs": [],
   "source": [
    "fixed_rows_wo_dups.shape"
   ]
  },
  {
   "cell_type": "code",
   "execution_count": null,
   "id": "80980ff1-e708-42ce-a270-ac6c172cd2f3",
   "metadata": {},
   "outputs": [],
   "source": [
    "# Verify _id integrity of main df\n",
    "df[\"_id\"].duplicated().sum()"
   ]
  },
  {
   "cell_type": "code",
   "execution_count": null,
   "id": "8a8a46e6-903a-42dc-8587-fbab2efaae51",
   "metadata": {},
   "outputs": [],
   "source": [
    "# Check all fixed _index are present in main df\n",
    "fixed_rows_df[\"new_id\"].isin(df[\"new_id\"].values).sum()"
   ]
  },
  {
   "cell_type": "code",
   "execution_count": null,
   "id": "3df401bb-019e-4dac-9836-ef53bb1f595b",
   "metadata": {},
   "outputs": [],
   "source": [
    "# Remove fixed rows from main df\n",
    "df_kobo = df[~df[\"new_id\"].isin(fixed_rows_df[\"new_id\"])]"
   ]
  },
  {
   "cell_type": "code",
   "execution_count": null,
   "id": "e0975ddd-1670-4222-b03c-234883d95548",
   "metadata": {},
   "outputs": [],
   "source": [
    "# Verify number of obs before 12/02\n",
    "(df_kobo[\"Fecha de la entrevista\"] < datetime(2023, 2, 12)).sum()"
   ]
  },
  {
   "attachments": {},
   "cell_type": "markdown",
   "id": "0cff3218-3559-413e-9404-acce06a5119f",
   "metadata": {},
   "source": [
    "Hay 5 observaciones mas en el archivo principal que en los modificados."
   ]
  },
  {
   "cell_type": "code",
   "execution_count": null,
   "id": "d2e35e86-59c7-4375-b17d-17b933e32c8c",
   "metadata": {},
   "outputs": [],
   "source": [
    "df_kobo.shape, fixed_rows_df.shape"
   ]
  },
  {
   "cell_type": "code",
   "execution_count": null,
   "id": "fb69f54e-0a79-47a9-820b-3cfccae528d5",
   "metadata": {},
   "outputs": [],
   "source": [
    "df_kobo[\"new_id\"].duplicated().sum(), fixed_rows_df[\"new_id\"].duplicated().sum()"
   ]
  },
  {
   "cell_type": "code",
   "execution_count": null,
   "id": "15dfe50f-4acc-48f3-aa37-45989336101f",
   "metadata": {},
   "outputs": [],
   "source": [
    "complete_df = pd.concat((df_kobo, fixed_rows_df), ignore_index=True)"
   ]
  },
  {
   "cell_type": "code",
   "execution_count": null,
   "id": "ebbba084-5983-4603-b45f-6bac987f077a",
   "metadata": {},
   "outputs": [],
   "source": [
    "complete_df[\"new_id\"].duplicated().sum()"
   ]
  },
  {
   "cell_type": "code",
   "execution_count": null,
   "id": "575f0186-595e-435d-9806-9d7dff39239a",
   "metadata": {},
   "outputs": [],
   "source": [
    "(complete_df[\"Fecha de la entrevista\"] < datetime(2023, 2, 12)).sum()"
   ]
  },
  {
   "cell_type": "code",
   "execution_count": null,
   "id": "75274e16-9933-4d8c-8a9f-66ba5477bb38",
   "metadata": {},
   "outputs": [],
   "source": [
    "complete_df.to_excel(\"outputs/complete_df.xlsx\", index=False)"
   ]
  },
  {
   "cell_type": "code",
   "execution_count": null,
   "id": "31d348e1-497a-41c4-a4f0-d8b8a823dfa2",
   "metadata": {},
   "outputs": [],
   "source": []
  }
 ],
 "metadata": {
  "kernelspec": {
   "display_name": "Python 3 (ipykernel)",
   "language": "python",
   "name": "python3"
  },
  "language_info": {
   "codemirror_mode": {
    "name": "ipython",
    "version": 3
   },
   "file_extension": ".py",
   "mimetype": "text/x-python",
   "name": "python",
   "nbconvert_exporter": "python",
   "pygments_lexer": "ipython3",
   "version": "3.10.9"
  }
 },
 "nbformat": 4,
 "nbformat_minor": 5
}
