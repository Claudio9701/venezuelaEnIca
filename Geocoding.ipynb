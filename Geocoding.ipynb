{
 "cells": [
  {
   "cell_type": "code",
   "execution_count": null,
   "id": "boolean-handling",
   "metadata": {},
   "outputs": [],
   "source": [
    "import urbanpy as up\n",
    "import geopandas as gpd\n",
    "import pandas as pd\n",
    "import numpy as np\n",
    "import requests\n",
    "import time\n",
    "import os\n",
    "from tqdm.auto import tqdm\n",
    "from unidecode import unidecode"
   ]
  },
  {
   "cell_type": "code",
   "execution_count": null,
   "id": "parallel-plaintiff",
   "metadata": {},
   "outputs": [],
   "source": [
    "df = pd.read_excel(\"outputs/encuesta_limpieza_en_proceso_22_02_23.xlsx\", index_col=0)"
   ]
  },
  {
   "cell_type": "code",
   "execution_count": null,
   "id": "interesting-residence",
   "metadata": {},
   "outputs": [],
   "source": [
    "df.shape"
   ]
  },
  {
   "attachments": {},
   "cell_type": "markdown",
   "id": "solid-dream",
   "metadata": {},
   "source": [
    "## Geocoding\n",
    "\n",
    "Convertir direcciones a coordenadas (latitude, longitude)"
   ]
  },
  {
   "attachments": {},
   "cell_type": "markdown",
   "id": "distributed-castle",
   "metadata": {},
   "source": [
    "#### Helper functions"
   ]
  },
  {
   "cell_type": "code",
   "execution_count": null,
   "id": "adjacent-strategy",
   "metadata": {},
   "outputs": [],
   "source": [
    "def clean_address(address):\n",
    "    remove_list = [\n",
    "        \"Pto De Ref\",\n",
    "        \"Entre\",\n",
    "        \"Detras De\",\n",
    "        \"Cruce Con\",\n",
    "        \"A La Espalda De La  Angamos\",\n",
    "        \"Con \",\n",
    "        \"/\",\n",
    "    ]\n",
    "    if isinstance(address, str):\n",
    "        for seps in remove_list:\n",
    "            if seps in address:\n",
    "                address = address.split(seps)[0].strip()\n",
    "\n",
    "    return address\n",
    "\n",
    "\n",
    "def geocode(query, viewbox):\n",
    "    params = {\n",
    "        \"q\": query,\n",
    "        \"viewbox\": viewbox,\n",
    "        \"limit\": 1,\n",
    "        \"format\": \"json\",\n",
    "        \"email\": \"claudio.rtega2701@gmail.com\",\n",
    "    }\n",
    "\n",
    "    headers = {\"user-agent\": \"inmigrantes-vulnerables-app\"}\n",
    "\n",
    "    response = requests.get(\n",
    "        \"https://nominatim.openstreetmap.org/search\", params=params, headers=headers\n",
    "    )\n",
    "    data = response.json()\n",
    "\n",
    "    time.sleep(1)  # No heavy uses (an absolute maximum of 1 request per second).\n",
    "\n",
    "    return data\n",
    "\n",
    "\n",
    "def geocode_df(df, query_col, viewbox, return_gdf=False):\n",
    "    geocodes = []\n",
    "    for index, row in tqdm(df.iterrows(), total=df.shape[0]):\n",
    "        data = geocode(row[query_col], viewbox)\n",
    "        geocodes.append((index, data))\n",
    "\n",
    "    geocodes_df = pd.DataFrame.from_records(\n",
    "        {i: data[0] for i, data in geocodes if len(data) > 0}\n",
    "    ).T\n",
    "\n",
    "    if return_gdf:\n",
    "        new_df = df.merge(\n",
    "            geocodes_df[[\"lat\", \"lon\"]], how=\"left\", left_index=True, right_index=True\n",
    "        )\n",
    "        gdf = gpd.GeoDataFrame(\n",
    "            new_df,\n",
    "            crs=\"EPSG:4326\",\n",
    "            geometry=gpd.points_from_xy(new_df[\"lon\"], new_df[\"lat\"]),\n",
    "        )\n",
    "        return gdf\n",
    "    else:\n",
    "        return geocodes_df"
   ]
  },
  {
   "attachments": {},
   "cell_type": "markdown",
   "id": "binary-ordinance",
   "metadata": {},
   "source": [
    "###  Subset donde tipo de via es una de las opciones predeterminadas"
   ]
  },
  {
   "cell_type": "code",
   "execution_count": null,
   "id": "ce2fc4b1",
   "metadata": {},
   "outputs": [],
   "source": [
    "# Columnas relacionadas a la ubicacion geografica\n",
    "df.columns[4:12]"
   ]
  },
  {
   "cell_type": "code",
   "execution_count": null,
   "id": "18221846",
   "metadata": {},
   "outputs": [],
   "source": [
    "address_cols = [\n",
    "    \"Provincia donde vive\",\n",
    "    \"Distrito donde vive\",\n",
    "    \"Tipo de ubicacion: Manzana (Mz), Lote, Urbanizacion (urb) y/o Etapa.\",\n",
    "    \"Tipo de vía\",\n",
    "    \"Especifica otro tipo de via\",\n",
    "    \"Nombre de la vía\",\n",
    "    \"Número de cuadra\",\n",
    "    \"Número de puerta de la vivienda\",\n",
    "]\n",
    "\n",
    "new_address_cols = [\n",
    "    \"provincia_clean\",\n",
    "    \"distrito_clean\",\n",
    "    \"tipo_ubicacion_clean\",\n",
    "    \"tipo_via_clean\",\n",
    "    \"otro_tipo_via_clean\",\n",
    "    \"nombre_via_clean\",\n",
    "    \"num_cuadra_clean\",\n",
    "    \"num_puerta_clean\",\n",
    "]"
   ]
  },
  {
   "cell_type": "code",
   "execution_count": null,
   "id": "9b9ed321",
   "metadata": {},
   "outputs": [],
   "source": [
    "# Check missing values\n",
    "df[address_cols].isna().sum()"
   ]
  },
  {
   "cell_type": "code",
   "execution_count": null,
   "id": "9693ce51",
   "metadata": {},
   "outputs": [],
   "source": [
    "# Check road name values\n",
    "df[\"Nombre de la vía\"].notna().sum()"
   ]
  },
  {
   "cell_type": "code",
   "execution_count": null,
   "id": "0b91ba02",
   "metadata": {},
   "outputs": [],
   "source": [
    "# For road name values, check street/house number missing values\n",
    "df[df[\"Nombre de la vía\"].notna()][\n",
    "    [\"Número de cuadra\", \"Número de puerta de la vivienda\"]\n",
    "].isna().sum()"
   ]
  },
  {
   "cell_type": "code",
   "execution_count": null,
   "id": "71dfed83",
   "metadata": {},
   "outputs": [],
   "source": [
    "def clean_df_string(col):\n",
    "    clean = (\n",
    "        col.apply(lambda x: int(x) if (type(x) == float) and pd.notna(x) else x)\n",
    "        .fillna(\"\")  # Replace nan with emptry string\n",
    "        .astype(str)\n",
    "        .str.lower()  # Lower all strings\n",
    "        .apply(unidecode)  # Remove all accents and special characters\n",
    "        .str.replace(\n",
    "            r\"[^a-zA-Z0-9 ]\", \" \", regex=True\n",
    "        )  # Remove any non-alpanumeric or space character\n",
    "        .str.replace(r\"[ ]+\", \" \", regex=True)  # Reduce multiple spaces to one\n",
    "        .str.strip()  # Remove spaces at the start and end of the strings\n",
    "    )\n",
    "    return clean"
   ]
  },
  {
   "cell_type": "code",
   "execution_count": null,
   "id": "770ed64b",
   "metadata": {},
   "outputs": [],
   "source": [
    "for col, new_col in zip(address_cols, new_address_cols):\n",
    "    df[new_col] = clean_df_string(df[col])"
   ]
  },
  {
   "cell_type": "code",
   "execution_count": null,
   "id": "4d9fe025",
   "metadata": {},
   "outputs": [],
   "source": [
    "df[new_address_cols]"
   ]
  },
  {
   "cell_type": "code",
   "execution_count": null,
   "id": "8967c093",
   "metadata": {},
   "outputs": [],
   "source": [
    "new_address_cols"
   ]
  },
  {
   "cell_type": "code",
   "execution_count": null,
   "id": "f655814e",
   "metadata": {},
   "outputs": [],
   "source": [
    "new_address_cols_ordered = [\n",
    "    \"num_puerta_clean\",\n",
    "    \"num_cuadra_clean\",\n",
    "    \"tipo_ubicacion_clean\",\n",
    "    \"tipo_via_clean\",\n",
    "    \"nombre_via_clean\",\n",
    "    \"otro_tipo_via_clean\",\n",
    "]\n",
    "\n",
    "adm_region_cols = [\"distrito_clean\", \"provincia_clean\"]"
   ]
  },
  {
   "cell_type": "code",
   "execution_count": null,
   "id": "0571d541",
   "metadata": {},
   "outputs": [],
   "source": [
    "df[adm_region_cols]"
   ]
  },
  {
   "cell_type": "code",
   "execution_count": null,
   "id": "47c4cfca",
   "metadata": {},
   "outputs": [],
   "source": [
    "df[\"nominatim_query\"] = (\n",
    "    df[new_address_cols_ordered]\n",
    "    .apply(\" \".join, axis=1)\n",
    "    .str.replace(\"[ ][0 ]*\", \" \", regex=True)  # Remove \"0\" that dont make sense alone\n",
    "    .str.replace(r\"[ ]+\", \" \", regex=True)  # Reduce multiple spaces to one\n",
    "    .str.strip()  # Remove spaces at the start and end of the strings\n",
    ")"
   ]
  },
  {
   "cell_type": "code",
   "execution_count": null,
   "id": "fc24d878",
   "metadata": {},
   "outputs": [],
   "source": [
    "df[\"nominatim_query\"].str.len().hist(), df[\"nominatim_query\"].str.len().describe(),"
   ]
  },
  {
   "cell_type": "code",
   "execution_count": null,
   "id": "74c33dd8",
   "metadata": {},
   "outputs": [],
   "source": [
    "df_not_empty_query = df[df[\"nominatim_query\"].str.len() > 0]"
   ]
  },
  {
   "cell_type": "code",
   "execution_count": null,
   "id": "f402a2b8",
   "metadata": {},
   "outputs": [],
   "source": [
    "# Add administrative region information\n",
    "df_not_empty_query.loc[:, \"nominatim_query_full\"] = (\n",
    "    df_not_empty_query.loc[:, [\"nominatim_query\"] + adm_region_cols]\n",
    "    .apply(\", \".join, axis=1)\n",
    "    .str.replace(r\"[ ]+\", \" \", regex=True)  # Reduce multiple spaces to one\n",
    "    .str.strip()  # Remove spaces at the start and end of the strings\n",
    ")"
   ]
  },
  {
   "cell_type": "code",
   "execution_count": null,
   "id": "9ea1779d",
   "metadata": {
    "collapsed": true,
    "jupyter": {
     "outputs_hidden": true
    },
    "tags": []
   },
   "outputs": [],
   "source": [
    "df_not_empty_query.loc[:, \"nominatim_query_full\"].tolist()"
   ]
  },
  {
   "cell_type": "code",
   "execution_count": null,
   "id": "626b0117",
   "metadata": {},
   "outputs": [],
   "source": [
    "# Get Ica deparment administrative region polygon for query\n",
    "ica = up.download.nominatim_osm(\"Ica, Peru\")\n",
    "ica.plot()"
   ]
  },
  {
   "cell_type": "code",
   "execution_count": null,
   "id": "d8a2c2b0",
   "metadata": {},
   "outputs": [],
   "source": [
    "# total_bounds: Returns a tuple containing ``minx``, ``miny``, ``maxx``, ``maxy``"
   ]
  },
  {
   "cell_type": "code",
   "execution_count": null,
   "id": "5a9cbffc",
   "metadata": {},
   "outputs": [],
   "source": [
    "ica.total_bounds"
   ]
  },
  {
   "cell_type": "code",
   "execution_count": null,
   "id": "6472f868",
   "metadata": {},
   "outputs": [],
   "source": [
    "viewbox = \", \".join(ica.total_bounds.astype(str))"
   ]
  },
  {
   "cell_type": "code",
   "execution_count": null,
   "id": "a4b0fd60",
   "metadata": {},
   "outputs": [],
   "source": [
    "viewbox"
   ]
  },
  {
   "cell_type": "code",
   "execution_count": null,
   "id": "e24b77c2",
   "metadata": {},
   "outputs": [],
   "source": [
    "output_fn = \"outputs/geocodes_ALL.geojson\"\n",
    "## Expensive query run only if file doesnt exist\n",
    "if os.path.exists(output_fn):\n",
    "    gdf = gpd.read_file(output_fn)\n",
    "else:\n",
    "    gdf = geocode_df(\n",
    "        df_not_empty_query, \"nominatim_query_full\", viewbox, return_gdf=True\n",
    "    )\n",
    "    gdf.to_file(output_fn, driver=\"GeoJSON\")"
   ]
  },
  {
   "cell_type": "code",
   "execution_count": null,
   "id": "8af23474",
   "metadata": {},
   "outputs": [],
   "source": [
    "gdf[gdf.geometry.isna()]"
   ]
  },
  {
   "cell_type": "code",
   "execution_count": null,
   "id": "2a6846b8",
   "metadata": {},
   "outputs": [],
   "source": [
    "gdf[\"lat\"].isna().sum()"
   ]
  },
  {
   "cell_type": "code",
   "execution_count": null,
   "id": "295d8d10",
   "metadata": {},
   "outputs": [],
   "source": [
    "gdf.shape"
   ]
  },
  {
   "cell_type": "code",
   "execution_count": null,
   "id": "dd0afe26",
   "metadata": {
    "collapsed": true,
    "jupyter": {
     "outputs_hidden": true
    },
    "tags": []
   },
   "outputs": [],
   "source": [
    "gdf[\"nominatim_query_full\"].values.tolist()"
   ]
  },
  {
   "cell_type": "code",
   "execution_count": null,
   "id": "e776213c",
   "metadata": {},
   "outputs": [],
   "source": [
    "gdf[gdf[\"lat\"].notna()].drop(\"geometry\", axis=1).to_excel(\"outputs/datos_georef.xlsx\")"
   ]
  },
  {
   "cell_type": "code",
   "execution_count": null,
   "id": "8d74369f",
   "metadata": {},
   "outputs": [],
   "source": [
    "import contextily as cx"
   ]
  },
  {
   "cell_type": "code",
   "execution_count": null,
   "id": "60148a5f",
   "metadata": {},
   "outputs": [],
   "source": [
    "gdf.crs"
   ]
  },
  {
   "cell_type": "code",
   "execution_count": null,
   "id": "36bc852a",
   "metadata": {},
   "outputs": [],
   "source": [
    "ax = gdf.plot()\n",
    "cx.add_basemap(ax=ax, source=cx.providers.CartoDB.Positron, crs=gdf.crs)"
   ]
  },
  {
   "cell_type": "code",
   "execution_count": null,
   "id": "42180860",
   "metadata": {},
   "outputs": [],
   "source": [
    "gdf.geometry.notna().sum()"
   ]
  },
  {
   "cell_type": "code",
   "execution_count": null,
   "id": "8ecbb5a0",
   "metadata": {},
   "outputs": [],
   "source": [
    "map_ = gdf.loc[gdf.lat.notna(), [\"nominatim_query_full\", \"geometry\"]].explore()"
   ]
  },
  {
   "cell_type": "code",
   "execution_count": null,
   "id": "c466fb1f",
   "metadata": {},
   "outputs": [],
   "source": [
    "map_.save(\"encuestas_georeferenciadas.html\")"
   ]
  },
  {
   "cell_type": "code",
   "execution_count": null,
   "id": "6d72ac65",
   "metadata": {},
   "outputs": [],
   "source": [
    "df[\"tipo_ubicacion_clean\"] = clean_df_string(\n",
    "    df[\"Tipo de ubicacion: Manzana (Mz), Lote, Urbanizacion (urb) y/o Etapa.\"]\n",
    ")"
   ]
  },
  {
   "cell_type": "code",
   "execution_count": null,
   "id": "97dfbde1",
   "metadata": {},
   "outputs": [],
   "source": [
    "df[\"tipo_ubicacion_clean\"].sort_values().unique().shape"
   ]
  },
  {
   "cell_type": "code",
   "execution_count": null,
   "id": "23e493d3",
   "metadata": {},
   "outputs": [],
   "source": [
    "df[\"Tipo de vía\"].unique()"
   ]
  },
  {
   "cell_type": "code",
   "execution_count": null,
   "id": "4be64113",
   "metadata": {},
   "outputs": [],
   "source": [
    "df[\"Tipo de vía\"] = df[\"Tipo de vía\"].replace(\n",
    "    {\n",
    "        \"AV (Avenida)\": \"Avenida\",\n",
    "        \"CA (Calle)\": \"Calle\",\n",
    "        \"AL (Alameda)\": \"Alameda\",\n",
    "        \"PRLG (Prolongación)\": \"Prolongacion\",\n",
    "        \"JR (Jirón)\": \"Jiron\",\n",
    "        \"Otro, especificar\": \"\",\n",
    "        \"No cuenta con información\": \"\",\n",
    "    }\n",
    ")"
   ]
  },
  {
   "cell_type": "code",
   "execution_count": null,
   "id": "e87d5b30",
   "metadata": {},
   "outputs": [],
   "source": []
  },
  {
   "cell_type": "code",
   "execution_count": null,
   "id": "20ccd913",
   "metadata": {},
   "outputs": [],
   "source": [
    "df[\"Especifica otro tipo de via\"].sort_values().unique().shape"
   ]
  },
  {
   "cell_type": "code",
   "execution_count": null,
   "id": "be64bb0f",
   "metadata": {},
   "outputs": [],
   "source": [
    "df[\"Especifica otro tipo de via\"].str.lower().fillna(\"\").sort_values().unique().shape"
   ]
  },
  {
   "cell_type": "code",
   "execution_count": null,
   "id": "7e54164a",
   "metadata": {},
   "outputs": [],
   "source": [
    "df[\"Especifica otro tipo de via\"].str.lower().fillna(\"\").apply(\n",
    "    unidecode\n",
    ").sort_values().unique().shape"
   ]
  },
  {
   "cell_type": "code",
   "execution_count": null,
   "id": "2badbfd5",
   "metadata": {},
   "outputs": [],
   "source": [
    "df[\n",
    "    \"Tipo de ubicacion: Manzana (Mz), Lote, Urbanizacion (urb) y/o Etapa.\"\n",
    "].str.lower().fillna(\"\").apply(unidecode).sort_values().unique().shape"
   ]
  },
  {
   "cell_type": "code",
   "execution_count": null,
   "id": "de5768d7",
   "metadata": {
    "collapsed": true,
    "jupyter": {
     "outputs_hidden": true
    },
    "tags": []
   },
   "outputs": [],
   "source": [
    "df[\"Especifica otro tipo de via\"].str.lower().fillna(\"\").apply(\n",
    "    unidecode\n",
    ").sort_values().unique().tolist()"
   ]
  },
  {
   "cell_type": "code",
   "execution_count": null,
   "id": "491c41b3",
   "metadata": {},
   "outputs": [],
   "source": [
    "{\n",
    "    'asentamiento humano': ['aa hh', 'aahh', 'acentamiento', 'acentamiento humano', 'ah', 'asentamiento humano'],\n",
    "    'aa hh pueblo joven senor de luren 3era etapa d-01': ['aa hhpueblo joven seno de luren 3era etapa d-01'],\n",
    "    'urbanizacion': ['urbanzacion'],\n",
    "    'frente a prefectura',\n",
    "    \n",
    "\n",
    "    \n",
    " 'acceso',\n",
    " 'aldea',\n",
    " 'asociacion',\n",
    " 'carretera',\n",
    " 'caserio',\n",
    " 'centro poblado',\n",
    " 'condominio',\n",
    " 'cooperativa',\n",
    " 'expasion',\n",
    " 'fundo',\n",
    " 'invasion',   \n",
    " 'lotizacion',\n",
    " 'malecon',   \n",
    " 'ovalo',\n",
    " 'panamericana',\n",
    " 'pasaje',\n",
    " 'prologacion',\n",
    " 'pueblo joven',\n",
    " 'sector',\n",
    " 'upis',\n",
    " 'urbanizacion',\n",
    " \n",
    "# Direccion especifica\n",
    " 'aa hh el oasis 2da etapa l 15',\n",
    " 'aa hh pueblo joven senor de luren \"i 13\"',\n",
    " 'aa hh pueblo joven senor de luren, 1era etapa e 22',\n",
    " 'aa.hh los medanos manzana a, lote 13',\n",
    " 'aahh el huarangal s/n tierra prometida, a la espalda del colegio el huarangal',\n",
    " 'cetpro saraja b 9',\n",
    " 'francisco sotelo',\n",
    " 'fundo san pedro',\n",
    " 'habana con madrid',\n",
    " 'los angeles',\n",
    " 'miguel ciani, cerca a la plaza miguel grau, s/n',\n",
    " 'mz c',\n",
    " 'pachacutec',\n",
    " 'panamericana km 298',\n",
    " 'pasaje acomayo mz b s/n',\n",
    " 'san juan bautista mz c lt 6 ',\n",
    " 'san juan de san martin 4ta cuadra s/n',\n",
    " 'santa rosa',\n",
    " 'sector b2',\n",
    " 'siete, calle los florales s/n',\n",
    " 'tupac amaru',\n",
    "    \n",
    "# Remove or replace from specific address strings\n",
    "    \n",
    "    'asentamiento humano': ['aa hh', 'aa.hh', 'aahh'],\n",
    "    np.nan: ['s/n'],\n",
    "    \n",
    " \n",
    " \n",
    " \n",
    "}"
   ]
  },
  {
   "cell_type": "code",
   "execution_count": null,
   "id": "b200494a",
   "metadata": {},
   "outputs": [],
   "source": [
    "'aa hh', 'aa hh el oasis 2da etapa l 15',\n",
    "       'aa hh pueblo joven señor de luren \"i 13\"',\n",
    "       'aa hh pueblo joven señor de luren, 1era etapa e 22',\n",
    "       'aa hhpueblo joven seño de luren 3era etapa d-01',\n",
    "       'aa.hh los médanos manzana a, lote 13', 'aahh',\n",
    "       'aahh el huarangal s/n tierra prometida, a la espalda del colegio el huarangal',\n",
    "       'acceso', 'acentamiento', 'acentamiento humano', 'ah', 'aldea',\n",
    "       'asentamiento humano', 'asociacion', 'carretera', 'caserio',\n",
    "       'caserío', 'centro poblado', 'cetpro saraja b 9', 'condominio',\n",
    "       'cooperativa', 'expasion', 'francisco sotelo',\n",
    "       'frente a prefectura', 'fundo', 'fundo san pedro',\n",
    "       'habana con madrid', 'invasión', 'los ángeles', 'lotizacion',\n",
    "       'malecon', 'miguel ciani, cerca a la plaza miguel grau, s/n',\n",
    "       'mz c', 'pachacutec', 'panamericana', 'panamericana km 298',\n",
    "       'pasaje', 'pasaje acomayo mz b s/n', 'prologacion', 'pueblo joven',\n",
    "       'san juan bautista mz c lt 6 ',\n",
    "       'san juan de san martin 4ta cuadra s/n', 'santa rosa', 'sector',\n",
    "       'sector b2', 'siete, calle los florales s/n', 'túpac amaru',\n",
    "       'upis', 'urbanizacion', 'urbanización', 'urbanzacion', 'óvalo',"
   ]
  },
  {
   "cell_type": "code",
   "execution_count": null,
   "id": "0504d6bc",
   "metadata": {},
   "outputs": [],
   "source": [
    "{\n",
    "    \"Asentamiento Humano\": [\n",
    "        \"AAHH\",\n",
    "        \"Acentamiento\",\n",
    "        \"AH\",\n",
    "        \"AA HH\",\n",
    "        \"Acentamiento humano\",\n",
    "        \"Asentamiento humano\",\n",
    "        \"ASENTAMIENTO HUMANO\",\n",
    "    ],\n",
    "    # Fix typo\n",
    "    \"AA HHPueblo Joven Seño de Luren 3era Etapa D-01\": [\n",
    "        \"AA HHPueblo Joven Seño de Luren 3era Etapa D-01\"\n",
    "    ],\n",
    "}\n",
    "\n",
    "# Detalle\n",
    "\"AAHH El Huarangal S/N Tierra Prometida, a la espalda del colegio el Huarangal\",\n",
    "\"AA.HH Los Médanos Manzana A, Lote 13\",\n",
    "\"AA HH Pueblo Joven Señor De Luren, 1era Etapa E 22\",\n",
    "'AA HH Pueblo Joven Señor de Luren \"I 13\"',\n",
    "\"AA HH El oasis 2da Etapa L 15\",\n",
    "\"Cetpro Saraja B 9\",\n",
    "\n",
    "## Replace in string\n",
    "(\"AA HH\", \"Asentamiento Humano\")\n",
    "(\"AAHH\", \"Asentamiento Humano\")\n",
    "(\"AA.HH\", \"Asentamiento Humano\")\n",
    "\n",
    "# Urbanización Popular de Interés Social (UPIS),\n",
    "\n",
    "\n",
    "\"UPIS\", \"Upis\",\n",
    "\"PASAJE\",\n",
    "\"Caserío\", \"caserío\", \"Caserio\", \"CASERIO\",\n",
    "\"Urbanización\", \"URBANZACION\", \"URBANIZACION\", \"URBANIZACIÓN\",\n",
    "\"Condominio\",\n",
    "\"Centro Poblado\", \"Centro poblado\",\n",
    "\"Panamericana\", \"PANAMERICANA\",\n",
    "\"Sector\",\n",
    "\"Lotizacion\",\n",
    "\"Invasión\",\n",
    "\"ASOCIACION\",\n",
    "\"Pasaje\",\n",
    "\"PROLOGACION\",\n",
    "\"Fundo\",\n",
    "\"Frente a prefectura\",\n",
    "\n",
    "\"SECTOR B2\",\n",
    "\n",
    "\"Aldea\",\n",
    "\n",
    "\"Acceso\"\n",
    "\n",
    "\"Mz C\",\n",
    "\"Pueblo Joven\",\n",
    "\"Carretera\",\n",
    "\"FUNDO SAN PEDRO\",\n",
    "\"COOPERATIVA\",\n",
    "\n",
    "\"EXPASION\",\n",
    "\"Óvalo\",\n",
    "\"Malecon\",\n",
    "\n",
    "\"San Juan de San Martin 4ta Cuadra S/N\",\n",
    "\"Miguel Ciani, cerca a la plaza Miguel Grau, S/N\",\n",
    "\"Siete, calle los Florales S/N\",\n",
    "\"centro Poblado\",\n",
    "\"Túpac Amaru\",\n",
    "\"Santa Rosa\",\n",
    "\"Francisco Sotelo\",\n",
    "\"Los Ángeles\",\n",
    "\"Panamericana Km 298\",\n",
    "\"Habana con Madrid\",\n",
    "\"Pachacutec\",\n",
    "\"Pasaje acomayo Mz B S/N\",\n",
    "\"San Juan Bautista Mz C Lt 6 \","
   ]
  },
  {
   "cell_type": "code",
   "execution_count": null,
   "id": "51be053c",
   "metadata": {},
   "outputs": [],
   "source": [
    "df[\"Nombre de la vía\"].unique()"
   ]
  },
  {
   "cell_type": "code",
   "execution_count": null,
   "id": "37377bd2",
   "metadata": {},
   "outputs": [],
   "source": [
    "df[]"
   ]
  },
  {
   "cell_type": "code",
   "execution_count": null,
   "id": "f6099604-79b8-43fe-a6aa-3e4ba3a5618e",
   "metadata": {},
   "outputs": [],
   "source": [
    "df[\"Tipo de vía\"].unique()"
   ]
  },
  {
   "cell_type": "code",
   "execution_count": null,
   "id": "b63c4ac5",
   "metadata": {},
   "outputs": [],
   "source": []
  },
  {
   "cell_type": "code",
   "execution_count": null,
   "id": "36157c0e",
   "metadata": {},
   "outputs": [],
   "source": []
  },
  {
   "cell_type": "code",
   "execution_count": null,
   "id": "2322d416",
   "metadata": {},
   "outputs": [],
   "source": []
  },
  {
   "cell_type": "code",
   "execution_count": null,
   "id": "chief-cologne",
   "metadata": {},
   "outputs": [],
   "source": [
    "subset = df[\n",
    "    df[\"Tipo de vía\"].isin(\n",
    "        [\n",
    "            \"AV (Avenida)\",\n",
    "            \"CA (Calle)\",\n",
    "            \"AL (Alameda)\",\n",
    "            \"PRLG (Prolongación)\",\n",
    "            \"JR (Jirón)\",\n",
    "        ]\n",
    "    )\n",
    "]"
   ]
  },
  {
   "cell_type": "code",
   "execution_count": null,
   "id": "b6a4412b-5b3c-46ff-abf5-7a09292fa4aa",
   "metadata": {},
   "outputs": [],
   "source": [
    "subset[\"tipo_via\"] = subset[\"Tipo de vía\"].replace(\n",
    "    {\n",
    "        \"AV (Avenida)\": \"Avenida\",\n",
    "        \"CA (Calle)\": \"Calle\",\n",
    "        \"AL (Alameda)\": \"Alameda\",\n",
    "        \"PRLG (Prolongación)\": \"Prolongacion\",\n",
    "        \"JR (Jirón)\": \"Jiron\",\n",
    "    }\n",
    ")"
   ]
  },
  {
   "cell_type": "code",
   "execution_count": null,
   "id": "c00ab065",
   "metadata": {},
   "outputs": [],
   "source": [
    "subset[\"tipo_via\"]"
   ]
  },
  {
   "attachments": {},
   "cell_type": "markdown",
   "id": "upset-sense",
   "metadata": {},
   "source": [
    "Clean street name"
   ]
  },
  {
   "cell_type": "code",
   "execution_count": null,
   "id": "welsh-equality",
   "metadata": {},
   "outputs": [],
   "source": [
    "clean = (\n",
    "    subset.loc[:, \"Nombre de la vía\"]\n",
    "    .str.title()\n",
    "    .str.replace(\n",
    "        \"((N(ú|u)mero|Calle|Jr|Jir(o|ó)n|Pasaje|Prolongaci(o|ó)n|Pasaje|Avenida|Aveida|Ave|Av|Urb)\\.*\\s+)\",\n",
    "        \"\",\n",
    "        regex=True,\n",
    "    )\n",
    "    .str.replace(\n",
    "        \"((Manzana|Mz|Manza)\\s*[a-zA-z]*[0-9]*|(Lote|Lt)\\s*\\.*[a-zA-z]*[0-9]*),*\",\n",
    "        \"\",\n",
    "        regex=True,\n",
    "    )\n",
    "    .str.replace(\".\", \"\", regex=False)\n",
    "    .str.strip()\n",
    ")"
   ]
  },
  {
   "cell_type": "code",
   "execution_count": null,
   "id": "retained-growing",
   "metadata": {},
   "outputs": [],
   "source": [
    "subset.loc[:, \"nombre_via_clean\"] = clean.apply(clean_address)"
   ]
  },
  {
   "attachments": {},
   "cell_type": "markdown",
   "id": "alike-evanescence",
   "metadata": {},
   "source": [
    "Clean number"
   ]
  },
  {
   "cell_type": "code",
   "execution_count": null,
   "id": "incoming-insulation",
   "metadata": {},
   "outputs": [],
   "source": [
    "subset[\"Número de puerta de la vivienda\"].isna().sum()"
   ]
  },
  {
   "cell_type": "code",
   "execution_count": null,
   "id": "9f518144-45ca-4a78-a2cd-1dc0af438425",
   "metadata": {},
   "outputs": [],
   "source": [
    "subset[\"Número de cuadra\"].isna().sum()"
   ]
  },
  {
   "cell_type": "code",
   "execution_count": null,
   "id": "protecting-spider",
   "metadata": {},
   "outputs": [],
   "source": [
    "(\n",
    "    subset[[\"Número de puerta de la vivienda\", \"Número de cuadra\"]].isna().sum(axis=1)\n",
    "    == 2\n",
    ").sum()"
   ]
  },
  {
   "cell_type": "code",
   "execution_count": null,
   "id": "familiar-messaging",
   "metadata": {},
   "outputs": [],
   "source": [
    "subset[\"num_puerta_clean\"] = (\n",
    "    subset[\"Número de puerta de la vivienda\"]\n",
    "    .fillna(subset[\"Número de cuadra\"])\n",
    "    .astype(\"Int64\")\n",
    "    .astype(str)\n",
    "    .replace(\"<NA>\", \"\")\n",
    ")"
   ]
  },
  {
   "attachments": {},
   "cell_type": "markdown",
   "id": "after-pendant",
   "metadata": {},
   "source": [
    "Build query string for Nominatim API"
   ]
  },
  {
   "cell_type": "code",
   "execution_count": null,
   "id": "focal-ottawa",
   "metadata": {},
   "outputs": [],
   "source": [
    "subset[\"nominatim_street\"] = (\n",
    "    subset[\"num_puerta_clean\"]\n",
    "    + \" \"\n",
    "    + subset[\"tipo_via\"]\n",
    "    + \" \"\n",
    "    + subset[\"nombre_via_clean\"]\n",
    ")"
   ]
  },
  {
   "cell_type": "code",
   "execution_count": null,
   "id": "blessed-battlefield",
   "metadata": {},
   "outputs": [],
   "source": [
    "subset[\"nominatim_street\"].head()"
   ]
  },
  {
   "cell_type": "code",
   "execution_count": null,
   "id": "cce1d5df-3dbe-4826-9a95-4ee709724327",
   "metadata": {},
   "outputs": [],
   "source": [
    "subset[\"nominatim_street\"].isna().sum()"
   ]
  },
  {
   "cell_type": "code",
   "execution_count": null,
   "id": "5b9f5d06-9dec-4820-8c8d-991b444b96b8",
   "metadata": {},
   "outputs": [],
   "source": [
    "subset = subset.dropna(subset=\"nominatim_street\")"
   ]
  },
  {
   "cell_type": "code",
   "execution_count": null,
   "id": "051964a7-c215-4378-88fd-6400b7bcb0f8",
   "metadata": {},
   "outputs": [],
   "source": [
    "subset.shape"
   ]
  },
  {
   "cell_type": "code",
   "execution_count": null,
   "id": "30cd9bfd-3098-41b4-b005-1d8a832134af",
   "metadata": {},
   "outputs": [],
   "source": [
    "subset[\"Provincia donde vive\"].isna().sum()"
   ]
  },
  {
   "cell_type": "code",
   "execution_count": null,
   "id": "70e8e3c2-7af1-449e-812b-e9c6e808dbb3",
   "metadata": {},
   "outputs": [],
   "source": [
    "subset[\"state_nominatim\"] = subset[\"Provincia donde vive\"]"
   ]
  },
  {
   "cell_type": "code",
   "execution_count": null,
   "id": "9a2d00ac-423b-47a7-b01e-8c49455b5cce",
   "metadata": {},
   "outputs": [],
   "source": [
    "subset[\"city_nominatim\"] = subset[\"Distrito donde vive\"]"
   ]
  },
  {
   "cell_type": "code",
   "execution_count": null,
   "id": "6ca35dc8",
   "metadata": {},
   "outputs": [],
   "source": [
    "subset[[\"nominatim_street\", \"city_nominatim\", \"state_nominatim\"]]"
   ]
  },
  {
   "cell_type": "code",
   "execution_count": null,
   "id": "dangerous-validity",
   "metadata": {},
   "outputs": [],
   "source": [
    "output_fn = \"outputs/geocodes_.geojson\"\n",
    "## Expensive query run only if file doesnt exist\n",
    "if os.path.exists(output_fn):\n",
    "    gdf = gpd.read_file(output_fn)\n",
    "else:\n",
    "    gdf = geocode_df(\n",
    "        subset.sample(n=60),\n",
    "        \"nominatim_street\",\n",
    "        \"city_nominatim\",\n",
    "        \"state_nominatim\",\n",
    "        return_gdf=True,\n",
    "    )\n",
    "    gdf.to_file(output_fn, driver=\"GeoJSON\")"
   ]
  },
  {
   "cell_type": "code",
   "execution_count": null,
   "id": "technical-ivory",
   "metadata": {},
   "outputs": [],
   "source": [
    "gdf.shape, subset.shape"
   ]
  },
  {
   "cell_type": "code",
   "execution_count": null,
   "id": "c3293b72",
   "metadata": {},
   "outputs": [],
   "source": [
    "gdf.geometry.duplicated().sum()"
   ]
  },
  {
   "cell_type": "code",
   "execution_count": null,
   "id": "65e3ca1a",
   "metadata": {},
   "outputs": [],
   "source": [
    "gdf[gdf.geometry.duplicated()][\n",
    "    [\"nominatim_street\", \"city_nominatim\", \"state_nominatim\", \"geometry\"]\n",
    "]"
   ]
  },
  {
   "cell_type": "code",
   "execution_count": null,
   "id": "e36fefbe",
   "metadata": {},
   "outputs": [],
   "source": [
    "gdf.plot()"
   ]
  },
  {
   "attachments": {},
   "cell_type": "markdown",
   "id": "impossible-liquid",
   "metadata": {},
   "source": [
    "#### Geocode new observations"
   ]
  },
  {
   "cell_type": "code",
   "execution_count": null,
   "id": "tribal-herald",
   "metadata": {},
   "outputs": [],
   "source": [
    "subset_wo_loc = subset[478:]"
   ]
  },
  {
   "cell_type": "code",
   "execution_count": null,
   "id": "adopted-murray",
   "metadata": {},
   "outputs": [],
   "source": [
    "subset_wo_loc[\"nominatim_street\"].shape"
   ]
  },
  {
   "cell_type": "code",
   "execution_count": null,
   "id": "4ec843d4-b0cd-4ba7-85ca-4a96db8105e9",
   "metadata": {},
   "outputs": [],
   "source": []
  },
  {
   "cell_type": "code",
   "execution_count": null,
   "id": "mechanical-turkey",
   "metadata": {},
   "outputs": [],
   "source": [
    "output_fn = \"outputs/complement_geocodes.geojson\"\n",
    "## Expensive query run only if file doesnt exist\n",
    "if os.path.exists(output_fn):\n",
    "    gdf_complement = gpd.read_file(output_fn)\n",
    "else:\n",
    "    gdf_complement = geocode_df(\n",
    "        subset_wo_loc,\n",
    "        \"nominatim_street\",\n",
    "        \"city_nominatim\",\n",
    "        \"state_nominatim\",\n",
    "        return_gdf=True,\n",
    "    )\n",
    "    gdf_complement.to_file(output_fn, driver=\"GeoJSON\")"
   ]
  },
  {
   "cell_type": "code",
   "execution_count": null,
   "id": "pregnant-productivity",
   "metadata": {},
   "outputs": [],
   "source": [
    "gdf_complement.shape, gdf.shape"
   ]
  },
  {
   "cell_type": "code",
   "execution_count": null,
   "id": "established-demographic",
   "metadata": {},
   "outputs": [],
   "source": [
    "gdf_ = subset.copy()"
   ]
  },
  {
   "cell_type": "code",
   "execution_count": null,
   "id": "vulnerable-uncle",
   "metadata": {},
   "outputs": [],
   "source": [
    "gdf_.shape"
   ]
  },
  {
   "cell_type": "code",
   "execution_count": null,
   "id": "brief-township",
   "metadata": {},
   "outputs": [],
   "source": [
    "gdf_[\"geometry\"] = gdf.geometry.append(gdf_complement.geometry).values"
   ]
  },
  {
   "cell_type": "code",
   "execution_count": null,
   "id": "subtle-sodium",
   "metadata": {},
   "outputs": [],
   "source": [
    "gdf = gpd.GeoDataFrame(gdf_, crs=\"EPSG:4326\")"
   ]
  },
  {
   "cell_type": "code",
   "execution_count": null,
   "id": "improved-honey",
   "metadata": {},
   "outputs": [],
   "source": [
    "gdf.head()"
   ]
  },
  {
   "cell_type": "code",
   "execution_count": null,
   "id": "systematic-melbourne",
   "metadata": {},
   "outputs": [],
   "source": [
    "gdf.plot()"
   ]
  },
  {
   "cell_type": "code",
   "execution_count": null,
   "id": "rubber-denver",
   "metadata": {},
   "outputs": [],
   "source": [
    "print(\"Total observations:\", gdf.shape[0])\n",
    "print(\"Geocoded observations:\", gdf.shape[0] - gdf.geometry.x.isna().sum())"
   ]
  },
  {
   "cell_type": "code",
   "execution_count": null,
   "id": "verified-oklahoma",
   "metadata": {},
   "outputs": [],
   "source": [
    "empty_geoms = gdf[gdf.geometry.x.isna()]"
   ]
  },
  {
   "cell_type": "code",
   "execution_count": null,
   "id": "strong-completion",
   "metadata": {},
   "outputs": [],
   "source": [
    "output_fn = \"outputs/new_geoms.geojson\"\n",
    "## Expensive query run only if file doesnt exist\n",
    "if os.path.exists(output_fn):\n",
    "    new_geoms = gpd.read_file(output_fn)\n",
    "else:\n",
    "    new_geoms = geocode_df(empty_geoms, \"nominatim_street\", return_gdf=True)\n",
    "    new_geoms.to_file(output_fn, driver=\"GeoJSON\")"
   ]
  },
  {
   "cell_type": "code",
   "execution_count": null,
   "id": "mexican-indication",
   "metadata": {},
   "outputs": [],
   "source": [
    "print(\"Observations w empty geom before:\", empty_geoms.shape[0])\n",
    "print(\"Geocoded observations:\", new_geoms.shape[0] - new_geoms.geometry.x.isna().sum())"
   ]
  },
  {
   "cell_type": "code",
   "execution_count": null,
   "id": "welsh-script",
   "metadata": {},
   "outputs": [],
   "source": [
    "gdf.geometry.x.isna().sum()"
   ]
  },
  {
   "cell_type": "code",
   "execution_count": null,
   "id": "vocational-aruba",
   "metadata": {},
   "outputs": [],
   "source": [
    "# Fill missing geoms\n",
    "gdf.loc[gdf[gdf.geometry.x.isna()].index, \"geometry\"] = new_geoms.geometry.values"
   ]
  },
  {
   "cell_type": "code",
   "execution_count": null,
   "id": "charitable-blast",
   "metadata": {},
   "outputs": [],
   "source": [
    "gdf.geometry.x.isna().sum()"
   ]
  },
  {
   "cell_type": "code",
   "execution_count": null,
   "id": "emotional-spray",
   "metadata": {},
   "outputs": [],
   "source": [
    "print(\"Total observations:\", gdf.shape[0])\n",
    "print(\"Geocoded observations:\", gdf.shape[0] - gdf.geometry.x.isna().sum())"
   ]
  },
  {
   "attachments": {},
   "cell_type": "markdown",
   "id": "confused-effects",
   "metadata": {},
   "source": [
    "### Subset donde tipo de via NO es una de las opciones predeterminadas"
   ]
  },
  {
   "cell_type": "code",
   "execution_count": null,
   "id": "military-modern",
   "metadata": {},
   "outputs": [],
   "source": [
    "other_subset = df.query(\"distrito =='Surquillo'\").query(\n",
    "    \"tipo_via not in ['Calle', 'Avenida', 'Jirón', 'Pasaje', 'Callejón', 'Prolongación', 'Urbanización']\"\n",
    ")"
   ]
  },
  {
   "cell_type": "code",
   "execution_count": null,
   "id": "unusual-employer",
   "metadata": {},
   "outputs": [],
   "source": [
    "other_subset.shape"
   ]
  },
  {
   "cell_type": "code",
   "execution_count": null,
   "id": "qualified-tribune",
   "metadata": {},
   "outputs": [],
   "source": [
    "other_subset.head()"
   ]
  },
  {
   "attachments": {},
   "cell_type": "markdown",
   "id": "arctic-solomon",
   "metadata": {},
   "source": [
    "Clean street name"
   ]
  },
  {
   "cell_type": "code",
   "execution_count": null,
   "id": "killing-milton",
   "metadata": {},
   "outputs": [],
   "source": [
    "other_clean = (\n",
    "    other_subset[\"nombre_via\"]\n",
    "    .str.title()\n",
    "    .str.replace(\"((N(ú|u)mero)\\s+)\", \"\", regex=True)\n",
    "    .str.replace(\n",
    "        \"((Manzana|Mz|Manza)\\s*[a-zA-z]*[0-9]*|(Lote|Lt)\\s*\\.*[a-zA-z]*[0-9]*),*\",\n",
    "        \"\",\n",
    "        regex=True,\n",
    "    )\n",
    "    .str.replace(\".\", \"\", regex=False)\n",
    "    .str.strip()\n",
    ")"
   ]
  },
  {
   "cell_type": "code",
   "execution_count": null,
   "id": "greenhouse-workplace",
   "metadata": {},
   "outputs": [],
   "source": [
    "other_clean = other_clean.apply(clean_address)"
   ]
  },
  {
   "cell_type": "code",
   "execution_count": null,
   "id": "prescribed-orleans",
   "metadata": {},
   "outputs": [],
   "source": [
    "other_subset[\"nombre_via_clean\"] = other_clean"
   ]
  },
  {
   "attachments": {},
   "cell_type": "markdown",
   "id": "authentic-reproduction",
   "metadata": {},
   "source": [
    "Clean number"
   ]
  },
  {
   "cell_type": "code",
   "execution_count": null,
   "id": "wired-asthma",
   "metadata": {},
   "outputs": [],
   "source": [
    "other_subset[\"num_puerta_clean\"] = (\n",
    "    other_subset[\"num_puerta\"]\n",
    "    .fillna(subset[\"num_cuadra\"])\n",
    "    .astype(\"Int64\")\n",
    "    .astype(str)\n",
    "    .replace(\"<NA>\", \"\")\n",
    ")"
   ]
  },
  {
   "cell_type": "code",
   "execution_count": null,
   "id": "fixed-newcastle",
   "metadata": {},
   "outputs": [],
   "source": [
    "other_subset[\"nominatim_street\"] = (\n",
    "    other_subset[\"num_puerta_clean\"] + \" \" + other_subset[\"nombre_via_clean\"]\n",
    ")"
   ]
  },
  {
   "cell_type": "code",
   "execution_count": null,
   "id": "vulnerable-equivalent",
   "metadata": {},
   "outputs": [],
   "source": [
    "other_subset[\"nominatim_street\"].shape, other_subset[\"nominatim_street\"].isna().sum()"
   ]
  },
  {
   "cell_type": "code",
   "execution_count": null,
   "id": "strong-hampton",
   "metadata": {},
   "outputs": [],
   "source": [
    "other_subset = other_subset.dropna(subset=[\"nominatim_street\"])"
   ]
  },
  {
   "cell_type": "code",
   "execution_count": null,
   "id": "silent-trauma",
   "metadata": {},
   "outputs": [],
   "source": [
    "other_subset[\"nominatim_street\"].head()"
   ]
  },
  {
   "cell_type": "code",
   "execution_count": null,
   "id": "eligible-collective",
   "metadata": {},
   "outputs": [],
   "source": [
    "other_subset[\"nominatim_street\"].tail()"
   ]
  },
  {
   "cell_type": "code",
   "execution_count": null,
   "id": "extraordinary-strand",
   "metadata": {},
   "outputs": [],
   "source": [
    "output_fn = \"outputs/other_geocodes.geojson\"\n",
    "## Expensive query run only if file doesnt exist\n",
    "if os.path.exists(output_fn):\n",
    "    other_geoms = gpd.read_file(output_fn)\n",
    "else:\n",
    "    other_geoms = geocode_df(other_subset, \"nominatim_street\", return_gdf=True)\n",
    "    other_geoms.to_file(output_fn, driver=\"GeoJSON\")"
   ]
  },
  {
   "cell_type": "code",
   "execution_count": null,
   "id": "protected-draft",
   "metadata": {},
   "outputs": [],
   "source": [
    "print(\"Number of observations before geocoding:\", other_subset.shape[0])\n",
    "print(\n",
    "    \"Geocoded observations:\", other_geoms.shape[0] - other_geoms.geometry.x.isna().sum()\n",
    ")"
   ]
  },
  {
   "attachments": {},
   "cell_type": "markdown",
   "id": "representative-bishop",
   "metadata": {},
   "source": [
    "## Save geocoded values"
   ]
  },
  {
   "cell_type": "code",
   "execution_count": null,
   "id": "driving-lyric",
   "metadata": {},
   "outputs": [],
   "source": [
    "final_gdf = pd.concat(\n",
    "    (\n",
    "        gdf.loc[gdf[~gdf.geometry.x.isna()].index],\n",
    "        other_geoms.loc[other_geoms[~other_geoms.geometry.x.isna()].index],\n",
    "    )\n",
    ")"
   ]
  },
  {
   "cell_type": "code",
   "execution_count": null,
   "id": "recreational-psychology",
   "metadata": {},
   "outputs": [],
   "source": [
    "final_gdf.shape"
   ]
  },
  {
   "cell_type": "code",
   "execution_count": null,
   "id": "considered-harris",
   "metadata": {},
   "outputs": [],
   "source": [
    "final_gdf.geometry.is_empty.sum(), final_gdf.geometry.isna().sum(), final_gdf.geometry.x.isna().sum()"
   ]
  },
  {
   "cell_type": "code",
   "execution_count": null,
   "id": "martial-means",
   "metadata": {},
   "outputs": [],
   "source": [
    "final_gdf.plot()"
   ]
  },
  {
   "cell_type": "code",
   "execution_count": null,
   "id": "altered-singapore",
   "metadata": {},
   "outputs": [],
   "source": [
    "if 1 == 2:\n",
    "    final_gdf.to_file(\"outputs/geocoded_gdf\")"
   ]
  },
  {
   "attachments": {},
   "cell_type": "markdown",
   "id": "american-walter",
   "metadata": {},
   "source": [
    "# Trying to geocode more observations"
   ]
  },
  {
   "cell_type": "code",
   "execution_count": null,
   "id": "measured-equality",
   "metadata": {},
   "outputs": [],
   "source": [
    "missing_geoms = df[~df.index.isin(final_gdf.index)]"
   ]
  },
  {
   "cell_type": "code",
   "execution_count": null,
   "id": "mature-approval",
   "metadata": {},
   "outputs": [],
   "source": [
    "missing_geoms.shape"
   ]
  },
  {
   "attachments": {},
   "cell_type": "markdown",
   "id": "acquired-entertainment",
   "metadata": {},
   "source": [
    "Clean street name"
   ]
  },
  {
   "cell_type": "code",
   "execution_count": null,
   "id": "compressed-asian",
   "metadata": {},
   "outputs": [],
   "source": [
    "missing_geoms[\"nombre_via\"].isna().sum()"
   ]
  },
  {
   "cell_type": "code",
   "execution_count": null,
   "id": "pending-league",
   "metadata": {},
   "outputs": [],
   "source": [
    "missing_geoms[\"nombre_urbanizacion\"].isna().sum()"
   ]
  },
  {
   "cell_type": "code",
   "execution_count": null,
   "id": "weighted-minority",
   "metadata": {},
   "outputs": [],
   "source": [
    "filled_nombre_via = (\n",
    "    missing_geoms[\"nombre_via\"].fillna(missing_geoms[\"nombre_urbanizacion\"]).values\n",
    ")\n",
    "missing_geoms = missing_geoms.assign(filled_nombre_via=filled_nombre_via)"
   ]
  },
  {
   "cell_type": "code",
   "execution_count": null,
   "id": "supposed-quality",
   "metadata": {},
   "outputs": [],
   "source": [
    "missing_geoms[\"nombre_via_clean\"] = (\n",
    "    missing_geoms[\"filled_nombre_via\"]\n",
    "    .str.title()\n",
    "    .str.replace(\n",
    "        \"((N(ú|u)mero|Calle|Jr|Jir(o|ó)n|Pasaje|Prolongaci(o|ó)n|Pasaje|Avenida|Aveida|Ave|Av|Urb)\\.*\\s+)\",\n",
    "        \"\",\n",
    "        regex=True,\n",
    "    )\n",
    "    .str.replace(\n",
    "        \"((Manzana|Mz|Manza)\\s*[a-zA-z]*[0-9]*|(Lote|Lt)\\s*\\.*[a-zA-z]*[0-9]*),*\",\n",
    "        \"\",\n",
    "        regex=True,\n",
    "    )\n",
    "    .str.replace(\".\", \"\", regex=False)\n",
    "    .str.strip()\n",
    "    .apply(clean_address)\n",
    ")"
   ]
  },
  {
   "attachments": {},
   "cell_type": "markdown",
   "id": "dirty-governor",
   "metadata": {},
   "source": [
    "Clean street number"
   ]
  },
  {
   "cell_type": "code",
   "execution_count": null,
   "id": "stable-sheriff",
   "metadata": {},
   "outputs": [],
   "source": [
    "missing_geoms[\"num_puerta_clean\"] = (\n",
    "    missing_geoms[\"num_puerta\"]\n",
    "    .fillna(missing_geoms[\"num_cuadra\"])\n",
    "    .astype(\"Int64\")\n",
    "    .astype(str)\n",
    "    .replace(\"<NA>\", \"\")\n",
    ")"
   ]
  },
  {
   "attachments": {},
   "cell_type": "markdown",
   "id": "otherwise-gibson",
   "metadata": {},
   "source": [
    "Build query string for Nominatim API"
   ]
  },
  {
   "cell_type": "code",
   "execution_count": null,
   "id": "answering-rouge",
   "metadata": {},
   "outputs": [],
   "source": [
    "missing_geoms[\"nominatim_street\"] = (\n",
    "    missing_geoms[\"num_puerta_clean\"] + \" \" + missing_geoms[\"nombre_via_clean\"]\n",
    ")"
   ]
  },
  {
   "cell_type": "code",
   "execution_count": null,
   "id": "nutritional-concrete",
   "metadata": {},
   "outputs": [],
   "source": [
    "missing_geoms[\"nominatim_street\"].head()"
   ]
  },
  {
   "cell_type": "code",
   "execution_count": null,
   "id": "endangered-carry",
   "metadata": {},
   "outputs": [],
   "source": [
    "output_fn = \"outputs/missing_geocodes.geojson\"\n",
    "## Expensive query run only if file doesnt exist\n",
    "if os.path.exists(output_fn):\n",
    "    missing_geocodes = gpd.read_file(output_fn)\n",
    "else:\n",
    "    missing_geocodes = geocode_df(missing_geoms, \"nominatim_street\", return_gdf=True)\n",
    "    missing_geocodes.to_file(output_fn, driver=\"GeoJSON\")"
   ]
  },
  {
   "cell_type": "code",
   "execution_count": null,
   "id": "united-aviation",
   "metadata": {},
   "outputs": [],
   "source": [
    "print(\"Observations before:\", missing_geoms.shape[0])\n",
    "print(\n",
    "    \"Geocoded observations:\",\n",
    "    missing_geocodes.shape[0] - missing_geocodes.geometry.x.isna().sum(),\n",
    ")"
   ]
  },
  {
   "cell_type": "code",
   "execution_count": null,
   "id": "academic-modification",
   "metadata": {},
   "outputs": [],
   "source": [
    "missing_surquillo = missing_geocodes.query(\"distrito == 'Surquillo'\")"
   ]
  },
  {
   "cell_type": "code",
   "execution_count": null,
   "id": "analyzed-andorra",
   "metadata": {},
   "outputs": [],
   "source": [
    "complete_gdf = final_gdf.append(\n",
    "    missing_surquillo.loc[missing_surquillo[~missing_surquillo.geometry.x.isna()].index]\n",
    ")"
   ]
  },
  {
   "cell_type": "code",
   "execution_count": null,
   "id": "champion-stack",
   "metadata": {},
   "outputs": [],
   "source": [
    "complete_gdf.shape"
   ]
  },
  {
   "cell_type": "code",
   "execution_count": null,
   "id": "violent-bible",
   "metadata": {},
   "outputs": [],
   "source": [
    "complete_gdf.shape[0] - final_gdf.shape[0]"
   ]
  },
  {
   "cell_type": "code",
   "execution_count": null,
   "id": "heavy-painting",
   "metadata": {},
   "outputs": [],
   "source": [
    "complete_gdf.geometry.is_empty.sum(), complete_gdf.geometry.isna().sum(), complete_gdf.geometry.x.isna().sum()"
   ]
  },
  {
   "cell_type": "code",
   "execution_count": null,
   "id": "hawaiian-nightlife",
   "metadata": {},
   "outputs": [],
   "source": [
    "ax = complete_gdf.plot(color=\"r\")\n",
    "final_gdf.plot(ax=ax)"
   ]
  },
  {
   "cell_type": "code",
   "execution_count": null,
   "id": "suspected-regular",
   "metadata": {},
   "outputs": [],
   "source": [
    "complete_gdf[\"consentimiento\"].value_counts()"
   ]
  },
  {
   "cell_type": "code",
   "execution_count": null,
   "id": "south-basis",
   "metadata": {},
   "outputs": [],
   "source": [
    "export_gdf = complete_gdf.query(\"consentimiento == 'Sí'\")"
   ]
  },
  {
   "cell_type": "code",
   "execution_count": null,
   "id": "subject-porter",
   "metadata": {},
   "outputs": [],
   "source": [
    "export_gdf[\"lat\"] = export_gdf.geometry.x\n",
    "export_gdf[\"lon\"] = export_gdf.geometry.y"
   ]
  },
  {
   "cell_type": "code",
   "execution_count": null,
   "id": "turkish-leeds",
   "metadata": {},
   "outputs": [],
   "source": [
    "if 1 == 2:\n",
    "    export_gdf.to_file(\"outputs/complete_gdf.geojson\", driver=\"GeoJSON\")"
   ]
  },
  {
   "attachments": {},
   "cell_type": "markdown",
   "id": "impaired-values",
   "metadata": {},
   "source": [
    "### Conclusiones "
   ]
  },
  {
   "cell_type": "code",
   "execution_count": null,
   "id": "relative-minimum",
   "metadata": {},
   "outputs": [],
   "source": [
    "n_total = df.query(\"distrito == 'Surquillo'\").query(\"consentimiento == 'Sí'\").shape[0]"
   ]
  },
  {
   "cell_type": "code",
   "execution_count": null,
   "id": "blessed-niagara",
   "metadata": {},
   "outputs": [],
   "source": [
    "n_geocoded = (\n",
    "    export_gdf.query(\"distrito == 'Surquillo'\").query(\"consentimiento == 'Sí'\").shape[0]\n",
    ")"
   ]
  },
  {
   "cell_type": "code",
   "execution_count": null,
   "id": "accessory-partner",
   "metadata": {},
   "outputs": [],
   "source": [
    "print(\n",
    "    f\"Se lograron georreferenciar {n_geocoded} ({n_geocoded/n_total*100:.2f}%) observaciones de {n_total}\"\n",
    ")"
   ]
  },
  {
   "cell_type": "code",
   "execution_count": null,
   "id": "greatest-chrome",
   "metadata": {},
   "outputs": [],
   "source": [
    "n_total = df.query(\"distrito == 'Surquillo'\").shape[0]"
   ]
  },
  {
   "cell_type": "code",
   "execution_count": null,
   "id": "martial-worst",
   "metadata": {},
   "outputs": [],
   "source": [
    "n_geocoded = export_gdf.query(\"distrito == 'Surquillo'\").shape[0]"
   ]
  },
  {
   "cell_type": "code",
   "execution_count": null,
   "id": "dominant-disclaimer",
   "metadata": {},
   "outputs": [],
   "source": [
    "print(\n",
    "    f\"Se lograron georreferenciar {n_geocoded} ({n_geocoded/n_total*100:.2f}%) observaciones de {n_total}\"\n",
    ")"
   ]
  },
  {
   "attachments": {},
   "cell_type": "markdown",
   "id": "frank-perry",
   "metadata": {},
   "source": [
    "## No se pudieron georreferenciar"
   ]
  },
  {
   "cell_type": "code",
   "execution_count": null,
   "id": "important-tucson",
   "metadata": {},
   "outputs": [],
   "source": [
    "df_last = df[~df.index.isin(export_gdf.index)]"
   ]
  },
  {
   "cell_type": "code",
   "execution_count": null,
   "id": "disciplinary-means",
   "metadata": {},
   "outputs": [],
   "source": [
    "df_last.shape"
   ]
  },
  {
   "cell_type": "code",
   "execution_count": null,
   "id": "emotional-cabin",
   "metadata": {},
   "outputs": [],
   "source": [
    "df_last.nombre_via.unique().shape"
   ]
  },
  {
   "cell_type": "code",
   "execution_count": null,
   "id": "anticipated-superintendent",
   "metadata": {},
   "outputs": [],
   "source": [
    "pd.Series(df_last.nombre_via.unique()).to_excel(\"outputs/nombres_via_corregir.xlsx\")"
   ]
  },
  {
   "cell_type": "code",
   "execution_count": null,
   "id": "brave-spectacular",
   "metadata": {},
   "outputs": [],
   "source": [
    "manual_addrs = pd.read_excel(\n",
    "    \"inputs/Nombres de vias a Corregir.Surquillo.xlsx\", index_col=0\n",
    ")\n",
    "manual_addrs = manual_addrs.dropna(subset=[\"Dirección Corregida Norys\"])"
   ]
  },
  {
   "cell_type": "code",
   "execution_count": null,
   "id": "unique-headquarters",
   "metadata": {},
   "outputs": [],
   "source": [
    "manual_addrs.head()"
   ]
  },
  {
   "cell_type": "code",
   "execution_count": null,
   "id": "based-assurance",
   "metadata": {},
   "outputs": [],
   "source": [
    "rlpc = {\n",
    "    l[0]: l[1] for l in manual_addrs[[0, \"Dirección Corregida Norys\"]].values.tolist()\n",
    "}"
   ]
  },
  {
   "cell_type": "code",
   "execution_count": null,
   "id": "former-volume",
   "metadata": {},
   "outputs": [],
   "source": [
    "df_last[\"nombre_via\"] = df_last[\"nombre_via\"].replace(rlpc)"
   ]
  },
  {
   "cell_type": "code",
   "execution_count": null,
   "id": "behavioral-universal",
   "metadata": {},
   "outputs": [],
   "source": [
    "output_fn = \"outputs/last_geocodes.geojson\"\n",
    "## Expensive query run only if file doesnt exist\n",
    "if os.path.exists(output_fn):\n",
    "    last_geocodes = gpd.read_file(output_fn)\n",
    "else:\n",
    "    last_geocodes = geocode_df(df_last, \"nombre_via\", return_gdf=True)\n",
    "    last_geocodes.to_file(output_fn, driver=\"GeoJSON\")"
   ]
  },
  {
   "cell_type": "code",
   "execution_count": null,
   "id": "happy-sandwich",
   "metadata": {},
   "outputs": [],
   "source": [
    "print(\"Observations before:\", last_geocodes.shape[0])\n",
    "print(\n",
    "    \"Geocoded observations:\",\n",
    "    last_geocodes.shape[0] - last_geocodes.geometry.x.isna().sum(),\n",
    ")"
   ]
  },
  {
   "cell_type": "code",
   "execution_count": null,
   "id": "legislative-offer",
   "metadata": {},
   "outputs": [],
   "source": [
    "import urbanpy as up"
   ]
  },
  {
   "cell_type": "code",
   "execution_count": null,
   "id": "coated-aluminum",
   "metadata": {},
   "outputs": [],
   "source": [
    "surquillo = up.download.nominatim_osm(\"Surquillo, Lima\")"
   ]
  },
  {
   "cell_type": "code",
   "execution_count": null,
   "id": "historic-procurement",
   "metadata": {},
   "outputs": [],
   "source": [
    "ax = surquillo.plot(figsize=(10, 10))\n",
    "last_geocodes.plot(ax=ax, color=\"red\")"
   ]
  },
  {
   "cell_type": "code",
   "execution_count": null,
   "id": "extended-retention",
   "metadata": {},
   "outputs": [],
   "source": [
    "xx = last_geocodes.query(\"distrito == 'Surquillo'\").query(\"consentimiento == 'Sí'\")"
   ]
  },
  {
   "cell_type": "code",
   "execution_count": null,
   "id": "textile-default",
   "metadata": {},
   "outputs": [],
   "source": [
    "print(\"Observations before:\", xx.shape[0])\n",
    "print(\"Geocoded observations:\", xx.shape[0] - xx.geometry.x.isna().sum())"
   ]
  },
  {
   "cell_type": "code",
   "execution_count": null,
   "id": "falling-violation",
   "metadata": {},
   "outputs": [],
   "source": [
    "export_gdf.shape"
   ]
  },
  {
   "cell_type": "code",
   "execution_count": null,
   "id": "connected-contact",
   "metadata": {},
   "outputs": [],
   "source": [
    "export_gdf_wlast = export_gdf.append(xx.loc[xx[~xx.geometry.x.isna()].index])"
   ]
  },
  {
   "cell_type": "code",
   "execution_count": null,
   "id": "given-novel",
   "metadata": {},
   "outputs": [],
   "source": [
    "export_gdf_wlast.shape"
   ]
  },
  {
   "cell_type": "code",
   "execution_count": null,
   "id": "wound-giving",
   "metadata": {},
   "outputs": [],
   "source": [
    "534 / 619"
   ]
  },
  {
   "cell_type": "code",
   "execution_count": null,
   "id": "considerable-bridge",
   "metadata": {},
   "outputs": [],
   "source": [
    "export_gdf_wlast.to_file(\"outputs/complete_gdf_wlast.geojson\", driver=\"GeoJSON\")"
   ]
  },
  {
   "cell_type": "code",
   "execution_count": null,
   "id": "moved-dakota",
   "metadata": {},
   "outputs": [],
   "source": []
  }
 ],
 "metadata": {
  "kernelspec": {
   "display_name": "Python 3 (ipykernel)",
   "language": "python",
   "name": "python3"
  },
  "language_info": {
   "codemirror_mode": {
    "name": "ipython",
    "version": 3
   },
   "file_extension": ".py",
   "mimetype": "text/x-python",
   "name": "python",
   "nbconvert_exporter": "python",
   "pygments_lexer": "ipython3",
   "version": "3.10.9"
  }
 },
 "nbformat": 4,
 "nbformat_minor": 5
}
