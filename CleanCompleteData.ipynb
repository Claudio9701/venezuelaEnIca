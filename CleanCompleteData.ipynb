{
 "cells": [
  {
   "cell_type": "code",
   "execution_count": null,
   "id": "5cfa91be-19e0-4850-90ad-d419a4186f94",
   "metadata": {},
   "outputs": [],
   "source": [
    "import pandas as pd\n",
    "import numpy as np\n",
    "import matplotlib.pyplot as plt"
   ]
  },
  {
   "cell_type": "code",
   "execution_count": null,
   "id": "477ee1c6-5b88-4b5a-913d-109b423f26ad",
   "metadata": {},
   "outputs": [],
   "source": [
    "df = pd.read_excel(\"outputs/encuesta_agregada.xlsx\", parse_dates=[1, 85])"
   ]
  },
  {
   "cell_type": "code",
   "execution_count": null,
   "id": "c4d7424f-a3ff-4569-a93f-19ed0fbd1d61",
   "metadata": {},
   "outputs": [],
   "source": [
    "df.head()"
   ]
  },
  {
   "cell_type": "code",
   "execution_count": null,
   "id": "c5871f81-b45a-45ac-81f4-1b063017d8a6",
   "metadata": {},
   "outputs": [],
   "source": [
    "df[\"Provincia donde vive\"].unique()"
   ]
  },
  {
   "cell_type": "code",
   "execution_count": null,
   "id": "0f67d08e-2036-4ff4-b8a3-1206764a198a",
   "metadata": {},
   "outputs": [],
   "source": [
    "df[\"Provincia donde vive\"].isna().sum()"
   ]
  },
  {
   "cell_type": "code",
   "execution_count": null,
   "id": "514d6802-a51a-444d-add2-be936cea24da",
   "metadata": {},
   "outputs": [],
   "source": [
    "df[df[\"Provincia donde vive\"].isna()]"
   ]
  },
  {
   "cell_type": "code",
   "execution_count": null,
   "id": "bf3b60f9-0c2f-4003-8c8b-0641f99696c1",
   "metadata": {},
   "outputs": [],
   "source": [
    "df.loc[df[\"Provincia donde vive\"].isna(), \"Provincia donde vive\"] = \"Nazca\""
   ]
  },
  {
   "cell_type": "code",
   "execution_count": null,
   "id": "7b148e1e-6f20-4aae-af1d-481e46629073",
   "metadata": {},
   "outputs": [],
   "source": [
    "df[\"Provincia donde vive\"].unique()"
   ]
  },
  {
   "cell_type": "code",
   "execution_count": null,
   "id": "0eb118f8-04bc-4ebc-9c97-894a7043da25",
   "metadata": {},
   "outputs": [],
   "source": [
    "ax = df[\"Provincia donde vive\"].value_counts().plot.bar()\n",
    "ax.bar_label(ax.containers[0])"
   ]
  },
  {
   "attachments": {},
   "cell_type": "markdown",
   "id": "a9353af8-bebb-453c-beb5-ed9de073c6f8",
   "metadata": {},
   "source": [
    "- Distrito -> Ica\n",
    "- Distrito.1 -> Pisco\n",
    "- Distrito.2 -> Chincha\n",
    "- Distrito.3 -> Revisar"
   ]
  },
  {
   "cell_type": "code",
   "execution_count": null,
   "id": "a5f87742-4b00-4225-8b24-e90dbf4edb3c",
   "metadata": {},
   "outputs": [],
   "source": [
    "df.shape"
   ]
  },
  {
   "cell_type": "code",
   "execution_count": null,
   "id": "9742c48f-7aa4-4634-8bde-ecdb5c0b5fc3",
   "metadata": {},
   "outputs": [],
   "source": [
    "df[\"Distrito donde vive.3\"].isna().sum()"
   ]
  },
  {
   "cell_type": "code",
   "execution_count": null,
   "id": "926665f6-211d-4bbe-b044-d91a60695cbf",
   "metadata": {},
   "outputs": [],
   "source": [
    "df = df.drop(\"Distrito donde vive.3\", axis=1)"
   ]
  },
  {
   "cell_type": "code",
   "execution_count": null,
   "id": "9aafd150-dc5e-459e-87ac-e09a3b055fa3",
   "metadata": {},
   "outputs": [],
   "source": [
    "df[df[\"Provincia donde vive\"] == \"Ica\"][\"Distrito donde vive\"].isna().sum()"
   ]
  },
  {
   "cell_type": "code",
   "execution_count": null,
   "id": "475a76b6-1ad7-4337-9a6f-4554fe3f9e25",
   "metadata": {},
   "outputs": [],
   "source": [
    "df[(df[\"Provincia donde vive\"] == \"Ica\") & (df[\"Distrito donde vive\"].isna())]"
   ]
  },
  {
   "cell_type": "code",
   "execution_count": null,
   "id": "e4818aa6-3ae9-4f9e-818b-6fcfd668bbe2",
   "metadata": {},
   "outputs": [],
   "source": [
    "df[(df[\"Provincia donde vive\"] == \"Pisco\") & (df[\"Distrito donde vive.1\"].isna())]"
   ]
  },
  {
   "cell_type": "code",
   "execution_count": null,
   "id": "5675ce4a-8b00-4fe1-9658-230f164f9720",
   "metadata": {},
   "outputs": [],
   "source": [
    "df[(df[\"Provincia donde vive\"] == \"Chincha\") & (df[\"Distrito donde vive.2\"].isna())]"
   ]
  },
  {
   "cell_type": "code",
   "execution_count": null,
   "id": "c205762c-1b7d-4a0d-b6e0-934c65e95fb5",
   "metadata": {},
   "outputs": [],
   "source": [
    "df[\"Distrito donde vive\"] = (\n",
    "    df[\"Distrito donde vive\"]\n",
    "    .fillna(df[\"Distrito donde vive.1\"])\n",
    "    .fillna(df[\"Distrito donde vive.2\"])\n",
    ")"
   ]
  },
  {
   "cell_type": "code",
   "execution_count": null,
   "id": "0a1ce978-4157-481a-9393-a2221fcf8f25",
   "metadata": {},
   "outputs": [],
   "source": [
    "# Verifica que nos nans por separado suman igual\n",
    "7 + 2 + 16 + 6"
   ]
  },
  {
   "cell_type": "code",
   "execution_count": null,
   "id": "e79005f1-0cfc-4a0e-8604-815d2f6d7c02",
   "metadata": {},
   "outputs": [],
   "source": [
    "# Esto comprueba que no se han sobrepuesto valores de las columnas\n",
    "df[\"Distrito donde vive\"].isna().sum()"
   ]
  },
  {
   "cell_type": "code",
   "execution_count": null,
   "id": "652a0d01-720c-48ef-aeab-e1028d50a1fe",
   "metadata": {},
   "outputs": [],
   "source": [
    "ax = df[\"Distrito donde vive\"].value_counts().plot.bar()\n",
    "ax.bar_label(ax.containers[0]);"
   ]
  },
  {
   "cell_type": "code",
   "execution_count": null,
   "id": "34b0f7e3-1bee-453e-b239-8316de64aeda",
   "metadata": {},
   "outputs": [],
   "source": [
    "drop_cols = [\"Distrito donde vive.1\", \"Distrito donde vive.2\"]\n",
    "df = df.drop(drop_cols, axis=1)"
   ]
  },
  {
   "cell_type": "code",
   "execution_count": null,
   "id": "0c84a125-2418-42ce-b6a9-df518b08fa6e",
   "metadata": {},
   "outputs": [],
   "source": [
    "df[\"¿Cuál es SU sexo?\"].unique()"
   ]
  },
  {
   "cell_type": "code",
   "execution_count": null,
   "id": "3c1ba3c9-4aa1-4083-978c-00a14a3abf2d",
   "metadata": {},
   "outputs": [],
   "source": [
    "df[\"¿Cuál es SU sexo?\"].isna().sum()"
   ]
  },
  {
   "cell_type": "code",
   "execution_count": null,
   "id": "5d8f91e0-521c-4bad-bf3b-744b7d8c9c39",
   "metadata": {},
   "outputs": [],
   "source": [
    "df[df[\"¿Cuál es SU sexo?\"].isna()]"
   ]
  },
  {
   "cell_type": "code",
   "execution_count": null,
   "id": "87af76b4-6e92-479b-9b2b-55765324a07b",
   "metadata": {},
   "outputs": [],
   "source": [
    "df.shape[1]"
   ]
  },
  {
   "cell_type": "code",
   "execution_count": null,
   "id": "7713a5c1-c4e7-4475-90cf-daf4f4a5fc36",
   "metadata": {},
   "outputs": [],
   "source": [
    "df.loc[1012].isna().sum()"
   ]
  },
  {
   "cell_type": "code",
   "execution_count": null,
   "id": "4da8c3fc-93b0-4e6a-a02a-f9f51057de5e",
   "metadata": {},
   "outputs": [],
   "source": [
    "round(df.loc[1012].isna().sum() / df.shape[1] * 100, 4)"
   ]
  },
  {
   "cell_type": "code",
   "execution_count": null,
   "id": "32e1d43c-0c9f-4032-b40b-b7f278e6c73e",
   "metadata": {},
   "outputs": [],
   "source": [
    "df.iloc[1012][df.loc[1012].notna()]"
   ]
  },
  {
   "cell_type": "code",
   "execution_count": null,
   "id": "b7947cc6-e64e-41a5-8df0-7efe424bf560",
   "metadata": {},
   "outputs": [],
   "source": [
    "# Eliminar fila que tiene practicamente todos los valores nulos\n",
    "df = df.drop(1012)"
   ]
  },
  {
   "cell_type": "code",
   "execution_count": null,
   "id": "c5b9afa4-bdfa-4d25-b1af-5f79ed8c8505",
   "metadata": {},
   "outputs": [],
   "source": [
    "df[\"¿Cuál es SU sexo?\"].unique()"
   ]
  },
  {
   "cell_type": "code",
   "execution_count": null,
   "id": "795ced4d-bc69-43d5-b5e1-638ab67f71ac",
   "metadata": {},
   "outputs": [],
   "source": [
    "ax = df[\"¿Cuál es SU sexo?\"].value_counts().plot.bar()\n",
    "ax.bar_label(ax.containers[0])"
   ]
  },
  {
   "cell_type": "code",
   "execution_count": null,
   "id": "94883aeb-a2ea-4d82-bdb2-d6a681e7df7a",
   "metadata": {},
   "outputs": [],
   "source": [
    "df[\"¿Cual es su nivel educativo?\"].unique()"
   ]
  },
  {
   "cell_type": "code",
   "execution_count": null,
   "id": "ae8d1232-4dd2-44a8-a11d-5b97ebd11381",
   "metadata": {},
   "outputs": [],
   "source": [
    "df[\"¿Cual es su nivel educativo?\"].isna().sum()"
   ]
  },
  {
   "cell_type": "code",
   "execution_count": null,
   "id": "c92738a4-6355-49c3-89fe-e51344169e20",
   "metadata": {},
   "outputs": [],
   "source": [
    "df[\"¿Cual es su nivel educativo?\"]"
   ]
  },
  {
   "cell_type": "code",
   "execution_count": null,
   "id": "77efee6e-8766-44a7-b063-75229f7c5caa",
   "metadata": {},
   "outputs": [],
   "source": [
    "df[df[\"¿Cual es su nivel educativo?\"].isna()][\n",
    "    [\n",
    "        \"¿Cuál es SU sexo?\",\n",
    "        \"¿Cual es su nivel educativo?\",\n",
    "        \"¿Completó el nivel de educacion seleccionado?\",\n",
    "    ]\n",
    "]"
   ]
  },
  {
   "cell_type": "code",
   "execution_count": null,
   "id": "65f0ca30-fe01-4c8b-ad59-f5736fadd125",
   "metadata": {},
   "outputs": [],
   "source": [
    "df[df[\"¿Cuál es SU sexo?\"] == \"Femenino\"][\"¿Cual es su nivel educativo?\"].describe()"
   ]
  },
  {
   "cell_type": "code",
   "execution_count": null,
   "id": "66b0afbd-4f9f-41b1-8304-f45d2f961ef8",
   "metadata": {},
   "outputs": [],
   "source": [
    "df[df[\"¿Cuál es SU sexo?\"] == \"Femenino\"][\"¿Cual es su nivel educativo?\"].mode()"
   ]
  },
  {
   "cell_type": "code",
   "execution_count": null,
   "id": "8a43352a-7f5f-4d26-8134-6f1140325928",
   "metadata": {},
   "outputs": [],
   "source": [
    "df.loc[281, \"¿Cual es su nivel educativo?\"] = df[df[\"¿Cuál es SU sexo?\"] == \"Femenino\"][\n",
    "    \"¿Cual es su nivel educativo?\"\n",
    "].mode()[0]"
   ]
  },
  {
   "cell_type": "code",
   "execution_count": null,
   "id": "acd1c88a-e9e6-4d24-b50f-2c742fd82bd5",
   "metadata": {},
   "outputs": [],
   "source": [
    "df[\"¿Cual es su nivel educativo?\"].unique()"
   ]
  },
  {
   "cell_type": "code",
   "execution_count": null,
   "id": "bb61d436-db4c-40cf-b071-83000012f411",
   "metadata": {
    "tags": []
   },
   "outputs": [],
   "source": [
    "order = [\n",
    "    \"No alfabetizado\",\n",
    "    \"Primaria\",\n",
    "    \"Secundaria\",\n",
    "    \"Universitaria\",\n",
    "    \"Superior Técnico\",\n",
    "    \"Posgrado (Maestría)\",\n",
    "    \"Posgrado (Doctorado)\",\n",
    "]\n",
    "ax = df[\"¿Cual es su nivel educativo?\"].value_counts()[order].plot.bar()\n",
    "ax.bar_label(ax.containers[0]);"
   ]
  },
  {
   "cell_type": "code",
   "execution_count": null,
   "id": "f2af33ec-d0b0-4900-bc49-3f123318928a",
   "metadata": {},
   "outputs": [],
   "source": [
    "df[\"¿Completó el nivel de educacion seleccionado?\"].unique()"
   ]
  },
  {
   "cell_type": "code",
   "execution_count": null,
   "id": "b7a61f9e-ca56-481d-8740-ae0986285265",
   "metadata": {},
   "outputs": [],
   "source": [
    "df[df[\"¿Completó el nivel de educacion seleccionado?\"].isna()][\n",
    "    [\n",
    "        \"¿Cuál es SU sexo?\",\n",
    "        \"¿Cual es su nivel educativo?\",\n",
    "        \"¿Completó el nivel de educacion seleccionado?\",\n",
    "    ]\n",
    "]"
   ]
  },
  {
   "cell_type": "code",
   "execution_count": null,
   "id": "1e659cf2-6059-41e4-819a-3b000921aa9d",
   "metadata": {},
   "outputs": [],
   "source": []
  },
  {
   "cell_type": "code",
   "execution_count": null,
   "id": "41ce914e-c8dc-4343-a373-a0b30ee06d45",
   "metadata": {},
   "outputs": [],
   "source": [
    "df[df[\"¿Cual es su nivel educativo?\"] == \"No alfabetizado\"][\n",
    "    [\n",
    "        \"¿Cuál es SU sexo?\",\n",
    "        \"¿Cual es su nivel educativo?\",\n",
    "        \"¿Completó el nivel de educacion seleccionado?\",\n",
    "    ]\n",
    "]"
   ]
  },
  {
   "cell_type": "code",
   "execution_count": null,
   "id": "208362af-fa88-495d-a779-86abb90edd95",
   "metadata": {},
   "outputs": [],
   "source": [
    "df.loc[\n",
    "    df[\"¿Cual es su nivel educativo?\"] == \"No alfabetizado\",\n",
    "    \"¿Completó el nivel de educacion seleccionado?\",\n",
    "] = \"No alfabetizado\""
   ]
  },
  {
   "cell_type": "code",
   "execution_count": null,
   "id": "b21f9437-ef9c-4756-9978-97c7f07f9807",
   "metadata": {},
   "outputs": [],
   "source": [
    "df[df[\"¿Completó el nivel de educacion seleccionado?\"].isna()][\n",
    "    [\n",
    "        \"¿Cuál es SU sexo?\",\n",
    "        \"¿Cual es su nivel educativo?\",\n",
    "        \"¿Completó el nivel de educacion seleccionado?\",\n",
    "    ]\n",
    "]"
   ]
  },
  {
   "cell_type": "code",
   "execution_count": null,
   "id": "b3da816c-9f31-4657-852a-941f8c2b1d84",
   "metadata": {},
   "outputs": [],
   "source": [
    "df[\n",
    "    (df[\"¿Cuál es SU sexo?\"] == \"Femenino\")\n",
    "    & (df[\"¿Cual es su nivel educativo?\"] == \"Secundaria\")\n",
    "][\"¿Completó el nivel de educacion seleccionado?\"].describe()"
   ]
  },
  {
   "cell_type": "code",
   "execution_count": null,
   "id": "27894017-76e5-45b3-9fa8-4394c9d5d879",
   "metadata": {},
   "outputs": [],
   "source": [
    "nivel_sec_completo_nan = (\n",
    "    df[\"¿Completó el nivel de educacion seleccionado?\"].isna()\n",
    ") & (df[\"¿Cual es su nivel educativo?\"] == \"Secundaria\")"
   ]
  },
  {
   "cell_type": "code",
   "execution_count": null,
   "id": "544681dd-95d9-4722-ad5c-10e680a3933b",
   "metadata": {},
   "outputs": [],
   "source": [
    "df[\n",
    "    (df[\"¿Cuál es SU sexo?\"] == \"Femenino\")\n",
    "    & (df[\"¿Cual es su nivel educativo?\"] == \"Secundaria\")\n",
    "][\"¿Completó el nivel de educacion seleccionado?\"].describe()"
   ]
  },
  {
   "cell_type": "code",
   "execution_count": null,
   "id": "296527e0-1f02-459b-b1a7-eb215816c562",
   "metadata": {},
   "outputs": [],
   "source": [
    "df[\n",
    "    (df[\"¿Cuál es SU sexo?\"] == \"Femenino\")\n",
    "    & (df[\"¿Cual es su nivel educativo?\"] == \"Superior Técnico\")\n",
    "][\"¿Completó el nivel de educacion seleccionado?\"].describe()"
   ]
  },
  {
   "cell_type": "code",
   "execution_count": null,
   "id": "1b6ce0ec-13e9-4c23-bcbf-2e6fba4d7afa",
   "metadata": {},
   "outputs": [],
   "source": [
    "df.loc[\n",
    "    df[\"¿Completó el nivel de educacion seleccionado?\"].isna(),\n",
    "    \"¿Completó el nivel de educacion seleccionado?\",\n",
    "] = df[df[\"¿Cuál es SU sexo?\"] == \"Femenino\"][\n",
    "    \"¿Completó el nivel de educacion seleccionado?\"\n",
    "].mode()[\n",
    "    0\n",
    "]"
   ]
  },
  {
   "cell_type": "code",
   "execution_count": null,
   "id": "1ca6ca79-2a01-40b6-b15a-a63b48480b5d",
   "metadata": {},
   "outputs": [],
   "source": [
    "df[\"¿Completó el nivel de educacion seleccionado?\"].isna().sum()"
   ]
  },
  {
   "cell_type": "code",
   "execution_count": null,
   "id": "45549a47-d1ed-4392-b79d-4bda32c4a1de",
   "metadata": {},
   "outputs": [],
   "source": [
    "df[\"¿Completó el nivel de educacion seleccionado?\"].unique()"
   ]
  },
  {
   "cell_type": "code",
   "execution_count": null,
   "id": "a6a93662-7c12-4844-a97e-2fa1d31fcbc9",
   "metadata": {},
   "outputs": [],
   "source": [
    "order = [\"No alfabetizado\", \"Incompleta\", \"Completa\"]\n",
    "ax = (\n",
    "    df[\"¿Completó el nivel de educacion seleccionado?\"].value_counts()[order].plot.bar()\n",
    ")\n",
    "ax.bar_label(ax.containers[0]);"
   ]
  },
  {
   "cell_type": "code",
   "execution_count": null,
   "id": "4be753a6-5b3e-4a3d-b035-2afc6dbb5efa",
   "metadata": {},
   "outputs": [],
   "source": [
    "df[\"¿Usted es jefe del hogar?\"].unique()"
   ]
  },
  {
   "cell_type": "code",
   "execution_count": null,
   "id": "b38d3694-762e-4242-96d6-e092fbe70217",
   "metadata": {},
   "outputs": [],
   "source": [
    "df[\"¿Usted es jefe del hogar?\"].isna().sum()"
   ]
  },
  {
   "cell_type": "code",
   "execution_count": null,
   "id": "d4ddd42b-2c9c-4ac5-97af-3257738f5901",
   "metadata": {},
   "outputs": [],
   "source": [
    "df[df[\"¿Usted es jefe del hogar?\"].isna()][\n",
    "    [\"¿Cuál es SU DOCUMENTO VENEZOLANO?\", \"¿Cuál es SU actual ESTATUS MIGRATORIO?\"]\n",
    "]"
   ]
  },
  {
   "cell_type": "code",
   "execution_count": null,
   "id": "28620e54-bab1-405e-a66a-e499e3191b54",
   "metadata": {},
   "outputs": [],
   "source": [
    "df[\"¿Usted es jefe del hogar?\"] = df[\"¿Usted es jefe del hogar?\"].fillna(\"NR\")"
   ]
  },
  {
   "cell_type": "code",
   "execution_count": null,
   "id": "7c4ba4a7-7fd6-4ae8-82ee-734a6698d57e",
   "metadata": {},
   "outputs": [],
   "source": [
    "df[\"¿Usted es jefe del hogar?\"].unique()"
   ]
  },
  {
   "cell_type": "code",
   "execution_count": null,
   "id": "193d5ae8-d10e-4910-9e92-fd1e6798ab60",
   "metadata": {},
   "outputs": [],
   "source": [
    "order = [\"SÍ\", \"NO\", \"NR\"]\n",
    "ax = df[\"¿Usted es jefe del hogar?\"].value_counts()[order].plot.bar()\n",
    "ax.bar_label(ax.containers[0]);"
   ]
  },
  {
   "cell_type": "code",
   "execution_count": null,
   "id": "3d24f632-045d-42e0-94d9-44edb1298ea9",
   "metadata": {},
   "outputs": [],
   "source": [
    "df[\"¿Cuál es SU DOCUMENTO VENEZOLANO?\"].unique()"
   ]
  },
  {
   "cell_type": "code",
   "execution_count": null,
   "id": "b21b1998-315e-4c97-8014-337a53fdc5b9",
   "metadata": {},
   "outputs": [],
   "source": [
    "df[\"¿Cuál es SU DOCUMENTO VENEZOLANO?\"] = df[\n",
    "    \"¿Cuál es SU DOCUMENTO VENEZOLANO?\"\n",
    "].replace({\"Cédula de identidiad\": \"Cédula de identidad\"})"
   ]
  },
  {
   "cell_type": "code",
   "execution_count": null,
   "id": "bd6fb79f-08f7-4505-a9f7-ef9b6ef76ab2",
   "metadata": {},
   "outputs": [],
   "source": [
    "df[df[\"¿Cuál es SU DOCUMENTO VENEZOLANO?\"].isna()][\n",
    "    [\n",
    "        \"¿Cuál es SU DOCUMENTO VENEZOLANO?\",\n",
    "        \"¿Cuál es SU actual ESTATUS MIGRATORIO?\",\n",
    "        \"Especifica otro estatus migratorio\",\n",
    "    ]\n",
    "]"
   ]
  },
  {
   "cell_type": "code",
   "execution_count": null,
   "id": "dc99579e-23bb-410a-9a53-b16d506e58ff",
   "metadata": {},
   "outputs": [],
   "source": [
    "df.loc[1698, \"¿Cuál es SU DOCUMENTO VENEZOLANO?\"] = \"Cédula de identidad\""
   ]
  },
  {
   "cell_type": "code",
   "execution_count": null,
   "id": "5460d5ae-1db9-40b2-ac32-723e1270dd3e",
   "metadata": {},
   "outputs": [],
   "source": [
    "df.loc[[964, 1525], \"¿Cuál es SU DOCUMENTO VENEZOLANO?\"] = \"No especificado\""
   ]
  },
  {
   "cell_type": "code",
   "execution_count": null,
   "id": "355356a3-a379-43df-885e-70be4ea8a1e8",
   "metadata": {},
   "outputs": [],
   "source": [
    "df.loc[1098, \"¿Cuál es SU DOCUMENTO VENEZOLANO?\"] = \"No especificado\""
   ]
  },
  {
   "cell_type": "code",
   "execution_count": null,
   "id": "68034064-e650-494f-a295-febc491f915c",
   "metadata": {},
   "outputs": [],
   "source": [
    "df[\"¿Cuál es SU DOCUMENTO VENEZOLANO?\"].unique()"
   ]
  },
  {
   "cell_type": "code",
   "execution_count": null,
   "id": "4ce1a4eb-5a64-4f98-9906-d623bc9c532f",
   "metadata": {},
   "outputs": [],
   "source": [
    "order = [\n",
    "    \"Cédula de identidad\",\n",
    "    \"Pasaporte\",\n",
    "    \"Partida de nacimiento\",\n",
    "    \"No posee documento\",\n",
    "    \"No especificado\",\n",
    "]\n",
    "ax = df[\"¿Cuál es SU DOCUMENTO VENEZOLANO?\"].value_counts()[order].plot.bar()\n",
    "ax.bar_label(ax.containers[0]);"
   ]
  },
  {
   "cell_type": "code",
   "execution_count": null,
   "id": "6c1af34a-2e85-4d85-8fdc-3cb1f6533ed3",
   "metadata": {},
   "outputs": [],
   "source": [
    "df[\"¿Cuál es SU actual ESTATUS MIGRATORIO?\"].unique()"
   ]
  },
  {
   "cell_type": "code",
   "execution_count": null,
   "id": "95f01dc7-f23c-48d7-a979-755c19e414dd",
   "metadata": {},
   "outputs": [],
   "source": [
    "df[\"¿Cuál es SU actual ESTATUS MIGRATORIO?\"].isna().sum()"
   ]
  },
  {
   "cell_type": "code",
   "execution_count": null,
   "id": "bf7674b4-54ad-4ced-8bda-82ccd06dd302",
   "metadata": {},
   "outputs": [],
   "source": [
    "df[df[\"¿Cuál es SU actual ESTATUS MIGRATORIO?\"].isna()][\n",
    "    \"¿Cuál es SU DOCUMENTO VENEZOLANO?\"\n",
    "].unique()"
   ]
  },
  {
   "cell_type": "code",
   "execution_count": null,
   "id": "f24baea4-a9b5-4934-baa5-a64bf9a1954c",
   "metadata": {},
   "outputs": [],
   "source": [
    "df[df[\"¿Cuál es SU actual ESTATUS MIGRATORIO?\"].isna()][\n",
    "    \"Especifica otro estatus migratorio\"\n",
    "].unique()"
   ]
  },
  {
   "cell_type": "code",
   "execution_count": null,
   "id": "3b5e10f1-b538-4473-af68-75041eeeadcb",
   "metadata": {},
   "outputs": [],
   "source": [
    "df.loc[\n",
    "    df[\"¿Cuál es SU actual ESTATUS MIGRATORIO?\"].isna(),\n",
    "    \"¿Cuál es SU actual ESTATUS MIGRATORIO?\",\n",
    "] = \"No especificado\""
   ]
  },
  {
   "cell_type": "code",
   "execution_count": null,
   "id": "87542e14-bcb3-491a-882a-76cac8a97680",
   "metadata": {},
   "outputs": [],
   "source": [
    "df[\"Especifica otro estatus migratorio\"].sort_values().unique().tolist()"
   ]
  },
  {
   "cell_type": "code",
   "execution_count": null,
   "id": "e828b5fe-9618-4a1e-860b-5f6a3c418045",
   "metadata": {},
   "outputs": [],
   "source": [
    "to_replace = {\n",
    "    \"CPP\": [\"CTP\", \"ccp\", \"PPT\", \"PTP\", \"Ptp\"],\n",
    "    \"Mantengo mi documento de identidad venezolano\": [\n",
    "        \"Cedula de Identidad\",\n",
    "        \"Cedula de identidad\",\n",
    "        \"Mantiene pasaporte\",\n",
    "        \"PASAPORTE\",\n",
    "        \"Pasaporte\",\n",
    "        \"NACIONALIDAD\",\n",
    "        \"naciolidad\",\n",
    "    ],\n",
    "    \"Carnet de Solicitud de Refugio\": [\"Csrta de refugio\"],\n",
    "    \"Documento de identidad peruano\": [\"DNI\"],\n",
    "    \"No posee documentos\": [\n",
    "        \"NO TIENE\",\n",
    "        \"No posee documento\",\n",
    "        \"No tiene documento\",\n",
    "        \"EN TRAMITE\",\n",
    "        \"PTP VENCIDO... ACTUALIZANDO DATOS PARA CPP\",\n",
    "        \"PERDIO LA CÉDULA\",\n",
    "        \"Sin documentos por perdido\",\n",
    "    ],\n",
    "}\n",
    "\n",
    "to_replace_dict = {e: k for k, el in to_replace.items() for e in el}"
   ]
  },
  {
   "cell_type": "code",
   "execution_count": null,
   "id": "49e88d9b-884f-49ea-925e-341d663a159d",
   "metadata": {},
   "outputs": [],
   "source": [
    "df[\"Especifica otro estatus migratorio\"] = df[\n",
    "    \"Especifica otro estatus migratorio\"\n",
    "].replace(to_replace_dict)"
   ]
  },
  {
   "cell_type": "code",
   "execution_count": null,
   "id": "25b9011d-e417-4096-b33c-4c53f703d209",
   "metadata": {},
   "outputs": [],
   "source": [
    "df[\"Especifica otro estatus migratorio\"].notna().sum()"
   ]
  },
  {
   "cell_type": "code",
   "execution_count": null,
   "id": "27c78569-88be-4d9d-9314-4f9af6b38e84",
   "metadata": {},
   "outputs": [],
   "source": [
    "(df[\"¿Cuál es SU actual ESTATUS MIGRATORIO?\"] == \"Otro\").sum()"
   ]
  },
  {
   "cell_type": "code",
   "execution_count": null,
   "id": "3b7abff4-7f80-4231-af62-3c278d622b97",
   "metadata": {},
   "outputs": [],
   "source": [
    "df[\n",
    "    (df[\"¿Cuál es SU actual ESTATUS MIGRATORIO?\"] == \"Otro\")\n",
    "    & (df[\"Especifica otro estatus migratorio\"].isna())\n",
    "][\n",
    "    [\n",
    "        \"¿Cuál es SU DOCUMENTO VENEZOLANO?\",\n",
    "        \"¿Cuál es SU actual ESTATUS MIGRATORIO?\",\n",
    "        \"Especifica otro estatus migratorio\",\n",
    "    ]\n",
    "]"
   ]
  },
  {
   "cell_type": "code",
   "execution_count": null,
   "id": "47d955ea-fb9a-4d34-8e97-ec2b0dd190ca",
   "metadata": {},
   "outputs": [],
   "source": [
    "(\n",
    "    df[df[\"¿Cuál es SU actual ESTATUS MIGRATORIO?\"] == \"Otro\"].index\n",
    "    == df[df[\"Especifica otro estatus migratorio\"].notna()].index\n",
    ").all()"
   ]
  },
  {
   "cell_type": "code",
   "execution_count": null,
   "id": "c6b80c9a-40a9-4a01-8b44-74b39c92aeb7",
   "metadata": {},
   "outputs": [],
   "source": [
    "df[\"¿Cuál es SU actual ESTATUS MIGRATORIO?\"] = (\n",
    "    df[\"¿Cuál es SU actual ESTATUS MIGRATORIO?\"]\n",
    "    .replace({\"Otro\": np.nan})\n",
    "    .fillna(df[\"Especifica otro estatus migratorio\"])\n",
    ")"
   ]
  },
  {
   "cell_type": "code",
   "execution_count": null,
   "id": "92417936-3725-4a7c-a578-8cfbd5214ccc",
   "metadata": {},
   "outputs": [],
   "source": [
    "df[\"¿Cuál es SU actual ESTATUS MIGRATORIO?\"].unique()"
   ]
  },
  {
   "cell_type": "code",
   "execution_count": null,
   "id": "90dad5d3-9359-4c75-b36f-758b006d7779",
   "metadata": {},
   "outputs": [],
   "source": [
    "order = [\n",
    "    \"Mantengo mi documento de identidad venezolano\",\n",
    "    \"Carnet de Extranjeria\",\n",
    "    \"CPP\",\n",
    "    \"Carnet de Solicitud de Refugio\",\n",
    "    \"Documento de identidad peruano\",\n",
    "    \"No posee documentos\",\n",
    "    \"No especificado\",\n",
    "]\n",
    "ax = df[\"¿Cuál es SU actual ESTATUS MIGRATORIO?\"].value_counts()[order].plot.bar()\n",
    "ax.set_title(\"¿Cual es SU actual ESTATUS MIGRATORIO?\")\n",
    "ax.bar_label(ax.containers[0]);"
   ]
  },
  {
   "cell_type": "code",
   "execution_count": null,
   "id": "918cca86-8389-4b1f-a7af-42435199f02f",
   "metadata": {},
   "outputs": [],
   "source": [
    "df[\"Si tiene hijos en edad escolar, ¿Alguno de sus hijos recibe Qali Warma?\"].unique()"
   ]
  },
  {
   "cell_type": "code",
   "execution_count": null,
   "id": "92ef54b9-d1f4-4d6b-bb2c-7ccc7fb54a2b",
   "metadata": {},
   "outputs": [],
   "source": [
    "df[\n",
    "    \"Si tiene hijos en edad escolar, ¿Alguno de sus hijos recibe Qali Warma?\"\n",
    "].isna().sum()"
   ]
  },
  {
   "cell_type": "code",
   "execution_count": null,
   "id": "eab83a66-2f3e-45b9-a24e-ff266290bef9",
   "metadata": {},
   "outputs": [],
   "source": [
    "df[\n",
    "    \"¿Los alimentos recibidos por Qali Warma rma son un aporte importante a la alimentacion familiar?\"\n",
    "]"
   ]
  },
  {
   "cell_type": "code",
   "execution_count": null,
   "id": "a4bf5ec3-5b9a-436e-8f73-44099bc5180d",
   "metadata": {},
   "outputs": [],
   "source": [
    "df[\n",
    "    \"Si tiene hijos en edad escolar, ¿Alguno de sus hijos recibe Qali Warma?\"\n",
    "].isna().sum()"
   ]
  },
  {
   "cell_type": "code",
   "execution_count": null,
   "id": "07d56dcf-b2eb-4644-8e7e-43a332a6f332",
   "metadata": {},
   "outputs": [],
   "source": [
    "df.loc[\n",
    "    (\n",
    "        df[\n",
    "            \"Si tiene hijos en edad escolar, ¿Alguno de sus hijos recibe Qali Warma?\"\n",
    "        ].isna()\n",
    "    )\n",
    "    & (\n",
    "        df[\n",
    "            \"¿Los alimentos recibidos por Qali Warma rma son un aporte importante a la alimentacion familiar?\"\n",
    "        ]\n",
    "        == \"SÍ\"\n",
    "    ),\n",
    "    \"Si tiene hijos en edad escolar, ¿Alguno de sus hijos recibe Qali Warma?\",\n",
    "] = \"SÍ\""
   ]
  },
  {
   "cell_type": "code",
   "execution_count": null,
   "id": "ffa2741a-0544-498b-bd13-f6afb06b3c98",
   "metadata": {},
   "outputs": [],
   "source": [
    "df[\n",
    "    \"Si tiene hijos en edad escolar, ¿Alguno de sus hijos recibe Qali Warma?\"\n",
    "].isna().sum()"
   ]
  },
  {
   "cell_type": "code",
   "execution_count": null,
   "id": "48adb2db-f26e-46d8-b457-09c5ad365056",
   "metadata": {},
   "outputs": [],
   "source": [
    "df[\"¿Que modalidad de Qali Warma recibe su hijo?\"]"
   ]
  },
  {
   "cell_type": "code",
   "execution_count": null,
   "id": "3bf0ed15-e557-4619-a42a-53fb3858a1d7",
   "metadata": {},
   "outputs": [],
   "source": [
    "df[\n",
    "    df[\"Si tiene hijos en edad escolar, ¿Alguno de sus hijos recibe Qali Warma?\"].isna()\n",
    "][\n",
    "    [\n",
    "        \"Si tiene hijos en edad escolar, ¿Alguno de sus hijos recibe Qali Warma?\",\n",
    "        \"¿Los alimentos recibidos por Qali Warma rma son un aporte importante a la alimentacion familiar?\",\n",
    "        \"¿Que modalidad de Qali Warma recibe su hijo?\",\n",
    "    ]\n",
    "].index"
   ]
  },
  {
   "cell_type": "code",
   "execution_count": null,
   "id": "ad990762-a943-4b0a-8795-101b7dfe07cc",
   "metadata": {},
   "outputs": [],
   "source": [
    "df.loc[\n",
    "    df[\n",
    "        \"Si tiene hijos en edad escolar, ¿Alguno de sus hijos recibe Qali Warma?\"\n",
    "    ].isna(),\n",
    "    [\n",
    "        \"Si tiene hijos en edad escolar, ¿Alguno de sus hijos recibe Qali Warma?\",\n",
    "        \"¿Los alimentos recibidos por Qali Warma rma son un aporte importante a la alimentacion familiar?\",\n",
    "        \"¿Que modalidad de Qali Warma recibe su hijo?\",\n",
    "    ],\n",
    "] = \"Sin respuesta\""
   ]
  },
  {
   "cell_type": "code",
   "execution_count": null,
   "id": "d7b227ff-0f6e-439f-a6e4-d337c2b70e19",
   "metadata": {},
   "outputs": [],
   "source": [
    "df[\"Si tiene hijos en edad escolar, ¿Alguno de sus hijos recibe Qali Warma?\"].unique()"
   ]
  },
  {
   "cell_type": "code",
   "execution_count": null,
   "id": "9918ddaf-d078-420f-9bbc-4a248695ba04",
   "metadata": {},
   "outputs": [],
   "source": [
    "ax = (\n",
    "    df[\"Si tiene hijos en edad escolar, ¿Alguno de sus hijos recibe Qali Warma?\"]\n",
    "    .value_counts()\n",
    "    .plot.bar()\n",
    ")\n",
    "ax.set_title(\"Si tiene hijos en edad escolar, ¿Alguno de sus hijos recibe Qali Warma?\")\n",
    "ax.bar_label(ax.containers[0]);"
   ]
  },
  {
   "cell_type": "code",
   "execution_count": null,
   "id": "c4ec4b56-3b53-4723-8598-d3cbe2ca6d56",
   "metadata": {},
   "outputs": [],
   "source": [
    "df[\n",
    "    \"¿Los alimentos recibidos por Qali Warma rma son un aporte importante a la alimentacion familiar?\"\n",
    "].unique()"
   ]
  },
  {
   "cell_type": "code",
   "execution_count": null,
   "id": "2cbd44b9-0168-4c5b-98bc-febac39b68fa",
   "metadata": {},
   "outputs": [],
   "source": [
    "df[\n",
    "    \"¿Los alimentos recibidos por Qali Warma rma son un aporte importante a la alimentacion familiar?\"\n",
    "].isna().sum()"
   ]
  },
  {
   "cell_type": "code",
   "execution_count": null,
   "id": "97d9c7d0-d54e-4aad-b97c-da80fe37d1e5",
   "metadata": {},
   "outputs": [],
   "source": [
    "df[\n",
    "    df[\"Si tiene hijos en edad escolar, ¿Alguno de sus hijos recibe Qali Warma?\"]\n",
    "    == \"NO\"\n",
    "][\n",
    "    \"¿Los alimentos recibidos por Qali Warma rma son un aporte importante a la alimentacion familiar?\"\n",
    "].unique()"
   ]
  },
  {
   "cell_type": "code",
   "execution_count": null,
   "id": "ddab5644-2dbe-4fdf-bfce-154a35fb1a84",
   "metadata": {},
   "outputs": [],
   "source": [
    "df.loc[\n",
    "    df[\"Si tiene hijos en edad escolar, ¿Alguno de sus hijos recibe Qali Warma?\"]\n",
    "    == \"NO\",\n",
    "    \"¿Los alimentos recibidos por Qali Warma rma son un aporte importante a la alimentacion familiar?\",\n",
    "] = \"No aplica\""
   ]
  },
  {
   "cell_type": "code",
   "execution_count": null,
   "id": "474d99da-2536-4d51-904d-a0d0dd973dc3",
   "metadata": {},
   "outputs": [],
   "source": [
    "df[\n",
    "    df[\"Si tiene hijos en edad escolar, ¿Alguno de sus hijos recibe Qali Warma?\"]\n",
    "    == \"SÍ\"\n",
    "][\n",
    "    \"¿Los alimentos recibidos por Qali Warma rma son un aporte importante a la alimentacion familiar?\"\n",
    "].unique()"
   ]
  },
  {
   "cell_type": "code",
   "execution_count": null,
   "id": "edae672f-e37a-4edc-bae4-3e2ec00cbc97",
   "metadata": {},
   "outputs": [],
   "source": [
    "df[\n",
    "    df[\"Si tiene hijos en edad escolar, ¿Alguno de sus hijos recibe Qali Warma?\"]\n",
    "    == \"NO\"\n",
    "][\n",
    "    \"¿Los alimentos recibidos por Qali Warma rma son un aporte importante a la alimentacion familiar?\"\n",
    "].unique()"
   ]
  },
  {
   "cell_type": "code",
   "execution_count": null,
   "id": "25f759b7-a001-4fdd-ba00-0a51295b1f4d",
   "metadata": {},
   "outputs": [],
   "source": [
    "df[\n",
    "    df[\"Si tiene hijos en edad escolar, ¿Alguno de sus hijos recibe Qali Warma?\"]\n",
    "    == \"SÍ\"\n",
    "][\n",
    "    \"¿Los alimentos recibidos por Qali Warma rma son un aporte importante a la alimentacion familiar?\"\n",
    "].unique()"
   ]
  },
  {
   "cell_type": "code",
   "execution_count": null,
   "id": "59025992-c4c5-4231-b91c-c6f47ae27fe2",
   "metadata": {},
   "outputs": [],
   "source": [
    "df[\n",
    "    (\n",
    "        df[\"Si tiene hijos en edad escolar, ¿Alguno de sus hijos recibe Qali Warma?\"]\n",
    "        == \"SÍ\"\n",
    "    )\n",
    "    & (\n",
    "        df[\n",
    "            \"¿Los alimentos recibidos por Qali Warma rma son un aporte importante a la alimentacion familiar?\"\n",
    "        ].isna()\n",
    "    )\n",
    "][\n",
    "    [\n",
    "        \"Si tiene hijos en edad escolar, ¿Alguno de sus hijos recibe Qali Warma?\",\n",
    "        \"¿Los alimentos recibidos por Qali Warma rma son un aporte importante a la alimentacion familiar?\",\n",
    "        \"¿Que modalidad de Qali Warma recibe su hijo?\",\n",
    "    ]\n",
    "]"
   ]
  },
  {
   "cell_type": "code",
   "execution_count": null,
   "id": "8fc9ec1d-3d45-4103-9ba9-df13baaf8d24",
   "metadata": {},
   "outputs": [],
   "source": [
    "df.loc[\n",
    "    [1126, 1543],\n",
    "    \"¿Los alimentos recibidos por Qali Warma rma son un aporte importante a la alimentacion familiar?\",\n",
    "] = \"Sin respuesta\""
   ]
  },
  {
   "cell_type": "code",
   "execution_count": null,
   "id": "da88e6e8-760f-4d56-8d2a-4dd6935e4497",
   "metadata": {},
   "outputs": [],
   "source": [
    "df.loc[1543, \"¿Que modalidad de Qali Warma recibe su hijo?\"] = \"Sin respuesta\""
   ]
  },
  {
   "cell_type": "code",
   "execution_count": null,
   "id": "6a2b6298-fc2c-49c9-92ef-ddfa36d32f8c",
   "metadata": {},
   "outputs": [],
   "source": [
    "df[\n",
    "    \"¿Los alimentos recibidos por Qali Warma rma son un aporte importante a la alimentacion familiar?\"\n",
    "].unique()"
   ]
  },
  {
   "cell_type": "code",
   "execution_count": null,
   "id": "0c97aa90-35a1-4c6f-8d63-a334dcb3ded7",
   "metadata": {},
   "outputs": [],
   "source": [
    "df[\n",
    "    \"¿Los alimentos recibidos por Qali Warma rma son un aporte importante a la alimentacion familiar?\"\n",
    "].isna().sum()"
   ]
  },
  {
   "cell_type": "code",
   "execution_count": null,
   "id": "85ca09fb-d23d-4f37-9306-6f0771b8368f",
   "metadata": {},
   "outputs": [],
   "source": [
    "order = [\"SÍ\", \"NO\", \"Sin respuesta\", \"No aplica\"]\n",
    "ax = (\n",
    "    df[\n",
    "        \"¿Los alimentos recibidos por Qali Warma rma son un aporte importante a la alimentacion familiar?\"\n",
    "    ]\n",
    "    .value_counts()[order]\n",
    "    .plot.bar()\n",
    ")\n",
    "ax.set_title(\n",
    "    \"¿Los alimentos recibidos por Qali Warma rma son un aporte importante a la alimentacion familiar?\"\n",
    ")\n",
    "ax.bar_label(ax.containers[0]);"
   ]
  },
  {
   "cell_type": "code",
   "execution_count": null,
   "id": "ac8facc2-832d-4a00-a899-09845c54003f",
   "metadata": {},
   "outputs": [],
   "source": [
    "df[\"¿Que modalidad de Qali Warma recibe su hijo?\"].unique()"
   ]
  },
  {
   "cell_type": "code",
   "execution_count": null,
   "id": "b60bfdc4-edb8-43c2-892c-850071e13e0a",
   "metadata": {},
   "outputs": [],
   "source": [
    "df[\"¿Que modalidad de Qali Warma recibe su hijo?\"].isna().sum()"
   ]
  },
  {
   "cell_type": "code",
   "execution_count": null,
   "id": "fc10c040-3724-4e05-a098-41c5625c9402",
   "metadata": {},
   "outputs": [],
   "source": [
    "df[df[\"¿Que modalidad de Qali Warma recibe su hijo?\"].isna()][\n",
    "    [\n",
    "        \"Si tiene hijos en edad escolar, ¿Alguno de sus hijos recibe Qali Warma?\",\n",
    "        \"¿Los alimentos recibidos por Qali Warma rma son un aporte importante a la alimentacion familiar?\",\n",
    "        \"¿Que modalidad de Qali Warma recibe su hijo?\",\n",
    "    ]\n",
    "]"
   ]
  },
  {
   "cell_type": "code",
   "execution_count": null,
   "id": "8aaad686-22dd-493a-846c-60cfd9bf0a79",
   "metadata": {},
   "outputs": [],
   "source": [
    "df[df[\"¿Que modalidad de Qali Warma recibe su hijo?\"].isna()][\n",
    "    \"Si tiene hijos en edad escolar, ¿Alguno de sus hijos recibe Qali Warma?\"\n",
    "].unique()"
   ]
  },
  {
   "cell_type": "code",
   "execution_count": null,
   "id": "3c2c930e-3204-48af-b50e-de38d87718be",
   "metadata": {},
   "outputs": [],
   "source": [
    "df[\n",
    "    (df[\"¿Que modalidad de Qali Warma recibe su hijo?\"].isna())\n",
    "    & (\n",
    "        df[\"Si tiene hijos en edad escolar, ¿Alguno de sus hijos recibe Qali Warma?\"]\n",
    "        == \"NO\"\n",
    "    )\n",
    "][\n",
    "    \"¿Los alimentos recibidos por Qali Warma rma son un aporte importante a la alimentacion familiar?\"\n",
    "].unique()"
   ]
  },
  {
   "cell_type": "code",
   "execution_count": null,
   "id": "9d08e1b9-b251-46d9-aaca-bed189a29bf7",
   "metadata": {},
   "outputs": [],
   "source": [
    "df.loc[\n",
    "    (df[\"¿Que modalidad de Qali Warma recibe su hijo?\"].isna())\n",
    "    & (\n",
    "        df[\"Si tiene hijos en edad escolar, ¿Alguno de sus hijos recibe Qali Warma?\"]\n",
    "        == \"NO\"\n",
    "    ),\n",
    "    \"¿Que modalidad de Qali Warma recibe su hijo?\",\n",
    "] = \"No aplica\""
   ]
  },
  {
   "cell_type": "code",
   "execution_count": null,
   "id": "44d6163a-c99b-4c5d-a7f6-f5ba180850cf",
   "metadata": {},
   "outputs": [],
   "source": [
    "df[\n",
    "    df[\"Si tiene hijos en edad escolar, ¿Alguno de sus hijos recibe Qali Warma?\"]\n",
    "    == \"NO\"\n",
    "][\"¿Que modalidad de Qali Warma recibe su hijo?\"].unique()"
   ]
  },
  {
   "cell_type": "code",
   "execution_count": null,
   "id": "6d1f724d-1b46-4d11-879d-1ecfb6d56e3a",
   "metadata": {},
   "outputs": [],
   "source": [
    "df[\n",
    "    (\n",
    "        df[\"Si tiene hijos en edad escolar, ¿Alguno de sus hijos recibe Qali Warma?\"]\n",
    "        == \"NO\"\n",
    "    )\n",
    "    & (df[\"¿Que modalidad de Qali Warma recibe su hijo?\"] != \"No aplica\")\n",
    "][\n",
    "    [\n",
    "        \"Si tiene hijos en edad escolar, ¿Alguno de sus hijos recibe Qali Warma?\",\n",
    "        \"¿Los alimentos recibidos por Qali Warma rma son un aporte importante a la alimentacion familiar?\",\n",
    "        \"¿Que modalidad de Qali Warma recibe su hijo?\",\n",
    "    ]\n",
    "]"
   ]
  },
  {
   "cell_type": "code",
   "execution_count": null,
   "id": "7bfa7aa4-8552-4cdb-b4e6-a24850b0c4df",
   "metadata": {},
   "outputs": [],
   "source": [
    "df.loc[\n",
    "    df[\"Si tiene hijos en edad escolar, ¿Alguno de sus hijos recibe Qali Warma?\"]\n",
    "    == \"NO\",\n",
    "    \"¿Que modalidad de Qali Warma recibe su hijo?\",\n",
    "] = \"No aplica\""
   ]
  },
  {
   "cell_type": "code",
   "execution_count": null,
   "id": "8cf140a1-f236-40fc-98a9-4ba768d1818e",
   "metadata": {},
   "outputs": [],
   "source": [
    "df[\"¿Que modalidad de Qali Warma recibe su hijo?\"].unique()"
   ]
  },
  {
   "cell_type": "code",
   "execution_count": null,
   "id": "1711257c-0333-4507-97e7-23ee3bffb1d3",
   "metadata": {},
   "outputs": [],
   "source": [
    "df[\"¿Que modalidad de Qali Warma recibe su hijo?\"].isna().sum()"
   ]
  },
  {
   "cell_type": "code",
   "execution_count": null,
   "id": "df207b97-614f-4c75-ae57-0a3d14f7e3a3",
   "metadata": {},
   "outputs": [],
   "source": [
    "df.loc[\n",
    "    df[\"¿Que modalidad de Qali Warma recibe su hijo?\"].isna(),\n",
    "    \"¿Que modalidad de Qali Warma recibe su hijo?\",\n",
    "] = \"Sin respuesta\""
   ]
  },
  {
   "cell_type": "code",
   "execution_count": null,
   "id": "bec3f39b-f1e6-4a84-9b3d-2d837b75cbdb",
   "metadata": {},
   "outputs": [],
   "source": [
    "df[\"¿Que modalidad de Qali Warma recibe su hijo?\"].unique()"
   ]
  },
  {
   "cell_type": "code",
   "execution_count": null,
   "id": "7a83ecb1-5ee5-483e-a7b9-429a1c0a9351",
   "metadata": {},
   "outputs": [],
   "source": [
    "order = [\n",
    "    \"Productos\",\n",
    "    \"Raciones\",\n",
    "    \"Sin respuesta\",\n",
    "    \"No aplica\",\n",
    "]\n",
    "ax = df[\"¿Que modalidad de Qali Warma recibe su hijo?\"].value_counts()[order].plot.bar()\n",
    "ax.set_title(\"¿Que modalidad de Qali Warma recibe su hijo?\")\n",
    "ax.bar_label(ax.containers[0]);"
   ]
  },
  {
   "cell_type": "code",
   "execution_count": null,
   "id": "4e877ee1-a996-4737-bb44-ed2a9ed594c5",
   "metadata": {},
   "outputs": [],
   "source": [
    "df[\"Actualmente, ¿USTED cuenta con un CONTRATO DE TRABAJO FORMAL?\"].unique()"
   ]
  },
  {
   "cell_type": "code",
   "execution_count": null,
   "id": "a11faf3f-34a1-41ed-aec9-71ef11e43ef4",
   "metadata": {},
   "outputs": [],
   "source": [
    "df[\"Actualmente, ¿USTED cuenta con un CONTRATO DE TRABAJO FORMAL?\"] = df[\n",
    "    \"Actualmente, ¿USTED cuenta con un CONTRATO DE TRABAJO FORMAL?\"\n",
    "].replace({\"N\": \"NO\"})"
   ]
  },
  {
   "cell_type": "code",
   "execution_count": null,
   "id": "0fd43f37-b395-4be8-95b0-6c0c7e3cca81",
   "metadata": {},
   "outputs": [],
   "source": [
    "df[\"Actualmente, ¿USTED cuenta con un CONTRATO DE TRABAJO FORMAL?\"].unique()"
   ]
  },
  {
   "cell_type": "code",
   "execution_count": null,
   "id": "cb284080-0d7f-4c18-a14b-e45b00379d31",
   "metadata": {},
   "outputs": [],
   "source": [
    "df.loc[\n",
    "    df[\"Actualmente, ¿USTED cuenta con un CONTRATO DE TRABAJO FORMAL?\"]\n",
    "    == \"No tengo trabajo\",\n",
    "    \"Actualmente ¿SU TRABAJO SE ENCUENTRA VINCULADO A TEMAS ALIMENTARIOS?\",\n",
    "] = \"No aplica\""
   ]
  },
  {
   "cell_type": "code",
   "execution_count": null,
   "id": "09bfc134-5367-401a-8377-31ebf2889fe5",
   "metadata": {},
   "outputs": [],
   "source": [
    "df[\"Actualmente, ¿USTED cuenta con un CONTRATO DE TRABAJO FORMAL?\"].isna().sum()"
   ]
  },
  {
   "cell_type": "code",
   "execution_count": null,
   "id": "aa4b63a9-8ede-41bc-a33a-492a2b8094ca",
   "metadata": {},
   "outputs": [],
   "source": [
    "df[\"¿Podría decirnos a que se dedica?\"]"
   ]
  },
  {
   "cell_type": "code",
   "execution_count": null,
   "id": "e5a3e2a2-a060-46d9-a5bf-c6173a7f9400",
   "metadata": {},
   "outputs": [],
   "source": [
    "df.columns[df.columns.str.startswith(\"Especificar\")]"
   ]
  },
  {
   "cell_type": "code",
   "execution_count": null,
   "id": "b54cc0e4-aebd-4318-b524-1404c305345f",
   "metadata": {},
   "outputs": [],
   "source": [
    "df[df[\"Actualmente, ¿USTED cuenta con un CONTRATO DE TRABAJO FORMAL?\"].isna()][\n",
    "    [\n",
    "        \"Actualmente, ¿USTED cuenta con un CONTRATO DE TRABAJO FORMAL?\",\n",
    "        \"Actualmente ¿SU TRABAJO SE ENCUENTRA VINCULADO A TEMAS ALIMENTARIOS?\",\n",
    "        \"¿Podría decirnos a que se dedica?\",\n",
    "        \"Especificar.1\",\n",
    "    ]\n",
    "]"
   ]
  },
  {
   "cell_type": "code",
   "execution_count": null,
   "id": "0215946e-b929-464a-bfac-933dcb376d1e",
   "metadata": {},
   "outputs": [],
   "source": [
    "df.loc[\n",
    "    [77, 142, 1435], \"Actualmente, ¿USTED cuenta con un CONTRATO DE TRABAJO FORMAL?\"\n",
    "] = \"No especifica\""
   ]
  },
  {
   "cell_type": "code",
   "execution_count": null,
   "id": "b2afff48-5101-488b-93d8-f95df552d186",
   "metadata": {},
   "outputs": [],
   "source": [
    "df[df[\"Actualmente, ¿USTED cuenta con un CONTRATO DE TRABAJO FORMAL?\"].isna()][\n",
    "    [\n",
    "        \"Actualmente, ¿USTED cuenta con un CONTRATO DE TRABAJO FORMAL?\",\n",
    "        \"Actualmente ¿SU TRABAJO SE ENCUENTRA VINCULADO A TEMAS ALIMENTARIOS?\",\n",
    "        \"¿Podría decirnos a que se dedica?\",\n",
    "        \"Especificar.1\",\n",
    "    ]\n",
    "]"
   ]
  },
  {
   "cell_type": "code",
   "execution_count": null,
   "id": "8d56eec2-e11c-46de-82e5-884808718d1f",
   "metadata": {},
   "outputs": [],
   "source": [
    "df.loc[\n",
    "    [190, 834, 1071, 1114],\n",
    "    \"Actualmente, ¿USTED cuenta con un CONTRATO DE TRABAJO FORMAL?\",\n",
    "] = \"No especifica\""
   ]
  },
  {
   "cell_type": "code",
   "execution_count": null,
   "id": "d9fde74b-0db8-488d-a0d0-7d2f0807db8f",
   "metadata": {},
   "outputs": [],
   "source": [
    "df[df[\"Actualmente, ¿USTED cuenta con un CONTRATO DE TRABAJO FORMAL?\"].isna()][\n",
    "    [\n",
    "        \"Actualmente, ¿USTED cuenta con un CONTRATO DE TRABAJO FORMAL?\",\n",
    "        \"Actualmente ¿SU TRABAJO SE ENCUENTRA VINCULADO A TEMAS ALIMENTARIOS?\",\n",
    "        \"¿Podría decirnos a que se dedica?\",\n",
    "        \"Especificar.1\",\n",
    "    ]\n",
    "]"
   ]
  },
  {
   "cell_type": "code",
   "execution_count": null,
   "id": "f4ffac4b-9024-44fe-8010-3fded89059ab",
   "metadata": {},
   "outputs": [],
   "source": [
    "df[\"Actualmente, ¿USTED cuenta con un CONTRATO DE TRABAJO FORMAL?\"] = df[\n",
    "    \"Actualmente, ¿USTED cuenta con un CONTRATO DE TRABAJO FORMAL?\"\n",
    "].fillna(\"Sin respuesta\")"
   ]
  },
  {
   "cell_type": "code",
   "execution_count": null,
   "id": "8e9d579c-eef9-46e4-97a5-87746663ff9a",
   "metadata": {},
   "outputs": [],
   "source": [
    "df[\"Actualmente, ¿USTED cuenta con un CONTRATO DE TRABAJO FORMAL?\"].unique()"
   ]
  },
  {
   "cell_type": "code",
   "execution_count": null,
   "id": "35725442-daac-472c-aad4-e33fdf5e6b2b",
   "metadata": {},
   "outputs": [],
   "source": [
    "order = [\"SÍ\", \"NO\", \"No tengo trabajo\", \"No especifica\", \"Sin respuesta\"]\n",
    "ax = (\n",
    "    df[\"Actualmente, ¿USTED cuenta con un CONTRATO DE TRABAJO FORMAL?\"]\n",
    "    .value_counts()[order]\n",
    "    .plot.bar()\n",
    ")\n",
    "ax.set_title(\"Actualmente, ¿USTED cuenta con un CONTRATO DE TRABAJO FORMAL?\")\n",
    "ax.bar_label(ax.containers[0]);"
   ]
  },
  {
   "cell_type": "code",
   "execution_count": null,
   "id": "feb2ace3-6fd9-4d9a-ba73-52315ca01c11",
   "metadata": {},
   "outputs": [],
   "source": [
    "df[\"Actualmente ¿SU TRABAJO SE ENCUENTRA VINCULADO A TEMAS ALIMENTARIOS?\"].unique()"
   ]
  },
  {
   "cell_type": "code",
   "execution_count": null,
   "id": "7635b6e6-9868-40ec-85fd-e7dc14156121",
   "metadata": {},
   "outputs": [],
   "source": [
    "df[\"Actualmente ¿SU TRABAJO SE ENCUENTRA VINCULADO A TEMAS ALIMENTARIOS?\"].isna().sum()"
   ]
  },
  {
   "cell_type": "code",
   "execution_count": null,
   "id": "994608b9-8041-491a-a3ff-7a012bc58e69",
   "metadata": {},
   "outputs": [],
   "source": [
    "df[df[\"Actualmente ¿SU TRABAJO SE ENCUENTRA VINCULADO A TEMAS ALIMENTARIOS?\"].isna()][\n",
    "    [\n",
    "        \"Actualmente, ¿USTED cuenta con un CONTRATO DE TRABAJO FORMAL?\",\n",
    "        \"Actualmente ¿SU TRABAJO SE ENCUENTRA VINCULADO A TEMAS ALIMENTARIOS?\",\n",
    "        \"¿Podría decirnos a que se dedica?\",\n",
    "        \"Especificar.1\",\n",
    "    ]\n",
    "]"
   ]
  },
  {
   "cell_type": "code",
   "execution_count": null,
   "id": "f1b3777c-49b7-407c-80a8-4efeff93a7f1",
   "metadata": {},
   "outputs": [],
   "source": [
    "df.loc[\n",
    "    df[\"Actualmente ¿SU TRABAJO SE ENCUENTRA VINCULADO A TEMAS ALIMENTARIOS?\"].isna(),\n",
    "    [\n",
    "        \"Actualmente ¿SU TRABAJO SE ENCUENTRA VINCULADO A TEMAS ALIMENTARIOS?\",\n",
    "        \"¿Podría decirnos a que se dedica?\",\n",
    "        \"Especificar.1\",\n",
    "    ],\n",
    "] = \"Sin respuesta\""
   ]
  },
  {
   "cell_type": "code",
   "execution_count": null,
   "id": "7294de16-84e0-4f18-9c34-022cf12f9a14",
   "metadata": {},
   "outputs": [],
   "source": [
    "df[\"Actualmente ¿SU TRABAJO SE ENCUENTRA VINCULADO A TEMAS ALIMENTARIOS?\"].unique()"
   ]
  },
  {
   "cell_type": "code",
   "execution_count": null,
   "id": "fe31c783-caac-41c2-a35b-b812b88f98a2",
   "metadata": {},
   "outputs": [],
   "source": [
    "order = [\"SÍ\", \"NO\", \"Sin respuesta\", \"No aplica\"]\n",
    "ax = (\n",
    "    df[\"Actualmente ¿SU TRABAJO SE ENCUENTRA VINCULADO A TEMAS ALIMENTARIOS?\"]\n",
    "    .value_counts()[order]\n",
    "    .plot.bar()\n",
    ")\n",
    "ax.set_title(\"Actualmente ¿SU TRABAJO SE ENCUENTRA VINCULADO A TEMAS ALIMENTARIOS?\")\n",
    "ax.bar_label(ax.containers[0]);"
   ]
  },
  {
   "cell_type": "code",
   "execution_count": null,
   "id": "123aa387-50f7-44a5-91c3-46ee39b52323",
   "metadata": {},
   "outputs": [],
   "source": [
    "df.to_excel(\"outputs/encuesta_limpieza_en_proceso_22_02_23.xlsx\")"
   ]
  },
  {
   "cell_type": "code",
   "execution_count": null,
   "id": "4e7a3eb2-068d-4c40-ad08-c1d7835e1963",
   "metadata": {},
   "outputs": [],
   "source": [
    "df[\"¿Podría decirnos a que se dedica?\"].unique()"
   ]
  },
  {
   "cell_type": "code",
   "execution_count": null,
   "id": "649e13cd-7a58-45a9-921d-79065ff9a07f",
   "metadata": {},
   "outputs": [],
   "source": [
    "df[\"¿Podría decirnos a que se dedica?\"].isna().sum()"
   ]
  },
  {
   "cell_type": "code",
   "execution_count": null,
   "id": "529209f0-4c26-4677-bab0-204747d50132",
   "metadata": {},
   "outputs": [],
   "source": [
    "df[df[\"¿Podría decirnos a que se dedica?\"].isna()][\n",
    "    [\n",
    "        \"Actualmente, ¿USTED cuenta con un CONTRATO DE TRABAJO FORMAL?\",\n",
    "        \"Actualmente ¿SU TRABAJO SE ENCUENTRA VINCULADO A TEMAS ALIMENTARIOS?\",\n",
    "        \"¿Podría decirnos a que se dedica?\",\n",
    "        \"Especificar.1\",\n",
    "    ]\n",
    "]"
   ]
  },
  {
   "cell_type": "code",
   "execution_count": null,
   "id": "addc4bb0-6ae2-4dd4-8d6d-73cdd8d1ba63",
   "metadata": {},
   "outputs": [],
   "source": []
  }
 ],
 "metadata": {
  "kernelspec": {
   "display_name": "Python 3 (ipykernel)",
   "language": "python",
   "name": "python3"
  },
  "language_info": {
   "codemirror_mode": {
    "name": "ipython",
    "version": 3
   },
   "file_extension": ".py",
   "mimetype": "text/x-python",
   "name": "python",
   "nbconvert_exporter": "python",
   "pygments_lexer": "ipython3",
   "version": "3.10.9"
  }
 },
 "nbformat": 4,
 "nbformat_minor": 5
}
