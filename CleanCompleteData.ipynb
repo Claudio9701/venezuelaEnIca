{
 "cells": [
  {
   "cell_type": "code",
   "execution_count": 1,
   "id": "5cfa91be-19e0-4850-90ad-d419a4186f94",
   "metadata": {},
   "outputs": [],
   "source": [
    "import pandas as pd\n",
    "import numpy as np\n",
    "import matplotlib.pyplot as plt"
   ]
  },
  {
   "cell_type": "code",
   "execution_count": 3,
   "id": "477ee1c6-5b88-4b5a-913d-109b423f26ad",
   "metadata": {},
   "outputs": [],
   "source": [
    "df = pd.read_excel(\"outputs/encuesta_agregada.xlsx\",\n",
    "                  parse_dates=[1, 85])"
   ]
  },
  {
   "cell_type": "code",
   "execution_count": 4,
   "id": "c4d7424f-a3ff-4569-a93f-19ed0fbd1d61",
   "metadata": {},
   "outputs": [
    {
     "data": {
      "text/html": [
       "<div>\n",
       "<style scoped>\n",
       "    .dataframe tbody tr th:only-of-type {\n",
       "        vertical-align: middle;\n",
       "    }\n",
       "\n",
       "    .dataframe tbody tr th {\n",
       "        vertical-align: top;\n",
       "    }\n",
       "\n",
       "    .dataframe thead th {\n",
       "        text-align: right;\n",
       "    }\n",
       "</style>\n",
       "<table border=\"1\" class=\"dataframe\">\n",
       "  <thead>\n",
       "    <tr style=\"text-align: right;\">\n",
       "      <th></th>\n",
       "      <th>Nombre del encuestador</th>\n",
       "      <th>Fecha de la entrevista</th>\n",
       "      <th>Nombre de la persona entrevistada</th>\n",
       "      <th>Télefono de la persona entrevistada</th>\n",
       "      <th>Provincia donde vive</th>\n",
       "      <th>Distrito donde vive</th>\n",
       "      <th>Distrito donde vive.1</th>\n",
       "      <th>Distrito donde vive.2</th>\n",
       "      <th>Tipo de ubicacion: Manzana (Mz), Lote, Urbanizacion (urb) y/o Etapa.</th>\n",
       "      <th>Tipo de vía</th>\n",
       "      <th>...</th>\n",
       "      <th>consume_alimento_orig_animal_leche</th>\n",
       "      <th>freq_consumo_consume_alimento_orig_animal_leche</th>\n",
       "      <th>consume_alimento_orig_animal_pescado</th>\n",
       "      <th>freq_consumo_consume_alimento_orig_animal_pescado</th>\n",
       "      <th>consume_alimento_orig_animal_pollo</th>\n",
       "      <th>freq_consumo_consume_alimento_orig_animal_pollo</th>\n",
       "      <th>consume_alimento_orig_animal_res</th>\n",
       "      <th>freq_consumo_consume_alimento_orig_animal_res</th>\n",
       "      <th>consume_alimento_orig_animal_otros</th>\n",
       "      <th>freq_consumo_consume_alimento_orig_animal_otros</th>\n",
       "    </tr>\n",
       "  </thead>\n",
       "  <tbody>\n",
       "    <tr>\n",
       "      <th>0</th>\n",
       "      <td>SCH</td>\n",
       "      <td>2023-02-17</td>\n",
       "      <td>Ivana Guadalupe Elias Jimenez</td>\n",
       "      <td>978298638</td>\n",
       "      <td>Chincha</td>\n",
       "      <td>NaN</td>\n",
       "      <td>NaN</td>\n",
       "      <td>Pueblo Nuevo</td>\n",
       "      <td>AAHH. NUEVO CHINCHA MZ \"J\" LOTE 1</td>\n",
       "      <td>Otro, especificar</td>\n",
       "      <td>...</td>\n",
       "      <td>0</td>\n",
       "      <td>0.0</td>\n",
       "      <td>0</td>\n",
       "      <td>0</td>\n",
       "      <td>1</td>\n",
       "      <td>1</td>\n",
       "      <td>0</td>\n",
       "      <td>0.0</td>\n",
       "      <td>0</td>\n",
       "      <td>0</td>\n",
       "    </tr>\n",
       "    <tr>\n",
       "      <th>1</th>\n",
       "      <td>SCH</td>\n",
       "      <td>2023-02-06</td>\n",
       "      <td>MARIA EUGENIA MAGALLANEZ PEÑA</td>\n",
       "      <td>903033657</td>\n",
       "      <td>Chincha</td>\n",
       "      <td>NaN</td>\n",
       "      <td>NaN</td>\n",
       "      <td>Chincha Alta</td>\n",
       "      <td>UPIS SAN AGUSTIN G-32</td>\n",
       "      <td>Otro, especificar</td>\n",
       "      <td>...</td>\n",
       "      <td>1</td>\n",
       "      <td>2.0</td>\n",
       "      <td>0</td>\n",
       "      <td>0</td>\n",
       "      <td>0</td>\n",
       "      <td>0</td>\n",
       "      <td>0</td>\n",
       "      <td>0.0</td>\n",
       "      <td>0</td>\n",
       "      <td>0</td>\n",
       "    </tr>\n",
       "    <tr>\n",
       "      <th>2</th>\n",
       "      <td>SCH</td>\n",
       "      <td>2023-02-06</td>\n",
       "      <td>Breidy Sarahy Reyes Navarro</td>\n",
       "      <td>936626478</td>\n",
       "      <td>Chincha</td>\n",
       "      <td>NaN</td>\n",
       "      <td>NaN</td>\n",
       "      <td>Pueblo Nuevo</td>\n",
       "      <td>GROCIO PRADO</td>\n",
       "      <td>AV (Avenida)</td>\n",
       "      <td>...</td>\n",
       "      <td>1</td>\n",
       "      <td>0.0</td>\n",
       "      <td>1</td>\n",
       "      <td>0</td>\n",
       "      <td>1</td>\n",
       "      <td>2</td>\n",
       "      <td>1</td>\n",
       "      <td>0.0</td>\n",
       "      <td>0</td>\n",
       "      <td>0</td>\n",
       "    </tr>\n",
       "    <tr>\n",
       "      <th>3</th>\n",
       "      <td>JF</td>\n",
       "      <td>2023-02-08</td>\n",
       "      <td>Evelyn Darihana Peña Becerra</td>\n",
       "      <td>91600524</td>\n",
       "      <td>Ica</td>\n",
       "      <td>Parcona</td>\n",
       "      <td>NaN</td>\n",
       "      <td>NaN</td>\n",
       "      <td>Av. Avomayo #254</td>\n",
       "      <td>AV (Avenida)</td>\n",
       "      <td>...</td>\n",
       "      <td>0</td>\n",
       "      <td>0.0</td>\n",
       "      <td>0</td>\n",
       "      <td>0</td>\n",
       "      <td>0</td>\n",
       "      <td>0</td>\n",
       "      <td>0</td>\n",
       "      <td>0.0</td>\n",
       "      <td>0</td>\n",
       "      <td>0</td>\n",
       "    </tr>\n",
       "    <tr>\n",
       "      <th>4</th>\n",
       "      <td>PV</td>\n",
       "      <td>2023-02-16</td>\n",
       "      <td>Maribel Coromoto Azuaje Caldera</td>\n",
       "      <td>937691826</td>\n",
       "      <td>Pisco</td>\n",
       "      <td>NaN</td>\n",
       "      <td>Pisco</td>\n",
       "      <td>NaN</td>\n",
       "      <td>NaN</td>\n",
       "      <td>CA (Calle)</td>\n",
       "      <td>...</td>\n",
       "      <td>0</td>\n",
       "      <td>0.0</td>\n",
       "      <td>0</td>\n",
       "      <td>0</td>\n",
       "      <td>1</td>\n",
       "      <td>5</td>\n",
       "      <td>0</td>\n",
       "      <td>0.0</td>\n",
       "      <td>0</td>\n",
       "      <td>0</td>\n",
       "    </tr>\n",
       "  </tbody>\n",
       "</table>\n",
       "<p>5 rows × 104 columns</p>\n",
       "</div>"
      ],
      "text/plain": [
       "  Nombre del encuestador Fecha de la entrevista  \\\n",
       "0                    SCH             2023-02-17   \n",
       "1                    SCH             2023-02-06   \n",
       "2                    SCH             2023-02-06   \n",
       "3                     JF             2023-02-08   \n",
       "4                     PV             2023-02-16   \n",
       "\n",
       "  Nombre de la persona entrevistada Télefono de la persona entrevistada  \\\n",
       "0     Ivana Guadalupe Elias Jimenez                           978298638   \n",
       "1     MARIA EUGENIA MAGALLANEZ PEÑA                           903033657   \n",
       "2       Breidy Sarahy Reyes Navarro                           936626478   \n",
       "3      Evelyn Darihana Peña Becerra                            91600524   \n",
       "4   Maribel Coromoto Azuaje Caldera                           937691826   \n",
       "\n",
       "  Provincia donde vive Distrito donde vive Distrito donde vive.1  \\\n",
       "0              Chincha                 NaN                   NaN   \n",
       "1              Chincha                 NaN                   NaN   \n",
       "2              Chincha                 NaN                   NaN   \n",
       "3                  Ica             Parcona                   NaN   \n",
       "4                Pisco                 NaN                 Pisco   \n",
       "\n",
       "  Distrito donde vive.2  \\\n",
       "0          Pueblo Nuevo   \n",
       "1          Chincha Alta   \n",
       "2          Pueblo Nuevo   \n",
       "3                   NaN   \n",
       "4                   NaN   \n",
       "\n",
       "  Tipo de ubicacion: Manzana (Mz), Lote, Urbanizacion (urb) y/o Etapa.  \\\n",
       "0                  AAHH. NUEVO CHINCHA MZ \"J\" LOTE 1                     \n",
       "1                              UPIS SAN AGUSTIN G-32                     \n",
       "2                                       GROCIO PRADO                     \n",
       "3                                   Av. Avomayo #254                     \n",
       "4                                                NaN                     \n",
       "\n",
       "         Tipo de vía  ... consume_alimento_orig_animal_leche  \\\n",
       "0  Otro, especificar  ...                                  0   \n",
       "1  Otro, especificar  ...                                  1   \n",
       "2       AV (Avenida)  ...                                  1   \n",
       "3       AV (Avenida)  ...                                  0   \n",
       "4         CA (Calle)  ...                                  0   \n",
       "\n",
       "  freq_consumo_consume_alimento_orig_animal_leche  \\\n",
       "0                                             0.0   \n",
       "1                                             2.0   \n",
       "2                                             0.0   \n",
       "3                                             0.0   \n",
       "4                                             0.0   \n",
       "\n",
       "   consume_alimento_orig_animal_pescado  \\\n",
       "0                                     0   \n",
       "1                                     0   \n",
       "2                                     1   \n",
       "3                                     0   \n",
       "4                                     0   \n",
       "\n",
       "   freq_consumo_consume_alimento_orig_animal_pescado  \\\n",
       "0                                                  0   \n",
       "1                                                  0   \n",
       "2                                                  0   \n",
       "3                                                  0   \n",
       "4                                                  0   \n",
       "\n",
       "  consume_alimento_orig_animal_pollo  \\\n",
       "0                                  1   \n",
       "1                                  0   \n",
       "2                                  1   \n",
       "3                                  0   \n",
       "4                                  1   \n",
       "\n",
       "  freq_consumo_consume_alimento_orig_animal_pollo  \\\n",
       "0                                               1   \n",
       "1                                               0   \n",
       "2                                               2   \n",
       "3                                               0   \n",
       "4                                               5   \n",
       "\n",
       "  consume_alimento_orig_animal_res  \\\n",
       "0                                0   \n",
       "1                                0   \n",
       "2                                1   \n",
       "3                                0   \n",
       "4                                0   \n",
       "\n",
       "  freq_consumo_consume_alimento_orig_animal_res  \\\n",
       "0                                           0.0   \n",
       "1                                           0.0   \n",
       "2                                           0.0   \n",
       "3                                           0.0   \n",
       "4                                           0.0   \n",
       "\n",
       "   consume_alimento_orig_animal_otros  \\\n",
       "0                                   0   \n",
       "1                                   0   \n",
       "2                                   0   \n",
       "3                                   0   \n",
       "4                                   0   \n",
       "\n",
       "  freq_consumo_consume_alimento_orig_animal_otros  \n",
       "0                                               0  \n",
       "1                                               0  \n",
       "2                                               0  \n",
       "3                                               0  \n",
       "4                                               0  \n",
       "\n",
       "[5 rows x 104 columns]"
      ]
     },
     "execution_count": 4,
     "metadata": {},
     "output_type": "execute_result"
    }
   ],
   "source": [
    "df.head()"
   ]
  },
  {
   "cell_type": "code",
   "execution_count": 6,
   "id": "c5871f81-b45a-45ac-81f4-1b063017d8a6",
   "metadata": {},
   "outputs": [
    {
     "data": {
      "text/plain": [
       "array(['Chincha', 'Ica', 'Pisco', nan], dtype=object)"
      ]
     },
     "execution_count": 6,
     "metadata": {},
     "output_type": "execute_result"
    }
   ],
   "source": [
    "df[\"Provincia donde vive\"].unique()"
   ]
  },
  {
   "cell_type": "code",
   "execution_count": 7,
   "id": "0f67d08e-2036-4ff4-b8a3-1206764a198a",
   "metadata": {},
   "outputs": [
    {
     "data": {
      "text/plain": [
       "6"
      ]
     },
     "execution_count": 7,
     "metadata": {},
     "output_type": "execute_result"
    }
   ],
   "source": [
    "df[\"Provincia donde vive\"].isna().sum()"
   ]
  },
  {
   "cell_type": "code",
   "execution_count": 8,
   "id": "514d6802-a51a-444d-add2-be936cea24da",
   "metadata": {},
   "outputs": [
    {
     "data": {
      "text/html": [
       "<div>\n",
       "<style scoped>\n",
       "    .dataframe tbody tr th:only-of-type {\n",
       "        vertical-align: middle;\n",
       "    }\n",
       "\n",
       "    .dataframe tbody tr th {\n",
       "        vertical-align: top;\n",
       "    }\n",
       "\n",
       "    .dataframe thead th {\n",
       "        text-align: right;\n",
       "    }\n",
       "</style>\n",
       "<table border=\"1\" class=\"dataframe\">\n",
       "  <thead>\n",
       "    <tr style=\"text-align: right;\">\n",
       "      <th></th>\n",
       "      <th>Nombre del encuestador</th>\n",
       "      <th>Fecha de la entrevista</th>\n",
       "      <th>Nombre de la persona entrevistada</th>\n",
       "      <th>Télefono de la persona entrevistada</th>\n",
       "      <th>Provincia donde vive</th>\n",
       "      <th>Distrito donde vive</th>\n",
       "      <th>Distrito donde vive.1</th>\n",
       "      <th>Distrito donde vive.2</th>\n",
       "      <th>Tipo de ubicacion: Manzana (Mz), Lote, Urbanizacion (urb) y/o Etapa.</th>\n",
       "      <th>Tipo de vía</th>\n",
       "      <th>...</th>\n",
       "      <th>consume_alimento_orig_animal_leche</th>\n",
       "      <th>freq_consumo_consume_alimento_orig_animal_leche</th>\n",
       "      <th>consume_alimento_orig_animal_pescado</th>\n",
       "      <th>freq_consumo_consume_alimento_orig_animal_pescado</th>\n",
       "      <th>consume_alimento_orig_animal_pollo</th>\n",
       "      <th>freq_consumo_consume_alimento_orig_animal_pollo</th>\n",
       "      <th>consume_alimento_orig_animal_res</th>\n",
       "      <th>freq_consumo_consume_alimento_orig_animal_res</th>\n",
       "      <th>consume_alimento_orig_animal_otros</th>\n",
       "      <th>freq_consumo_consume_alimento_orig_animal_otros</th>\n",
       "    </tr>\n",
       "  </thead>\n",
       "  <tbody>\n",
       "    <tr>\n",
       "      <th>889</th>\n",
       "      <td>A.D.C.T</td>\n",
       "      <td>2023-02-17</td>\n",
       "      <td>Aida Mercedes patache solano</td>\n",
       "      <td>951600909</td>\n",
       "      <td>NaN</td>\n",
       "      <td>NaN</td>\n",
       "      <td>NaN</td>\n",
       "      <td>NaN</td>\n",
       "      <td>Nazca, las acacias Lot 11 11</td>\n",
       "      <td>NaN</td>\n",
       "      <td>...</td>\n",
       "      <td>0</td>\n",
       "      <td>0.0</td>\n",
       "      <td>0</td>\n",
       "      <td>0</td>\n",
       "      <td>0</td>\n",
       "      <td>0</td>\n",
       "      <td>0</td>\n",
       "      <td>0.0</td>\n",
       "      <td>0</td>\n",
       "      <td>0</td>\n",
       "    </tr>\n",
       "    <tr>\n",
       "      <th>1004</th>\n",
       "      <td>Nv</td>\n",
       "      <td>2023-02-17</td>\n",
       "      <td>Ana Rosa Peña Perez</td>\n",
       "      <td>956411174</td>\n",
       "      <td>NaN</td>\n",
       "      <td>NaN</td>\n",
       "      <td>NaN</td>\n",
       "      <td>NaN</td>\n",
       "      <td>Nazca</td>\n",
       "      <td>No cuenta con información</td>\n",
       "      <td>...</td>\n",
       "      <td>0</td>\n",
       "      <td>0.0</td>\n",
       "      <td>0</td>\n",
       "      <td>0</td>\n",
       "      <td>1</td>\n",
       "      <td>2</td>\n",
       "      <td>1</td>\n",
       "      <td>2.0</td>\n",
       "      <td>0</td>\n",
       "      <td>0</td>\n",
       "    </tr>\n",
       "    <tr>\n",
       "      <th>1005</th>\n",
       "      <td>Nv</td>\n",
       "      <td>2023-02-17</td>\n",
       "      <td>Ingrid Yajaira Villamizar</td>\n",
       "      <td>942769658</td>\n",
       "      <td>NaN</td>\n",
       "      <td>NaN</td>\n",
       "      <td>NaN</td>\n",
       "      <td>NaN</td>\n",
       "      <td>Nazca</td>\n",
       "      <td>No cuenta con información</td>\n",
       "      <td>...</td>\n",
       "      <td>0</td>\n",
       "      <td>0.0</td>\n",
       "      <td>0</td>\n",
       "      <td>0</td>\n",
       "      <td>0</td>\n",
       "      <td>0</td>\n",
       "      <td>0</td>\n",
       "      <td>0.0</td>\n",
       "      <td>0</td>\n",
       "      <td>0</td>\n",
       "    </tr>\n",
       "    <tr>\n",
       "      <th>1007</th>\n",
       "      <td>Nv</td>\n",
       "      <td>2023-02-17</td>\n",
       "      <td>Carlos Eduardo Marquez Cerrada</td>\n",
       "      <td>924893457</td>\n",
       "      <td>NaN</td>\n",
       "      <td>NaN</td>\n",
       "      <td>NaN</td>\n",
       "      <td>NaN</td>\n",
       "      <td>Nazca</td>\n",
       "      <td>No cuenta con información</td>\n",
       "      <td>...</td>\n",
       "      <td>0</td>\n",
       "      <td>0.0</td>\n",
       "      <td>0</td>\n",
       "      <td>0</td>\n",
       "      <td>1</td>\n",
       "      <td>4</td>\n",
       "      <td>0</td>\n",
       "      <td>0.0</td>\n",
       "      <td>0</td>\n",
       "      <td>0</td>\n",
       "    </tr>\n",
       "    <tr>\n",
       "      <th>1009</th>\n",
       "      <td>Nv</td>\n",
       "      <td>2023-02-17</td>\n",
       "      <td>Zulma Esther Carrillo Carrillo</td>\n",
       "      <td>917405964</td>\n",
       "      <td>NaN</td>\n",
       "      <td>NaN</td>\n",
       "      <td>NaN</td>\n",
       "      <td>NaN</td>\n",
       "      <td>Nazca</td>\n",
       "      <td>No cuenta con información</td>\n",
       "      <td>...</td>\n",
       "      <td>0</td>\n",
       "      <td>0.0</td>\n",
       "      <td>0</td>\n",
       "      <td>0</td>\n",
       "      <td>1</td>\n",
       "      <td>1</td>\n",
       "      <td>0</td>\n",
       "      <td>0.0</td>\n",
       "      <td>0</td>\n",
       "      <td>0</td>\n",
       "    </tr>\n",
       "    <tr>\n",
       "      <th>1012</th>\n",
       "      <td>NaN</td>\n",
       "      <td>2023-02-17</td>\n",
       "      <td>NaN</td>\n",
       "      <td>NaN</td>\n",
       "      <td>NaN</td>\n",
       "      <td>NaN</td>\n",
       "      <td>NaN</td>\n",
       "      <td>NaN</td>\n",
       "      <td>NaN</td>\n",
       "      <td>NaN</td>\n",
       "      <td>...</td>\n",
       "      <td>0</td>\n",
       "      <td>0.0</td>\n",
       "      <td>0</td>\n",
       "      <td>0</td>\n",
       "      <td>0</td>\n",
       "      <td>0</td>\n",
       "      <td>0</td>\n",
       "      <td>0.0</td>\n",
       "      <td>0</td>\n",
       "      <td>0</td>\n",
       "    </tr>\n",
       "  </tbody>\n",
       "</table>\n",
       "<p>6 rows × 104 columns</p>\n",
       "</div>"
      ],
      "text/plain": [
       "     Nombre del encuestador Fecha de la entrevista  \\\n",
       "889                 A.D.C.T             2023-02-17   \n",
       "1004                     Nv             2023-02-17   \n",
       "1005                     Nv             2023-02-17   \n",
       "1007                     Nv             2023-02-17   \n",
       "1009                     Nv             2023-02-17   \n",
       "1012                    NaN             2023-02-17   \n",
       "\n",
       "     Nombre de la persona entrevistada Télefono de la persona entrevistada  \\\n",
       "889       Aida Mercedes patache solano                           951600909   \n",
       "1004               Ana Rosa Peña Perez                           956411174   \n",
       "1005         Ingrid Yajaira Villamizar                           942769658   \n",
       "1007    Carlos Eduardo Marquez Cerrada                           924893457   \n",
       "1009    Zulma Esther Carrillo Carrillo                           917405964   \n",
       "1012                               NaN                                 NaN   \n",
       "\n",
       "     Provincia donde vive Distrito donde vive Distrito donde vive.1  \\\n",
       "889                   NaN                 NaN                   NaN   \n",
       "1004                  NaN                 NaN                   NaN   \n",
       "1005                  NaN                 NaN                   NaN   \n",
       "1007                  NaN                 NaN                   NaN   \n",
       "1009                  NaN                 NaN                   NaN   \n",
       "1012                  NaN                 NaN                   NaN   \n",
       "\n",
       "     Distrito donde vive.2  \\\n",
       "889                    NaN   \n",
       "1004                   NaN   \n",
       "1005                   NaN   \n",
       "1007                   NaN   \n",
       "1009                   NaN   \n",
       "1012                   NaN   \n",
       "\n",
       "     Tipo de ubicacion: Manzana (Mz), Lote, Urbanizacion (urb) y/o Etapa.  \\\n",
       "889                        Nazca, las acacias Lot 11 11                     \n",
       "1004                                              Nazca                     \n",
       "1005                                              Nazca                     \n",
       "1007                                              Nazca                     \n",
       "1009                                              Nazca                     \n",
       "1012                                                NaN                     \n",
       "\n",
       "                    Tipo de vía  ... consume_alimento_orig_animal_leche  \\\n",
       "889                         NaN  ...                                  0   \n",
       "1004  No cuenta con información  ...                                  0   \n",
       "1005  No cuenta con información  ...                                  0   \n",
       "1007  No cuenta con información  ...                                  0   \n",
       "1009  No cuenta con información  ...                                  0   \n",
       "1012                        NaN  ...                                  0   \n",
       "\n",
       "     freq_consumo_consume_alimento_orig_animal_leche  \\\n",
       "889                                              0.0   \n",
       "1004                                             0.0   \n",
       "1005                                             0.0   \n",
       "1007                                             0.0   \n",
       "1009                                             0.0   \n",
       "1012                                             0.0   \n",
       "\n",
       "      consume_alimento_orig_animal_pescado  \\\n",
       "889                                      0   \n",
       "1004                                     0   \n",
       "1005                                     0   \n",
       "1007                                     0   \n",
       "1009                                     0   \n",
       "1012                                     0   \n",
       "\n",
       "      freq_consumo_consume_alimento_orig_animal_pescado  \\\n",
       "889                                                   0   \n",
       "1004                                                  0   \n",
       "1005                                                  0   \n",
       "1007                                                  0   \n",
       "1009                                                  0   \n",
       "1012                                                  0   \n",
       "\n",
       "     consume_alimento_orig_animal_pollo  \\\n",
       "889                                   0   \n",
       "1004                                  1   \n",
       "1005                                  0   \n",
       "1007                                  1   \n",
       "1009                                  1   \n",
       "1012                                  0   \n",
       "\n",
       "     freq_consumo_consume_alimento_orig_animal_pollo  \\\n",
       "889                                                0   \n",
       "1004                                               2   \n",
       "1005                                               0   \n",
       "1007                                               4   \n",
       "1009                                               1   \n",
       "1012                                               0   \n",
       "\n",
       "     consume_alimento_orig_animal_res  \\\n",
       "889                                 0   \n",
       "1004                                1   \n",
       "1005                                0   \n",
       "1007                                0   \n",
       "1009                                0   \n",
       "1012                                0   \n",
       "\n",
       "     freq_consumo_consume_alimento_orig_animal_res  \\\n",
       "889                                            0.0   \n",
       "1004                                           2.0   \n",
       "1005                                           0.0   \n",
       "1007                                           0.0   \n",
       "1009                                           0.0   \n",
       "1012                                           0.0   \n",
       "\n",
       "      consume_alimento_orig_animal_otros  \\\n",
       "889                                    0   \n",
       "1004                                   0   \n",
       "1005                                   0   \n",
       "1007                                   0   \n",
       "1009                                   0   \n",
       "1012                                   0   \n",
       "\n",
       "     freq_consumo_consume_alimento_orig_animal_otros  \n",
       "889                                                0  \n",
       "1004                                               0  \n",
       "1005                                               0  \n",
       "1007                                               0  \n",
       "1009                                               0  \n",
       "1012                                               0  \n",
       "\n",
       "[6 rows x 104 columns]"
      ]
     },
     "execution_count": 8,
     "metadata": {},
     "output_type": "execute_result"
    }
   ],
   "source": [
    "df[df[\"Provincia donde vive\"].isna()]"
   ]
  },
  {
   "cell_type": "code",
   "execution_count": 10,
   "id": "bf3b60f9-0c2f-4003-8c8b-0641f99696c1",
   "metadata": {},
   "outputs": [],
   "source": [
    "df.loc[df[\"Provincia donde vive\"].isna(), \"Provincia donde vive\"] = \"Nazca\""
   ]
  },
  {
   "cell_type": "code",
   "execution_count": 11,
   "id": "7b148e1e-6f20-4aae-af1d-481e46629073",
   "metadata": {},
   "outputs": [
    {
     "data": {
      "text/plain": [
       "array(['Chincha', 'Ica', 'Pisco', 'Nazca'], dtype=object)"
      ]
     },
     "execution_count": 11,
     "metadata": {},
     "output_type": "execute_result"
    }
   ],
   "source": [
    "df[\"Provincia donde vive\"].unique()"
   ]
  },
  {
   "cell_type": "code",
   "execution_count": 63,
   "id": "0eb118f8-04bc-4ebc-9c97-894a7043da25",
   "metadata": {},
   "outputs": [
    {
     "data": {
      "text/plain": [
       "[Text(0, 0, '1083'), Text(0, 0, '378'), Text(0, 0, '347'), Text(0, 0, '5')]"
      ]
     },
     "execution_count": 63,
     "metadata": {},
     "output_type": "execute_result"
    },
    {
     "data": {
      "image/png": "[encoded data removed]",
      "text/plain": [
       "<Figure size 640x480 with 1 Axes>"
      ]
     },
     "metadata": {},
     "output_type": "display_data"
    }
   ],
   "source": [
    "ax = df[\"Provincia donde vive\"].value_counts().plot.bar()\n",
    "ax.bar_label(ax.containers[0])"
   ]
  },
  {
   "cell_type": "markdown",
   "id": "a9353af8-bebb-453c-beb5-ed9de073c6f8",
   "metadata": {},
   "source": [
    "- Distrito -> Ica\n",
    "- Distrito.1 -> Pisco\n",
    "- Distrito.2 -> Chincha\n",
    "- Distrito.3 -> Revisar"
   ]
  },
  {
   "cell_type": "code",
   "execution_count": 350,
   "id": "a5f87742-4b00-4225-8b24-e90dbf4edb3c",
   "metadata": {},
   "outputs": [
    {
     "data": {
      "text/plain": [
       "(1813, 103)"
      ]
     },
     "execution_count": 350,
     "metadata": {},
     "output_type": "execute_result"
    }
   ],
   "source": [
    "df.shape"
   ]
  },
  {
   "cell_type": "code",
   "execution_count": 18,
   "id": "9742c48f-7aa4-4634-8bde-ecdb5c0b5fc3",
   "metadata": {},
   "outputs": [
    {
     "data": {
      "text/plain": [
       "1814"
      ]
     },
     "execution_count": 18,
     "metadata": {},
     "output_type": "execute_result"
    }
   ],
   "source": [
    "df[\"Distrito donde vive.3\"].isna().sum()"
   ]
  },
  {
   "cell_type": "code",
   "execution_count": 20,
   "id": "926665f6-211d-4bbe-b044-d91a60695cbf",
   "metadata": {},
   "outputs": [],
   "source": [
    "df = df.drop(\"Distrito donde vive.3\", axis=1)"
   ]
  },
  {
   "cell_type": "code",
   "execution_count": 24,
   "id": "9aafd150-dc5e-459e-87ac-e09a3b055fa3",
   "metadata": {},
   "outputs": [
    {
     "data": {
      "text/plain": [
       "16"
      ]
     },
     "execution_count": 24,
     "metadata": {},
     "output_type": "execute_result"
    }
   ],
   "source": [
    "df[df[\"Provincia donde vive\"] == \"Ica\"][\"Distrito donde vive\"].isna().sum()"
   ]
  },
  {
   "cell_type": "code",
   "execution_count": 25,
   "id": "475a76b6-1ad7-4337-9a6f-4554fe3f9e25",
   "metadata": {},
   "outputs": [
    {
     "data": {
      "text/html": [
       "<div>\n",
       "<style scoped>\n",
       "    .dataframe tbody tr th:only-of-type {\n",
       "        vertical-align: middle;\n",
       "    }\n",
       "\n",
       "    .dataframe tbody tr th {\n",
       "        vertical-align: top;\n",
       "    }\n",
       "\n",
       "    .dataframe thead th {\n",
       "        text-align: right;\n",
       "    }\n",
       "</style>\n",
       "<table border=\"1\" class=\"dataframe\">\n",
       "  <thead>\n",
       "    <tr style=\"text-align: right;\">\n",
       "      <th></th>\n",
       "      <th>Nombre del encuestador</th>\n",
       "      <th>Fecha de la entrevista</th>\n",
       "      <th>Nombre de la persona entrevistada</th>\n",
       "      <th>Télefono de la persona entrevistada</th>\n",
       "      <th>Provincia donde vive</th>\n",
       "      <th>Distrito donde vive</th>\n",
       "      <th>Distrito donde vive.1</th>\n",
       "      <th>Distrito donde vive.2</th>\n",
       "      <th>Tipo de ubicacion: Manzana (Mz), Lote, Urbanizacion (urb) y/o Etapa.</th>\n",
       "      <th>Tipo de vía</th>\n",
       "      <th>...</th>\n",
       "      <th>consume_alimento_orig_animal_leche</th>\n",
       "      <th>freq_consumo_consume_alimento_orig_animal_leche</th>\n",
       "      <th>consume_alimento_orig_animal_pescado</th>\n",
       "      <th>freq_consumo_consume_alimento_orig_animal_pescado</th>\n",
       "      <th>consume_alimento_orig_animal_pollo</th>\n",
       "      <th>freq_consumo_consume_alimento_orig_animal_pollo</th>\n",
       "      <th>consume_alimento_orig_animal_res</th>\n",
       "      <th>freq_consumo_consume_alimento_orig_animal_res</th>\n",
       "      <th>consume_alimento_orig_animal_otros</th>\n",
       "      <th>freq_consumo_consume_alimento_orig_animal_otros</th>\n",
       "    </tr>\n",
       "  </thead>\n",
       "  <tbody>\n",
       "    <tr>\n",
       "      <th>20</th>\n",
       "      <td>SCH</td>\n",
       "      <td>2023-02-12</td>\n",
       "      <td>ANGELA OSNEYRI CORDOVA ARRAEZ</td>\n",
       "      <td>935571396</td>\n",
       "      <td>Ica</td>\n",
       "      <td>NaN</td>\n",
       "      <td>NaN</td>\n",
       "      <td>NaN</td>\n",
       "      <td>MZ C LOTE 17</td>\n",
       "      <td>Otro, especificar</td>\n",
       "      <td>...</td>\n",
       "      <td>1</td>\n",
       "      <td>1.0</td>\n",
       "      <td>1</td>\n",
       "      <td>1</td>\n",
       "      <td>1</td>\n",
       "      <td>2</td>\n",
       "      <td>1</td>\n",
       "      <td>0.0</td>\n",
       "      <td>0</td>\n",
       "      <td>0</td>\n",
       "    </tr>\n",
       "    <tr>\n",
       "      <th>478</th>\n",
       "      <td>SCH</td>\n",
       "      <td>2023-02-14</td>\n",
       "      <td>YIMEIDI GABRIELA CASTILLO JANETH</td>\n",
       "      <td>945679844</td>\n",
       "      <td>Ica</td>\n",
       "      <td>NaN</td>\n",
       "      <td>NaN</td>\n",
       "      <td>NaN</td>\n",
       "      <td>MZ L PUERTA 15</td>\n",
       "      <td>NaN</td>\n",
       "      <td>...</td>\n",
       "      <td>1</td>\n",
       "      <td>0.0</td>\n",
       "      <td>1</td>\n",
       "      <td>0</td>\n",
       "      <td>1</td>\n",
       "      <td>2</td>\n",
       "      <td>1</td>\n",
       "      <td>1.0</td>\n",
       "      <td>0</td>\n",
       "      <td>0</td>\n",
       "    </tr>\n",
       "    <tr>\n",
       "      <th>719</th>\n",
       "      <td>Victor lachezza</td>\n",
       "      <td>2023-02-16</td>\n",
       "      <td>Karla amararielis medinas perez</td>\n",
       "      <td>962436665</td>\n",
       "      <td>Ica</td>\n",
       "      <td>NaN</td>\n",
       "      <td>NaN</td>\n",
       "      <td>NaN</td>\n",
       "      <td>Urb San Joaquín Viejo</td>\n",
       "      <td>NaN</td>\n",
       "      <td>...</td>\n",
       "      <td>0</td>\n",
       "      <td>0.0</td>\n",
       "      <td>0</td>\n",
       "      <td>0</td>\n",
       "      <td>1</td>\n",
       "      <td>4</td>\n",
       "      <td>0</td>\n",
       "      <td>0.0</td>\n",
       "      <td>0</td>\n",
       "      <td>0</td>\n",
       "    </tr>\n",
       "    <tr>\n",
       "      <th>865</th>\n",
       "      <td>A.D.C.T</td>\n",
       "      <td>2023-02-17</td>\n",
       "      <td>Yaneth Daniela Ostos Suárez</td>\n",
       "      <td>975388448</td>\n",
       "      <td>Ica</td>\n",
       "      <td>NaN</td>\n",
       "      <td>NaN</td>\n",
       "      <td>NaN</td>\n",
       "      <td>Nazca, pasaje 15, SAn Carlos 226</td>\n",
       "      <td>NaN</td>\n",
       "      <td>...</td>\n",
       "      <td>0</td>\n",
       "      <td>0.0</td>\n",
       "      <td>0</td>\n",
       "      <td>0</td>\n",
       "      <td>1</td>\n",
       "      <td>5</td>\n",
       "      <td>1</td>\n",
       "      <td>2.0</td>\n",
       "      <td>0</td>\n",
       "      <td>0</td>\n",
       "    </tr>\n",
       "    <tr>\n",
       "      <th>871</th>\n",
       "      <td>A.D.C.T</td>\n",
       "      <td>2023-02-17</td>\n",
       "      <td>Leisney Carolina Martínez blanco</td>\n",
       "      <td>912726317</td>\n",
       "      <td>Ica</td>\n",
       "      <td>NaN</td>\n",
       "      <td>NaN</td>\n",
       "      <td>NaN</td>\n",
       "      <td>Nazca,</td>\n",
       "      <td>CA (Calle)</td>\n",
       "      <td>...</td>\n",
       "      <td>0</td>\n",
       "      <td>0.0</td>\n",
       "      <td>0</td>\n",
       "      <td>0</td>\n",
       "      <td>1</td>\n",
       "      <td>5</td>\n",
       "      <td>0</td>\n",
       "      <td>0.0</td>\n",
       "      <td>0</td>\n",
       "      <td>0</td>\n",
       "    </tr>\n",
       "    <tr>\n",
       "      <th>873</th>\n",
       "      <td>A.D.C.T</td>\n",
       "      <td>2023-02-17</td>\n",
       "      <td>Yenifer José González dias</td>\n",
       "      <td>950159276</td>\n",
       "      <td>Ica</td>\n",
       "      <td>NaN</td>\n",
       "      <td>NaN</td>\n",
       "      <td>NaN</td>\n",
       "      <td>Nazca,</td>\n",
       "      <td>CA (Calle)</td>\n",
       "      <td>...</td>\n",
       "      <td>0</td>\n",
       "      <td>0.0</td>\n",
       "      <td>0</td>\n",
       "      <td>0</td>\n",
       "      <td>1</td>\n",
       "      <td>4</td>\n",
       "      <td>0</td>\n",
       "      <td>0.0</td>\n",
       "      <td>0</td>\n",
       "      <td>0</td>\n",
       "    </tr>\n",
       "    <tr>\n",
       "      <th>879</th>\n",
       "      <td>A.D.C.T</td>\n",
       "      <td>2023-02-17</td>\n",
       "      <td>Yoleidys Carolina Méndez refunfol</td>\n",
       "      <td>917106045</td>\n",
       "      <td>Ica</td>\n",
       "      <td>NaN</td>\n",
       "      <td>NaN</td>\n",
       "      <td>NaN</td>\n",
       "      <td>Nazca. Tizanbra, orilla del rio</td>\n",
       "      <td>NaN</td>\n",
       "      <td>...</td>\n",
       "      <td>0</td>\n",
       "      <td>0.0</td>\n",
       "      <td>0</td>\n",
       "      <td>0</td>\n",
       "      <td>1</td>\n",
       "      <td>4</td>\n",
       "      <td>1</td>\n",
       "      <td>3.0</td>\n",
       "      <td>0</td>\n",
       "      <td>0</td>\n",
       "    </tr>\n",
       "    <tr>\n",
       "      <th>936</th>\n",
       "      <td>SC</td>\n",
       "      <td>2023-02-17</td>\n",
       "      <td>Angely Vanessa Pastrano Manchego</td>\n",
       "      <td>944772790</td>\n",
       "      <td>Ica</td>\n",
       "      <td>NaN</td>\n",
       "      <td>NaN</td>\n",
       "      <td>NaN</td>\n",
       "      <td>Urb</td>\n",
       "      <td>AV (Avenida)</td>\n",
       "      <td>...</td>\n",
       "      <td>1</td>\n",
       "      <td>7.0</td>\n",
       "      <td>1</td>\n",
       "      <td>1</td>\n",
       "      <td>1</td>\n",
       "      <td>4</td>\n",
       "      <td>1</td>\n",
       "      <td>1.0</td>\n",
       "      <td>0</td>\n",
       "      <td>0</td>\n",
       "    </tr>\n",
       "    <tr>\n",
       "      <th>942</th>\n",
       "      <td>SC</td>\n",
       "      <td>2023-02-17</td>\n",
       "      <td>ALBA MARINA GOMEZ GOMEZ</td>\n",
       "      <td>943418869</td>\n",
       "      <td>Ica</td>\n",
       "      <td>NaN</td>\n",
       "      <td>NaN</td>\n",
       "      <td>NaN</td>\n",
       "      <td>Calle moqueta con arequipa</td>\n",
       "      <td>No cuenta con información</td>\n",
       "      <td>...</td>\n",
       "      <td>1</td>\n",
       "      <td>7.0</td>\n",
       "      <td>0</td>\n",
       "      <td>0</td>\n",
       "      <td>0</td>\n",
       "      <td>0</td>\n",
       "      <td>1</td>\n",
       "      <td>1.0</td>\n",
       "      <td>0</td>\n",
       "      <td>0</td>\n",
       "    </tr>\n",
       "    <tr>\n",
       "      <th>945</th>\n",
       "      <td>A.D.C.T</td>\n",
       "      <td>2023-02-17</td>\n",
       "      <td>Glorimar del Carmen Chirinos Riera</td>\n",
       "      <td>958863952</td>\n",
       "      <td>Ica</td>\n",
       "      <td>NaN</td>\n",
       "      <td>NaN</td>\n",
       "      <td>NaN</td>\n",
       "      <td>Palpa</td>\n",
       "      <td>No cuenta con información</td>\n",
       "      <td>...</td>\n",
       "      <td>0</td>\n",
       "      <td>0.0</td>\n",
       "      <td>0</td>\n",
       "      <td>0</td>\n",
       "      <td>0</td>\n",
       "      <td>0</td>\n",
       "      <td>0</td>\n",
       "      <td>0.0</td>\n",
       "      <td>0</td>\n",
       "      <td>0</td>\n",
       "    </tr>\n",
       "    <tr>\n",
       "      <th>949</th>\n",
       "      <td>Sc</td>\n",
       "      <td>2023-02-17</td>\n",
       "      <td>Alexandra melissa miranda huarancca</td>\n",
       "      <td>912941969</td>\n",
       "      <td>Ica</td>\n",
       "      <td>NaN</td>\n",
       "      <td>NaN</td>\n",
       "      <td>NaN</td>\n",
       "      <td>NaN</td>\n",
       "      <td>No cuenta con información</td>\n",
       "      <td>...</td>\n",
       "      <td>1</td>\n",
       "      <td>4.0</td>\n",
       "      <td>1</td>\n",
       "      <td>2</td>\n",
       "      <td>0</td>\n",
       "      <td>0</td>\n",
       "      <td>0</td>\n",
       "      <td>0.0</td>\n",
       "      <td>0</td>\n",
       "      <td>0</td>\n",
       "    </tr>\n",
       "    <tr>\n",
       "      <th>964</th>\n",
       "      <td>SC</td>\n",
       "      <td>2023-02-17</td>\n",
       "      <td>Arelis Elizabeth alvarez lorillo</td>\n",
       "      <td>938972484</td>\n",
       "      <td>Ica</td>\n",
       "      <td>NaN</td>\n",
       "      <td>NaN</td>\n",
       "      <td>NaN</td>\n",
       "      <td>NaN</td>\n",
       "      <td>CA (Calle)</td>\n",
       "      <td>...</td>\n",
       "      <td>0</td>\n",
       "      <td>0.0</td>\n",
       "      <td>1</td>\n",
       "      <td>3</td>\n",
       "      <td>1</td>\n",
       "      <td>5</td>\n",
       "      <td>0</td>\n",
       "      <td>0.0</td>\n",
       "      <td>0</td>\n",
       "      <td>0</td>\n",
       "    </tr>\n",
       "    <tr>\n",
       "      <th>981</th>\n",
       "      <td>SC</td>\n",
       "      <td>2023-02-17</td>\n",
       "      <td>Beatriz adriana gallardo salcedo</td>\n",
       "      <td>929508428</td>\n",
       "      <td>Ica</td>\n",
       "      <td>NaN</td>\n",
       "      <td>NaN</td>\n",
       "      <td>NaN</td>\n",
       "      <td>NaN</td>\n",
       "      <td>No cuenta con información</td>\n",
       "      <td>...</td>\n",
       "      <td>1</td>\n",
       "      <td>5.0</td>\n",
       "      <td>1</td>\n",
       "      <td>3</td>\n",
       "      <td>1</td>\n",
       "      <td>2</td>\n",
       "      <td>1</td>\n",
       "      <td>1.0</td>\n",
       "      <td>0</td>\n",
       "      <td>0</td>\n",
       "    </tr>\n",
       "    <tr>\n",
       "      <th>988</th>\n",
       "      <td>Sc</td>\n",
       "      <td>2023-02-17</td>\n",
       "      <td>María ángel gutierrez petit</td>\n",
       "      <td>961794703</td>\n",
       "      <td>Ica</td>\n",
       "      <td>NaN</td>\n",
       "      <td>NaN</td>\n",
       "      <td>NaN</td>\n",
       "      <td>NaN</td>\n",
       "      <td>CA (Calle)</td>\n",
       "      <td>...</td>\n",
       "      <td>1</td>\n",
       "      <td>2.0</td>\n",
       "      <td>0</td>\n",
       "      <td>0</td>\n",
       "      <td>1</td>\n",
       "      <td>2</td>\n",
       "      <td>1</td>\n",
       "      <td>1.0</td>\n",
       "      <td>0</td>\n",
       "      <td>0</td>\n",
       "    </tr>\n",
       "    <tr>\n",
       "      <th>994</th>\n",
       "      <td>Nv</td>\n",
       "      <td>2023-02-17</td>\n",
       "      <td>Josmair Peña Gonzalez</td>\n",
       "      <td>949130426</td>\n",
       "      <td>Ica</td>\n",
       "      <td>NaN</td>\n",
       "      <td>NaN</td>\n",
       "      <td>NaN</td>\n",
       "      <td>Nazca</td>\n",
       "      <td>No cuenta con información</td>\n",
       "      <td>...</td>\n",
       "      <td>0</td>\n",
       "      <td>0.0</td>\n",
       "      <td>0</td>\n",
       "      <td>0</td>\n",
       "      <td>1</td>\n",
       "      <td>3</td>\n",
       "      <td>0</td>\n",
       "      <td>0.0</td>\n",
       "      <td>0</td>\n",
       "      <td>0</td>\n",
       "    </tr>\n",
       "    <tr>\n",
       "      <th>1798</th>\n",
       "      <td>GRECIA</td>\n",
       "      <td>2023-02-09</td>\n",
       "      <td>NORALIS GABRIELA MELEAN LOVERA</td>\n",
       "      <td>915993510</td>\n",
       "      <td>Ica</td>\n",
       "      <td>NaN</td>\n",
       "      <td>NaN</td>\n",
       "      <td>NaN</td>\n",
       "      <td>URB FONAVI LA ANGOSTURA MZ C LOTE 118</td>\n",
       "      <td>No cuenta con información</td>\n",
       "      <td>...</td>\n",
       "      <td>1</td>\n",
       "      <td>5.0</td>\n",
       "      <td>1</td>\n",
       "      <td>3</td>\n",
       "      <td>1</td>\n",
       "      <td>1</td>\n",
       "      <td>1</td>\n",
       "      <td>1.0</td>\n",
       "      <td>0</td>\n",
       "      <td>0</td>\n",
       "    </tr>\n",
       "  </tbody>\n",
       "</table>\n",
       "<p>16 rows × 103 columns</p>\n",
       "</div>"
      ],
      "text/plain": [
       "     Nombre del encuestador Fecha de la entrevista  \\\n",
       "20                      SCH             2023-02-12   \n",
       "478                     SCH             2023-02-14   \n",
       "719         Victor lachezza             2023-02-16   \n",
       "865                 A.D.C.T             2023-02-17   \n",
       "871                 A.D.C.T             2023-02-17   \n",
       "873                 A.D.C.T             2023-02-17   \n",
       "879                 A.D.C.T             2023-02-17   \n",
       "936                      SC             2023-02-17   \n",
       "942                      SC             2023-02-17   \n",
       "945                 A.D.C.T             2023-02-17   \n",
       "949                      Sc             2023-02-17   \n",
       "964                      SC             2023-02-17   \n",
       "981                      SC             2023-02-17   \n",
       "988                      Sc             2023-02-17   \n",
       "994                      Nv             2023-02-17   \n",
       "1798                 GRECIA             2023-02-09   \n",
       "\n",
       "        Nombre de la persona entrevistada Télefono de la persona entrevistada  \\\n",
       "20          ANGELA OSNEYRI CORDOVA ARRAEZ                           935571396   \n",
       "478      YIMEIDI GABRIELA CASTILLO JANETH                           945679844   \n",
       "719       Karla amararielis medinas perez                           962436665   \n",
       "865           Yaneth Daniela Ostos Suárez                           975388448   \n",
       "871      Leisney Carolina Martínez blanco                           912726317   \n",
       "873            Yenifer José González dias                           950159276   \n",
       "879     Yoleidys Carolina Méndez refunfol                           917106045   \n",
       "936      Angely Vanessa Pastrano Manchego                           944772790   \n",
       "942               ALBA MARINA GOMEZ GOMEZ                           943418869   \n",
       "945    Glorimar del Carmen Chirinos Riera                           958863952   \n",
       "949   Alexandra melissa miranda huarancca                           912941969   \n",
       "964      Arelis Elizabeth alvarez lorillo                           938972484   \n",
       "981      Beatriz adriana gallardo salcedo                           929508428   \n",
       "988           María ángel gutierrez petit                           961794703   \n",
       "994                 Josmair Peña Gonzalez                           949130426   \n",
       "1798       NORALIS GABRIELA MELEAN LOVERA                           915993510   \n",
       "\n",
       "     Provincia donde vive Distrito donde vive Distrito donde vive.1  \\\n",
       "20                    Ica                 NaN                   NaN   \n",
       "478                   Ica                 NaN                   NaN   \n",
       "719                   Ica                 NaN                   NaN   \n",
       "865                   Ica                 NaN                   NaN   \n",
       "871                   Ica                 NaN                   NaN   \n",
       "873                   Ica                 NaN                   NaN   \n",
       "879                   Ica                 NaN                   NaN   \n",
       "936                   Ica                 NaN                   NaN   \n",
       "942                   Ica                 NaN                   NaN   \n",
       "945                   Ica                 NaN                   NaN   \n",
       "949                   Ica                 NaN                   NaN   \n",
       "964                   Ica                 NaN                   NaN   \n",
       "981                   Ica                 NaN                   NaN   \n",
       "988                   Ica                 NaN                   NaN   \n",
       "994                   Ica                 NaN                   NaN   \n",
       "1798                  Ica                 NaN                   NaN   \n",
       "\n",
       "     Distrito donde vive.2  \\\n",
       "20                     NaN   \n",
       "478                    NaN   \n",
       "719                    NaN   \n",
       "865                    NaN   \n",
       "871                    NaN   \n",
       "873                    NaN   \n",
       "879                    NaN   \n",
       "936                    NaN   \n",
       "942                    NaN   \n",
       "945                    NaN   \n",
       "949                    NaN   \n",
       "964                    NaN   \n",
       "981                    NaN   \n",
       "988                    NaN   \n",
       "994                    NaN   \n",
       "1798                   NaN   \n",
       "\n",
       "     Tipo de ubicacion: Manzana (Mz), Lote, Urbanizacion (urb) y/o Etapa.  \\\n",
       "20                                         MZ C LOTE 17                     \n",
       "478                                      MZ L PUERTA 15                     \n",
       "719                               Urb San Joaquín Viejo                     \n",
       "865                    Nazca, pasaje 15, SAn Carlos 226                     \n",
       "871                                              Nazca,                     \n",
       "873                                              Nazca,                     \n",
       "879                     Nazca. Tizanbra, orilla del rio                     \n",
       "936                                                 Urb                     \n",
       "942                          Calle moqueta con arequipa                     \n",
       "945                                               Palpa                     \n",
       "949                                                 NaN                     \n",
       "964                                                 NaN                     \n",
       "981                                                 NaN                     \n",
       "988                                                 NaN                     \n",
       "994                                               Nazca                     \n",
       "1798              URB FONAVI LA ANGOSTURA MZ C LOTE 118                     \n",
       "\n",
       "                    Tipo de vía  ... consume_alimento_orig_animal_leche  \\\n",
       "20            Otro, especificar  ...                                  1   \n",
       "478                         NaN  ...                                  1   \n",
       "719                         NaN  ...                                  0   \n",
       "865                         NaN  ...                                  0   \n",
       "871                  CA (Calle)  ...                                  0   \n",
       "873                  CA (Calle)  ...                                  0   \n",
       "879                         NaN  ...                                  0   \n",
       "936                AV (Avenida)  ...                                  1   \n",
       "942   No cuenta con información  ...                                  1   \n",
       "945   No cuenta con información  ...                                  0   \n",
       "949   No cuenta con información  ...                                  1   \n",
       "964                  CA (Calle)  ...                                  0   \n",
       "981   No cuenta con información  ...                                  1   \n",
       "988                  CA (Calle)  ...                                  1   \n",
       "994   No cuenta con información  ...                                  0   \n",
       "1798  No cuenta con información  ...                                  1   \n",
       "\n",
       "     freq_consumo_consume_alimento_orig_animal_leche  \\\n",
       "20                                               1.0   \n",
       "478                                              0.0   \n",
       "719                                              0.0   \n",
       "865                                              0.0   \n",
       "871                                              0.0   \n",
       "873                                              0.0   \n",
       "879                                              0.0   \n",
       "936                                              7.0   \n",
       "942                                              7.0   \n",
       "945                                              0.0   \n",
       "949                                              4.0   \n",
       "964                                              0.0   \n",
       "981                                              5.0   \n",
       "988                                              2.0   \n",
       "994                                              0.0   \n",
       "1798                                             5.0   \n",
       "\n",
       "      consume_alimento_orig_animal_pescado  \\\n",
       "20                                       1   \n",
       "478                                      1   \n",
       "719                                      0   \n",
       "865                                      0   \n",
       "871                                      0   \n",
       "873                                      0   \n",
       "879                                      0   \n",
       "936                                      1   \n",
       "942                                      0   \n",
       "945                                      0   \n",
       "949                                      1   \n",
       "964                                      1   \n",
       "981                                      1   \n",
       "988                                      0   \n",
       "994                                      0   \n",
       "1798                                     1   \n",
       "\n",
       "      freq_consumo_consume_alimento_orig_animal_pescado  \\\n",
       "20                                                    1   \n",
       "478                                                   0   \n",
       "719                                                   0   \n",
       "865                                                   0   \n",
       "871                                                   0   \n",
       "873                                                   0   \n",
       "879                                                   0   \n",
       "936                                                   1   \n",
       "942                                                   0   \n",
       "945                                                   0   \n",
       "949                                                   2   \n",
       "964                                                   3   \n",
       "981                                                   3   \n",
       "988                                                   0   \n",
       "994                                                   0   \n",
       "1798                                                  3   \n",
       "\n",
       "     consume_alimento_orig_animal_pollo  \\\n",
       "20                                    1   \n",
       "478                                   1   \n",
       "719                                   1   \n",
       "865                                   1   \n",
       "871                                   1   \n",
       "873                                   1   \n",
       "879                                   1   \n",
       "936                                   1   \n",
       "942                                   0   \n",
       "945                                   0   \n",
       "949                                   0   \n",
       "964                                   1   \n",
       "981                                   1   \n",
       "988                                   1   \n",
       "994                                   1   \n",
       "1798                                  1   \n",
       "\n",
       "     freq_consumo_consume_alimento_orig_animal_pollo  \\\n",
       "20                                                 2   \n",
       "478                                                2   \n",
       "719                                                4   \n",
       "865                                                5   \n",
       "871                                                5   \n",
       "873                                                4   \n",
       "879                                                4   \n",
       "936                                                4   \n",
       "942                                                0   \n",
       "945                                                0   \n",
       "949                                                0   \n",
       "964                                                5   \n",
       "981                                                2   \n",
       "988                                                2   \n",
       "994                                                3   \n",
       "1798                                               1   \n",
       "\n",
       "     consume_alimento_orig_animal_res  \\\n",
       "20                                  1   \n",
       "478                                 1   \n",
       "719                                 0   \n",
       "865                                 1   \n",
       "871                                 0   \n",
       "873                                 0   \n",
       "879                                 1   \n",
       "936                                 1   \n",
       "942                                 1   \n",
       "945                                 0   \n",
       "949                                 0   \n",
       "964                                 0   \n",
       "981                                 1   \n",
       "988                                 1   \n",
       "994                                 0   \n",
       "1798                                1   \n",
       "\n",
       "     freq_consumo_consume_alimento_orig_animal_res  \\\n",
       "20                                             0.0   \n",
       "478                                            1.0   \n",
       "719                                            0.0   \n",
       "865                                            2.0   \n",
       "871                                            0.0   \n",
       "873                                            0.0   \n",
       "879                                            3.0   \n",
       "936                                            1.0   \n",
       "942                                            1.0   \n",
       "945                                            0.0   \n",
       "949                                            0.0   \n",
       "964                                            0.0   \n",
       "981                                            1.0   \n",
       "988                                            1.0   \n",
       "994                                            0.0   \n",
       "1798                                           1.0   \n",
       "\n",
       "      consume_alimento_orig_animal_otros  \\\n",
       "20                                     0   \n",
       "478                                    0   \n",
       "719                                    0   \n",
       "865                                    0   \n",
       "871                                    0   \n",
       "873                                    0   \n",
       "879                                    0   \n",
       "936                                    0   \n",
       "942                                    0   \n",
       "945                                    0   \n",
       "949                                    0   \n",
       "964                                    0   \n",
       "981                                    0   \n",
       "988                                    0   \n",
       "994                                    0   \n",
       "1798                                   0   \n",
       "\n",
       "     freq_consumo_consume_alimento_orig_animal_otros  \n",
       "20                                                 0  \n",
       "478                                                0  \n",
       "719                                                0  \n",
       "865                                                0  \n",
       "871                                                0  \n",
       "873                                                0  \n",
       "879                                                0  \n",
       "936                                                0  \n",
       "942                                                0  \n",
       "945                                                0  \n",
       "949                                                0  \n",
       "964                                                0  \n",
       "981                                                0  \n",
       "988                                                0  \n",
       "994                                                0  \n",
       "1798                                               0  \n",
       "\n",
       "[16 rows x 103 columns]"
      ]
     },
     "execution_count": 25,
     "metadata": {},
     "output_type": "execute_result"
    }
   ],
   "source": [
    "df[(df[\"Provincia donde vive\"] == \"Ica\") & (df[\"Distrito donde vive\"].isna())]"
   ]
  },
  {
   "cell_type": "code",
   "execution_count": 27,
   "id": "e4818aa6-3ae9-4f9e-818b-6fcfd668bbe2",
   "metadata": {},
   "outputs": [
    {
     "data": {
      "text/html": [
       "<div>\n",
       "<style scoped>\n",
       "    .dataframe tbody tr th:only-of-type {\n",
       "        vertical-align: middle;\n",
       "    }\n",
       "\n",
       "    .dataframe tbody tr th {\n",
       "        vertical-align: top;\n",
       "    }\n",
       "\n",
       "    .dataframe thead th {\n",
       "        text-align: right;\n",
       "    }\n",
       "</style>\n",
       "<table border=\"1\" class=\"dataframe\">\n",
       "  <thead>\n",
       "    <tr style=\"text-align: right;\">\n",
       "      <th></th>\n",
       "      <th>Nombre del encuestador</th>\n",
       "      <th>Fecha de la entrevista</th>\n",
       "      <th>Nombre de la persona entrevistada</th>\n",
       "      <th>Télefono de la persona entrevistada</th>\n",
       "      <th>Provincia donde vive</th>\n",
       "      <th>Distrito donde vive</th>\n",
       "      <th>Distrito donde vive.1</th>\n",
       "      <th>Distrito donde vive.2</th>\n",
       "      <th>Tipo de ubicacion: Manzana (Mz), Lote, Urbanizacion (urb) y/o Etapa.</th>\n",
       "      <th>Tipo de vía</th>\n",
       "      <th>...</th>\n",
       "      <th>consume_alimento_orig_animal_leche</th>\n",
       "      <th>freq_consumo_consume_alimento_orig_animal_leche</th>\n",
       "      <th>consume_alimento_orig_animal_pescado</th>\n",
       "      <th>freq_consumo_consume_alimento_orig_animal_pescado</th>\n",
       "      <th>consume_alimento_orig_animal_pollo</th>\n",
       "      <th>freq_consumo_consume_alimento_orig_animal_pollo</th>\n",
       "      <th>consume_alimento_orig_animal_res</th>\n",
       "      <th>freq_consumo_consume_alimento_orig_animal_res</th>\n",
       "      <th>consume_alimento_orig_animal_otros</th>\n",
       "      <th>freq_consumo_consume_alimento_orig_animal_otros</th>\n",
       "    </tr>\n",
       "  </thead>\n",
       "  <tbody>\n",
       "    <tr>\n",
       "      <th>1213</th>\n",
       "      <td>E. C</td>\n",
       "      <td>2023-02-10</td>\n",
       "      <td>Graoben maifer Terán</td>\n",
       "      <td>967403072</td>\n",
       "      <td>Pisco</td>\n",
       "      <td>NaN</td>\n",
       "      <td>NaN</td>\n",
       "      <td>NaN</td>\n",
       "      <td>Calle San José mz 12 lote 2</td>\n",
       "      <td>NaN</td>\n",
       "      <td>...</td>\n",
       "      <td>0</td>\n",
       "      <td>0.0</td>\n",
       "      <td>0</td>\n",
       "      <td>0</td>\n",
       "      <td>1</td>\n",
       "      <td>3</td>\n",
       "      <td>1</td>\n",
       "      <td>2.0</td>\n",
       "      <td>0</td>\n",
       "      <td>0</td>\n",
       "    </tr>\n",
       "    <tr>\n",
       "      <th>1810</th>\n",
       "      <td>GRECIA</td>\n",
       "      <td>2023-02-09</td>\n",
       "      <td>ALEXANDRA CAROLINA RIVERO DE SERRANO</td>\n",
       "      <td>935194915</td>\n",
       "      <td>Pisco</td>\n",
       "      <td>NaN</td>\n",
       "      <td>NaN</td>\n",
       "      <td>NaN</td>\n",
       "      <td>URB. RENACER</td>\n",
       "      <td>CA (Calle)</td>\n",
       "      <td>...</td>\n",
       "      <td>0</td>\n",
       "      <td>0.0</td>\n",
       "      <td>0</td>\n",
       "      <td>0</td>\n",
       "      <td>1</td>\n",
       "      <td>3</td>\n",
       "      <td>1</td>\n",
       "      <td>3.0</td>\n",
       "      <td>0</td>\n",
       "      <td>0</td>\n",
       "    </tr>\n",
       "  </tbody>\n",
       "</table>\n",
       "<p>2 rows × 103 columns</p>\n",
       "</div>"
      ],
      "text/plain": [
       "     Nombre del encuestador Fecha de la entrevista  \\\n",
       "1213                   E. C             2023-02-10   \n",
       "1810                 GRECIA             2023-02-09   \n",
       "\n",
       "         Nombre de la persona entrevistada  \\\n",
       "1213                  Graoben maifer Terán   \n",
       "1810  ALEXANDRA CAROLINA RIVERO DE SERRANO   \n",
       "\n",
       "     Télefono de la persona entrevistada Provincia donde vive  \\\n",
       "1213                           967403072                Pisco   \n",
       "1810                           935194915                Pisco   \n",
       "\n",
       "     Distrito donde vive Distrito donde vive.1 Distrito donde vive.2  \\\n",
       "1213                 NaN                   NaN                   NaN   \n",
       "1810                 NaN                   NaN                   NaN   \n",
       "\n",
       "     Tipo de ubicacion: Manzana (Mz), Lote, Urbanizacion (urb) y/o Etapa.  \\\n",
       "1213                        Calle San José mz 12 lote 2                     \n",
       "1810                                       URB. RENACER                     \n",
       "\n",
       "     Tipo de vía  ... consume_alimento_orig_animal_leche  \\\n",
       "1213         NaN  ...                                  0   \n",
       "1810  CA (Calle)  ...                                  0   \n",
       "\n",
       "     freq_consumo_consume_alimento_orig_animal_leche  \\\n",
       "1213                                             0.0   \n",
       "1810                                             0.0   \n",
       "\n",
       "      consume_alimento_orig_animal_pescado  \\\n",
       "1213                                     0   \n",
       "1810                                     0   \n",
       "\n",
       "      freq_consumo_consume_alimento_orig_animal_pescado  \\\n",
       "1213                                                  0   \n",
       "1810                                                  0   \n",
       "\n",
       "     consume_alimento_orig_animal_pollo  \\\n",
       "1213                                  1   \n",
       "1810                                  1   \n",
       "\n",
       "     freq_consumo_consume_alimento_orig_animal_pollo  \\\n",
       "1213                                               3   \n",
       "1810                                               3   \n",
       "\n",
       "     consume_alimento_orig_animal_res  \\\n",
       "1213                                1   \n",
       "1810                                1   \n",
       "\n",
       "     freq_consumo_consume_alimento_orig_animal_res  \\\n",
       "1213                                           2.0   \n",
       "1810                                           3.0   \n",
       "\n",
       "      consume_alimento_orig_animal_otros  \\\n",
       "1213                                   0   \n",
       "1810                                   0   \n",
       "\n",
       "     freq_consumo_consume_alimento_orig_animal_otros  \n",
       "1213                                               0  \n",
       "1810                                               0  \n",
       "\n",
       "[2 rows x 103 columns]"
      ]
     },
     "execution_count": 27,
     "metadata": {},
     "output_type": "execute_result"
    }
   ],
   "source": [
    "df[(df[\"Provincia donde vive\"] == \"Pisco\") & (df[\"Distrito donde vive.1\"].isna())]"
   ]
  },
  {
   "cell_type": "code",
   "execution_count": 28,
   "id": "5675ce4a-8b00-4fe1-9658-230f164f9720",
   "metadata": {},
   "outputs": [
    {
     "data": {
      "text/html": [
       "<div>\n",
       "<style scoped>\n",
       "    .dataframe tbody tr th:only-of-type {\n",
       "        vertical-align: middle;\n",
       "    }\n",
       "\n",
       "    .dataframe tbody tr th {\n",
       "        vertical-align: top;\n",
       "    }\n",
       "\n",
       "    .dataframe thead th {\n",
       "        text-align: right;\n",
       "    }\n",
       "</style>\n",
       "<table border=\"1\" class=\"dataframe\">\n",
       "  <thead>\n",
       "    <tr style=\"text-align: right;\">\n",
       "      <th></th>\n",
       "      <th>Nombre del encuestador</th>\n",
       "      <th>Fecha de la entrevista</th>\n",
       "      <th>Nombre de la persona entrevistada</th>\n",
       "      <th>Télefono de la persona entrevistada</th>\n",
       "      <th>Provincia donde vive</th>\n",
       "      <th>Distrito donde vive</th>\n",
       "      <th>Distrito donde vive.1</th>\n",
       "      <th>Distrito donde vive.2</th>\n",
       "      <th>Tipo de ubicacion: Manzana (Mz), Lote, Urbanizacion (urb) y/o Etapa.</th>\n",
       "      <th>Tipo de vía</th>\n",
       "      <th>...</th>\n",
       "      <th>consume_alimento_orig_animal_leche</th>\n",
       "      <th>freq_consumo_consume_alimento_orig_animal_leche</th>\n",
       "      <th>consume_alimento_orig_animal_pescado</th>\n",
       "      <th>freq_consumo_consume_alimento_orig_animal_pescado</th>\n",
       "      <th>consume_alimento_orig_animal_pollo</th>\n",
       "      <th>freq_consumo_consume_alimento_orig_animal_pollo</th>\n",
       "      <th>consume_alimento_orig_animal_res</th>\n",
       "      <th>freq_consumo_consume_alimento_orig_animal_res</th>\n",
       "      <th>consume_alimento_orig_animal_otros</th>\n",
       "      <th>freq_consumo_consume_alimento_orig_animal_otros</th>\n",
       "    </tr>\n",
       "  </thead>\n",
       "  <tbody>\n",
       "    <tr>\n",
       "      <th>834</th>\n",
       "      <td>SCH</td>\n",
       "      <td>2023-02-16</td>\n",
       "      <td>GENESIS ANDREINA RODRIGUEZ COLINA</td>\n",
       "      <td>917340847</td>\n",
       "      <td>Chincha</td>\n",
       "      <td>NaN</td>\n",
       "      <td>NaN</td>\n",
       "      <td>NaN</td>\n",
       "      <td>NaN</td>\n",
       "      <td>CA (Calle)</td>\n",
       "      <td>...</td>\n",
       "      <td>1</td>\n",
       "      <td>7.0</td>\n",
       "      <td>0</td>\n",
       "      <td>0</td>\n",
       "      <td>1</td>\n",
       "      <td>3</td>\n",
       "      <td>0</td>\n",
       "      <td>0.0</td>\n",
       "      <td>0</td>\n",
       "      <td>0</td>\n",
       "    </tr>\n",
       "    <tr>\n",
       "      <th>837</th>\n",
       "      <td>SCH</td>\n",
       "      <td>2023-02-16</td>\n",
       "      <td>YUNNELIS COROMOTO AZOCAR GAMARDO</td>\n",
       "      <td>927602126</td>\n",
       "      <td>Chincha</td>\n",
       "      <td>NaN</td>\n",
       "      <td>NaN</td>\n",
       "      <td>NaN</td>\n",
       "      <td>MZ A LOTE 6</td>\n",
       "      <td>Otro, especificar</td>\n",
       "      <td>...</td>\n",
       "      <td>0</td>\n",
       "      <td>0.0</td>\n",
       "      <td>0</td>\n",
       "      <td>0</td>\n",
       "      <td>1</td>\n",
       "      <td>0</td>\n",
       "      <td>1</td>\n",
       "      <td>1.0</td>\n",
       "      <td>0</td>\n",
       "      <td>0</td>\n",
       "    </tr>\n",
       "    <tr>\n",
       "      <th>1008</th>\n",
       "      <td>SCH</td>\n",
       "      <td>2023-02-17</td>\n",
       "      <td>ARANXA JASPE CALDERON</td>\n",
       "      <td>974880724</td>\n",
       "      <td>Chincha</td>\n",
       "      <td>NaN</td>\n",
       "      <td>NaN</td>\n",
       "      <td>NaN</td>\n",
       "      <td>NaN</td>\n",
       "      <td>Otro, especificar</td>\n",
       "      <td>...</td>\n",
       "      <td>1</td>\n",
       "      <td>2.0</td>\n",
       "      <td>0</td>\n",
       "      <td>0</td>\n",
       "      <td>1</td>\n",
       "      <td>4</td>\n",
       "      <td>1</td>\n",
       "      <td>1.0</td>\n",
       "      <td>0</td>\n",
       "      <td>0</td>\n",
       "    </tr>\n",
       "    <tr>\n",
       "      <th>1204</th>\n",
       "      <td>E. C</td>\n",
       "      <td>2023-02-10</td>\n",
       "      <td>Sheila Alvarez</td>\n",
       "      <td>927923685</td>\n",
       "      <td>Chincha</td>\n",
       "      <td>NaN</td>\n",
       "      <td>NaN</td>\n",
       "      <td>NaN</td>\n",
       "      <td>Av victoria 230 alfrente del colegio cooperativo</td>\n",
       "      <td>NaN</td>\n",
       "      <td>...</td>\n",
       "      <td>0</td>\n",
       "      <td>0.0</td>\n",
       "      <td>1</td>\n",
       "      <td>5</td>\n",
       "      <td>1</td>\n",
       "      <td>3</td>\n",
       "      <td>0</td>\n",
       "      <td>0.0</td>\n",
       "      <td>0</td>\n",
       "      <td>0</td>\n",
       "    </tr>\n",
       "    <tr>\n",
       "      <th>1478</th>\n",
       "      <td>SCH</td>\n",
       "      <td>2023-02-08</td>\n",
       "      <td>ENDERLIS MARIA GALVEZ BEOMONT</td>\n",
       "      <td>901131835</td>\n",
       "      <td>Chincha</td>\n",
       "      <td>NaN</td>\n",
       "      <td>NaN</td>\n",
       "      <td>NaN</td>\n",
       "      <td>NaN</td>\n",
       "      <td>CA (Calle)</td>\n",
       "      <td>...</td>\n",
       "      <td>0</td>\n",
       "      <td>0.0</td>\n",
       "      <td>1</td>\n",
       "      <td>1</td>\n",
       "      <td>1</td>\n",
       "      <td>4</td>\n",
       "      <td>0</td>\n",
       "      <td>0.0</td>\n",
       "      <td>0</td>\n",
       "      <td>0</td>\n",
       "    </tr>\n",
       "    <tr>\n",
       "      <th>1479</th>\n",
       "      <td>SCH</td>\n",
       "      <td>2023-02-08</td>\n",
       "      <td>ALBA MILAGROS GARCIA SUBERO</td>\n",
       "      <td>901052107</td>\n",
       "      <td>Chincha</td>\n",
       "      <td>NaN</td>\n",
       "      <td>NaN</td>\n",
       "      <td>NaN</td>\n",
       "      <td>NaN</td>\n",
       "      <td>AV (Avenida)</td>\n",
       "      <td>...</td>\n",
       "      <td>0</td>\n",
       "      <td>0.0</td>\n",
       "      <td>0</td>\n",
       "      <td>0</td>\n",
       "      <td>1</td>\n",
       "      <td>6</td>\n",
       "      <td>0</td>\n",
       "      <td>0.0</td>\n",
       "      <td>0</td>\n",
       "      <td>0</td>\n",
       "    </tr>\n",
       "    <tr>\n",
       "      <th>1484</th>\n",
       "      <td>SCH</td>\n",
       "      <td>2023-02-08</td>\n",
       "      <td>DAYENLIT ALEXANDRA ARAUJO SILVA</td>\n",
       "      <td>924567587</td>\n",
       "      <td>Chincha</td>\n",
       "      <td>NaN</td>\n",
       "      <td>NaN</td>\n",
       "      <td>NaN</td>\n",
       "      <td>NaN</td>\n",
       "      <td>JR (Jirón)</td>\n",
       "      <td>...</td>\n",
       "      <td>0</td>\n",
       "      <td>0.0</td>\n",
       "      <td>0</td>\n",
       "      <td>0</td>\n",
       "      <td>1</td>\n",
       "      <td>3</td>\n",
       "      <td>0</td>\n",
       "      <td>0.0</td>\n",
       "      <td>0</td>\n",
       "      <td>0</td>\n",
       "    </tr>\n",
       "  </tbody>\n",
       "</table>\n",
       "<p>7 rows × 103 columns</p>\n",
       "</div>"
      ],
      "text/plain": [
       "     Nombre del encuestador Fecha de la entrevista  \\\n",
       "834                     SCH             2023-02-16   \n",
       "837                     SCH             2023-02-16   \n",
       "1008                    SCH             2023-02-17   \n",
       "1204                   E. C             2023-02-10   \n",
       "1478                    SCH             2023-02-08   \n",
       "1479                    SCH             2023-02-08   \n",
       "1484                    SCH             2023-02-08   \n",
       "\n",
       "      Nombre de la persona entrevistada Télefono de la persona entrevistada  \\\n",
       "834   GENESIS ANDREINA RODRIGUEZ COLINA                           917340847   \n",
       "837    YUNNELIS COROMOTO AZOCAR GAMARDO                           927602126   \n",
       "1008              ARANXA JASPE CALDERON                           974880724   \n",
       "1204                     Sheila Alvarez                           927923685   \n",
       "1478      ENDERLIS MARIA GALVEZ BEOMONT                           901131835   \n",
       "1479        ALBA MILAGROS GARCIA SUBERO                           901052107   \n",
       "1484    DAYENLIT ALEXANDRA ARAUJO SILVA                           924567587   \n",
       "\n",
       "     Provincia donde vive Distrito donde vive Distrito donde vive.1  \\\n",
       "834               Chincha                 NaN                   NaN   \n",
       "837               Chincha                 NaN                   NaN   \n",
       "1008              Chincha                 NaN                   NaN   \n",
       "1204              Chincha                 NaN                   NaN   \n",
       "1478              Chincha                 NaN                   NaN   \n",
       "1479              Chincha                 NaN                   NaN   \n",
       "1484              Chincha                 NaN                   NaN   \n",
       "\n",
       "     Distrito donde vive.2  \\\n",
       "834                    NaN   \n",
       "837                    NaN   \n",
       "1008                   NaN   \n",
       "1204                   NaN   \n",
       "1478                   NaN   \n",
       "1479                   NaN   \n",
       "1484                   NaN   \n",
       "\n",
       "     Tipo de ubicacion: Manzana (Mz), Lote, Urbanizacion (urb) y/o Etapa.  \\\n",
       "834                                                 NaN                     \n",
       "837                                         MZ A LOTE 6                     \n",
       "1008                                                NaN                     \n",
       "1204   Av victoria 230 alfrente del colegio cooperativo                     \n",
       "1478                                                NaN                     \n",
       "1479                                                NaN                     \n",
       "1484                                                NaN                     \n",
       "\n",
       "            Tipo de vía  ... consume_alimento_orig_animal_leche  \\\n",
       "834          CA (Calle)  ...                                  1   \n",
       "837   Otro, especificar  ...                                  0   \n",
       "1008  Otro, especificar  ...                                  1   \n",
       "1204                NaN  ...                                  0   \n",
       "1478         CA (Calle)  ...                                  0   \n",
       "1479       AV (Avenida)  ...                                  0   \n",
       "1484         JR (Jirón)  ...                                  0   \n",
       "\n",
       "     freq_consumo_consume_alimento_orig_animal_leche  \\\n",
       "834                                              7.0   \n",
       "837                                              0.0   \n",
       "1008                                             2.0   \n",
       "1204                                             0.0   \n",
       "1478                                             0.0   \n",
       "1479                                             0.0   \n",
       "1484                                             0.0   \n",
       "\n",
       "      consume_alimento_orig_animal_pescado  \\\n",
       "834                                      0   \n",
       "837                                      0   \n",
       "1008                                     0   \n",
       "1204                                     1   \n",
       "1478                                     1   \n",
       "1479                                     0   \n",
       "1484                                     0   \n",
       "\n",
       "      freq_consumo_consume_alimento_orig_animal_pescado  \\\n",
       "834                                                   0   \n",
       "837                                                   0   \n",
       "1008                                                  0   \n",
       "1204                                                  5   \n",
       "1478                                                  1   \n",
       "1479                                                  0   \n",
       "1484                                                  0   \n",
       "\n",
       "     consume_alimento_orig_animal_pollo  \\\n",
       "834                                   1   \n",
       "837                                   1   \n",
       "1008                                  1   \n",
       "1204                                  1   \n",
       "1478                                  1   \n",
       "1479                                  1   \n",
       "1484                                  1   \n",
       "\n",
       "     freq_consumo_consume_alimento_orig_animal_pollo  \\\n",
       "834                                                3   \n",
       "837                                                0   \n",
       "1008                                               4   \n",
       "1204                                               3   \n",
       "1478                                               4   \n",
       "1479                                               6   \n",
       "1484                                               3   \n",
       "\n",
       "     consume_alimento_orig_animal_res  \\\n",
       "834                                 0   \n",
       "837                                 1   \n",
       "1008                                1   \n",
       "1204                                0   \n",
       "1478                                0   \n",
       "1479                                0   \n",
       "1484                                0   \n",
       "\n",
       "     freq_consumo_consume_alimento_orig_animal_res  \\\n",
       "834                                            0.0   \n",
       "837                                            1.0   \n",
       "1008                                           1.0   \n",
       "1204                                           0.0   \n",
       "1478                                           0.0   \n",
       "1479                                           0.0   \n",
       "1484                                           0.0   \n",
       "\n",
       "      consume_alimento_orig_animal_otros  \\\n",
       "834                                    0   \n",
       "837                                    0   \n",
       "1008                                   0   \n",
       "1204                                   0   \n",
       "1478                                   0   \n",
       "1479                                   0   \n",
       "1484                                   0   \n",
       "\n",
       "     freq_consumo_consume_alimento_orig_animal_otros  \n",
       "834                                                0  \n",
       "837                                                0  \n",
       "1008                                               0  \n",
       "1204                                               0  \n",
       "1478                                               0  \n",
       "1479                                               0  \n",
       "1484                                               0  \n",
       "\n",
       "[7 rows x 103 columns]"
      ]
     },
     "execution_count": 28,
     "metadata": {},
     "output_type": "execute_result"
    }
   ],
   "source": [
    "df[(df[\"Provincia donde vive\"] == \"Chincha\") & (df[\"Distrito donde vive.2\"].isna())]"
   ]
  },
  {
   "cell_type": "code",
   "execution_count": 37,
   "id": "c205762c-1b7d-4a0d-b6e0-934c65e95fb5",
   "metadata": {},
   "outputs": [],
   "source": [
    "df[\"Distrito donde vive\"] = (df[\"Distrito donde vive\"]\n",
    " .fillna(df[\"Distrito donde vive.1\"])\n",
    " .fillna(df[\"Distrito donde vive.2\"])\n",
    ")"
   ]
  },
  {
   "cell_type": "code",
   "execution_count": 39,
   "id": "0a1ce978-4157-481a-9393-a2221fcf8f25",
   "metadata": {},
   "outputs": [
    {
     "data": {
      "text/plain": [
       "31"
      ]
     },
     "execution_count": 39,
     "metadata": {},
     "output_type": "execute_result"
    }
   ],
   "source": [
    "# Verifica que nos nans por separado suman igual\n",
    "7+2+16+6"
   ]
  },
  {
   "cell_type": "code",
   "execution_count": 40,
   "id": "e79005f1-0cfc-4a0e-8604-815d2f6d7c02",
   "metadata": {},
   "outputs": [
    {
     "data": {
      "text/plain": [
       "31"
      ]
     },
     "execution_count": 40,
     "metadata": {},
     "output_type": "execute_result"
    }
   ],
   "source": [
    "# Esto comprueba que no se han sobrepuesto valores de las columnas\n",
    "df[\"Distrito donde vive\"].isna().sum()"
   ]
  },
  {
   "cell_type": "code",
   "execution_count": 68,
   "id": "652a0d01-720c-48ef-aeab-e1028d50a1fe",
   "metadata": {},
   "outputs": [
    {
     "data": {
      "image/png": "[encoded data removed]",
      "text/plain": [
       "<Figure size 640x480 with 1 Axes>"
      ]
     },
     "metadata": {},
     "output_type": "display_data"
    }
   ],
   "source": [
    "ax = df[\"Distrito donde vive\"].value_counts().plot.bar()\n",
    "ax.bar_label(ax.containers[0]);"
   ]
  },
  {
   "cell_type": "code",
   "execution_count": 353,
   "id": "34b0f7e3-1bee-453e-b239-8316de64aeda",
   "metadata": {},
   "outputs": [],
   "source": [
    "drop_cols = [\"Distrito donde vive.1\", \"Distrito donde vive.2\"]\n",
    "df = df.drop(drop_cols, axis=1)"
   ]
  },
  {
   "cell_type": "code",
   "execution_count": 44,
   "id": "0c84a125-2418-42ce-b6a9-df518b08fa6e",
   "metadata": {},
   "outputs": [
    {
     "data": {
      "text/plain": [
       "array(['Femenino', 'Masculino', nan], dtype=object)"
      ]
     },
     "execution_count": 44,
     "metadata": {},
     "output_type": "execute_result"
    }
   ],
   "source": [
    "df[\"¿Cuál es SU sexo?\"].unique()"
   ]
  },
  {
   "cell_type": "code",
   "execution_count": 45,
   "id": "3c1ba3c9-4aa1-4083-978c-00a14a3abf2d",
   "metadata": {},
   "outputs": [
    {
     "data": {
      "text/plain": [
       "1"
      ]
     },
     "execution_count": 45,
     "metadata": {},
     "output_type": "execute_result"
    }
   ],
   "source": [
    "df[\"¿Cuál es SU sexo?\"].isna().sum()"
   ]
  },
  {
   "cell_type": "code",
   "execution_count": 46,
   "id": "5d8f91e0-521c-4bad-bf3b-744b7d8c9c39",
   "metadata": {},
   "outputs": [
    {
     "data": {
      "text/html": [
       "<div>\n",
       "<style scoped>\n",
       "    .dataframe tbody tr th:only-of-type {\n",
       "        vertical-align: middle;\n",
       "    }\n",
       "\n",
       "    .dataframe tbody tr th {\n",
       "        vertical-align: top;\n",
       "    }\n",
       "\n",
       "    .dataframe thead th {\n",
       "        text-align: right;\n",
       "    }\n",
       "</style>\n",
       "<table border=\"1\" class=\"dataframe\">\n",
       "  <thead>\n",
       "    <tr style=\"text-align: right;\">\n",
       "      <th></th>\n",
       "      <th>Nombre del encuestador</th>\n",
       "      <th>Fecha de la entrevista</th>\n",
       "      <th>Nombre de la persona entrevistada</th>\n",
       "      <th>Télefono de la persona entrevistada</th>\n",
       "      <th>Provincia donde vive</th>\n",
       "      <th>Distrito donde vive</th>\n",
       "      <th>Distrito donde vive.1</th>\n",
       "      <th>Distrito donde vive.2</th>\n",
       "      <th>Tipo de ubicacion: Manzana (Mz), Lote, Urbanizacion (urb) y/o Etapa.</th>\n",
       "      <th>Tipo de vía</th>\n",
       "      <th>...</th>\n",
       "      <th>consume_alimento_orig_animal_leche</th>\n",
       "      <th>freq_consumo_consume_alimento_orig_animal_leche</th>\n",
       "      <th>consume_alimento_orig_animal_pescado</th>\n",
       "      <th>freq_consumo_consume_alimento_orig_animal_pescado</th>\n",
       "      <th>consume_alimento_orig_animal_pollo</th>\n",
       "      <th>freq_consumo_consume_alimento_orig_animal_pollo</th>\n",
       "      <th>consume_alimento_orig_animal_res</th>\n",
       "      <th>freq_consumo_consume_alimento_orig_animal_res</th>\n",
       "      <th>consume_alimento_orig_animal_otros</th>\n",
       "      <th>freq_consumo_consume_alimento_orig_animal_otros</th>\n",
       "    </tr>\n",
       "  </thead>\n",
       "  <tbody>\n",
       "    <tr>\n",
       "      <th>1012</th>\n",
       "      <td>NaN</td>\n",
       "      <td>2023-02-17</td>\n",
       "      <td>NaN</td>\n",
       "      <td>NaN</td>\n",
       "      <td>Nazca</td>\n",
       "      <td>NaN</td>\n",
       "      <td>NaN</td>\n",
       "      <td>NaN</td>\n",
       "      <td>NaN</td>\n",
       "      <td>NaN</td>\n",
       "      <td>...</td>\n",
       "      <td>0</td>\n",
       "      <td>0.0</td>\n",
       "      <td>0</td>\n",
       "      <td>0</td>\n",
       "      <td>0</td>\n",
       "      <td>0</td>\n",
       "      <td>0</td>\n",
       "      <td>0.0</td>\n",
       "      <td>0</td>\n",
       "      <td>0</td>\n",
       "    </tr>\n",
       "  </tbody>\n",
       "</table>\n",
       "<p>1 rows × 103 columns</p>\n",
       "</div>"
      ],
      "text/plain": [
       "     Nombre del encuestador Fecha de la entrevista  \\\n",
       "1012                    NaN             2023-02-17   \n",
       "\n",
       "     Nombre de la persona entrevistada Télefono de la persona entrevistada  \\\n",
       "1012                               NaN                                 NaN   \n",
       "\n",
       "     Provincia donde vive Distrito donde vive Distrito donde vive.1  \\\n",
       "1012                Nazca                 NaN                   NaN   \n",
       "\n",
       "     Distrito donde vive.2  \\\n",
       "1012                   NaN   \n",
       "\n",
       "     Tipo de ubicacion: Manzana (Mz), Lote, Urbanizacion (urb) y/o Etapa.  \\\n",
       "1012                                                NaN                     \n",
       "\n",
       "     Tipo de vía  ... consume_alimento_orig_animal_leche  \\\n",
       "1012         NaN  ...                                  0   \n",
       "\n",
       "     freq_consumo_consume_alimento_orig_animal_leche  \\\n",
       "1012                                             0.0   \n",
       "\n",
       "      consume_alimento_orig_animal_pescado  \\\n",
       "1012                                     0   \n",
       "\n",
       "      freq_consumo_consume_alimento_orig_animal_pescado  \\\n",
       "1012                                                  0   \n",
       "\n",
       "     consume_alimento_orig_animal_pollo  \\\n",
       "1012                                  0   \n",
       "\n",
       "     freq_consumo_consume_alimento_orig_animal_pollo  \\\n",
       "1012                                               0   \n",
       "\n",
       "     consume_alimento_orig_animal_res  \\\n",
       "1012                                0   \n",
       "\n",
       "     freq_consumo_consume_alimento_orig_animal_res  \\\n",
       "1012                                           0.0   \n",
       "\n",
       "      consume_alimento_orig_animal_otros  \\\n",
       "1012                                   0   \n",
       "\n",
       "     freq_consumo_consume_alimento_orig_animal_otros  \n",
       "1012                                               0  \n",
       "\n",
       "[1 rows x 103 columns]"
      ]
     },
     "execution_count": 46,
     "metadata": {},
     "output_type": "execute_result"
    }
   ],
   "source": [
    "df[df[\"¿Cuál es SU sexo?\"].isna()]"
   ]
  },
  {
   "cell_type": "code",
   "execution_count": 50,
   "id": "87af76b4-6e92-479b-9b2b-55765324a07b",
   "metadata": {},
   "outputs": [
    {
     "data": {
      "text/plain": [
       "103"
      ]
     },
     "execution_count": 50,
     "metadata": {},
     "output_type": "execute_result"
    }
   ],
   "source": [
    "df.shape[1]"
   ]
  },
  {
   "cell_type": "code",
   "execution_count": 49,
   "id": "7713a5c1-c4e7-4475-90cf-daf4f4a5fc36",
   "metadata": {},
   "outputs": [
    {
     "data": {
      "text/plain": [
       "79"
      ]
     },
     "execution_count": 49,
     "metadata": {},
     "output_type": "execute_result"
    }
   ],
   "source": [
    "df.loc[1012].isna().sum()"
   ]
  },
  {
   "cell_type": "code",
   "execution_count": 53,
   "id": "4da8c3fc-93b0-4e6a-a02a-f9f51057de5e",
   "metadata": {},
   "outputs": [
    {
     "data": {
      "text/plain": [
       "76.699"
      ]
     },
     "execution_count": 53,
     "metadata": {},
     "output_type": "execute_result"
    }
   ],
   "source": [
    "round(df.loc[1012].isna().sum() / df.shape[1] * 100, 4)"
   ]
  },
  {
   "cell_type": "code",
   "execution_count": 56,
   "id": "32e1d43c-0c9f-4032-b40b-b7f278e6c73e",
   "metadata": {},
   "outputs": [
    {
     "data": {
      "text/plain": [
       "Fecha de la entrevista                                         2023-02-17 00:00:00\n",
       "Provincia donde vive                                                         Nazca\n",
       "_id                                                                      219871864\n",
       "n_miembros_menores                                                               0\n",
       "n_miembros_adultos                                                               0\n",
       "n_miembros_mayores                                                               0\n",
       "n_miembros_femenino                                                              0\n",
       "n_miembros_masculino                                                             0\n",
       "consume_alimento_orig_animal_cerdo                                               0\n",
       "freq_consumo_consume_alimento_orig_animal_cerdo                                0.0\n",
       "consume_alimento_orig_animal_derivados lacteos                                   0\n",
       "freq_consumo_consume_alimento_orig_animal_derivados lacteos                      0\n",
       "consume_alimento_orig_animal_huevos                                              0\n",
       "freq_consumo_consume_alimento_orig_animal_huevos                               0.0\n",
       "consume_alimento_orig_animal_leche                                               0\n",
       "freq_consumo_consume_alimento_orig_animal_leche                                0.0\n",
       "consume_alimento_orig_animal_pescado                                             0\n",
       "freq_consumo_consume_alimento_orig_animal_pescado                                0\n",
       "consume_alimento_orig_animal_pollo                                               0\n",
       "freq_consumo_consume_alimento_orig_animal_pollo                                  0\n",
       "consume_alimento_orig_animal_res                                                 0\n",
       "freq_consumo_consume_alimento_orig_animal_res                                  0.0\n",
       "consume_alimento_orig_animal_otros                                               0\n",
       "freq_consumo_consume_alimento_orig_animal_otros                                  0\n",
       "Name: 1012, dtype: object"
      ]
     },
     "execution_count": 56,
     "metadata": {},
     "output_type": "execute_result"
    }
   ],
   "source": [
    "df.iloc[1012][df.loc[1012].notna()]"
   ]
  },
  {
   "cell_type": "code",
   "execution_count": 57,
   "id": "b7947cc6-e64e-41a5-8df0-7efe424bf560",
   "metadata": {},
   "outputs": [],
   "source": [
    "# Eliminar fila que tiene practicamente todos los valores nulos\n",
    "df = df.drop(1012)"
   ]
  },
  {
   "cell_type": "code",
   "execution_count": 58,
   "id": "c5b9afa4-bdfa-4d25-b1af-5f79ed8c8505",
   "metadata": {},
   "outputs": [
    {
     "data": {
      "text/plain": [
       "array(['Femenino', 'Masculino'], dtype=object)"
      ]
     },
     "execution_count": 58,
     "metadata": {},
     "output_type": "execute_result"
    }
   ],
   "source": [
    "df[\"¿Cuál es SU sexo?\"].unique()"
   ]
  },
  {
   "cell_type": "code",
   "execution_count": 61,
   "id": "795ced4d-bc69-43d5-b5e1-638ab67f71ac",
   "metadata": {},
   "outputs": [
    {
     "data": {
      "text/plain": [
       "[Text(0, 0, '1621'), Text(0, 0, '192')]"
      ]
     },
     "execution_count": 61,
     "metadata": {},
     "output_type": "execute_result"
    },
    {
     "data": {
      "image/png": "[encoded data removed]",
      "text/plain": [
       "<Figure size 640x480 with 1 Axes>"
      ]
     },
     "metadata": {},
     "output_type": "display_data"
    }
   ],
   "source": [
    "ax = df[\"¿Cuál es SU sexo?\"].value_counts().plot.bar()\n",
    "ax.bar_label(ax.containers[0])"
   ]
  },
  {
   "cell_type": "code",
   "execution_count": 70,
   "id": "94883aeb-a2ea-4d82-bdb2-d6a681e7df7a",
   "metadata": {},
   "outputs": [
    {
     "data": {
      "text/plain": [
       "array(['Primaria', 'Secundaria', 'Universitaria', 'Superior Técnico',\n",
       "       'Posgrado (Doctorado)', 'Posgrado (Maestría)', 'No alfabetizado',\n",
       "       nan], dtype=object)"
      ]
     },
     "execution_count": 70,
     "metadata": {},
     "output_type": "execute_result"
    }
   ],
   "source": [
    "df[\"¿Cual es su nivel educativo?\"].unique()"
   ]
  },
  {
   "cell_type": "code",
   "execution_count": 72,
   "id": "ae8d1232-4dd2-44a8-a11d-5b97ebd11381",
   "metadata": {},
   "outputs": [
    {
     "data": {
      "text/plain": [
       "1"
      ]
     },
     "execution_count": 72,
     "metadata": {},
     "output_type": "execute_result"
    }
   ],
   "source": [
    "df[\"¿Cual es su nivel educativo?\"].isna().sum()"
   ]
  },
  {
   "cell_type": "code",
   "execution_count": null,
   "id": "c92738a4-6355-49c3-89fe-e51344169e20",
   "metadata": {},
   "outputs": [],
   "source": [
    "df[\"¿Cual es su nivel educativo?\"]"
   ]
  },
  {
   "cell_type": "code",
   "execution_count": 78,
   "id": "77efee6e-8766-44a7-b063-75229f7c5caa",
   "metadata": {},
   "outputs": [
    {
     "data": {
      "text/html": [
       "<div>\n",
       "<style scoped>\n",
       "    .dataframe tbody tr th:only-of-type {\n",
       "        vertical-align: middle;\n",
       "    }\n",
       "\n",
       "    .dataframe tbody tr th {\n",
       "        vertical-align: top;\n",
       "    }\n",
       "\n",
       "    .dataframe thead th {\n",
       "        text-align: right;\n",
       "    }\n",
       "</style>\n",
       "<table border=\"1\" class=\"dataframe\">\n",
       "  <thead>\n",
       "    <tr style=\"text-align: right;\">\n",
       "      <th></th>\n",
       "      <th>¿Cuál es SU sexo?</th>\n",
       "      <th>¿Cual es su nivel educativo?</th>\n",
       "      <th>¿Completó el nivel de educacion seleccionado?</th>\n",
       "    </tr>\n",
       "  </thead>\n",
       "  <tbody>\n",
       "    <tr>\n",
       "      <th>281</th>\n",
       "      <td>Femenino</td>\n",
       "      <td>NaN</td>\n",
       "      <td>Completa</td>\n",
       "    </tr>\n",
       "  </tbody>\n",
       "</table>\n",
       "</div>"
      ],
      "text/plain": [
       "    ¿Cuál es SU sexo? ¿Cual es su nivel educativo?  \\\n",
       "281          Femenino                          NaN   \n",
       "\n",
       "    ¿Completó el nivel de educacion seleccionado?  \n",
       "281                                      Completa  "
      ]
     },
     "execution_count": 78,
     "metadata": {},
     "output_type": "execute_result"
    }
   ],
   "source": [
    "df[df[\"¿Cual es su nivel educativo?\"].isna()][[\n",
    "    \"¿Cuál es SU sexo?\",\n",
    "    \"¿Cual es su nivel educativo?\",\n",
    "    \"¿Completó el nivel de educacion seleccionado?\"]]"
   ]
  },
  {
   "cell_type": "code",
   "execution_count": 81,
   "id": "65f0ca30-fe01-4c8b-ad59-f5736fadd125",
   "metadata": {},
   "outputs": [
    {
     "data": {
      "text/plain": [
       "count           1620\n",
       "unique             7\n",
       "top       Secundaria\n",
       "freq            1047\n",
       "Name: ¿Cual es su nivel educativo?, dtype: object"
      ]
     },
     "execution_count": 81,
     "metadata": {},
     "output_type": "execute_result"
    }
   ],
   "source": [
    "df[df[\"¿Cuál es SU sexo?\"] == \"Femenino\"][\"¿Cual es su nivel educativo?\"].describe()"
   ]
  },
  {
   "cell_type": "code",
   "execution_count": 83,
   "id": "66b0afbd-4f9f-41b1-8304-f45d2f961ef8",
   "metadata": {},
   "outputs": [
    {
     "data": {
      "text/plain": [
       "0    Secundaria\n",
       "Name: ¿Cual es su nivel educativo?, dtype: object"
      ]
     },
     "execution_count": 83,
     "metadata": {},
     "output_type": "execute_result"
    }
   ],
   "source": [
    "df[df[\"¿Cuál es SU sexo?\"] == \"Femenino\"][\"¿Cual es su nivel educativo?\"].mode()"
   ]
  },
  {
   "cell_type": "code",
   "execution_count": 84,
   "id": "8a43352a-7f5f-4d26-8134-6f1140325928",
   "metadata": {},
   "outputs": [],
   "source": [
    "df.loc[281, \"¿Cual es su nivel educativo?\"] = df[df[\"¿Cuál es SU sexo?\"] == \"Femenino\"][\"¿Cual es su nivel educativo?\"].mode()[0]"
   ]
  },
  {
   "cell_type": "code",
   "execution_count": 85,
   "id": "acd1c88a-e9e6-4d24-b50f-2c742fd82bd5",
   "metadata": {},
   "outputs": [
    {
     "data": {
      "text/plain": [
       "array(['Primaria', 'Secundaria', 'Universitaria', 'Superior Técnico',\n",
       "       'Posgrado (Doctorado)', 'Posgrado (Maestría)', 'No alfabetizado'],\n",
       "      dtype=object)"
      ]
     },
     "execution_count": 85,
     "metadata": {},
     "output_type": "execute_result"
    }
   ],
   "source": [
    "df[\"¿Cual es su nivel educativo?\"].unique()"
   ]
  },
  {
   "cell_type": "code",
   "execution_count": 89,
   "id": "bb61d436-db4c-40cf-b071-83000012f411",
   "metadata": {
    "tags": []
   },
   "outputs": [
    {
     "data": {
      "image/png": "[encoded data removed]",
      "text/plain": [
       "<Figure size 640x480 with 1 Axes>"
      ]
     },
     "metadata": {},
     "output_type": "display_data"
    }
   ],
   "source": [
    "order = ['No alfabetizado', 'Primaria', 'Secundaria', \n",
    "         'Universitaria', 'Superior Técnico',\n",
    "         'Posgrado (Maestría)', 'Posgrado (Doctorado)']\n",
    "ax = df[\"¿Cual es su nivel educativo?\"].value_counts()[order].plot.bar()\n",
    "ax.bar_label(ax.containers[0]);"
   ]
  },
  {
   "cell_type": "code",
   "execution_count": 90,
   "id": "f2af33ec-d0b0-4900-bc49-3f123318928a",
   "metadata": {},
   "outputs": [
    {
     "data": {
      "text/plain": [
       "array(['Incompleta', 'Completa', nan], dtype=object)"
      ]
     },
     "execution_count": 90,
     "metadata": {},
     "output_type": "execute_result"
    }
   ],
   "source": [
    "df[\"¿Completó el nivel de educacion seleccionado?\"].unique()"
   ]
  },
  {
   "cell_type": "code",
   "execution_count": 92,
   "id": "b7a61f9e-ca56-481d-8740-ae0986285265",
   "metadata": {},
   "outputs": [
    {
     "data": {
      "text/html": [
       "<div>\n",
       "<style scoped>\n",
       "    .dataframe tbody tr th:only-of-type {\n",
       "        vertical-align: middle;\n",
       "    }\n",
       "\n",
       "    .dataframe tbody tr th {\n",
       "        vertical-align: top;\n",
       "    }\n",
       "\n",
       "    .dataframe thead th {\n",
       "        text-align: right;\n",
       "    }\n",
       "</style>\n",
       "<table border=\"1\" class=\"dataframe\">\n",
       "  <thead>\n",
       "    <tr style=\"text-align: right;\">\n",
       "      <th></th>\n",
       "      <th>¿Cuál es SU sexo?</th>\n",
       "      <th>¿Cual es su nivel educativo?</th>\n",
       "      <th>¿Completó el nivel de educacion seleccionado?</th>\n",
       "    </tr>\n",
       "  </thead>\n",
       "  <tbody>\n",
       "    <tr>\n",
       "      <th>4</th>\n",
       "      <td>Femenino</td>\n",
       "      <td>Secundaria</td>\n",
       "      <td>NaN</td>\n",
       "    </tr>\n",
       "    <tr>\n",
       "      <th>80</th>\n",
       "      <td>Femenino</td>\n",
       "      <td>Superior Técnico</td>\n",
       "      <td>NaN</td>\n",
       "    </tr>\n",
       "    <tr>\n",
       "      <th>176</th>\n",
       "      <td>Femenino</td>\n",
       "      <td>No alfabetizado</td>\n",
       "      <td>NaN</td>\n",
       "    </tr>\n",
       "    <tr>\n",
       "      <th>969</th>\n",
       "      <td>Femenino</td>\n",
       "      <td>No alfabetizado</td>\n",
       "      <td>NaN</td>\n",
       "    </tr>\n",
       "    <tr>\n",
       "      <th>1106</th>\n",
       "      <td>Femenino</td>\n",
       "      <td>No alfabetizado</td>\n",
       "      <td>NaN</td>\n",
       "    </tr>\n",
       "    <tr>\n",
       "      <th>1136</th>\n",
       "      <td>Masculino</td>\n",
       "      <td>No alfabetizado</td>\n",
       "      <td>NaN</td>\n",
       "    </tr>\n",
       "    <tr>\n",
       "      <th>1439</th>\n",
       "      <td>Femenino</td>\n",
       "      <td>Secundaria</td>\n",
       "      <td>NaN</td>\n",
       "    </tr>\n",
       "    <tr>\n",
       "      <th>1501</th>\n",
       "      <td>Femenino</td>\n",
       "      <td>No alfabetizado</td>\n",
       "      <td>NaN</td>\n",
       "    </tr>\n",
       "    <tr>\n",
       "      <th>1581</th>\n",
       "      <td>Masculino</td>\n",
       "      <td>No alfabetizado</td>\n",
       "      <td>NaN</td>\n",
       "    </tr>\n",
       "    <tr>\n",
       "      <th>1591</th>\n",
       "      <td>Femenino</td>\n",
       "      <td>No alfabetizado</td>\n",
       "      <td>NaN</td>\n",
       "    </tr>\n",
       "    <tr>\n",
       "      <th>1698</th>\n",
       "      <td>Femenino</td>\n",
       "      <td>Secundaria</td>\n",
       "      <td>NaN</td>\n",
       "    </tr>\n",
       "    <tr>\n",
       "      <th>1803</th>\n",
       "      <td>Femenino</td>\n",
       "      <td>No alfabetizado</td>\n",
       "      <td>NaN</td>\n",
       "    </tr>\n",
       "  </tbody>\n",
       "</table>\n",
       "</div>"
      ],
      "text/plain": [
       "     ¿Cuál es SU sexo? ¿Cual es su nivel educativo?  \\\n",
       "4             Femenino                   Secundaria   \n",
       "80            Femenino             Superior Técnico   \n",
       "176           Femenino              No alfabetizado   \n",
       "969           Femenino              No alfabetizado   \n",
       "1106          Femenino              No alfabetizado   \n",
       "1136         Masculino              No alfabetizado   \n",
       "1439          Femenino                   Secundaria   \n",
       "1501          Femenino              No alfabetizado   \n",
       "1581         Masculino              No alfabetizado   \n",
       "1591          Femenino              No alfabetizado   \n",
       "1698          Femenino                   Secundaria   \n",
       "1803          Femenino              No alfabetizado   \n",
       "\n",
       "     ¿Completó el nivel de educacion seleccionado?  \n",
       "4                                              NaN  \n",
       "80                                             NaN  \n",
       "176                                            NaN  \n",
       "969                                            NaN  \n",
       "1106                                           NaN  \n",
       "1136                                           NaN  \n",
       "1439                                           NaN  \n",
       "1501                                           NaN  \n",
       "1581                                           NaN  \n",
       "1591                                           NaN  \n",
       "1698                                           NaN  \n",
       "1803                                           NaN  "
      ]
     },
     "execution_count": 92,
     "metadata": {},
     "output_type": "execute_result"
    }
   ],
   "source": [
    "df[df[\"¿Completó el nivel de educacion seleccionado?\"].isna()][[\n",
    "    \"¿Cuál es SU sexo?\",\n",
    "    \"¿Cual es su nivel educativo?\",\n",
    "    \"¿Completó el nivel de educacion seleccionado?\"]]"
   ]
  },
  {
   "cell_type": "code",
   "execution_count": null,
   "id": "1e659cf2-6059-41e4-819a-3b000921aa9d",
   "metadata": {},
   "outputs": [],
   "source": []
  },
  {
   "cell_type": "code",
   "execution_count": 95,
   "id": "41ce914e-c8dc-4343-a373-a0b30ee06d45",
   "metadata": {},
   "outputs": [
    {
     "data": {
      "text/html": [
       "<div>\n",
       "<style scoped>\n",
       "    .dataframe tbody tr th:only-of-type {\n",
       "        vertical-align: middle;\n",
       "    }\n",
       "\n",
       "    .dataframe tbody tr th {\n",
       "        vertical-align: top;\n",
       "    }\n",
       "\n",
       "    .dataframe thead th {\n",
       "        text-align: right;\n",
       "    }\n",
       "</style>\n",
       "<table border=\"1\" class=\"dataframe\">\n",
       "  <thead>\n",
       "    <tr style=\"text-align: right;\">\n",
       "      <th></th>\n",
       "      <th>¿Cuál es SU sexo?</th>\n",
       "      <th>¿Cual es su nivel educativo?</th>\n",
       "      <th>¿Completó el nivel de educacion seleccionado?</th>\n",
       "    </tr>\n",
       "  </thead>\n",
       "  <tbody>\n",
       "    <tr>\n",
       "      <th>176</th>\n",
       "      <td>Femenino</td>\n",
       "      <td>No alfabetizado</td>\n",
       "      <td>NaN</td>\n",
       "    </tr>\n",
       "    <tr>\n",
       "      <th>904</th>\n",
       "      <td>Femenino</td>\n",
       "      <td>No alfabetizado</td>\n",
       "      <td>Incompleta</td>\n",
       "    </tr>\n",
       "    <tr>\n",
       "      <th>969</th>\n",
       "      <td>Femenino</td>\n",
       "      <td>No alfabetizado</td>\n",
       "      <td>NaN</td>\n",
       "    </tr>\n",
       "    <tr>\n",
       "      <th>1106</th>\n",
       "      <td>Femenino</td>\n",
       "      <td>No alfabetizado</td>\n",
       "      <td>NaN</td>\n",
       "    </tr>\n",
       "    <tr>\n",
       "      <th>1136</th>\n",
       "      <td>Masculino</td>\n",
       "      <td>No alfabetizado</td>\n",
       "      <td>NaN</td>\n",
       "    </tr>\n",
       "    <tr>\n",
       "      <th>1501</th>\n",
       "      <td>Femenino</td>\n",
       "      <td>No alfabetizado</td>\n",
       "      <td>NaN</td>\n",
       "    </tr>\n",
       "    <tr>\n",
       "      <th>1581</th>\n",
       "      <td>Masculino</td>\n",
       "      <td>No alfabetizado</td>\n",
       "      <td>NaN</td>\n",
       "    </tr>\n",
       "    <tr>\n",
       "      <th>1591</th>\n",
       "      <td>Femenino</td>\n",
       "      <td>No alfabetizado</td>\n",
       "      <td>NaN</td>\n",
       "    </tr>\n",
       "    <tr>\n",
       "      <th>1803</th>\n",
       "      <td>Femenino</td>\n",
       "      <td>No alfabetizado</td>\n",
       "      <td>NaN</td>\n",
       "    </tr>\n",
       "  </tbody>\n",
       "</table>\n",
       "</div>"
      ],
      "text/plain": [
       "     ¿Cuál es SU sexo? ¿Cual es su nivel educativo?  \\\n",
       "176           Femenino              No alfabetizado   \n",
       "904           Femenino              No alfabetizado   \n",
       "969           Femenino              No alfabetizado   \n",
       "1106          Femenino              No alfabetizado   \n",
       "1136         Masculino              No alfabetizado   \n",
       "1501          Femenino              No alfabetizado   \n",
       "1581         Masculino              No alfabetizado   \n",
       "1591          Femenino              No alfabetizado   \n",
       "1803          Femenino              No alfabetizado   \n",
       "\n",
       "     ¿Completó el nivel de educacion seleccionado?  \n",
       "176                                            NaN  \n",
       "904                                     Incompleta  \n",
       "969                                            NaN  \n",
       "1106                                           NaN  \n",
       "1136                                           NaN  \n",
       "1501                                           NaN  \n",
       "1581                                           NaN  \n",
       "1591                                           NaN  \n",
       "1803                                           NaN  "
      ]
     },
     "execution_count": 95,
     "metadata": {},
     "output_type": "execute_result"
    }
   ],
   "source": [
    "df[df[\"¿Cual es su nivel educativo?\"] == \"No alfabetizado\"][[\n",
    "    \"¿Cuál es SU sexo?\",\n",
    "    \"¿Cual es su nivel educativo?\",\n",
    "    \"¿Completó el nivel de educacion seleccionado?\"]]"
   ]
  },
  {
   "cell_type": "code",
   "execution_count": 97,
   "id": "208362af-fa88-495d-a779-86abb90edd95",
   "metadata": {},
   "outputs": [],
   "source": [
    "df.loc[df[\"¿Cual es su nivel educativo?\"] == \"No alfabetizado\", \"¿Completó el nivel de educacion seleccionado?\"] = \"No alfabetizado\""
   ]
  },
  {
   "cell_type": "code",
   "execution_count": 98,
   "id": "b21f9437-ef9c-4756-9978-97c7f07f9807",
   "metadata": {},
   "outputs": [
    {
     "data": {
      "text/html": [
       "<div>\n",
       "<style scoped>\n",
       "    .dataframe tbody tr th:only-of-type {\n",
       "        vertical-align: middle;\n",
       "    }\n",
       "\n",
       "    .dataframe tbody tr th {\n",
       "        vertical-align: top;\n",
       "    }\n",
       "\n",
       "    .dataframe thead th {\n",
       "        text-align: right;\n",
       "    }\n",
       "</style>\n",
       "<table border=\"1\" class=\"dataframe\">\n",
       "  <thead>\n",
       "    <tr style=\"text-align: right;\">\n",
       "      <th></th>\n",
       "      <th>¿Cuál es SU sexo?</th>\n",
       "      <th>¿Cual es su nivel educativo?</th>\n",
       "      <th>¿Completó el nivel de educacion seleccionado?</th>\n",
       "    </tr>\n",
       "  </thead>\n",
       "  <tbody>\n",
       "    <tr>\n",
       "      <th>4</th>\n",
       "      <td>Femenino</td>\n",
       "      <td>Secundaria</td>\n",
       "      <td>NaN</td>\n",
       "    </tr>\n",
       "    <tr>\n",
       "      <th>80</th>\n",
       "      <td>Femenino</td>\n",
       "      <td>Superior Técnico</td>\n",
       "      <td>NaN</td>\n",
       "    </tr>\n",
       "    <tr>\n",
       "      <th>1439</th>\n",
       "      <td>Femenino</td>\n",
       "      <td>Secundaria</td>\n",
       "      <td>NaN</td>\n",
       "    </tr>\n",
       "    <tr>\n",
       "      <th>1698</th>\n",
       "      <td>Femenino</td>\n",
       "      <td>Secundaria</td>\n",
       "      <td>NaN</td>\n",
       "    </tr>\n",
       "  </tbody>\n",
       "</table>\n",
       "</div>"
      ],
      "text/plain": [
       "     ¿Cuál es SU sexo? ¿Cual es su nivel educativo?  \\\n",
       "4             Femenino                   Secundaria   \n",
       "80            Femenino             Superior Técnico   \n",
       "1439          Femenino                   Secundaria   \n",
       "1698          Femenino                   Secundaria   \n",
       "\n",
       "     ¿Completó el nivel de educacion seleccionado?  \n",
       "4                                              NaN  \n",
       "80                                             NaN  \n",
       "1439                                           NaN  \n",
       "1698                                           NaN  "
      ]
     },
     "execution_count": 98,
     "metadata": {},
     "output_type": "execute_result"
    }
   ],
   "source": [
    "df[df[\"¿Completó el nivel de educacion seleccionado?\"].isna()][[\n",
    "    \"¿Cuál es SU sexo?\",\n",
    "    \"¿Cual es su nivel educativo?\",\n",
    "    \"¿Completó el nivel de educacion seleccionado?\"]]"
   ]
  },
  {
   "cell_type": "code",
   "execution_count": 100,
   "id": "b3da816c-9f31-4657-852a-941f8c2b1d84",
   "metadata": {},
   "outputs": [
    {
     "data": {
      "text/plain": [
       "count         1045\n",
       "unique           2\n",
       "top       Completa\n",
       "freq           753\n",
       "Name: ¿Completó el nivel de educacion seleccionado?, dtype: object"
      ]
     },
     "execution_count": 100,
     "metadata": {},
     "output_type": "execute_result"
    }
   ],
   "source": [
    "df[(df[\"¿Cuál es SU sexo?\"] == \"Femenino\") & \n",
    "   (df[\"¿Cual es su nivel educativo?\"] == \"Secundaria\")][\"¿Completó el nivel de educacion seleccionado?\"].describe()"
   ]
  },
  {
   "cell_type": "code",
   "execution_count": 103,
   "id": "27894017-76e5-45b3-9fa8-4394c9d5d879",
   "metadata": {},
   "outputs": [],
   "source": [
    "nivel_sec_completo_nan = ((df[\"¿Completó el nivel de educacion seleccionado?\"].isna()) &\n",
    "                          (df[\"¿Cual es su nivel educativo?\"] == \"Secundaria\"))"
   ]
  },
  {
   "cell_type": "code",
   "execution_count": 112,
   "id": "544681dd-95d9-4722-ad5c-10e680a3933b",
   "metadata": {},
   "outputs": [
    {
     "data": {
      "text/plain": [
       "count         1048\n",
       "unique           2\n",
       "top       Completa\n",
       "freq           756\n",
       "Name: ¿Completó el nivel de educacion seleccionado?, dtype: object"
      ]
     },
     "execution_count": 112,
     "metadata": {},
     "output_type": "execute_result"
    }
   ],
   "source": [
    "df[(df[\"¿Cuál es SU sexo?\"] == \"Femenino\") & \n",
    "   (df[\"¿Cual es su nivel educativo?\"] == \"Secundaria\")][\"¿Completó el nivel de educacion seleccionado?\"].describe()"
   ]
  },
  {
   "cell_type": "code",
   "execution_count": 114,
   "id": "296527e0-1f02-459b-b1a7-eb215816c562",
   "metadata": {},
   "outputs": [
    {
     "data": {
      "text/plain": [
       "count          170\n",
       "unique           2\n",
       "top       Completa\n",
       "freq           147\n",
       "Name: ¿Completó el nivel de educacion seleccionado?, dtype: object"
      ]
     },
     "execution_count": 114,
     "metadata": {},
     "output_type": "execute_result"
    }
   ],
   "source": [
    "df[(df[\"¿Cuál es SU sexo?\"] == \"Femenino\") & \n",
    "   (df[\"¿Cual es su nivel educativo?\"] == \"Superior Técnico\")][\"¿Completó el nivel de educacion seleccionado?\"].describe()"
   ]
  },
  {
   "cell_type": "code",
   "execution_count": 115,
   "id": "1b6ce0ec-13e9-4c23-bcbf-2e6fba4d7afa",
   "metadata": {},
   "outputs": [],
   "source": [
    "df.loc[df[\"¿Completó el nivel de educacion seleccionado?\"].isna(), \n",
    "       \"¿Completó el nivel de educacion seleccionado?\"] = df[df[\"¿Cuál es SU sexo?\"] == \"Femenino\"][\"¿Completó el nivel de educacion seleccionado?\"].mode()[0]"
   ]
  },
  {
   "cell_type": "code",
   "execution_count": 117,
   "id": "1ca6ca79-2a01-40b6-b15a-a63b48480b5d",
   "metadata": {},
   "outputs": [
    {
     "data": {
      "text/plain": [
       "0"
      ]
     },
     "execution_count": 117,
     "metadata": {},
     "output_type": "execute_result"
    }
   ],
   "source": [
    "df[\"¿Completó el nivel de educacion seleccionado?\"].isna().sum()"
   ]
  },
  {
   "cell_type": "code",
   "execution_count": 118,
   "id": "45549a47-d1ed-4392-b79d-4bda32c4a1de",
   "metadata": {},
   "outputs": [
    {
     "data": {
      "text/plain": [
       "array(['Incompleta', 'Completa', 'No alfabetizado'], dtype=object)"
      ]
     },
     "execution_count": 118,
     "metadata": {},
     "output_type": "execute_result"
    }
   ],
   "source": [
    "df[\"¿Completó el nivel de educacion seleccionado?\"].unique()"
   ]
  },
  {
   "cell_type": "code",
   "execution_count": 120,
   "id": "a6a93662-7c12-4844-a97e-2fa1d31fcbc9",
   "metadata": {},
   "outputs": [
    {
     "data": {
      "image/png": "[encoded data removed]",
      "text/plain": [
       "<Figure size 640x480 with 1 Axes>"
      ]
     },
     "metadata": {},
     "output_type": "display_data"
    }
   ],
   "source": [
    "order = ['No alfabetizado', 'Incompleta', 'Completa']\n",
    "ax = df[\"¿Completó el nivel de educacion seleccionado?\"].value_counts()[order].plot.bar()\n",
    "ax.bar_label(ax.containers[0]);"
   ]
  },
  {
   "cell_type": "code",
   "execution_count": 123,
   "id": "4be753a6-5b3e-4a3d-b035-2afc6dbb5efa",
   "metadata": {},
   "outputs": [
    {
     "data": {
      "text/plain": [
       "array(['NO', 'SÍ', nan], dtype=object)"
      ]
     },
     "execution_count": 123,
     "metadata": {},
     "output_type": "execute_result"
    }
   ],
   "source": [
    "df[\"¿Usted es jefe del hogar?\"].unique()"
   ]
  },
  {
   "cell_type": "code",
   "execution_count": 124,
   "id": "b38d3694-762e-4242-96d6-e092fbe70217",
   "metadata": {},
   "outputs": [
    {
     "data": {
      "text/plain": [
       "7"
      ]
     },
     "execution_count": 124,
     "metadata": {},
     "output_type": "execute_result"
    }
   ],
   "source": [
    "df[\"¿Usted es jefe del hogar?\"].isna().sum()"
   ]
  },
  {
   "cell_type": "code",
   "execution_count": 127,
   "id": "d4ddd42b-2c9c-4ac5-97af-3257738f5901",
   "metadata": {},
   "outputs": [
    {
     "data": {
      "text/html": [
       "<div>\n",
       "<style scoped>\n",
       "    .dataframe tbody tr th:only-of-type {\n",
       "        vertical-align: middle;\n",
       "    }\n",
       "\n",
       "    .dataframe tbody tr th {\n",
       "        vertical-align: top;\n",
       "    }\n",
       "\n",
       "    .dataframe thead th {\n",
       "        text-align: right;\n",
       "    }\n",
       "</style>\n",
       "<table border=\"1\" class=\"dataframe\">\n",
       "  <thead>\n",
       "    <tr style=\"text-align: right;\">\n",
       "      <th></th>\n",
       "      <th>¿Cuál es SU DOCUMENTO VENEZOLANO?</th>\n",
       "      <th>¿Cuál es SU actual ESTATUS MIGRATORIO?</th>\n",
       "    </tr>\n",
       "  </thead>\n",
       "  <tbody>\n",
       "    <tr>\n",
       "      <th>21</th>\n",
       "      <td>Cédula de identidiad</td>\n",
       "      <td>CPP</td>\n",
       "    </tr>\n",
       "    <tr>\n",
       "      <th>45</th>\n",
       "      <td>Cédula de identidiad</td>\n",
       "      <td>Carnet de Extranjeria</td>\n",
       "    </tr>\n",
       "    <tr>\n",
       "      <th>639</th>\n",
       "      <td>Pasaporte</td>\n",
       "      <td>Otro</td>\n",
       "    </tr>\n",
       "    <tr>\n",
       "      <th>805</th>\n",
       "      <td>Cédula de identidiad</td>\n",
       "      <td>Mantengo mi documento de identidad venezolano</td>\n",
       "    </tr>\n",
       "    <tr>\n",
       "      <th>862</th>\n",
       "      <td>Pasaporte</td>\n",
       "      <td>CPP</td>\n",
       "    </tr>\n",
       "    <tr>\n",
       "      <th>994</th>\n",
       "      <td>Pasaporte</td>\n",
       "      <td>Mantengo mi documento de identidad venezolano</td>\n",
       "    </tr>\n",
       "    <tr>\n",
       "      <th>997</th>\n",
       "      <td>Pasaporte</td>\n",
       "      <td>Mantengo mi documento de identidad venezolano</td>\n",
       "    </tr>\n",
       "  </tbody>\n",
       "</table>\n",
       "</div>"
      ],
      "text/plain": [
       "    ¿Cuál es SU DOCUMENTO VENEZOLANO?  \\\n",
       "21               Cédula de identidiad   \n",
       "45               Cédula de identidiad   \n",
       "639                         Pasaporte   \n",
       "805              Cédula de identidiad   \n",
       "862                         Pasaporte   \n",
       "994                         Pasaporte   \n",
       "997                         Pasaporte   \n",
       "\n",
       "            ¿Cuál es SU actual ESTATUS MIGRATORIO?  \n",
       "21                                             CPP  \n",
       "45                           Carnet de Extranjeria  \n",
       "639                                           Otro  \n",
       "805  Mantengo mi documento de identidad venezolano  \n",
       "862                                            CPP  \n",
       "994  Mantengo mi documento de identidad venezolano  \n",
       "997  Mantengo mi documento de identidad venezolano  "
      ]
     },
     "execution_count": 127,
     "metadata": {},
     "output_type": "execute_result"
    }
   ],
   "source": [
    "df[df[\"¿Usted es jefe del hogar?\"].isna()][[\n",
    "    \"¿Cuál es SU DOCUMENTO VENEZOLANO?\",\n",
    "    \"¿Cuál es SU actual ESTATUS MIGRATORIO?\"\n",
    "    \n",
    "]]"
   ]
  },
  {
   "cell_type": "code",
   "execution_count": 129,
   "id": "28620e54-bab1-405e-a66a-e499e3191b54",
   "metadata": {},
   "outputs": [],
   "source": [
    "df[\"¿Usted es jefe del hogar?\"] = df[\"¿Usted es jefe del hogar?\"].fillna(\"NR\")"
   ]
  },
  {
   "cell_type": "code",
   "execution_count": 130,
   "id": "7c4ba4a7-7fd6-4ae8-82ee-734a6698d57e",
   "metadata": {},
   "outputs": [
    {
     "data": {
      "text/plain": [
       "array(['NO', 'SÍ', 'NR'], dtype=object)"
      ]
     },
     "execution_count": 130,
     "metadata": {},
     "output_type": "execute_result"
    }
   ],
   "source": [
    "df[\"¿Usted es jefe del hogar?\"].unique()"
   ]
  },
  {
   "cell_type": "code",
   "execution_count": 131,
   "id": "193d5ae8-d10e-4910-9e92-fd1e6798ab60",
   "metadata": {},
   "outputs": [
    {
     "data": {
      "image/png": "[encoded data removed]",
      "text/plain": [
       "<Figure size 640x480 with 1 Axes>"
      ]
     },
     "metadata": {},
     "output_type": "display_data"
    }
   ],
   "source": [
    "order = ['SÍ', 'NO', 'NR']\n",
    "ax = df[\"¿Usted es jefe del hogar?\"].value_counts()[order].plot.bar()\n",
    "ax.bar_label(ax.containers[0]);"
   ]
  },
  {
   "cell_type": "code",
   "execution_count": 132,
   "id": "3d24f632-045d-42e0-94d9-44edb1298ea9",
   "metadata": {},
   "outputs": [
    {
     "data": {
      "text/plain": [
       "array(['Cédula de identidiad', 'Partida de nacimiento', 'Pasaporte',\n",
       "       'No posee documento', nan], dtype=object)"
      ]
     },
     "execution_count": 132,
     "metadata": {},
     "output_type": "execute_result"
    }
   ],
   "source": [
    "df[\"¿Cuál es SU DOCUMENTO VENEZOLANO?\"].unique()"
   ]
  },
  {
   "cell_type": "code",
   "execution_count": 147,
   "id": "b21b1998-315e-4c97-8014-337a53fdc5b9",
   "metadata": {},
   "outputs": [],
   "source": [
    "df[\"¿Cuál es SU DOCUMENTO VENEZOLANO?\"] = df[\"¿Cuál es SU DOCUMENTO VENEZOLANO?\"].replace({'Cédula de identidiad': 'Cédula de identidad'})"
   ]
  },
  {
   "cell_type": "code",
   "execution_count": 148,
   "id": "bd6fb79f-08f7-4505-a9f7-ef9b6ef76ab2",
   "metadata": {},
   "outputs": [
    {
     "data": {
      "text/html": [
       "<div>\n",
       "<style scoped>\n",
       "    .dataframe tbody tr th:only-of-type {\n",
       "        vertical-align: middle;\n",
       "    }\n",
       "\n",
       "    .dataframe tbody tr th {\n",
       "        vertical-align: top;\n",
       "    }\n",
       "\n",
       "    .dataframe thead th {\n",
       "        text-align: right;\n",
       "    }\n",
       "</style>\n",
       "<table border=\"1\" class=\"dataframe\">\n",
       "  <thead>\n",
       "    <tr style=\"text-align: right;\">\n",
       "      <th></th>\n",
       "      <th>¿Cuál es SU DOCUMENTO VENEZOLANO?</th>\n",
       "      <th>¿Cuál es SU actual ESTATUS MIGRATORIO?</th>\n",
       "      <th>Especifica otro estatus migratorio</th>\n",
       "    </tr>\n",
       "  </thead>\n",
       "  <tbody>\n",
       "    <tr>\n",
       "      <th>1098</th>\n",
       "      <td>NaN</td>\n",
       "      <td>NaN</td>\n",
       "      <td>NaN</td>\n",
       "    </tr>\n",
       "  </tbody>\n",
       "</table>\n",
       "</div>"
      ],
      "text/plain": [
       "     ¿Cuál es SU DOCUMENTO VENEZOLANO? ¿Cuál es SU actual ESTATUS MIGRATORIO?  \\\n",
       "1098                               NaN                                    NaN   \n",
       "\n",
       "     Especifica otro estatus migratorio  \n",
       "1098                                NaN  "
      ]
     },
     "execution_count": 148,
     "metadata": {},
     "output_type": "execute_result"
    }
   ],
   "source": [
    "df[df[\"¿Cuál es SU DOCUMENTO VENEZOLANO?\"].isna()][[\n",
    "    \"¿Cuál es SU DOCUMENTO VENEZOLANO?\",\n",
    "    \"¿Cuál es SU actual ESTATUS MIGRATORIO?\",\n",
    "    \"Especifica otro estatus migratorio\"\n",
    "]]"
   ]
  },
  {
   "cell_type": "code",
   "execution_count": 149,
   "id": "dc99579e-23bb-410a-9a53-b16d506e58ff",
   "metadata": {},
   "outputs": [],
   "source": [
    "df.loc[1698, \"¿Cuál es SU DOCUMENTO VENEZOLANO?\"] = \"Cédula de identidad\""
   ]
  },
  {
   "cell_type": "code",
   "execution_count": 150,
   "id": "5460d5ae-1db9-40b2-ac32-723e1270dd3e",
   "metadata": {},
   "outputs": [],
   "source": [
    "df.loc[[964, 1525], \"¿Cuál es SU DOCUMENTO VENEZOLANO?\"] = \"No especificado\""
   ]
  },
  {
   "cell_type": "code",
   "execution_count": 156,
   "id": "355356a3-a379-43df-885e-70be4ea8a1e8",
   "metadata": {},
   "outputs": [],
   "source": [
    "df.loc[1098, \"¿Cuál es SU DOCUMENTO VENEZOLANO?\"] = \"No especificado\""
   ]
  },
  {
   "cell_type": "code",
   "execution_count": 161,
   "id": "68034064-e650-494f-a295-febc491f915c",
   "metadata": {},
   "outputs": [
    {
     "data": {
      "text/plain": [
       "array(['Cédula de identidad', 'Partida de nacimiento', 'Pasaporte',\n",
       "       'No posee documento', 'No especificado'], dtype=object)"
      ]
     },
     "execution_count": 161,
     "metadata": {},
     "output_type": "execute_result"
    }
   ],
   "source": [
    "df[\"¿Cuál es SU DOCUMENTO VENEZOLANO?\"].unique()"
   ]
  },
  {
   "cell_type": "code",
   "execution_count": 164,
   "id": "4ce1a4eb-5a64-4f98-9906-d623bc9c532f",
   "metadata": {},
   "outputs": [
    {
     "data": {
      "image/png": "[encoded data removed]",
      "text/plain": [
       "<Figure size 640x480 with 1 Axes>"
      ]
     },
     "metadata": {},
     "output_type": "display_data"
    }
   ],
   "source": [
    "order = ['Cédula de identidad', 'Pasaporte',\n",
    "         'Partida de nacimiento', 'No posee documento',\n",
    "         'No especificado']\n",
    "ax = df[\"¿Cuál es SU DOCUMENTO VENEZOLANO?\"].value_counts()[order].plot.bar()\n",
    "ax.bar_label(ax.containers[0]);"
   ]
  },
  {
   "cell_type": "code",
   "execution_count": 166,
   "id": "6c1af34a-2e85-4d85-8fdc-3cb1f6533ed3",
   "metadata": {},
   "outputs": [
    {
     "data": {
      "text/plain": [
       "array(['Mantengo mi documento de identidad venezolano', 'Otro', 'CPP',\n",
       "       'Carnet de Extranjeria', 'Carnet de Solicitud de Refugio', nan],\n",
       "      dtype=object)"
      ]
     },
     "execution_count": 166,
     "metadata": {},
     "output_type": "execute_result"
    }
   ],
   "source": [
    "df[\"¿Cuál es SU actual ESTATUS MIGRATORIO?\"].unique()"
   ]
  },
  {
   "cell_type": "code",
   "execution_count": 167,
   "id": "95f01dc7-f23c-48d7-a979-755c19e414dd",
   "metadata": {},
   "outputs": [
    {
     "data": {
      "text/plain": [
       "67"
      ]
     },
     "execution_count": 167,
     "metadata": {},
     "output_type": "execute_result"
    }
   ],
   "source": [
    "df[\"¿Cuál es SU actual ESTATUS MIGRATORIO?\"].isna().sum()"
   ]
  },
  {
   "cell_type": "code",
   "execution_count": 170,
   "id": "bf7674b4-54ad-4ced-8bda-82ccd06dd302",
   "metadata": {},
   "outputs": [
    {
     "data": {
      "text/plain": [
       "array(['Cédula de identidad', 'Pasaporte', 'No posee documento',\n",
       "       'No especificado'], dtype=object)"
      ]
     },
     "execution_count": 170,
     "metadata": {},
     "output_type": "execute_result"
    }
   ],
   "source": [
    "df[df[\"¿Cuál es SU actual ESTATUS MIGRATORIO?\"].isna()][\"¿Cuál es SU DOCUMENTO VENEZOLANO?\"].unique()"
   ]
  },
  {
   "cell_type": "code",
   "execution_count": 171,
   "id": "f24baea4-a9b5-4934-baa5-a64bf9a1954c",
   "metadata": {},
   "outputs": [
    {
     "data": {
      "text/plain": [
       "array([nan], dtype=object)"
      ]
     },
     "execution_count": 171,
     "metadata": {},
     "output_type": "execute_result"
    }
   ],
   "source": [
    "df[df[\"¿Cuál es SU actual ESTATUS MIGRATORIO?\"].isna()][\"Especifica otro estatus migratorio\"].unique()"
   ]
  },
  {
   "cell_type": "code",
   "execution_count": 172,
   "id": "3b5e10f1-b538-4473-af68-75041eeeadcb",
   "metadata": {},
   "outputs": [],
   "source": [
    "df.loc[df[\"¿Cuál es SU actual ESTATUS MIGRATORIO?\"].isna(), \"¿Cuál es SU actual ESTATUS MIGRATORIO?\"] = 'No especificado'"
   ]
  },
  {
   "cell_type": "code",
   "execution_count": 177,
   "id": "87542e14-bcb3-491a-882a-76cac8a97680",
   "metadata": {},
   "outputs": [
    {
     "data": {
      "text/plain": [
       "['CTP',\n",
       " 'Cedula de Identidad',\n",
       " 'Cedula de identidad',\n",
       " 'Csrta de refugio',\n",
       " 'DNI',\n",
       " 'EN TRAMITE',\n",
       " 'Mantiene pasaporte',\n",
       " 'NACIONALIDAD',\n",
       " 'NO TIENE',\n",
       " 'No posee documento',\n",
       " 'No tiene documento',\n",
       " 'PASAPORTE',\n",
       " 'PERDIO LA CÉDULA',\n",
       " 'PPT',\n",
       " 'PTP',\n",
       " 'PTP VENCIDO... ACTUALIZANDO DATOS PARA CPP',\n",
       " 'Pasaporte',\n",
       " 'Ptp',\n",
       " 'Sin documentos por perdido',\n",
       " 'ccp',\n",
       " 'naciolidad',\n",
       " nan]"
      ]
     },
     "execution_count": 177,
     "metadata": {},
     "output_type": "execute_result"
    }
   ],
   "source": [
    "df[\"Especifica otro estatus migratorio\"].sort_values().unique().tolist()"
   ]
  },
  {
   "cell_type": "code",
   "execution_count": 187,
   "id": "e828b5fe-9618-4a1e-860b-5f6a3c418045",
   "metadata": {},
   "outputs": [],
   "source": [
    "to_replace = {\n",
    "    'CPP': ['CTP', 'ccp', 'PPT', 'PTP', 'Ptp'],\n",
    "    'Mantengo mi documento de identidad venezolano': ['Cedula de Identidad',\n",
    "                                                      'Cedula de identidad',\n",
    "                                                      'Mantiene pasaporte',\n",
    "                                                      'PASAPORTE', \n",
    "                                                      'Pasaporte',\n",
    "                                                      'NACIONALIDAD',\n",
    "                                                      'naciolidad'],\n",
    "    'Carnet de Solicitud de Refugio': ['Csrta de refugio'],\n",
    "    'Documento de identidad peruano': ['DNI'],\n",
    "    'No posee documentos': ['NO TIENE', 'No posee documento', \n",
    "                            'No tiene documento',\n",
    "                            'EN TRAMITE', 'PTP VENCIDO... ACTUALIZANDO DATOS PARA CPP',\n",
    "                            'PERDIO LA CÉDULA', \n",
    "                            'Sin documentos por perdido']\n",
    "}\n",
    "      \n",
    "to_replace_dict = {e: k for k, el in to_replace.items() for e in el}"
   ]
  },
  {
   "cell_type": "code",
   "execution_count": 193,
   "id": "49e88d9b-884f-49ea-925e-341d663a159d",
   "metadata": {},
   "outputs": [],
   "source": [
    "df[ \"Especifica otro estatus migratorio\"] = df[ \"Especifica otro estatus migratorio\"].replace(to_replace_dict)"
   ]
  },
  {
   "cell_type": "code",
   "execution_count": 194,
   "id": "25b9011d-e417-4096-b33c-4c53f703d209",
   "metadata": {},
   "outputs": [
    {
     "data": {
      "text/plain": [
       "50"
      ]
     },
     "execution_count": 194,
     "metadata": {},
     "output_type": "execute_result"
    }
   ],
   "source": [
    "df[ \"Especifica otro estatus migratorio\"].notna().sum()"
   ]
  },
  {
   "cell_type": "code",
   "execution_count": 192,
   "id": "27c78569-88be-4d9d-9314-4f9af6b38e84",
   "metadata": {},
   "outputs": [
    {
     "data": {
      "text/plain": [
       "51"
      ]
     },
     "execution_count": 192,
     "metadata": {},
     "output_type": "execute_result"
    }
   ],
   "source": [
    "(df[\"¿Cuál es SU actual ESTATUS MIGRATORIO?\"] == \"Otro\").sum()"
   ]
  },
  {
   "cell_type": "code",
   "execution_count": 197,
   "id": "3b7abff4-7f80-4231-af62-3c278d622b97",
   "metadata": {},
   "outputs": [
    {
     "data": {
      "text/html": [
       "<div>\n",
       "<style scoped>\n",
       "    .dataframe tbody tr th:only-of-type {\n",
       "        vertical-align: middle;\n",
       "    }\n",
       "\n",
       "    .dataframe tbody tr th {\n",
       "        vertical-align: top;\n",
       "    }\n",
       "\n",
       "    .dataframe thead th {\n",
       "        text-align: right;\n",
       "    }\n",
       "</style>\n",
       "<table border=\"1\" class=\"dataframe\">\n",
       "  <thead>\n",
       "    <tr style=\"text-align: right;\">\n",
       "      <th></th>\n",
       "      <th>¿Cuál es SU DOCUMENTO VENEZOLANO?</th>\n",
       "      <th>¿Cuál es SU actual ESTATUS MIGRATORIO?</th>\n",
       "      <th>Especifica otro estatus migratorio</th>\n",
       "    </tr>\n",
       "  </thead>\n",
       "  <tbody>\n",
       "    <tr>\n",
       "      <th>1776</th>\n",
       "      <td>Pasaporte</td>\n",
       "      <td>Otro</td>\n",
       "      <td>NaN</td>\n",
       "    </tr>\n",
       "  </tbody>\n",
       "</table>\n",
       "</div>"
      ],
      "text/plain": [
       "     ¿Cuál es SU DOCUMENTO VENEZOLANO? ¿Cuál es SU actual ESTATUS MIGRATORIO?  \\\n",
       "1776                         Pasaporte                                   Otro   \n",
       "\n",
       "     Especifica otro estatus migratorio  \n",
       "1776                                NaN  "
      ]
     },
     "execution_count": 197,
     "metadata": {},
     "output_type": "execute_result"
    }
   ],
   "source": [
    "df[(df[\"¿Cuál es SU actual ESTATUS MIGRATORIO?\"] == \"Otro\") &\n",
    "   (df[ \"Especifica otro estatus migratorio\"].isna())][[\n",
    "    \"¿Cuál es SU DOCUMENTO VENEZOLANO?\",\n",
    "    \"¿Cuál es SU actual ESTATUS MIGRATORIO?\",\n",
    "    \"Especifica otro estatus migratorio\"\n",
    "]]"
   ]
  },
  {
   "cell_type": "code",
   "execution_count": 205,
   "id": "47d955ea-fb9a-4d34-8e97-ec2b0dd190ca",
   "metadata": {},
   "outputs": [
    {
     "data": {
      "text/plain": [
       "True"
      ]
     },
     "execution_count": 205,
     "metadata": {},
     "output_type": "execute_result"
    }
   ],
   "source": [
    "(df[df[\"¿Cuál es SU actual ESTATUS MIGRATORIO?\"] == \"Otro\"].index == \n",
    " df[df[ \"Especifica otro estatus migratorio\"].notna()].index).all()"
   ]
  },
  {
   "cell_type": "code",
   "execution_count": 208,
   "id": "c6b80c9a-40a9-4a01-8b44-74b39c92aeb7",
   "metadata": {},
   "outputs": [],
   "source": [
    "df[\"¿Cuál es SU actual ESTATUS MIGRATORIO?\"] = (df[\"¿Cuál es SU actual ESTATUS MIGRATORIO?\"]\n",
    "                                                .replace({'Otro': np.nan})\n",
    "                                                .fillna(df[\"Especifica otro estatus migratorio\"])\n",
    "                                               )"
   ]
  },
  {
   "cell_type": "code",
   "execution_count": 209,
   "id": "92417936-3725-4a7c-a578-8cfbd5214ccc",
   "metadata": {},
   "outputs": [
    {
     "data": {
      "text/plain": [
       "array(['Mantengo mi documento de identidad venezolano',\n",
       "       'Documento de identidad peruano', 'CPP', 'Carnet de Extranjeria',\n",
       "       'Carnet de Solicitud de Refugio', 'No especificado',\n",
       "       'No posee documentos'], dtype=object)"
      ]
     },
     "execution_count": 209,
     "metadata": {},
     "output_type": "execute_result"
    }
   ],
   "source": [
    "df[\"¿Cuál es SU actual ESTATUS MIGRATORIO?\"].unique()"
   ]
  },
  {
   "cell_type": "code",
   "execution_count": 211,
   "id": "90dad5d3-9359-4c75-b36f-758b006d7779",
   "metadata": {},
   "outputs": [
    {
     "data": {
      "image/png": "[encoded data removed]",
      "text/plain": [
       "<Figure size 640x480 with 1 Axes>"
      ]
     },
     "metadata": {},
     "output_type": "display_data"
    }
   ],
   "source": [
    "order = ['Mantengo mi documento de identidad venezolano',\n",
    "        'Carnet de Extranjeria', 'CPP',\n",
    "       'Carnet de Solicitud de Refugio', 'Documento de identidad peruano', \n",
    "       'No posee documentos', 'No especificado',]\n",
    "ax = df[\"¿Cuál es SU actual ESTATUS MIGRATORIO?\"].value_counts()[order].plot.bar()\n",
    "ax.set_title(\"¿Cual es SU actual ESTATUS MIGRATORIO?\")\n",
    "ax.bar_label(ax.containers[0]);"
   ]
  },
  {
   "cell_type": "code",
   "execution_count": 216,
   "id": "918cca86-8389-4b1f-a7af-42435199f02f",
   "metadata": {},
   "outputs": [
    {
     "data": {
      "text/plain": [
       "array(['NO', 'SÍ', nan], dtype=object)"
      ]
     },
     "execution_count": 216,
     "metadata": {},
     "output_type": "execute_result"
    }
   ],
   "source": [
    "df[\"Si tiene hijos en edad escolar, ¿Alguno de sus hijos recibe Qali Warma?\"].unique()"
   ]
  },
  {
   "cell_type": "code",
   "execution_count": 218,
   "id": "92ef54b9-d1f4-4d6b-bb2c-7ccc7fb54a2b",
   "metadata": {},
   "outputs": [
    {
     "data": {
      "text/plain": [
       "59"
      ]
     },
     "execution_count": 218,
     "metadata": {},
     "output_type": "execute_result"
    }
   ],
   "source": [
    "df[\"Si tiene hijos en edad escolar, ¿Alguno de sus hijos recibe Qali Warma?\"].isna().sum()"
   ]
  },
  {
   "cell_type": "code",
   "execution_count": null,
   "id": "eab83a66-2f3e-45b9-a24e-ff266290bef9",
   "metadata": {},
   "outputs": [],
   "source": [
    "df[\"¿Los alimentos recibidos por Qali Warma rma son un aporte importante a la alimentacion familiar?\"]"
   ]
  },
  {
   "cell_type": "code",
   "execution_count": 221,
   "id": "a4bf5ec3-5b9a-436e-8f73-44099bc5180d",
   "metadata": {},
   "outputs": [
    {
     "data": {
      "text/plain": [
       "57"
      ]
     },
     "execution_count": 221,
     "metadata": {},
     "output_type": "execute_result"
    }
   ],
   "source": [
    "df[\"Si tiene hijos en edad escolar, ¿Alguno de sus hijos recibe Qali Warma?\"].isna().sum()"
   ]
  },
  {
   "cell_type": "code",
   "execution_count": 220,
   "id": "07d56dcf-b2eb-4644-8e7e-43a332a6f332",
   "metadata": {},
   "outputs": [],
   "source": [
    "df.loc[(df[\"Si tiene hijos en edad escolar, ¿Alguno de sus hijos recibe Qali Warma?\"].isna()) & \n",
    "       (df[\"¿Los alimentos recibidos por Qali Warma rma son un aporte importante a la alimentacion familiar?\"] == \"SÍ\"),\n",
    "       \"Si tiene hijos en edad escolar, ¿Alguno de sus hijos recibe Qali Warma?\"] = \"SÍ\""
   ]
  },
  {
   "cell_type": "code",
   "execution_count": 222,
   "id": "ffa2741a-0544-498b-bd13-f6afb06b3c98",
   "metadata": {},
   "outputs": [
    {
     "data": {
      "text/plain": [
       "57"
      ]
     },
     "execution_count": 222,
     "metadata": {},
     "output_type": "execute_result"
    }
   ],
   "source": [
    "df[\"Si tiene hijos en edad escolar, ¿Alguno de sus hijos recibe Qali Warma?\"].isna().sum()"
   ]
  },
  {
   "cell_type": "code",
   "execution_count": null,
   "id": "48adb2db-f26e-46d8-b457-09c5ad365056",
   "metadata": {},
   "outputs": [],
   "source": [
    "df[\"¿Que modalidad de Qali Warma recibe su hijo?\"]"
   ]
  },
  {
   "cell_type": "code",
   "execution_count": 224,
   "id": "3bf0ed15-e557-4619-a42a-53fb3858a1d7",
   "metadata": {},
   "outputs": [
    {
     "data": {
      "text/html": [
       "<div>\n",
       "<style scoped>\n",
       "    .dataframe tbody tr th:only-of-type {\n",
       "        vertical-align: middle;\n",
       "    }\n",
       "\n",
       "    .dataframe tbody tr th {\n",
       "        vertical-align: top;\n",
       "    }\n",
       "\n",
       "    .dataframe thead th {\n",
       "        text-align: right;\n",
       "    }\n",
       "</style>\n",
       "<table border=\"1\" class=\"dataframe\">\n",
       "  <thead>\n",
       "    <tr style=\"text-align: right;\">\n",
       "      <th></th>\n",
       "      <th>Si tiene hijos en edad escolar, ¿Alguno de sus hijos recibe Qali Warma?</th>\n",
       "      <th>¿Los alimentos recibidos por Qali Warma rma son un aporte importante a la alimentacion familiar?</th>\n",
       "      <th>¿Que modalidad de Qali Warma recibe su hijo?</th>\n",
       "    </tr>\n",
       "  </thead>\n",
       "  <tbody>\n",
       "    <tr>\n",
       "      <th>265</th>\n",
       "      <td>NaN</td>\n",
       "      <td>NaN</td>\n",
       "      <td>NaN</td>\n",
       "    </tr>\n",
       "    <tr>\n",
       "      <th>456</th>\n",
       "      <td>NaN</td>\n",
       "      <td>NaN</td>\n",
       "      <td>NaN</td>\n",
       "    </tr>\n",
       "    <tr>\n",
       "      <th>480</th>\n",
       "      <td>NaN</td>\n",
       "      <td>NaN</td>\n",
       "      <td>NaN</td>\n",
       "    </tr>\n",
       "    <tr>\n",
       "      <th>491</th>\n",
       "      <td>NaN</td>\n",
       "      <td>NaN</td>\n",
       "      <td>NaN</td>\n",
       "    </tr>\n",
       "    <tr>\n",
       "      <th>525</th>\n",
       "      <td>NaN</td>\n",
       "      <td>NaN</td>\n",
       "      <td>NaN</td>\n",
       "    </tr>\n",
       "    <tr>\n",
       "      <th>587</th>\n",
       "      <td>NaN</td>\n",
       "      <td>NaN</td>\n",
       "      <td>NaN</td>\n",
       "    </tr>\n",
       "    <tr>\n",
       "      <th>589</th>\n",
       "      <td>NaN</td>\n",
       "      <td>NaN</td>\n",
       "      <td>NaN</td>\n",
       "    </tr>\n",
       "    <tr>\n",
       "      <th>607</th>\n",
       "      <td>NaN</td>\n",
       "      <td>NaN</td>\n",
       "      <td>NaN</td>\n",
       "    </tr>\n",
       "    <tr>\n",
       "      <th>613</th>\n",
       "      <td>NaN</td>\n",
       "      <td>NaN</td>\n",
       "      <td>NaN</td>\n",
       "    </tr>\n",
       "    <tr>\n",
       "      <th>646</th>\n",
       "      <td>NaN</td>\n",
       "      <td>NaN</td>\n",
       "      <td>NaN</td>\n",
       "    </tr>\n",
       "    <tr>\n",
       "      <th>684</th>\n",
       "      <td>NaN</td>\n",
       "      <td>NaN</td>\n",
       "      <td>NaN</td>\n",
       "    </tr>\n",
       "    <tr>\n",
       "      <th>694</th>\n",
       "      <td>NaN</td>\n",
       "      <td>NaN</td>\n",
       "      <td>NaN</td>\n",
       "    </tr>\n",
       "    <tr>\n",
       "      <th>719</th>\n",
       "      <td>NaN</td>\n",
       "      <td>NaN</td>\n",
       "      <td>NaN</td>\n",
       "    </tr>\n",
       "    <tr>\n",
       "      <th>725</th>\n",
       "      <td>NaN</td>\n",
       "      <td>NaN</td>\n",
       "      <td>NaN</td>\n",
       "    </tr>\n",
       "    <tr>\n",
       "      <th>727</th>\n",
       "      <td>NaN</td>\n",
       "      <td>NaN</td>\n",
       "      <td>NaN</td>\n",
       "    </tr>\n",
       "    <tr>\n",
       "      <th>741</th>\n",
       "      <td>NaN</td>\n",
       "      <td>NaN</td>\n",
       "      <td>NaN</td>\n",
       "    </tr>\n",
       "    <tr>\n",
       "      <th>761</th>\n",
       "      <td>NaN</td>\n",
       "      <td>NaN</td>\n",
       "      <td>NaN</td>\n",
       "    </tr>\n",
       "    <tr>\n",
       "      <th>765</th>\n",
       "      <td>NaN</td>\n",
       "      <td>NaN</td>\n",
       "      <td>NaN</td>\n",
       "    </tr>\n",
       "    <tr>\n",
       "      <th>768</th>\n",
       "      <td>NaN</td>\n",
       "      <td>NaN</td>\n",
       "      <td>NaN</td>\n",
       "    </tr>\n",
       "    <tr>\n",
       "      <th>773</th>\n",
       "      <td>NaN</td>\n",
       "      <td>NaN</td>\n",
       "      <td>NaN</td>\n",
       "    </tr>\n",
       "    <tr>\n",
       "      <th>778</th>\n",
       "      <td>NaN</td>\n",
       "      <td>NaN</td>\n",
       "      <td>NaN</td>\n",
       "    </tr>\n",
       "    <tr>\n",
       "      <th>783</th>\n",
       "      <td>NaN</td>\n",
       "      <td>NaN</td>\n",
       "      <td>NaN</td>\n",
       "    </tr>\n",
       "    <tr>\n",
       "      <th>792</th>\n",
       "      <td>NaN</td>\n",
       "      <td>NaN</td>\n",
       "      <td>NaN</td>\n",
       "    </tr>\n",
       "    <tr>\n",
       "      <th>860</th>\n",
       "      <td>NaN</td>\n",
       "      <td>NaN</td>\n",
       "      <td>NaN</td>\n",
       "    </tr>\n",
       "    <tr>\n",
       "      <th>1076</th>\n",
       "      <td>NaN</td>\n",
       "      <td>NaN</td>\n",
       "      <td>NaN</td>\n",
       "    </tr>\n",
       "    <tr>\n",
       "      <th>1115</th>\n",
       "      <td>NaN</td>\n",
       "      <td>NaN</td>\n",
       "      <td>NaN</td>\n",
       "    </tr>\n",
       "    <tr>\n",
       "      <th>1125</th>\n",
       "      <td>NaN</td>\n",
       "      <td>NaN</td>\n",
       "      <td>NaN</td>\n",
       "    </tr>\n",
       "    <tr>\n",
       "      <th>1131</th>\n",
       "      <td>NaN</td>\n",
       "      <td>NaN</td>\n",
       "      <td>NaN</td>\n",
       "    </tr>\n",
       "    <tr>\n",
       "      <th>1201</th>\n",
       "      <td>NaN</td>\n",
       "      <td>NaN</td>\n",
       "      <td>NaN</td>\n",
       "    </tr>\n",
       "    <tr>\n",
       "      <th>1208</th>\n",
       "      <td>NaN</td>\n",
       "      <td>NaN</td>\n",
       "      <td>NaN</td>\n",
       "    </tr>\n",
       "    <tr>\n",
       "      <th>1234</th>\n",
       "      <td>NaN</td>\n",
       "      <td>NaN</td>\n",
       "      <td>NaN</td>\n",
       "    </tr>\n",
       "    <tr>\n",
       "      <th>1424</th>\n",
       "      <td>NaN</td>\n",
       "      <td>NaN</td>\n",
       "      <td>NaN</td>\n",
       "    </tr>\n",
       "    <tr>\n",
       "      <th>1426</th>\n",
       "      <td>NaN</td>\n",
       "      <td>NaN</td>\n",
       "      <td>NaN</td>\n",
       "    </tr>\n",
       "    <tr>\n",
       "      <th>1427</th>\n",
       "      <td>NaN</td>\n",
       "      <td>NaN</td>\n",
       "      <td>NaN</td>\n",
       "    </tr>\n",
       "    <tr>\n",
       "      <th>1429</th>\n",
       "      <td>NaN</td>\n",
       "      <td>NaN</td>\n",
       "      <td>NaN</td>\n",
       "    </tr>\n",
       "    <tr>\n",
       "      <th>1430</th>\n",
       "      <td>NaN</td>\n",
       "      <td>NaN</td>\n",
       "      <td>NaN</td>\n",
       "    </tr>\n",
       "    <tr>\n",
       "      <th>1431</th>\n",
       "      <td>NaN</td>\n",
       "      <td>NaN</td>\n",
       "      <td>NaN</td>\n",
       "    </tr>\n",
       "    <tr>\n",
       "      <th>1433</th>\n",
       "      <td>NaN</td>\n",
       "      <td>NaN</td>\n",
       "      <td>NaN</td>\n",
       "    </tr>\n",
       "    <tr>\n",
       "      <th>1435</th>\n",
       "      <td>NaN</td>\n",
       "      <td>NaN</td>\n",
       "      <td>NaN</td>\n",
       "    </tr>\n",
       "    <tr>\n",
       "      <th>1436</th>\n",
       "      <td>NaN</td>\n",
       "      <td>NaN</td>\n",
       "      <td>NaN</td>\n",
       "    </tr>\n",
       "    <tr>\n",
       "      <th>1438</th>\n",
       "      <td>NaN</td>\n",
       "      <td>NaN</td>\n",
       "      <td>NaN</td>\n",
       "    </tr>\n",
       "    <tr>\n",
       "      <th>1439</th>\n",
       "      <td>NaN</td>\n",
       "      <td>NaN</td>\n",
       "      <td>NaN</td>\n",
       "    </tr>\n",
       "    <tr>\n",
       "      <th>1440</th>\n",
       "      <td>NaN</td>\n",
       "      <td>NaN</td>\n",
       "      <td>NaN</td>\n",
       "    </tr>\n",
       "    <tr>\n",
       "      <th>1441</th>\n",
       "      <td>NaN</td>\n",
       "      <td>NaN</td>\n",
       "      <td>NaN</td>\n",
       "    </tr>\n",
       "    <tr>\n",
       "      <th>1442</th>\n",
       "      <td>NaN</td>\n",
       "      <td>NaN</td>\n",
       "      <td>NaN</td>\n",
       "    </tr>\n",
       "    <tr>\n",
       "      <th>1443</th>\n",
       "      <td>NaN</td>\n",
       "      <td>NaN</td>\n",
       "      <td>NaN</td>\n",
       "    </tr>\n",
       "    <tr>\n",
       "      <th>1444</th>\n",
       "      <td>NaN</td>\n",
       "      <td>NaN</td>\n",
       "      <td>NaN</td>\n",
       "    </tr>\n",
       "    <tr>\n",
       "      <th>1446</th>\n",
       "      <td>NaN</td>\n",
       "      <td>NaN</td>\n",
       "      <td>NaN</td>\n",
       "    </tr>\n",
       "    <tr>\n",
       "      <th>1447</th>\n",
       "      <td>NaN</td>\n",
       "      <td>NaN</td>\n",
       "      <td>NaN</td>\n",
       "    </tr>\n",
       "    <tr>\n",
       "      <th>1448</th>\n",
       "      <td>NaN</td>\n",
       "      <td>NaN</td>\n",
       "      <td>NaN</td>\n",
       "    </tr>\n",
       "    <tr>\n",
       "      <th>1539</th>\n",
       "      <td>NaN</td>\n",
       "      <td>NaN</td>\n",
       "      <td>NaN</td>\n",
       "    </tr>\n",
       "    <tr>\n",
       "      <th>1571</th>\n",
       "      <td>NaN</td>\n",
       "      <td>NaN</td>\n",
       "      <td>NaN</td>\n",
       "    </tr>\n",
       "    <tr>\n",
       "      <th>1576</th>\n",
       "      <td>NaN</td>\n",
       "      <td>NaN</td>\n",
       "      <td>NaN</td>\n",
       "    </tr>\n",
       "    <tr>\n",
       "      <th>1581</th>\n",
       "      <td>NaN</td>\n",
       "      <td>NaN</td>\n",
       "      <td>NaN</td>\n",
       "    </tr>\n",
       "    <tr>\n",
       "      <th>1584</th>\n",
       "      <td>NaN</td>\n",
       "      <td>NaN</td>\n",
       "      <td>NaN</td>\n",
       "    </tr>\n",
       "    <tr>\n",
       "      <th>1585</th>\n",
       "      <td>NaN</td>\n",
       "      <td>NaN</td>\n",
       "      <td>NaN</td>\n",
       "    </tr>\n",
       "    <tr>\n",
       "      <th>1670</th>\n",
       "      <td>NaN</td>\n",
       "      <td>NaN</td>\n",
       "      <td>NaN</td>\n",
       "    </tr>\n",
       "  </tbody>\n",
       "</table>\n",
       "</div>"
      ],
      "text/plain": [
       "     Si tiene hijos en edad escolar, ¿Alguno de sus hijos recibe Qali Warma?  \\\n",
       "265                                                 NaN                        \n",
       "456                                                 NaN                        \n",
       "480                                                 NaN                        \n",
       "491                                                 NaN                        \n",
       "525                                                 NaN                        \n",
       "587                                                 NaN                        \n",
       "589                                                 NaN                        \n",
       "607                                                 NaN                        \n",
       "613                                                 NaN                        \n",
       "646                                                 NaN                        \n",
       "684                                                 NaN                        \n",
       "694                                                 NaN                        \n",
       "719                                                 NaN                        \n",
       "725                                                 NaN                        \n",
       "727                                                 NaN                        \n",
       "741                                                 NaN                        \n",
       "761                                                 NaN                        \n",
       "765                                                 NaN                        \n",
       "768                                                 NaN                        \n",
       "773                                                 NaN                        \n",
       "778                                                 NaN                        \n",
       "783                                                 NaN                        \n",
       "792                                                 NaN                        \n",
       "860                                                 NaN                        \n",
       "1076                                                NaN                        \n",
       "1115                                                NaN                        \n",
       "1125                                                NaN                        \n",
       "1131                                                NaN                        \n",
       "1201                                                NaN                        \n",
       "1208                                                NaN                        \n",
       "1234                                                NaN                        \n",
       "1424                                                NaN                        \n",
       "1426                                                NaN                        \n",
       "1427                                                NaN                        \n",
       "1429                                                NaN                        \n",
       "1430                                                NaN                        \n",
       "1431                                                NaN                        \n",
       "1433                                                NaN                        \n",
       "1435                                                NaN                        \n",
       "1436                                                NaN                        \n",
       "1438                                                NaN                        \n",
       "1439                                                NaN                        \n",
       "1440                                                NaN                        \n",
       "1441                                                NaN                        \n",
       "1442                                                NaN                        \n",
       "1443                                                NaN                        \n",
       "1444                                                NaN                        \n",
       "1446                                                NaN                        \n",
       "1447                                                NaN                        \n",
       "1448                                                NaN                        \n",
       "1539                                                NaN                        \n",
       "1571                                                NaN                        \n",
       "1576                                                NaN                        \n",
       "1581                                                NaN                        \n",
       "1584                                                NaN                        \n",
       "1585                                                NaN                        \n",
       "1670                                                NaN                        \n",
       "\n",
       "     ¿Los alimentos recibidos por Qali Warma rma son un aporte importante a la alimentacion familiar?  \\\n",
       "265                                                 NaN                                                 \n",
       "456                                                 NaN                                                 \n",
       "480                                                 NaN                                                 \n",
       "491                                                 NaN                                                 \n",
       "525                                                 NaN                                                 \n",
       "587                                                 NaN                                                 \n",
       "589                                                 NaN                                                 \n",
       "607                                                 NaN                                                 \n",
       "613                                                 NaN                                                 \n",
       "646                                                 NaN                                                 \n",
       "684                                                 NaN                                                 \n",
       "694                                                 NaN                                                 \n",
       "719                                                 NaN                                                 \n",
       "725                                                 NaN                                                 \n",
       "727                                                 NaN                                                 \n",
       "741                                                 NaN                                                 \n",
       "761                                                 NaN                                                 \n",
       "765                                                 NaN                                                 \n",
       "768                                                 NaN                                                 \n",
       "773                                                 NaN                                                 \n",
       "778                                                 NaN                                                 \n",
       "783                                                 NaN                                                 \n",
       "792                                                 NaN                                                 \n",
       "860                                                 NaN                                                 \n",
       "1076                                                NaN                                                 \n",
       "1115                                                NaN                                                 \n",
       "1125                                                NaN                                                 \n",
       "1131                                                NaN                                                 \n",
       "1201                                                NaN                                                 \n",
       "1208                                                NaN                                                 \n",
       "1234                                                NaN                                                 \n",
       "1424                                                NaN                                                 \n",
       "1426                                                NaN                                                 \n",
       "1427                                                NaN                                                 \n",
       "1429                                                NaN                                                 \n",
       "1430                                                NaN                                                 \n",
       "1431                                                NaN                                                 \n",
       "1433                                                NaN                                                 \n",
       "1435                                                NaN                                                 \n",
       "1436                                                NaN                                                 \n",
       "1438                                                NaN                                                 \n",
       "1439                                                NaN                                                 \n",
       "1440                                                NaN                                                 \n",
       "1441                                                NaN                                                 \n",
       "1442                                                NaN                                                 \n",
       "1443                                                NaN                                                 \n",
       "1444                                                NaN                                                 \n",
       "1446                                                NaN                                                 \n",
       "1447                                                NaN                                                 \n",
       "1448                                                NaN                                                 \n",
       "1539                                                NaN                                                 \n",
       "1571                                                NaN                                                 \n",
       "1576                                                NaN                                                 \n",
       "1581                                                NaN                                                 \n",
       "1584                                                NaN                                                 \n",
       "1585                                                NaN                                                 \n",
       "1670                                                NaN                                                 \n",
       "\n",
       "     ¿Que modalidad de Qali Warma recibe su hijo?  \n",
       "265                                           NaN  \n",
       "456                                           NaN  \n",
       "480                                           NaN  \n",
       "491                                           NaN  \n",
       "525                                           NaN  \n",
       "587                                           NaN  \n",
       "589                                           NaN  \n",
       "607                                           NaN  \n",
       "613                                           NaN  \n",
       "646                                           NaN  \n",
       "684                                           NaN  \n",
       "694                                           NaN  \n",
       "719                                           NaN  \n",
       "725                                           NaN  \n",
       "727                                           NaN  \n",
       "741                                           NaN  \n",
       "761                                           NaN  \n",
       "765                                           NaN  \n",
       "768                                           NaN  \n",
       "773                                           NaN  \n",
       "778                                           NaN  \n",
       "783                                           NaN  \n",
       "792                                           NaN  \n",
       "860                                           NaN  \n",
       "1076                                          NaN  \n",
       "1115                                          NaN  \n",
       "1125                                          NaN  \n",
       "1131                                          NaN  \n",
       "1201                                          NaN  \n",
       "1208                                          NaN  \n",
       "1234                                          NaN  \n",
       "1424                                          NaN  \n",
       "1426                                          NaN  \n",
       "1427                                          NaN  \n",
       "1429                                          NaN  \n",
       "1430                                          NaN  \n",
       "1431                                          NaN  \n",
       "1433                                          NaN  \n",
       "1435                                          NaN  \n",
       "1436                                          NaN  \n",
       "1438                                          NaN  \n",
       "1439                                          NaN  \n",
       "1440                                          NaN  \n",
       "1441                                          NaN  \n",
       "1442                                          NaN  \n",
       "1443                                          NaN  \n",
       "1444                                          NaN  \n",
       "1446                                          NaN  \n",
       "1447                                          NaN  \n",
       "1448                                          NaN  \n",
       "1539                                          NaN  \n",
       "1571                                          NaN  \n",
       "1576                                          NaN  \n",
       "1581                                          NaN  \n",
       "1584                                          NaN  \n",
       "1585                                          NaN  \n",
       "1670                                          NaN  "
      ]
     },
     "execution_count": 224,
     "metadata": {},
     "output_type": "execute_result"
    }
   ],
   "source": [
    "df[df[\"Si tiene hijos en edad escolar, ¿Alguno de sus hijos recibe Qali Warma?\"].isna()][[\n",
    "    \"Si tiene hijos en edad escolar, ¿Alguno de sus hijos recibe Qali Warma?\", \n",
    "    \"¿Los alimentos recibidos por Qali Warma rma son un aporte importante a la alimentacion familiar?\",\n",
    "    \"¿Que modalidad de Qali Warma recibe su hijo?\"]].index"
   ]
  },
  {
   "cell_type": "code",
   "execution_count": 229,
   "id": "ad990762-a943-4b0a-8795-101b7dfe07cc",
   "metadata": {},
   "outputs": [],
   "source": [
    "df.loc[df[\"Si tiene hijos en edad escolar, ¿Alguno de sus hijos recibe Qali Warma?\"].isna(), [\n",
    "    \"Si tiene hijos en edad escolar, ¿Alguno de sus hijos recibe Qali Warma?\", \n",
    "    \"¿Los alimentos recibidos por Qali Warma rma son un aporte importante a la alimentacion familiar?\",\n",
    "    \"¿Que modalidad de Qali Warma recibe su hijo?\"]] = 'Sin respuesta'"
   ]
  },
  {
   "cell_type": "code",
   "execution_count": 231,
   "id": "d7b227ff-0f6e-439f-a6e4-d337c2b70e19",
   "metadata": {},
   "outputs": [
    {
     "data": {
      "text/plain": [
       "array(['NO', 'SÍ', 'Sin respuesta'], dtype=object)"
      ]
     },
     "execution_count": 231,
     "metadata": {},
     "output_type": "execute_result"
    }
   ],
   "source": [
    "df[\"Si tiene hijos en edad escolar, ¿Alguno de sus hijos recibe Qali Warma?\"].unique()"
   ]
  },
  {
   "cell_type": "code",
   "execution_count": 234,
   "id": "9918ddaf-d078-420f-9bbc-4a248695ba04",
   "metadata": {},
   "outputs": [
    {
     "data": {
      "image/png": "[encoded data removed]",
      "text/plain": [
       "<Figure size 640x480 with 1 Axes>"
      ]
     },
     "metadata": {},
     "output_type": "display_data"
    }
   ],
   "source": [
    "ax = df[\"Si tiene hijos en edad escolar, ¿Alguno de sus hijos recibe Qali Warma?\"].value_counts().plot.bar()\n",
    "ax.set_title(\"Si tiene hijos en edad escolar, ¿Alguno de sus hijos recibe Qali Warma?\")\n",
    "ax.bar_label(ax.containers[0]);"
   ]
  },
  {
   "cell_type": "code",
   "execution_count": 256,
   "id": "c4ec4b56-3b53-4723-8598-d3cbe2ca6d56",
   "metadata": {},
   "outputs": [
    {
     "data": {
      "text/plain": [
       "array(['No aplica', 'SÍ', 'NO', 'Sin respuesta'], dtype=object)"
      ]
     },
     "execution_count": 256,
     "metadata": {},
     "output_type": "execute_result"
    }
   ],
   "source": [
    "df[\"¿Los alimentos recibidos por Qali Warma rma son un aporte importante a la alimentacion familiar?\"].unique()"
   ]
  },
  {
   "cell_type": "code",
   "execution_count": 260,
   "id": "2cbd44b9-0168-4c5b-98bc-febac39b68fa",
   "metadata": {},
   "outputs": [
    {
     "data": {
      "text/plain": [
       "0"
      ]
     },
     "execution_count": 260,
     "metadata": {},
     "output_type": "execute_result"
    }
   ],
   "source": [
    "df[\"¿Los alimentos recibidos por Qali Warma rma son un aporte importante a la alimentacion familiar?\"].isna().sum()"
   ]
  },
  {
   "cell_type": "code",
   "execution_count": 257,
   "id": "97d9c7d0-d54e-4aad-b97c-da80fe37d1e5",
   "metadata": {},
   "outputs": [
    {
     "data": {
      "text/plain": [
       "array(['No aplica'], dtype=object)"
      ]
     },
     "execution_count": 257,
     "metadata": {},
     "output_type": "execute_result"
    }
   ],
   "source": [
    "df[df[\"Si tiene hijos en edad escolar, ¿Alguno de sus hijos recibe Qali Warma?\"] == \"NO\"][\"¿Los alimentos recibidos por Qali Warma rma son un aporte importante a la alimentacion familiar?\"].unique()"
   ]
  },
  {
   "cell_type": "code",
   "execution_count": 242,
   "id": "ddab5644-2dbe-4fdf-bfce-154a35fb1a84",
   "metadata": {},
   "outputs": [],
   "source": [
    "df.loc[\n",
    "    df[\"Si tiene hijos en edad escolar, ¿Alguno de sus hijos recibe Qali Warma?\"] == \"NO\",\n",
    "    \"¿Los alimentos recibidos por Qali Warma rma son un aporte importante a la alimentacion familiar?\"\n",
    "] = 'No aplica'"
   ]
  },
  {
   "cell_type": "code",
   "execution_count": 258,
   "id": "474d99da-2536-4d51-904d-a0d0dd973dc3",
   "metadata": {},
   "outputs": [
    {
     "data": {
      "text/plain": [
       "array(['SÍ', 'NO', 'Sin respuesta'], dtype=object)"
      ]
     },
     "execution_count": 258,
     "metadata": {},
     "output_type": "execute_result"
    }
   ],
   "source": [
    "df[df[\"Si tiene hijos en edad escolar, ¿Alguno de sus hijos recibe Qali Warma?\"] == \"SÍ\"][\"¿Los alimentos recibidos por Qali Warma rma son un aporte importante a la alimentacion familiar?\"].unique()"
   ]
  },
  {
   "cell_type": "code",
   "execution_count": 259,
   "id": "edae672f-e37a-4edc-bae4-3e2ec00cbc97",
   "metadata": {},
   "outputs": [
    {
     "data": {
      "text/plain": [
       "array(['No aplica'], dtype=object)"
      ]
     },
     "execution_count": 259,
     "metadata": {},
     "output_type": "execute_result"
    }
   ],
   "source": [
    "df[df[\"Si tiene hijos en edad escolar, ¿Alguno de sus hijos recibe Qali Warma?\"] == \"NO\"][\"¿Los alimentos recibidos por Qali Warma rma son un aporte importante a la alimentacion familiar?\"].unique()"
   ]
  },
  {
   "cell_type": "code",
   "execution_count": 255,
   "id": "25f759b7-a001-4fdd-ba00-0a51295b1f4d",
   "metadata": {},
   "outputs": [
    {
     "data": {
      "text/plain": [
       "array(['SÍ', 'NO', 'Sin respuesta'], dtype=object)"
      ]
     },
     "execution_count": 255,
     "metadata": {},
     "output_type": "execute_result"
    }
   ],
   "source": [
    "df[df[\"Si tiene hijos en edad escolar, ¿Alguno de sus hijos recibe Qali Warma?\"] == \"SÍ\"][\"¿Los alimentos recibidos por Qali Warma rma son un aporte importante a la alimentacion familiar?\"].unique()"
   ]
  },
  {
   "cell_type": "code",
   "execution_count": 251,
   "id": "59025992-c4c5-4231-b91c-c6f47ae27fe2",
   "metadata": {},
   "outputs": [
    {
     "data": {
      "text/html": [
       "<div>\n",
       "<style scoped>\n",
       "    .dataframe tbody tr th:only-of-type {\n",
       "        vertical-align: middle;\n",
       "    }\n",
       "\n",
       "    .dataframe tbody tr th {\n",
       "        vertical-align: top;\n",
       "    }\n",
       "\n",
       "    .dataframe thead th {\n",
       "        text-align: right;\n",
       "    }\n",
       "</style>\n",
       "<table border=\"1\" class=\"dataframe\">\n",
       "  <thead>\n",
       "    <tr style=\"text-align: right;\">\n",
       "      <th></th>\n",
       "      <th>Si tiene hijos en edad escolar, ¿Alguno de sus hijos recibe Qali Warma?</th>\n",
       "      <th>¿Los alimentos recibidos por Qali Warma rma son un aporte importante a la alimentacion familiar?</th>\n",
       "      <th>¿Que modalidad de Qali Warma recibe su hijo?</th>\n",
       "    </tr>\n",
       "  </thead>\n",
       "  <tbody>\n",
       "    <tr>\n",
       "      <th>1126</th>\n",
       "      <td>SÍ</td>\n",
       "      <td>NaN</td>\n",
       "      <td>Productos</td>\n",
       "    </tr>\n",
       "    <tr>\n",
       "      <th>1543</th>\n",
       "      <td>SÍ</td>\n",
       "      <td>NaN</td>\n",
       "      <td>NaN</td>\n",
       "    </tr>\n",
       "  </tbody>\n",
       "</table>\n",
       "</div>"
      ],
      "text/plain": [
       "     Si tiene hijos en edad escolar, ¿Alguno de sus hijos recibe Qali Warma?  \\\n",
       "1126                                                 SÍ                        \n",
       "1543                                                 SÍ                        \n",
       "\n",
       "     ¿Los alimentos recibidos por Qali Warma rma son un aporte importante a la alimentacion familiar?  \\\n",
       "1126                                                NaN                                                 \n",
       "1543                                                NaN                                                 \n",
       "\n",
       "     ¿Que modalidad de Qali Warma recibe su hijo?  \n",
       "1126                                    Productos  \n",
       "1543                                          NaN  "
      ]
     },
     "execution_count": 251,
     "metadata": {},
     "output_type": "execute_result"
    }
   ],
   "source": [
    "df[(df[\"Si tiene hijos en edad escolar, ¿Alguno de sus hijos recibe Qali Warma?\"] == \"SÍ\") & \n",
    "   (df[\"¿Los alimentos recibidos por Qali Warma rma son un aporte importante a la alimentacion familiar?\"].isna())][[\n",
    "    \"Si tiene hijos en edad escolar, ¿Alguno de sus hijos recibe Qali Warma?\", \n",
    "    \"¿Los alimentos recibidos por Qali Warma rma son un aporte importante a la alimentacion familiar?\",\n",
    "    \"¿Que modalidad de Qali Warma recibe su hijo?\"]]"
   ]
  },
  {
   "cell_type": "code",
   "execution_count": 253,
   "id": "8fc9ec1d-3d45-4103-9ba9-df13baaf8d24",
   "metadata": {},
   "outputs": [],
   "source": [
    "df.loc[[1126, 1543], \"¿Los alimentos recibidos por Qali Warma rma son un aporte importante a la alimentacion familiar?\"] = \"Sin respuesta\""
   ]
  },
  {
   "cell_type": "code",
   "execution_count": 254,
   "id": "da88e6e8-760f-4d56-8d2a-4dd6935e4497",
   "metadata": {},
   "outputs": [],
   "source": [
    "df.loc[1543, \"¿Que modalidad de Qali Warma recibe su hijo?\"] = \"Sin respuesta\""
   ]
  },
  {
   "cell_type": "code",
   "execution_count": 263,
   "id": "6a2b6298-fc2c-49c9-92ef-ddfa36d32f8c",
   "metadata": {},
   "outputs": [
    {
     "data": {
      "text/plain": [
       "array(['No aplica', 'SÍ', 'NO', 'Sin respuesta'], dtype=object)"
      ]
     },
     "execution_count": 263,
     "metadata": {},
     "output_type": "execute_result"
    }
   ],
   "source": [
    "df[\"¿Los alimentos recibidos por Qali Warma rma son un aporte importante a la alimentacion familiar?\"].unique()"
   ]
  },
  {
   "cell_type": "code",
   "execution_count": 262,
   "id": "0c97aa90-35a1-4c6f-8d63-a334dcb3ded7",
   "metadata": {},
   "outputs": [
    {
     "data": {
      "text/plain": [
       "0"
      ]
     },
     "execution_count": 262,
     "metadata": {},
     "output_type": "execute_result"
    }
   ],
   "source": [
    "df[\"¿Los alimentos recibidos por Qali Warma rma son un aporte importante a la alimentacion familiar?\"].isna().sum()"
   ]
  },
  {
   "cell_type": "code",
   "execution_count": 266,
   "id": "85ca09fb-d23d-4f37-9306-6f0771b8368f",
   "metadata": {},
   "outputs": [
    {
     "data": {
      "image/png": "[encoded data removed]",
      "text/plain": [
       "<Figure size 640x480 with 1 Axes>"
      ]
     },
     "metadata": {},
     "output_type": "display_data"
    }
   ],
   "source": [
    "order = [\"SÍ\", \"NO\", \"Sin respuesta\", \"No aplica\"]\n",
    "ax = df[\"¿Los alimentos recibidos por Qali Warma rma son un aporte importante a la alimentacion familiar?\"].value_counts()[order].plot.bar()\n",
    "ax.set_title(\"¿Los alimentos recibidos por Qali Warma rma son un aporte importante a la alimentacion familiar?\")\n",
    "ax.bar_label(ax.containers[0]);"
   ]
  },
  {
   "cell_type": "code",
   "execution_count": 268,
   "id": "ac8facc2-832d-4a00-a899-09845c54003f",
   "metadata": {},
   "outputs": [
    {
     "data": {
      "text/plain": [
       "array(['Raciones', 'Productos', nan, 'Sin respuesta'], dtype=object)"
      ]
     },
     "execution_count": 268,
     "metadata": {},
     "output_type": "execute_result"
    }
   ],
   "source": [
    "df[\"¿Que modalidad de Qali Warma recibe su hijo?\"].unique()"
   ]
  },
  {
   "cell_type": "code",
   "execution_count": 269,
   "id": "b60bfdc4-edb8-43c2-892c-850071e13e0a",
   "metadata": {},
   "outputs": [
    {
     "data": {
      "text/plain": [
       "1002"
      ]
     },
     "execution_count": 269,
     "metadata": {},
     "output_type": "execute_result"
    }
   ],
   "source": [
    "df[\"¿Que modalidad de Qali Warma recibe su hijo?\"].isna().sum()"
   ]
  },
  {
   "cell_type": "code",
   "execution_count": 270,
   "id": "fc10c040-3724-4e05-a098-41c5625c9402",
   "metadata": {},
   "outputs": [
    {
     "data": {
      "text/html": [
       "<div>\n",
       "<style scoped>\n",
       "    .dataframe tbody tr th:only-of-type {\n",
       "        vertical-align: middle;\n",
       "    }\n",
       "\n",
       "    .dataframe tbody tr th {\n",
       "        vertical-align: top;\n",
       "    }\n",
       "\n",
       "    .dataframe thead th {\n",
       "        text-align: right;\n",
       "    }\n",
       "</style>\n",
       "<table border=\"1\" class=\"dataframe\">\n",
       "  <thead>\n",
       "    <tr style=\"text-align: right;\">\n",
       "      <th></th>\n",
       "      <th>Si tiene hijos en edad escolar, ¿Alguno de sus hijos recibe Qali Warma?</th>\n",
       "      <th>¿Los alimentos recibidos por Qali Warma rma son un aporte importante a la alimentacion familiar?</th>\n",
       "      <th>¿Que modalidad de Qali Warma recibe su hijo?</th>\n",
       "    </tr>\n",
       "  </thead>\n",
       "  <tbody>\n",
       "    <tr>\n",
       "      <th>2</th>\n",
       "      <td>NO</td>\n",
       "      <td>No aplica</td>\n",
       "      <td>NaN</td>\n",
       "    </tr>\n",
       "    <tr>\n",
       "      <th>3</th>\n",
       "      <td>NO</td>\n",
       "      <td>No aplica</td>\n",
       "      <td>NaN</td>\n",
       "    </tr>\n",
       "    <tr>\n",
       "      <th>7</th>\n",
       "      <td>NO</td>\n",
       "      <td>No aplica</td>\n",
       "      <td>NaN</td>\n",
       "    </tr>\n",
       "    <tr>\n",
       "      <th>8</th>\n",
       "      <td>NO</td>\n",
       "      <td>No aplica</td>\n",
       "      <td>NaN</td>\n",
       "    </tr>\n",
       "    <tr>\n",
       "      <th>9</th>\n",
       "      <td>NO</td>\n",
       "      <td>No aplica</td>\n",
       "      <td>NaN</td>\n",
       "    </tr>\n",
       "    <tr>\n",
       "      <th>...</th>\n",
       "      <td>...</td>\n",
       "      <td>...</td>\n",
       "      <td>...</td>\n",
       "    </tr>\n",
       "    <tr>\n",
       "      <th>1800</th>\n",
       "      <td>NO</td>\n",
       "      <td>No aplica</td>\n",
       "      <td>NaN</td>\n",
       "    </tr>\n",
       "    <tr>\n",
       "      <th>1803</th>\n",
       "      <td>NO</td>\n",
       "      <td>No aplica</td>\n",
       "      <td>NaN</td>\n",
       "    </tr>\n",
       "    <tr>\n",
       "      <th>1804</th>\n",
       "      <td>NO</td>\n",
       "      <td>No aplica</td>\n",
       "      <td>NaN</td>\n",
       "    </tr>\n",
       "    <tr>\n",
       "      <th>1807</th>\n",
       "      <td>NO</td>\n",
       "      <td>No aplica</td>\n",
       "      <td>NaN</td>\n",
       "    </tr>\n",
       "    <tr>\n",
       "      <th>1812</th>\n",
       "      <td>NO</td>\n",
       "      <td>No aplica</td>\n",
       "      <td>NaN</td>\n",
       "    </tr>\n",
       "  </tbody>\n",
       "</table>\n",
       "<p>1002 rows × 3 columns</p>\n",
       "</div>"
      ],
      "text/plain": [
       "     Si tiene hijos en edad escolar, ¿Alguno de sus hijos recibe Qali Warma?  \\\n",
       "2                                                    NO                        \n",
       "3                                                    NO                        \n",
       "7                                                    NO                        \n",
       "8                                                    NO                        \n",
       "9                                                    NO                        \n",
       "...                                                 ...                        \n",
       "1800                                                 NO                        \n",
       "1803                                                 NO                        \n",
       "1804                                                 NO                        \n",
       "1807                                                 NO                        \n",
       "1812                                                 NO                        \n",
       "\n",
       "     ¿Los alimentos recibidos por Qali Warma rma son un aporte importante a la alimentacion familiar?  \\\n",
       "2                                             No aplica                                                 \n",
       "3                                             No aplica                                                 \n",
       "7                                             No aplica                                                 \n",
       "8                                             No aplica                                                 \n",
       "9                                             No aplica                                                 \n",
       "...                                                 ...                                                 \n",
       "1800                                          No aplica                                                 \n",
       "1803                                          No aplica                                                 \n",
       "1804                                          No aplica                                                 \n",
       "1807                                          No aplica                                                 \n",
       "1812                                          No aplica                                                 \n",
       "\n",
       "     ¿Que modalidad de Qali Warma recibe su hijo?  \n",
       "2                                             NaN  \n",
       "3                                             NaN  \n",
       "7                                             NaN  \n",
       "8                                             NaN  \n",
       "9                                             NaN  \n",
       "...                                           ...  \n",
       "1800                                          NaN  \n",
       "1803                                          NaN  \n",
       "1804                                          NaN  \n",
       "1807                                          NaN  \n",
       "1812                                          NaN  \n",
       "\n",
       "[1002 rows x 3 columns]"
      ]
     },
     "execution_count": 270,
     "metadata": {},
     "output_type": "execute_result"
    }
   ],
   "source": [
    "df[df[\"¿Que modalidad de Qali Warma recibe su hijo?\"].isna()][[\n",
    "    \"Si tiene hijos en edad escolar, ¿Alguno de sus hijos recibe Qali Warma?\", \n",
    "    \"¿Los alimentos recibidos por Qali Warma rma son un aporte importante a la alimentacion familiar?\",\n",
    "    \"¿Que modalidad de Qali Warma recibe su hijo?\"]]"
   ]
  },
  {
   "cell_type": "code",
   "execution_count": 273,
   "id": "8aaad686-22dd-493a-846c-60cfd9bf0a79",
   "metadata": {},
   "outputs": [
    {
     "data": {
      "text/plain": [
       "array(['NO', 'SÍ'], dtype=object)"
      ]
     },
     "execution_count": 273,
     "metadata": {},
     "output_type": "execute_result"
    }
   ],
   "source": [
    "df[df[\"¿Que modalidad de Qali Warma recibe su hijo?\"].isna()][\n",
    "      \"Si tiene hijos en edad escolar, ¿Alguno de sus hijos recibe Qali Warma?\"].unique()"
   ]
  },
  {
   "cell_type": "code",
   "execution_count": 276,
   "id": "3c2c930e-3204-48af-b50e-de38d87718be",
   "metadata": {},
   "outputs": [
    {
     "data": {
      "text/plain": [
       "array(['No aplica'], dtype=object)"
      ]
     },
     "execution_count": 276,
     "metadata": {},
     "output_type": "execute_result"
    }
   ],
   "source": [
    "df[(df[\"¿Que modalidad de Qali Warma recibe su hijo?\"].isna()) &\n",
    "   (df[\"Si tiene hijos en edad escolar, ¿Alguno de sus hijos recibe Qali Warma?\"] == \"NO\")][\"¿Los alimentos recibidos por Qali Warma rma son un aporte importante a la alimentacion familiar?\"].unique()"
   ]
  },
  {
   "cell_type": "code",
   "execution_count": 277,
   "id": "9d08e1b9-b251-46d9-aaca-bed189a29bf7",
   "metadata": {},
   "outputs": [],
   "source": [
    "df.loc[(df[\"¿Que modalidad de Qali Warma recibe su hijo?\"].isna()) &\n",
    "   (df[\"Si tiene hijos en edad escolar, ¿Alguno de sus hijos recibe Qali Warma?\"] == \"NO\"),\n",
    "      \"¿Que modalidad de Qali Warma recibe su hijo?\"] = \"No aplica\""
   ]
  },
  {
   "cell_type": "code",
   "execution_count": 280,
   "id": "44d6163a-c99b-4c5d-a7f6-f5ba180850cf",
   "metadata": {},
   "outputs": [
    {
     "data": {
      "text/plain": [
       "array(['Raciones', 'No aplica', 'Productos'], dtype=object)"
      ]
     },
     "execution_count": 280,
     "metadata": {},
     "output_type": "execute_result"
    }
   ],
   "source": [
    "df[df[\"Si tiene hijos en edad escolar, ¿Alguno de sus hijos recibe Qali Warma?\"] == \"NO\"][\"¿Que modalidad de Qali Warma recibe su hijo?\"].unique()"
   ]
  },
  {
   "cell_type": "code",
   "execution_count": 283,
   "id": "6d1f724d-1b46-4d11-879d-1ecfb6d56e3a",
   "metadata": {},
   "outputs": [
    {
     "data": {
      "text/html": [
       "<div>\n",
       "<style scoped>\n",
       "    .dataframe tbody tr th:only-of-type {\n",
       "        vertical-align: middle;\n",
       "    }\n",
       "\n",
       "    .dataframe tbody tr th {\n",
       "        vertical-align: top;\n",
       "    }\n",
       "\n",
       "    .dataframe thead th {\n",
       "        text-align: right;\n",
       "    }\n",
       "</style>\n",
       "<table border=\"1\" class=\"dataframe\">\n",
       "  <thead>\n",
       "    <tr style=\"text-align: right;\">\n",
       "      <th></th>\n",
       "      <th>Si tiene hijos en edad escolar, ¿Alguno de sus hijos recibe Qali Warma?</th>\n",
       "      <th>¿Los alimentos recibidos por Qali Warma rma son un aporte importante a la alimentacion familiar?</th>\n",
       "      <th>¿Que modalidad de Qali Warma recibe su hijo?</th>\n",
       "    </tr>\n",
       "  </thead>\n",
       "  <tbody>\n",
       "    <tr>\n",
       "      <th>0</th>\n",
       "      <td>NO</td>\n",
       "      <td>No aplica</td>\n",
       "      <td>Raciones</td>\n",
       "    </tr>\n",
       "    <tr>\n",
       "      <th>26</th>\n",
       "      <td>NO</td>\n",
       "      <td>No aplica</td>\n",
       "      <td>Productos</td>\n",
       "    </tr>\n",
       "    <tr>\n",
       "      <th>122</th>\n",
       "      <td>NO</td>\n",
       "      <td>No aplica</td>\n",
       "      <td>Productos</td>\n",
       "    </tr>\n",
       "    <tr>\n",
       "      <th>224</th>\n",
       "      <td>NO</td>\n",
       "      <td>No aplica</td>\n",
       "      <td>Productos</td>\n",
       "    </tr>\n",
       "    <tr>\n",
       "      <th>320</th>\n",
       "      <td>NO</td>\n",
       "      <td>No aplica</td>\n",
       "      <td>Productos</td>\n",
       "    </tr>\n",
       "    <tr>\n",
       "      <th>332</th>\n",
       "      <td>NO</td>\n",
       "      <td>No aplica</td>\n",
       "      <td>Raciones</td>\n",
       "    </tr>\n",
       "    <tr>\n",
       "      <th>369</th>\n",
       "      <td>NO</td>\n",
       "      <td>No aplica</td>\n",
       "      <td>Productos</td>\n",
       "    </tr>\n",
       "    <tr>\n",
       "      <th>561</th>\n",
       "      <td>NO</td>\n",
       "      <td>No aplica</td>\n",
       "      <td>Productos</td>\n",
       "    </tr>\n",
       "    <tr>\n",
       "      <th>731</th>\n",
       "      <td>NO</td>\n",
       "      <td>No aplica</td>\n",
       "      <td>Productos</td>\n",
       "    </tr>\n",
       "    <tr>\n",
       "      <th>791</th>\n",
       "      <td>NO</td>\n",
       "      <td>No aplica</td>\n",
       "      <td>Productos</td>\n",
       "    </tr>\n",
       "    <tr>\n",
       "      <th>796</th>\n",
       "      <td>NO</td>\n",
       "      <td>No aplica</td>\n",
       "      <td>Raciones</td>\n",
       "    </tr>\n",
       "    <tr>\n",
       "      <th>830</th>\n",
       "      <td>NO</td>\n",
       "      <td>No aplica</td>\n",
       "      <td>Productos</td>\n",
       "    </tr>\n",
       "    <tr>\n",
       "      <th>936</th>\n",
       "      <td>NO</td>\n",
       "      <td>No aplica</td>\n",
       "      <td>Raciones</td>\n",
       "    </tr>\n",
       "    <tr>\n",
       "      <th>985</th>\n",
       "      <td>NO</td>\n",
       "      <td>No aplica</td>\n",
       "      <td>Productos</td>\n",
       "    </tr>\n",
       "    <tr>\n",
       "      <th>1033</th>\n",
       "      <td>NO</td>\n",
       "      <td>No aplica</td>\n",
       "      <td>Productos</td>\n",
       "    </tr>\n",
       "    <tr>\n",
       "      <th>1104</th>\n",
       "      <td>NO</td>\n",
       "      <td>No aplica</td>\n",
       "      <td>Productos</td>\n",
       "    </tr>\n",
       "    <tr>\n",
       "      <th>1238</th>\n",
       "      <td>NO</td>\n",
       "      <td>No aplica</td>\n",
       "      <td>Productos</td>\n",
       "    </tr>\n",
       "    <tr>\n",
       "      <th>1651</th>\n",
       "      <td>NO</td>\n",
       "      <td>No aplica</td>\n",
       "      <td>Productos</td>\n",
       "    </tr>\n",
       "  </tbody>\n",
       "</table>\n",
       "</div>"
      ],
      "text/plain": [
       "     Si tiene hijos en edad escolar, ¿Alguno de sus hijos recibe Qali Warma?  \\\n",
       "0                                                    NO                        \n",
       "26                                                   NO                        \n",
       "122                                                  NO                        \n",
       "224                                                  NO                        \n",
       "320                                                  NO                        \n",
       "332                                                  NO                        \n",
       "369                                                  NO                        \n",
       "561                                                  NO                        \n",
       "731                                                  NO                        \n",
       "791                                                  NO                        \n",
       "796                                                  NO                        \n",
       "830                                                  NO                        \n",
       "936                                                  NO                        \n",
       "985                                                  NO                        \n",
       "1033                                                 NO                        \n",
       "1104                                                 NO                        \n",
       "1238                                                 NO                        \n",
       "1651                                                 NO                        \n",
       "\n",
       "     ¿Los alimentos recibidos por Qali Warma rma son un aporte importante a la alimentacion familiar?  \\\n",
       "0                                             No aplica                                                 \n",
       "26                                            No aplica                                                 \n",
       "122                                           No aplica                                                 \n",
       "224                                           No aplica                                                 \n",
       "320                                           No aplica                                                 \n",
       "332                                           No aplica                                                 \n",
       "369                                           No aplica                                                 \n",
       "561                                           No aplica                                                 \n",
       "731                                           No aplica                                                 \n",
       "791                                           No aplica                                                 \n",
       "796                                           No aplica                                                 \n",
       "830                                           No aplica                                                 \n",
       "936                                           No aplica                                                 \n",
       "985                                           No aplica                                                 \n",
       "1033                                          No aplica                                                 \n",
       "1104                                          No aplica                                                 \n",
       "1238                                          No aplica                                                 \n",
       "1651                                          No aplica                                                 \n",
       "\n",
       "     ¿Que modalidad de Qali Warma recibe su hijo?  \n",
       "0                                        Raciones  \n",
       "26                                      Productos  \n",
       "122                                     Productos  \n",
       "224                                     Productos  \n",
       "320                                     Productos  \n",
       "332                                      Raciones  \n",
       "369                                     Productos  \n",
       "561                                     Productos  \n",
       "731                                     Productos  \n",
       "791                                     Productos  \n",
       "796                                      Raciones  \n",
       "830                                     Productos  \n",
       "936                                      Raciones  \n",
       "985                                     Productos  \n",
       "1033                                    Productos  \n",
       "1104                                    Productos  \n",
       "1238                                    Productos  \n",
       "1651                                    Productos  "
      ]
     },
     "execution_count": 283,
     "metadata": {},
     "output_type": "execute_result"
    }
   ],
   "source": [
    "df[(df[\"Si tiene hijos en edad escolar, ¿Alguno de sus hijos recibe Qali Warma?\"] == \"NO\") &\n",
    "   (df[\"¿Que modalidad de Qali Warma recibe su hijo?\"] != 'No aplica')][[\n",
    "    \"Si tiene hijos en edad escolar, ¿Alguno de sus hijos recibe Qali Warma?\", \n",
    "    \"¿Los alimentos recibidos por Qali Warma rma son un aporte importante a la alimentacion familiar?\",\n",
    "    \"¿Que modalidad de Qali Warma recibe su hijo?\"]]"
   ]
  },
  {
   "cell_type": "code",
   "execution_count": 285,
   "id": "7bfa7aa4-8552-4cdb-b4e6-a24850b0c4df",
   "metadata": {},
   "outputs": [],
   "source": [
    "df.loc[df[\"Si tiene hijos en edad escolar, ¿Alguno de sus hijos recibe Qali Warma?\"] == \"NO\",\n",
    "       \"¿Que modalidad de Qali Warma recibe su hijo?\"] = \"No aplica\""
   ]
  },
  {
   "cell_type": "code",
   "execution_count": 288,
   "id": "8cf140a1-f236-40fc-98a9-4ba768d1818e",
   "metadata": {},
   "outputs": [
    {
     "data": {
      "text/plain": [
       "array(['No aplica', 'Productos', 'Raciones', nan, 'Sin respuesta'],\n",
       "      dtype=object)"
      ]
     },
     "execution_count": 288,
     "metadata": {},
     "output_type": "execute_result"
    }
   ],
   "source": [
    "df[\"¿Que modalidad de Qali Warma recibe su hijo?\"].unique()"
   ]
  },
  {
   "cell_type": "code",
   "execution_count": 290,
   "id": "1711257c-0333-4507-97e7-23ee3bffb1d3",
   "metadata": {},
   "outputs": [
    {
     "data": {
      "text/plain": [
       "25"
      ]
     },
     "execution_count": 290,
     "metadata": {},
     "output_type": "execute_result"
    }
   ],
   "source": [
    "df[\"¿Que modalidad de Qali Warma recibe su hijo?\"].isna().sum()"
   ]
  },
  {
   "cell_type": "code",
   "execution_count": 293,
   "id": "df207b97-614f-4c75-ae57-0a3d14f7e3a3",
   "metadata": {},
   "outputs": [],
   "source": [
    "df.loc[df[\"¿Que modalidad de Qali Warma recibe su hijo?\"].isna(), \n",
    "      \"¿Que modalidad de Qali Warma recibe su hijo?\"] = 'Sin respuesta'"
   ]
  },
  {
   "cell_type": "code",
   "execution_count": 294,
   "id": "bec3f39b-f1e6-4a84-9b3d-2d837b75cbdb",
   "metadata": {},
   "outputs": [
    {
     "data": {
      "text/plain": [
       "array(['No aplica', 'Productos', 'Raciones', 'Sin respuesta'],\n",
       "      dtype=object)"
      ]
     },
     "execution_count": 294,
     "metadata": {},
     "output_type": "execute_result"
    }
   ],
   "source": [
    "df[\"¿Que modalidad de Qali Warma recibe su hijo?\"].unique()"
   ]
  },
  {
   "cell_type": "code",
   "execution_count": 295,
   "id": "7a83ecb1-5ee5-483e-a7b9-429a1c0a9351",
   "metadata": {},
   "outputs": [
    {
     "data": {
      "image/png": "[encoded data removed]",
      "text/plain": [
       "<Figure size 640x480 with 1 Axes>"
      ]
     },
     "metadata": {},
     "output_type": "display_data"
    }
   ],
   "source": [
    "order = ['Productos', 'Raciones', 'Sin respuesta', 'No aplica',]\n",
    "ax = df[\"¿Que modalidad de Qali Warma recibe su hijo?\"].value_counts()[order].plot.bar()\n",
    "ax.set_title(\"¿Que modalidad de Qali Warma recibe su hijo?\")\n",
    "ax.bar_label(ax.containers[0]);"
   ]
  },
  {
   "cell_type": "code",
   "execution_count": 296,
   "id": "4e877ee1-a996-4737-bb44-ed2a9ed594c5",
   "metadata": {},
   "outputs": [
    {
     "data": {
      "text/plain": [
       "array(['No tengo trabajo', 'NO', 'SÍ', nan, 'N'], dtype=object)"
      ]
     },
     "execution_count": 296,
     "metadata": {},
     "output_type": "execute_result"
    }
   ],
   "source": [
    "df[\"Actualmente, ¿USTED cuenta con un CONTRATO DE TRABAJO FORMAL?\"].unique()"
   ]
  },
  {
   "cell_type": "code",
   "execution_count": 317,
   "id": "a11faf3f-34a1-41ed-aec9-71ef11e43ef4",
   "metadata": {},
   "outputs": [],
   "source": [
    "df[\"Actualmente, ¿USTED cuenta con un CONTRATO DE TRABAJO FORMAL?\"] = df[\"Actualmente, ¿USTED cuenta con un CONTRATO DE TRABAJO FORMAL?\"].replace({\"N\":\"NO\"})"
   ]
  },
  {
   "cell_type": "code",
   "execution_count": 318,
   "id": "0fd43f37-b395-4be8-95b0-6c0c7e3cca81",
   "metadata": {},
   "outputs": [
    {
     "data": {
      "text/plain": [
       "array(['No tengo trabajo', 'NO', 'SÍ', nan], dtype=object)"
      ]
     },
     "execution_count": 318,
     "metadata": {},
     "output_type": "execute_result"
    }
   ],
   "source": [
    "df[\"Actualmente, ¿USTED cuenta con un CONTRATO DE TRABAJO FORMAL?\"].unique()"
   ]
  },
  {
   "cell_type": "code",
   "execution_count": 320,
   "id": "cb284080-0d7f-4c18-a14b-e45b00379d31",
   "metadata": {},
   "outputs": [],
   "source": [
    "df.loc[\n",
    "    df[\"Actualmente, ¿USTED cuenta con un CONTRATO DE TRABAJO FORMAL?\"] == \"No tengo trabajo\",\n",
    "    \"Actualmente ¿SU TRABAJO SE ENCUENTRA VINCULADO A TEMAS ALIMENTARIOS?\"\n",
    "    ] = \"No aplica\""
   ]
  },
  {
   "cell_type": "code",
   "execution_count": 322,
   "id": "09bfc134-5367-401a-8377-31ebf2889fe5",
   "metadata": {},
   "outputs": [
    {
     "data": {
      "text/plain": [
       "9"
      ]
     },
     "execution_count": 322,
     "metadata": {},
     "output_type": "execute_result"
    }
   ],
   "source": [
    "df[\"Actualmente, ¿USTED cuenta con un CONTRATO DE TRABAJO FORMAL?\"].isna().sum()"
   ]
  },
  {
   "cell_type": "code",
   "execution_count": null,
   "id": "aa4b63a9-8ede-41bc-a33a-492a2b8094ca",
   "metadata": {},
   "outputs": [],
   "source": [
    "df[\"¿Podría decirnos a que se dedica?\"]"
   ]
  },
  {
   "cell_type": "code",
   "execution_count": 305,
   "id": "e5a3e2a2-a060-46d9-a5bf-c6173a7f9400",
   "metadata": {},
   "outputs": [
    {
     "data": {
      "text/plain": [
       "Index(['Especificar', 'Especificar.1', 'Especificar.2',\n",
       "       'Especificar otra entidad de la que recibio ayuda',\n",
       "       'Especificar otra forma de alimentacion colectiva',\n",
       "       'Especificar otra forma de alimentacion colectiva.1', 'Especificar.3',\n",
       "       'Especificar otra forma de alimentacion colectiva.2'],\n",
       "      dtype='object')"
      ]
     },
     "execution_count": 305,
     "metadata": {},
     "output_type": "execute_result"
    }
   ],
   "source": [
    "df.columns[df.columns.str.startswith(\"Especificar\")]"
   ]
  },
  {
   "cell_type": "code",
   "execution_count": 323,
   "id": "b54cc0e4-aebd-4318-b524-1404c305345f",
   "metadata": {},
   "outputs": [
    {
     "data": {
      "text/html": [
       "<div>\n",
       "<style scoped>\n",
       "    .dataframe tbody tr th:only-of-type {\n",
       "        vertical-align: middle;\n",
       "    }\n",
       "\n",
       "    .dataframe tbody tr th {\n",
       "        vertical-align: top;\n",
       "    }\n",
       "\n",
       "    .dataframe thead th {\n",
       "        text-align: right;\n",
       "    }\n",
       "</style>\n",
       "<table border=\"1\" class=\"dataframe\">\n",
       "  <thead>\n",
       "    <tr style=\"text-align: right;\">\n",
       "      <th></th>\n",
       "      <th>Actualmente, ¿USTED cuenta con un CONTRATO DE TRABAJO FORMAL?</th>\n",
       "      <th>Actualmente ¿SU TRABAJO SE ENCUENTRA VINCULADO A TEMAS ALIMENTARIOS?</th>\n",
       "      <th>¿Podría decirnos a que se dedica?</th>\n",
       "      <th>Especificar.1</th>\n",
       "    </tr>\n",
       "  </thead>\n",
       "  <tbody>\n",
       "    <tr>\n",
       "      <th>77</th>\n",
       "      <td>NaN</td>\n",
       "      <td>SÍ</td>\n",
       "      <td>Venta ambulante de alimentos (Tipo 1).</td>\n",
       "      <td>NaN</td>\n",
       "    </tr>\n",
       "    <tr>\n",
       "      <th>142</th>\n",
       "      <td>NaN</td>\n",
       "      <td>SÍ</td>\n",
       "      <td>Vendedor en mercado, bodega o similar (ej: ven...</td>\n",
       "      <td>NaN</td>\n",
       "    </tr>\n",
       "    <tr>\n",
       "      <th>190</th>\n",
       "      <td>NaN</td>\n",
       "      <td>NO</td>\n",
       "      <td>NaN</td>\n",
       "      <td>NaN</td>\n",
       "    </tr>\n",
       "    <tr>\n",
       "      <th>614</th>\n",
       "      <td>NaN</td>\n",
       "      <td>NaN</td>\n",
       "      <td>NaN</td>\n",
       "      <td>NaN</td>\n",
       "    </tr>\n",
       "    <tr>\n",
       "      <th>834</th>\n",
       "      <td>NaN</td>\n",
       "      <td>NO</td>\n",
       "      <td>NaN</td>\n",
       "      <td>NaN</td>\n",
       "    </tr>\n",
       "    <tr>\n",
       "      <th>1071</th>\n",
       "      <td>NaN</td>\n",
       "      <td>NO</td>\n",
       "      <td>NaN</td>\n",
       "      <td>NaN</td>\n",
       "    </tr>\n",
       "    <tr>\n",
       "      <th>1114</th>\n",
       "      <td>NaN</td>\n",
       "      <td>NO</td>\n",
       "      <td>NaN</td>\n",
       "      <td>NaN</td>\n",
       "    </tr>\n",
       "    <tr>\n",
       "      <th>1122</th>\n",
       "      <td>NaN</td>\n",
       "      <td>NaN</td>\n",
       "      <td>NaN</td>\n",
       "      <td>NaN</td>\n",
       "    </tr>\n",
       "    <tr>\n",
       "      <th>1435</th>\n",
       "      <td>NaN</td>\n",
       "      <td>SÍ</td>\n",
       "      <td>Venta ambulante de alimentos (Tipo 1).</td>\n",
       "      <td>NaN</td>\n",
       "    </tr>\n",
       "  </tbody>\n",
       "</table>\n",
       "</div>"
      ],
      "text/plain": [
       "     Actualmente, ¿USTED cuenta con un CONTRATO DE TRABAJO FORMAL?  \\\n",
       "77                                                  NaN              \n",
       "142                                                 NaN              \n",
       "190                                                 NaN              \n",
       "614                                                 NaN              \n",
       "834                                                 NaN              \n",
       "1071                                                NaN              \n",
       "1114                                                NaN              \n",
       "1122                                                NaN              \n",
       "1435                                                NaN              \n",
       "\n",
       "     Actualmente ¿SU TRABAJO SE ENCUENTRA VINCULADO A TEMAS ALIMENTARIOS?  \\\n",
       "77                                                   SÍ                     \n",
       "142                                                  SÍ                     \n",
       "190                                                  NO                     \n",
       "614                                                 NaN                     \n",
       "834                                                  NO                     \n",
       "1071                                                 NO                     \n",
       "1114                                                 NO                     \n",
       "1122                                                NaN                     \n",
       "1435                                                 SÍ                     \n",
       "\n",
       "                      ¿Podría decirnos a que se dedica? Especificar.1  \n",
       "77               Venta ambulante de alimentos (Tipo 1).           NaN  \n",
       "142   Vendedor en mercado, bodega o similar (ej: ven...           NaN  \n",
       "190                                                 NaN           NaN  \n",
       "614                                                 NaN           NaN  \n",
       "834                                                 NaN           NaN  \n",
       "1071                                                NaN           NaN  \n",
       "1114                                                NaN           NaN  \n",
       "1122                                                NaN           NaN  \n",
       "1435             Venta ambulante de alimentos (Tipo 1).           NaN  "
      ]
     },
     "execution_count": 323,
     "metadata": {},
     "output_type": "execute_result"
    }
   ],
   "source": [
    "df[df[\"Actualmente, ¿USTED cuenta con un CONTRATO DE TRABAJO FORMAL?\"].isna()][[\n",
    "    \"Actualmente, ¿USTED cuenta con un CONTRATO DE TRABAJO FORMAL?\",\n",
    "    \"Actualmente ¿SU TRABAJO SE ENCUENTRA VINCULADO A TEMAS ALIMENTARIOS?\",\n",
    "    \"¿Podría decirnos a que se dedica?\",\n",
    "    \"Especificar.1\"]]"
   ]
  },
  {
   "cell_type": "code",
   "execution_count": 326,
   "id": "0215946e-b929-464a-bfac-933dcb376d1e",
   "metadata": {},
   "outputs": [],
   "source": [
    "df.loc[[77, 142, 1435], \"Actualmente, ¿USTED cuenta con un CONTRATO DE TRABAJO FORMAL?\"] = \"No especifica\""
   ]
  },
  {
   "cell_type": "code",
   "execution_count": 328,
   "id": "b2afff48-5101-488b-93d8-f95df552d186",
   "metadata": {},
   "outputs": [
    {
     "data": {
      "text/html": [
       "<div>\n",
       "<style scoped>\n",
       "    .dataframe tbody tr th:only-of-type {\n",
       "        vertical-align: middle;\n",
       "    }\n",
       "\n",
       "    .dataframe tbody tr th {\n",
       "        vertical-align: top;\n",
       "    }\n",
       "\n",
       "    .dataframe thead th {\n",
       "        text-align: right;\n",
       "    }\n",
       "</style>\n",
       "<table border=\"1\" class=\"dataframe\">\n",
       "  <thead>\n",
       "    <tr style=\"text-align: right;\">\n",
       "      <th></th>\n",
       "      <th>Actualmente, ¿USTED cuenta con un CONTRATO DE TRABAJO FORMAL?</th>\n",
       "      <th>Actualmente ¿SU TRABAJO SE ENCUENTRA VINCULADO A TEMAS ALIMENTARIOS?</th>\n",
       "      <th>¿Podría decirnos a que se dedica?</th>\n",
       "      <th>Especificar.1</th>\n",
       "    </tr>\n",
       "  </thead>\n",
       "  <tbody>\n",
       "    <tr>\n",
       "      <th>190</th>\n",
       "      <td>NaN</td>\n",
       "      <td>NO</td>\n",
       "      <td>NaN</td>\n",
       "      <td>NaN</td>\n",
       "    </tr>\n",
       "    <tr>\n",
       "      <th>614</th>\n",
       "      <td>NaN</td>\n",
       "      <td>NaN</td>\n",
       "      <td>NaN</td>\n",
       "      <td>NaN</td>\n",
       "    </tr>\n",
       "    <tr>\n",
       "      <th>834</th>\n",
       "      <td>NaN</td>\n",
       "      <td>NO</td>\n",
       "      <td>NaN</td>\n",
       "      <td>NaN</td>\n",
       "    </tr>\n",
       "    <tr>\n",
       "      <th>1071</th>\n",
       "      <td>NaN</td>\n",
       "      <td>NO</td>\n",
       "      <td>NaN</td>\n",
       "      <td>NaN</td>\n",
       "    </tr>\n",
       "    <tr>\n",
       "      <th>1114</th>\n",
       "      <td>NaN</td>\n",
       "      <td>NO</td>\n",
       "      <td>NaN</td>\n",
       "      <td>NaN</td>\n",
       "    </tr>\n",
       "    <tr>\n",
       "      <th>1122</th>\n",
       "      <td>NaN</td>\n",
       "      <td>NaN</td>\n",
       "      <td>NaN</td>\n",
       "      <td>NaN</td>\n",
       "    </tr>\n",
       "  </tbody>\n",
       "</table>\n",
       "</div>"
      ],
      "text/plain": [
       "     Actualmente, ¿USTED cuenta con un CONTRATO DE TRABAJO FORMAL?  \\\n",
       "190                                                 NaN              \n",
       "614                                                 NaN              \n",
       "834                                                 NaN              \n",
       "1071                                                NaN              \n",
       "1114                                                NaN              \n",
       "1122                                                NaN              \n",
       "\n",
       "     Actualmente ¿SU TRABAJO SE ENCUENTRA VINCULADO A TEMAS ALIMENTARIOS?  \\\n",
       "190                                                  NO                     \n",
       "614                                                 NaN                     \n",
       "834                                                  NO                     \n",
       "1071                                                 NO                     \n",
       "1114                                                 NO                     \n",
       "1122                                                NaN                     \n",
       "\n",
       "     ¿Podría decirnos a que se dedica? Especificar.1  \n",
       "190                                NaN           NaN  \n",
       "614                                NaN           NaN  \n",
       "834                                NaN           NaN  \n",
       "1071                               NaN           NaN  \n",
       "1114                               NaN           NaN  \n",
       "1122                               NaN           NaN  "
      ]
     },
     "execution_count": 328,
     "metadata": {},
     "output_type": "execute_result"
    }
   ],
   "source": [
    "df[df[\"Actualmente, ¿USTED cuenta con un CONTRATO DE TRABAJO FORMAL?\"].isna()][[\n",
    "    \"Actualmente, ¿USTED cuenta con un CONTRATO DE TRABAJO FORMAL?\",\n",
    "    \"Actualmente ¿SU TRABAJO SE ENCUENTRA VINCULADO A TEMAS ALIMENTARIOS?\",\n",
    "    \"¿Podría decirnos a que se dedica?\",\n",
    "    \"Especificar.1\"]]"
   ]
  },
  {
   "cell_type": "code",
   "execution_count": 330,
   "id": "8d56eec2-e11c-46de-82e5-884808718d1f",
   "metadata": {},
   "outputs": [],
   "source": [
    "df.loc[[190, 834, 1071, 1114], \"Actualmente, ¿USTED cuenta con un CONTRATO DE TRABAJO FORMAL?\"] = \"No especifica\""
   ]
  },
  {
   "cell_type": "code",
   "execution_count": 331,
   "id": "d9fde74b-0db8-488d-a0d0-7d2f0807db8f",
   "metadata": {},
   "outputs": [
    {
     "data": {
      "text/html": [
       "<div>\n",
       "<style scoped>\n",
       "    .dataframe tbody tr th:only-of-type {\n",
       "        vertical-align: middle;\n",
       "    }\n",
       "\n",
       "    .dataframe tbody tr th {\n",
       "        vertical-align: top;\n",
       "    }\n",
       "\n",
       "    .dataframe thead th {\n",
       "        text-align: right;\n",
       "    }\n",
       "</style>\n",
       "<table border=\"1\" class=\"dataframe\">\n",
       "  <thead>\n",
       "    <tr style=\"text-align: right;\">\n",
       "      <th></th>\n",
       "      <th>Actualmente, ¿USTED cuenta con un CONTRATO DE TRABAJO FORMAL?</th>\n",
       "      <th>Actualmente ¿SU TRABAJO SE ENCUENTRA VINCULADO A TEMAS ALIMENTARIOS?</th>\n",
       "      <th>¿Podría decirnos a que se dedica?</th>\n",
       "      <th>Especificar.1</th>\n",
       "    </tr>\n",
       "  </thead>\n",
       "  <tbody>\n",
       "    <tr>\n",
       "      <th>614</th>\n",
       "      <td>NaN</td>\n",
       "      <td>NaN</td>\n",
       "      <td>NaN</td>\n",
       "      <td>NaN</td>\n",
       "    </tr>\n",
       "    <tr>\n",
       "      <th>1122</th>\n",
       "      <td>NaN</td>\n",
       "      <td>NaN</td>\n",
       "      <td>NaN</td>\n",
       "      <td>NaN</td>\n",
       "    </tr>\n",
       "  </tbody>\n",
       "</table>\n",
       "</div>"
      ],
      "text/plain": [
       "     Actualmente, ¿USTED cuenta con un CONTRATO DE TRABAJO FORMAL?  \\\n",
       "614                                                 NaN              \n",
       "1122                                                NaN              \n",
       "\n",
       "     Actualmente ¿SU TRABAJO SE ENCUENTRA VINCULADO A TEMAS ALIMENTARIOS?  \\\n",
       "614                                                 NaN                     \n",
       "1122                                                NaN                     \n",
       "\n",
       "     ¿Podría decirnos a que se dedica? Especificar.1  \n",
       "614                                NaN           NaN  \n",
       "1122                               NaN           NaN  "
      ]
     },
     "execution_count": 331,
     "metadata": {},
     "output_type": "execute_result"
    }
   ],
   "source": [
    "df[df[\"Actualmente, ¿USTED cuenta con un CONTRATO DE TRABAJO FORMAL?\"].isna()][[\n",
    "    \"Actualmente, ¿USTED cuenta con un CONTRATO DE TRABAJO FORMAL?\",\n",
    "    \"Actualmente ¿SU TRABAJO SE ENCUENTRA VINCULADO A TEMAS ALIMENTARIOS?\",\n",
    "    \"¿Podría decirnos a que se dedica?\",\n",
    "    \"Especificar.1\"]]"
   ]
  },
  {
   "cell_type": "code",
   "execution_count": 332,
   "id": "f4ffac4b-9024-44fe-8010-3fded89059ab",
   "metadata": {},
   "outputs": [],
   "source": [
    "df[\"Actualmente, ¿USTED cuenta con un CONTRATO DE TRABAJO FORMAL?\"] = df[\"Actualmente, ¿USTED cuenta con un CONTRATO DE TRABAJO FORMAL?\"].fillna(\"Sin respuesta\")"
   ]
  },
  {
   "cell_type": "code",
   "execution_count": 333,
   "id": "8e9d579c-eef9-46e4-97a5-87746663ff9a",
   "metadata": {},
   "outputs": [
    {
     "data": {
      "text/plain": [
       "array(['No tengo trabajo', 'NO', 'SÍ', 'No especifica', 'Sin respuesta'],\n",
       "      dtype=object)"
      ]
     },
     "execution_count": 333,
     "metadata": {},
     "output_type": "execute_result"
    }
   ],
   "source": [
    "df[\"Actualmente, ¿USTED cuenta con un CONTRATO DE TRABAJO FORMAL?\"].unique()"
   ]
  },
  {
   "cell_type": "code",
   "execution_count": 334,
   "id": "35725442-daac-472c-aad4-e33fdf5e6b2b",
   "metadata": {},
   "outputs": [
    {
     "data": {
      "image/png": "[encoded data removed]",
      "text/plain": [
       "<Figure size 640x480 with 1 Axes>"
      ]
     },
     "metadata": {},
     "output_type": "display_data"
    }
   ],
   "source": [
    "order = ['SÍ', 'NO', 'No tengo trabajo', 'No especifica', 'Sin respuesta']\n",
    "ax = df[\"Actualmente, ¿USTED cuenta con un CONTRATO DE TRABAJO FORMAL?\"].value_counts()[order].plot.bar()\n",
    "ax.set_title(\"Actualmente, ¿USTED cuenta con un CONTRATO DE TRABAJO FORMAL?\")\n",
    "ax.bar_label(ax.containers[0]);"
   ]
  },
  {
   "cell_type": "code",
   "execution_count": 336,
   "id": "feb2ace3-6fd9-4d9a-ba73-52315ca01c11",
   "metadata": {},
   "outputs": [
    {
     "data": {
      "text/plain": [
       "array(['No aplica', nan, 'NO', 'SÍ'], dtype=object)"
      ]
     },
     "execution_count": 336,
     "metadata": {},
     "output_type": "execute_result"
    }
   ],
   "source": [
    "df[\"Actualmente ¿SU TRABAJO SE ENCUENTRA VINCULADO A TEMAS ALIMENTARIOS?\"].unique()"
   ]
  },
  {
   "cell_type": "code",
   "execution_count": 337,
   "id": "7635b6e6-9868-40ec-85fd-e7dc14156121",
   "metadata": {},
   "outputs": [
    {
     "data": {
      "text/plain": [
       "15"
      ]
     },
     "execution_count": 337,
     "metadata": {},
     "output_type": "execute_result"
    }
   ],
   "source": [
    "df[\"Actualmente ¿SU TRABAJO SE ENCUENTRA VINCULADO A TEMAS ALIMENTARIOS?\"].isna().sum()"
   ]
  },
  {
   "cell_type": "code",
   "execution_count": 339,
   "id": "994608b9-8041-491a-a3ff-7a012bc58e69",
   "metadata": {},
   "outputs": [
    {
     "data": {
      "text/html": [
       "<div>\n",
       "<style scoped>\n",
       "    .dataframe tbody tr th:only-of-type {\n",
       "        vertical-align: middle;\n",
       "    }\n",
       "\n",
       "    .dataframe tbody tr th {\n",
       "        vertical-align: top;\n",
       "    }\n",
       "\n",
       "    .dataframe thead th {\n",
       "        text-align: right;\n",
       "    }\n",
       "</style>\n",
       "<table border=\"1\" class=\"dataframe\">\n",
       "  <thead>\n",
       "    <tr style=\"text-align: right;\">\n",
       "      <th></th>\n",
       "      <th>Actualmente, ¿USTED cuenta con un CONTRATO DE TRABAJO FORMAL?</th>\n",
       "      <th>Actualmente ¿SU TRABAJO SE ENCUENTRA VINCULADO A TEMAS ALIMENTARIOS?</th>\n",
       "      <th>¿Podría decirnos a que se dedica?</th>\n",
       "      <th>Especificar.1</th>\n",
       "    </tr>\n",
       "  </thead>\n",
       "  <tbody>\n",
       "    <tr>\n",
       "      <th>1</th>\n",
       "      <td>NO</td>\n",
       "      <td>NaN</td>\n",
       "      <td>NaN</td>\n",
       "      <td>NaN</td>\n",
       "    </tr>\n",
       "    <tr>\n",
       "      <th>251</th>\n",
       "      <td>NO</td>\n",
       "      <td>NaN</td>\n",
       "      <td>NaN</td>\n",
       "      <td>NaN</td>\n",
       "    </tr>\n",
       "    <tr>\n",
       "      <th>522</th>\n",
       "      <td>NO</td>\n",
       "      <td>NaN</td>\n",
       "      <td>NaN</td>\n",
       "      <td>NaN</td>\n",
       "    </tr>\n",
       "    <tr>\n",
       "      <th>614</th>\n",
       "      <td>Sin respuesta</td>\n",
       "      <td>NaN</td>\n",
       "      <td>NaN</td>\n",
       "      <td>NaN</td>\n",
       "    </tr>\n",
       "    <tr>\n",
       "      <th>640</th>\n",
       "      <td>NO</td>\n",
       "      <td>NaN</td>\n",
       "      <td>NaN</td>\n",
       "      <td>NaN</td>\n",
       "    </tr>\n",
       "    <tr>\n",
       "      <th>1052</th>\n",
       "      <td>NO</td>\n",
       "      <td>NaN</td>\n",
       "      <td>NaN</td>\n",
       "      <td>NaN</td>\n",
       "    </tr>\n",
       "    <tr>\n",
       "      <th>1055</th>\n",
       "      <td>NO</td>\n",
       "      <td>NaN</td>\n",
       "      <td>NaN</td>\n",
       "      <td>NaN</td>\n",
       "    </tr>\n",
       "    <tr>\n",
       "      <th>1057</th>\n",
       "      <td>NO</td>\n",
       "      <td>NaN</td>\n",
       "      <td>NaN</td>\n",
       "      <td>NaN</td>\n",
       "    </tr>\n",
       "    <tr>\n",
       "      <th>1058</th>\n",
       "      <td>NO</td>\n",
       "      <td>NaN</td>\n",
       "      <td>NaN</td>\n",
       "      <td>NaN</td>\n",
       "    </tr>\n",
       "    <tr>\n",
       "      <th>1059</th>\n",
       "      <td>NO</td>\n",
       "      <td>NaN</td>\n",
       "      <td>NaN</td>\n",
       "      <td>NaN</td>\n",
       "    </tr>\n",
       "    <tr>\n",
       "      <th>1061</th>\n",
       "      <td>NO</td>\n",
       "      <td>NaN</td>\n",
       "      <td>NaN</td>\n",
       "      <td>NaN</td>\n",
       "    </tr>\n",
       "    <tr>\n",
       "      <th>1063</th>\n",
       "      <td>NO</td>\n",
       "      <td>NaN</td>\n",
       "      <td>NaN</td>\n",
       "      <td>NaN</td>\n",
       "    </tr>\n",
       "    <tr>\n",
       "      <th>1068</th>\n",
       "      <td>NO</td>\n",
       "      <td>NaN</td>\n",
       "      <td>NaN</td>\n",
       "      <td>NaN</td>\n",
       "    </tr>\n",
       "    <tr>\n",
       "      <th>1120</th>\n",
       "      <td>NO</td>\n",
       "      <td>NaN</td>\n",
       "      <td>NaN</td>\n",
       "      <td>NaN</td>\n",
       "    </tr>\n",
       "    <tr>\n",
       "      <th>1122</th>\n",
       "      <td>Sin respuesta</td>\n",
       "      <td>NaN</td>\n",
       "      <td>NaN</td>\n",
       "      <td>NaN</td>\n",
       "    </tr>\n",
       "  </tbody>\n",
       "</table>\n",
       "</div>"
      ],
      "text/plain": [
       "     Actualmente, ¿USTED cuenta con un CONTRATO DE TRABAJO FORMAL?  \\\n",
       "1                                                    NO              \n",
       "251                                                  NO              \n",
       "522                                                  NO              \n",
       "614                                       Sin respuesta              \n",
       "640                                                  NO              \n",
       "1052                                                 NO              \n",
       "1055                                                 NO              \n",
       "1057                                                 NO              \n",
       "1058                                                 NO              \n",
       "1059                                                 NO              \n",
       "1061                                                 NO              \n",
       "1063                                                 NO              \n",
       "1068                                                 NO              \n",
       "1120                                                 NO              \n",
       "1122                                      Sin respuesta              \n",
       "\n",
       "     Actualmente ¿SU TRABAJO SE ENCUENTRA VINCULADO A TEMAS ALIMENTARIOS?  \\\n",
       "1                                                   NaN                     \n",
       "251                                                 NaN                     \n",
       "522                                                 NaN                     \n",
       "614                                                 NaN                     \n",
       "640                                                 NaN                     \n",
       "1052                                                NaN                     \n",
       "1055                                                NaN                     \n",
       "1057                                                NaN                     \n",
       "1058                                                NaN                     \n",
       "1059                                                NaN                     \n",
       "1061                                                NaN                     \n",
       "1063                                                NaN                     \n",
       "1068                                                NaN                     \n",
       "1120                                                NaN                     \n",
       "1122                                                NaN                     \n",
       "\n",
       "     ¿Podría decirnos a que se dedica? Especificar.1  \n",
       "1                                  NaN           NaN  \n",
       "251                                NaN           NaN  \n",
       "522                                NaN           NaN  \n",
       "614                                NaN           NaN  \n",
       "640                                NaN           NaN  \n",
       "1052                               NaN           NaN  \n",
       "1055                               NaN           NaN  \n",
       "1057                               NaN           NaN  \n",
       "1058                               NaN           NaN  \n",
       "1059                               NaN           NaN  \n",
       "1061                               NaN           NaN  \n",
       "1063                               NaN           NaN  \n",
       "1068                               NaN           NaN  \n",
       "1120                               NaN           NaN  \n",
       "1122                               NaN           NaN  "
      ]
     },
     "execution_count": 339,
     "metadata": {},
     "output_type": "execute_result"
    }
   ],
   "source": [
    "df[df[\"Actualmente ¿SU TRABAJO SE ENCUENTRA VINCULADO A TEMAS ALIMENTARIOS?\"].isna()][[\n",
    "    \"Actualmente, ¿USTED cuenta con un CONTRATO DE TRABAJO FORMAL?\",\n",
    "    \"Actualmente ¿SU TRABAJO SE ENCUENTRA VINCULADO A TEMAS ALIMENTARIOS?\",\n",
    "    \"¿Podría decirnos a que se dedica?\",\n",
    "    \"Especificar.1\"]]"
   ]
  },
  {
   "cell_type": "code",
   "execution_count": 340,
   "id": "f1b3777c-49b7-407c-80a8-4efeff93a7f1",
   "metadata": {},
   "outputs": [],
   "source": [
    "df.loc[\n",
    "    df[\"Actualmente ¿SU TRABAJO SE ENCUENTRA VINCULADO A TEMAS ALIMENTARIOS?\"].isna(),\n",
    "    [\"Actualmente ¿SU TRABAJO SE ENCUENTRA VINCULADO A TEMAS ALIMENTARIOS?\",\n",
    "    \"¿Podría decirnos a que se dedica?\",\n",
    "    \"Especificar.1\"]\n",
    "] = 'Sin respuesta'"
   ]
  },
  {
   "cell_type": "code",
   "execution_count": 341,
   "id": "7294de16-84e0-4f18-9c34-022cf12f9a14",
   "metadata": {},
   "outputs": [
    {
     "data": {
      "text/plain": [
       "array(['No aplica', 'Sin respuesta', 'NO', 'SÍ'], dtype=object)"
      ]
     },
     "execution_count": 341,
     "metadata": {},
     "output_type": "execute_result"
    }
   ],
   "source": [
    "df[\"Actualmente ¿SU TRABAJO SE ENCUENTRA VINCULADO A TEMAS ALIMENTARIOS?\"].unique()"
   ]
  },
  {
   "cell_type": "code",
   "execution_count": 342,
   "id": "fe31c783-caac-41c2-a35b-b812b88f98a2",
   "metadata": {},
   "outputs": [
    {
     "data": {
      "image/png": "[encoded data removed]",
      "text/plain": [
       "<Figure size 640x480 with 1 Axes>"
      ]
     },
     "metadata": {},
     "output_type": "display_data"
    }
   ],
   "source": [
    "order = ['SÍ', 'NO', 'Sin respuesta', 'No aplica']\n",
    "ax = df[\"Actualmente ¿SU TRABAJO SE ENCUENTRA VINCULADO A TEMAS ALIMENTARIOS?\"].value_counts()[order].plot.bar()\n",
    "ax.set_title(\"Actualmente ¿SU TRABAJO SE ENCUENTRA VINCULADO A TEMAS ALIMENTARIOS?\")\n",
    "ax.bar_label(ax.containers[0]);"
   ]
  },
  {
   "cell_type": "code",
   "execution_count": 354,
   "id": "123aa387-50f7-44a5-91c3-46ee39b52323",
   "metadata": {},
   "outputs": [],
   "source": [
    "df.to_excel(\"outputs/encuesta_limpieza_en_proceso_22_02_23.xlsx\")"
   ]
  },
  {
   "cell_type": "code",
   "execution_count": 343,
   "id": "4e7a3eb2-068d-4c40-ad08-c1d7835e1963",
   "metadata": {},
   "outputs": [
    {
     "data": {
      "text/plain": [
       "array([nan, 'Sin respuesta', 'Venta de alimentos no ambulante (Tipo 2)',\n",
       "       'Trabajo en restaurante, PASTELERIA, PANADERIA (en cualquier actividad)',\n",
       "       'Empleados en actividades alimentarias (avícolas, pescaderías, chacra, otros)',\n",
       "       'Venta ambulante de alimentos (Tipo 1).', 'Delivery',\n",
       "       'Vendedor en mercado, bodega o similar (ej: vendedor de helados)',\n",
       "       'Otro, especificar',\n",
       "       'Venta de alimentos con uno o más empleados (tipo 3)',\n",
       "       'Cargador en mercado/estibador'], dtype=object)"
      ]
     },
     "execution_count": 343,
     "metadata": {},
     "output_type": "execute_result"
    }
   ],
   "source": [
    "df[\"¿Podría decirnos a que se dedica?\"].unique()"
   ]
  },
  {
   "cell_type": "code",
   "execution_count": 344,
   "id": "649e13cd-7a58-45a9-921d-79065ff9a07f",
   "metadata": {},
   "outputs": [
    {
     "data": {
      "text/plain": [
       "1182"
      ]
     },
     "execution_count": 344,
     "metadata": {},
     "output_type": "execute_result"
    }
   ],
   "source": [
    "df[\"¿Podría decirnos a que se dedica?\"].isna().sum()"
   ]
  },
  {
   "cell_type": "code",
   "execution_count": 348,
   "id": "529209f0-4c26-4677-bab0-204747d50132",
   "metadata": {},
   "outputs": [
    {
     "data": {
      "text/html": [
       "<div>\n",
       "<style scoped>\n",
       "    .dataframe tbody tr th:only-of-type {\n",
       "        vertical-align: middle;\n",
       "    }\n",
       "\n",
       "    .dataframe tbody tr th {\n",
       "        vertical-align: top;\n",
       "    }\n",
       "\n",
       "    .dataframe thead th {\n",
       "        text-align: right;\n",
       "    }\n",
       "</style>\n",
       "<table border=\"1\" class=\"dataframe\">\n",
       "  <thead>\n",
       "    <tr style=\"text-align: right;\">\n",
       "      <th></th>\n",
       "      <th>Actualmente, ¿USTED cuenta con un CONTRATO DE TRABAJO FORMAL?</th>\n",
       "      <th>Actualmente ¿SU TRABAJO SE ENCUENTRA VINCULADO A TEMAS ALIMENTARIOS?</th>\n",
       "      <th>¿Podría decirnos a que se dedica?</th>\n",
       "      <th>Especificar.1</th>\n",
       "    </tr>\n",
       "  </thead>\n",
       "  <tbody>\n",
       "    <tr>\n",
       "      <th>0</th>\n",
       "      <td>No tengo trabajo</td>\n",
       "      <td>No aplica</td>\n",
       "      <td>NaN</td>\n",
       "      <td>NaN</td>\n",
       "    </tr>\n",
       "    <tr>\n",
       "      <th>2</th>\n",
       "      <td>NO</td>\n",
       "      <td>NO</td>\n",
       "      <td>NaN</td>\n",
       "      <td>NaN</td>\n",
       "    </tr>\n",
       "    <tr>\n",
       "      <th>4</th>\n",
       "      <td>NO</td>\n",
       "      <td>NO</td>\n",
       "      <td>NaN</td>\n",
       "      <td>NaN</td>\n",
       "    </tr>\n",
       "    <tr>\n",
       "      <th>6</th>\n",
       "      <td>NO</td>\n",
       "      <td>NO</td>\n",
       "      <td>NaN</td>\n",
       "      <td>NaN</td>\n",
       "    </tr>\n",
       "    <tr>\n",
       "      <th>7</th>\n",
       "      <td>NO</td>\n",
       "      <td>NO</td>\n",
       "      <td>NaN</td>\n",
       "      <td>NaN</td>\n",
       "    </tr>\n",
       "    <tr>\n",
       "      <th>...</th>\n",
       "      <td>...</td>\n",
       "      <td>...</td>\n",
       "      <td>...</td>\n",
       "      <td>...</td>\n",
       "    </tr>\n",
       "    <tr>\n",
       "      <th>1803</th>\n",
       "      <td>NO</td>\n",
       "      <td>NO</td>\n",
       "      <td>NaN</td>\n",
       "      <td>NaN</td>\n",
       "    </tr>\n",
       "    <tr>\n",
       "      <th>1804</th>\n",
       "      <td>NO</td>\n",
       "      <td>NO</td>\n",
       "      <td>NaN</td>\n",
       "      <td>NaN</td>\n",
       "    </tr>\n",
       "    <tr>\n",
       "      <th>1805</th>\n",
       "      <td>NO</td>\n",
       "      <td>NO</td>\n",
       "      <td>NaN</td>\n",
       "      <td>NaN</td>\n",
       "    </tr>\n",
       "    <tr>\n",
       "      <th>1808</th>\n",
       "      <td>NO</td>\n",
       "      <td>NO</td>\n",
       "      <td>NaN</td>\n",
       "      <td>NaN</td>\n",
       "    </tr>\n",
       "    <tr>\n",
       "      <th>1810</th>\n",
       "      <td>NO</td>\n",
       "      <td>NO</td>\n",
       "      <td>NaN</td>\n",
       "      <td>NaN</td>\n",
       "    </tr>\n",
       "  </tbody>\n",
       "</table>\n",
       "<p>1182 rows × 4 columns</p>\n",
       "</div>"
      ],
      "text/plain": [
       "     Actualmente, ¿USTED cuenta con un CONTRATO DE TRABAJO FORMAL?  \\\n",
       "0                                      No tengo trabajo              \n",
       "2                                                    NO              \n",
       "4                                                    NO              \n",
       "6                                                    NO              \n",
       "7                                                    NO              \n",
       "...                                                 ...              \n",
       "1803                                                 NO              \n",
       "1804                                                 NO              \n",
       "1805                                                 NO              \n",
       "1808                                                 NO              \n",
       "1810                                                 NO              \n",
       "\n",
       "     Actualmente ¿SU TRABAJO SE ENCUENTRA VINCULADO A TEMAS ALIMENTARIOS?  \\\n",
       "0                                             No aplica                     \n",
       "2                                                    NO                     \n",
       "4                                                    NO                     \n",
       "6                                                    NO                     \n",
       "7                                                    NO                     \n",
       "...                                                 ...                     \n",
       "1803                                                 NO                     \n",
       "1804                                                 NO                     \n",
       "1805                                                 NO                     \n",
       "1808                                                 NO                     \n",
       "1810                                                 NO                     \n",
       "\n",
       "     ¿Podría decirnos a que se dedica? Especificar.1  \n",
       "0                                  NaN           NaN  \n",
       "2                                  NaN           NaN  \n",
       "4                                  NaN           NaN  \n",
       "6                                  NaN           NaN  \n",
       "7                                  NaN           NaN  \n",
       "...                                ...           ...  \n",
       "1803                               NaN           NaN  \n",
       "1804                               NaN           NaN  \n",
       "1805                               NaN           NaN  \n",
       "1808                               NaN           NaN  \n",
       "1810                               NaN           NaN  \n",
       "\n",
       "[1182 rows x 4 columns]"
      ]
     },
     "execution_count": 348,
     "metadata": {},
     "output_type": "execute_result"
    }
   ],
   "source": [
    "df[df[\"¿Podría decirnos a que se dedica?\"].isna()][[\n",
    "    \"Actualmente, ¿USTED cuenta con un CONTRATO DE TRABAJO FORMAL?\",\n",
    "    \"Actualmente ¿SU TRABAJO SE ENCUENTRA VINCULADO A TEMAS ALIMENTARIOS?\",\n",
    "    \"¿Podría decirnos a que se dedica?\",\n",
    "    \"Especificar.1\"]]"
   ]
  },
  {
   "cell_type": "code",
   "execution_count": null,
   "id": "addc4bb0-6ae2-4dd4-8d6d-73cdd8d1ba63",
   "metadata": {},
   "outputs": [],
   "source": []
  }
 ],
 "metadata": {
  "kernelspec": {
   "display_name": "Python 3 (ipykernel)",
   "language": "python",
   "name": "python3"
  },
  "language_info": {
   "codemirror_mode": {
    "name": "ipython",
    "version": 3
   },
   "file_extension": ".py",
   "mimetype": "text/x-python",
   "name": "python",
   "nbconvert_exporter": "python",
   "pygments_lexer": "ipython3",
   "version": "3.10.9"
  }
 },
 "nbformat": 4,
 "nbformat_minor": 5
}
