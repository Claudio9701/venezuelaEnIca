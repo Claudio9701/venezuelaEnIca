{
 "cells": [
  {
   "cell_type": "code",
   "execution_count": null,
   "id": "91fcbea7-6c8f-41d8-bcaf-f553ba003a6b",
   "metadata": {},
   "outputs": [],
   "source": [
    "import pandas as pd\n",
    "import numpy as np\n",
    "import matplotlib.pyplot as plt"
   ]
  },
  {
   "cell_type": "code",
   "execution_count": null,
   "id": "02a6bd84-1fa0-4158-ae1d-6046a151de84",
   "metadata": {},
   "outputs": [],
   "source": [
    "df = pd.read_excel(\"outputs/complete_df.xlsx\", parse_dates=[1, 85])"
   ]
  },
  {
   "cell_type": "code",
   "execution_count": null,
   "id": "5a17ede3-4c39-43e4-8e1b-ef2db52dc5ac",
   "metadata": {},
   "outputs": [],
   "source": [
    "df"
   ]
  },
  {
   "cell_type": "code",
   "execution_count": null,
   "id": "549500cb-1163-421c-b10b-20c5bdda5e6e",
   "metadata": {},
   "outputs": [],
   "source": [
    "miembros_familia = pd.read_excel(\n",
    "    \"inputs/Encuesta_para_inmigrantes_venezolanos_en_Ica_-_all_versions_-_labels_-_2023-02-18-20-40-30.xlsx\",\n",
    "    sheet_name=1,\n",
    ")"
   ]
  },
  {
   "cell_type": "code",
   "execution_count": null,
   "id": "61b51f97-63be-464d-a4ed-67f626b7f168",
   "metadata": {},
   "outputs": [],
   "source": [
    "miembros_familia.head()"
   ]
  },
  {
   "cell_type": "code",
   "execution_count": null,
   "id": "44634b7c-ede6-432f-b3ed-ca4b75650f51",
   "metadata": {},
   "outputs": [],
   "source": [
    "miembros_familia_sexo = (\n",
    "    miembros_familia.rename(columns={\"Indique el sexo del miembro de familia\": \"sexo\"})\n",
    "    .groupby(by=[\"_parent_index\", \"sexo\"], as_index=False)\n",
    "    .size()\n",
    "    .pivot(index=\"_parent_index\", columns=\"sexo\", values=\"size\")\n",
    "    .fillna(0)\n",
    ")"
   ]
  },
  {
   "cell_type": "code",
   "execution_count": null,
   "id": "4725c29a-79f5-4490-a48f-c4aa6bf12958",
   "metadata": {},
   "outputs": [],
   "source": [
    "miembros_familia_sexo.columns = [\n",
    "    f\"n_miembros_{values.lower()}\" for values in miembros_familia_sexo.columns\n",
    "]"
   ]
  },
  {
   "cell_type": "code",
   "execution_count": null,
   "id": "d77bdec5-cfde-443b-af63-0d9df3297284",
   "metadata": {},
   "outputs": [],
   "source": [
    "miembros_familia_sexo"
   ]
  },
  {
   "cell_type": "code",
   "execution_count": null,
   "id": "0c90a0c0-fd7c-4af3-96e4-319f4f27256e",
   "metadata": {},
   "outputs": [],
   "source": [
    "miembros_familia = miembros_familia.rename(\n",
    "    columns={\"Indique la edad del miembro de familia\": \"edad\"}\n",
    ")\n",
    "miembros_familia[\"grupo_edad\"] = pd.cut(\n",
    "    x=miembros_familia[\"edad\"],\n",
    "    bins=[0, 17, 64, 100],\n",
    "    labels=[\"menores\", \"adultos\", \"mayores\"],\n",
    ")"
   ]
  },
  {
   "cell_type": "code",
   "execution_count": null,
   "id": "76590917-2d28-4852-b42c-6dca3f9a3d46",
   "metadata": {},
   "outputs": [],
   "source": [
    "miembros_familia_edad = (\n",
    "    miembros_familia.groupby(by=[\"_parent_index\", \"grupo_edad\"], as_index=False)\n",
    "    .size()\n",
    "    .pivot(index=\"_parent_index\", columns=\"grupo_edad\", values=\"size\")\n",
    "    .fillna(0)\n",
    ")\n",
    "miembros_familia_edad.columns = [\n",
    "    f\"n_miembros_{values}\" for values in miembros_familia_edad.columns\n",
    "]"
   ]
  },
  {
   "cell_type": "code",
   "execution_count": null,
   "id": "82ca4fa0-a281-4be6-8830-139517891ec3",
   "metadata": {},
   "outputs": [],
   "source": [
    "miembros_familia_edad"
   ]
  },
  {
   "cell_type": "code",
   "execution_count": null,
   "id": "4379982f-9227-4a27-bd3f-09cb51d02840",
   "metadata": {},
   "outputs": [],
   "source": [
    "miembros_cols = pd.concat((miembros_familia_edad, miembros_familia_sexo), axis=1)\n",
    "miembros_cols = miembros_cols.reset_index()\n",
    "miembros_cols[\"_parent_index\"] = miembros_cols[\"_parent_index\"].astype(int)"
   ]
  },
  {
   "cell_type": "code",
   "execution_count": null,
   "id": "943f1de7-47a9-483c-84cc-1e75f284409b",
   "metadata": {},
   "outputs": [],
   "source": [
    "# Sanity check\n",
    "miembros_cols.isna().sum()"
   ]
  },
  {
   "cell_type": "code",
   "execution_count": null,
   "id": "befa7f28-f4a3-4c09-89cd-7e2b05cead27",
   "metadata": {},
   "outputs": [],
   "source": [
    "df = df.merge(\n",
    "    right=miembros_cols, how=\"left\", left_on=\"_index\", right_on=\"_parent_index\"\n",
    ").drop(labels=\"_parent_index\", axis=1)\n",
    "df.loc[:, miembros_cols.columns[1:]] = df[miembros_cols.columns[1:]].fillna(0.0)"
   ]
  },
  {
   "cell_type": "code",
   "execution_count": null,
   "id": "feb01542-3f86-4a90-a43c-7c228380f8d3",
   "metadata": {},
   "outputs": [],
   "source": [
    "df"
   ]
  },
  {
   "cell_type": "code",
   "execution_count": null,
   "id": "c5e0afbb-5ebd-43db-9e03-f715579600e0",
   "metadata": {},
   "outputs": [],
   "source": [
    "alimentos = pd.read_excel(\n",
    "    \"inputs/Encuesta_para_inmigrantes_venezolanos_en_Ica_-_all_versions_-_labels_-_2023-02-18-20-40-30.xlsx\",\n",
    "    sheet_name=2,\n",
    ")"
   ]
  },
  {
   "cell_type": "code",
   "execution_count": null,
   "id": "1da816d3-3c4f-4815-9e93-fe4118144b13",
   "metadata": {},
   "outputs": [],
   "source": [
    "alimentos.shape"
   ]
  },
  {
   "cell_type": "code",
   "execution_count": null,
   "id": "4de5acb7-8e24-40c6-b06e-5ed7e09de4cf",
   "metadata": {},
   "outputs": [],
   "source": [
    "alimentos.head()"
   ]
  },
  {
   "cell_type": "code",
   "execution_count": null,
   "id": "60c7d8b6-7560-4b80-bc54-a2adcec0538b",
   "metadata": {},
   "outputs": [],
   "source": [
    "alimentos[\"Seleccionar alimento\"].unique()"
   ]
  },
  {
   "cell_type": "code",
   "execution_count": null,
   "id": "ac778c64-9fac-4751-a921-9ff97aae5ab2",
   "metadata": {},
   "outputs": [],
   "source": [
    "alimentos[\"Seleccionar alimento\"].isna().sum()"
   ]
  },
  {
   "cell_type": "code",
   "execution_count": null,
   "id": "a4bec06b-d40e-4635-bbc7-c56644a7456f",
   "metadata": {},
   "outputs": [],
   "source": [
    "alimentos = alimentos.dropna(\n",
    "    subset=[\"Seleccionar alimento\", \"Especifica otro alimento\"], how=\"all\"\n",
    ")"
   ]
  },
  {
   "cell_type": "code",
   "execution_count": null,
   "id": "d2212ae9-4a2a-4024-ac82-273df09e1de6",
   "metadata": {},
   "outputs": [],
   "source": [
    "alimentos[alimentos[\"Seleccionar alimento\"].isna()]"
   ]
  },
  {
   "cell_type": "code",
   "execution_count": null,
   "id": "ec1a8fbe-5ef8-499b-a925-78bc2e7f6d66",
   "metadata": {},
   "outputs": [],
   "source": [
    "alimentos[alimentos[\"Seleccionar alimento\"] == \"Otro, especificar\"][\n",
    "    \"Especifica otro alimento\"\n",
    "].sort_values().unique().tolist()"
   ]
  },
  {
   "cell_type": "code",
   "execution_count": null,
   "id": "cca72975-f737-4912-a0ab-1ec1989b6b3e",
   "metadata": {},
   "outputs": [],
   "source": [
    "to_replace = {\n",
    "    ## Opciones iniciales\n",
    "    \"Derivados lacteos\": [\"QUESO\", \"Queso\", \"queso\"],\n",
    "    \"Pescado\": [\n",
    "        \"ATUN\",\n",
    "        \"Atún\",\n",
    "        \"Atún más que la semana y menestras\",\n",
    "        \"Atún y Sandina\",\n",
    "        \"ENLATADOS\",\n",
    "    ],\n",
    "    \"Otros\": [\n",
    "        \"Hojado 4 veces a la semana\",\n",
    "        \"Hotdog\",\n",
    "        \"Menudencias solo hacen sopita\",\n",
    "        \"Sangresita\",\n",
    "    ],\n",
    "    # No origen animal\n",
    "    np.nan: [\n",
    "        \"Verduras\",\n",
    "        \"GRANOS\",\n",
    "        \"Grano\",\n",
    "        \"Granos\",\n",
    "        \"granos\",\n",
    "        \"MENESTRAS\",\n",
    "        \"Menestras\",\n",
    "        \"Menestras come cuando los vecinos le dan\",\n",
    "        \"Menestras: Lentejas, Alverjas, caraotas, etc.\",\n",
    "        \"Menestras: lentejas, alberjas, caraota, etc.\",\n",
    "        \"Menestras: lentejas, alverjas, caraotas, etc.\",\n",
    "        \"Menestras: lentejas, alverjas, pallares, etc.\",\n",
    "        \"Pasta\",\n",
    "        \"Pastas\",\n",
    "        \"Arroz y menestra\",\n",
    "        \"Arroz, pasta, granos y arina\",\n",
    "        \"Granos y menestras\",\n",
    "        \"Granos, menestras\",\n",
    "        \"Harinas, menestras, pastras\",\n",
    "        \"Menestras, fideos y arroz\",\n",
    "    ],\n",
    "}"
   ]
  },
  {
   "cell_type": "code",
   "execution_count": null,
   "id": "30944d0f-4591-42be-a2cc-f3f1e9bb9250",
   "metadata": {},
   "outputs": [],
   "source": [
    "to_replace_dict = {e: k for k, el in to_replace.items() for e in el}"
   ]
  },
  {
   "cell_type": "code",
   "execution_count": null,
   "id": "5a5f4201-8d49-4e8a-a210-013fa5896ffd",
   "metadata": {},
   "outputs": [],
   "source": [
    "alimentos[\"Especifica otro alimento\"] = alimentos[\"Especifica otro alimento\"].replace(\n",
    "    to_replace_dict\n",
    ")"
   ]
  },
  {
   "cell_type": "code",
   "execution_count": null,
   "id": "1ddefdef-022b-4f4e-b036-7e1f754f7220",
   "metadata": {},
   "outputs": [],
   "source": [
    "alimentos[alimentos[\"Seleccionar alimento\"] == \"Otro, especificar\"][\n",
    "    \"Especifica otro alimento\"\n",
    "].sort_values().unique().tolist()"
   ]
  },
  {
   "cell_type": "code",
   "execution_count": null,
   "id": "cd3770a2-d0a1-4148-b1a7-b00cbff8b189",
   "metadata": {},
   "outputs": [],
   "source": [
    "alimentos.loc[\n",
    "    (alimentos[\"Seleccionar alimento\"] == \"Otro, especificar\")\n",
    "    & (alimentos[\"Especifica otro alimento\"].isna()),\n",
    "    \"Seleccionar alimento\",\n",
    "] = np.nan"
   ]
  },
  {
   "cell_type": "code",
   "execution_count": null,
   "id": "eea832d1-0554-435f-a390-b980858a92be",
   "metadata": {},
   "outputs": [],
   "source": [
    "alimentos[alimentos[\"Seleccionar alimento\"] == \"Otro, especificar\"][\n",
    "    \"Especifica otro alimento\"\n",
    "].sort_values().unique().tolist()"
   ]
  },
  {
   "cell_type": "code",
   "execution_count": null,
   "id": "b4421f4d-655d-4128-99d7-d10c741adfd8",
   "metadata": {},
   "outputs": [],
   "source": [
    "alimentos.loc[\n",
    "    (alimentos[\"Seleccionar alimento\"] == \"Otro, especificar\")\n",
    "    & (alimentos[\"Especifica otro alimento\"].isna()),\n",
    "    \"Especifica otro alimento\",\n",
    "]"
   ]
  },
  {
   "cell_type": "code",
   "execution_count": null,
   "id": "e3d53728-1077-4f88-b7ca-fc53d6f92498",
   "metadata": {},
   "outputs": [],
   "source": [
    "alimentos[\"Seleccionar alimento\"] = alimentos[\"Seleccionar alimento\"].replace(\n",
    "    {\"Otro, especificar\": np.nan}\n",
    ")\n",
    "alimentos[\"Seleccionar alimento\"] = alimentos[\"Seleccionar alimento\"].fillna(\n",
    "    alimentos[\"Especifica otro alimento\"]\n",
    ")"
   ]
  },
  {
   "cell_type": "code",
   "execution_count": null,
   "id": "eae7f7f4-8450-40c7-8d80-e11ba6c24172",
   "metadata": {},
   "outputs": [],
   "source": [
    "alimentos[\"Seleccionar alimento\"].unique()"
   ]
  },
  {
   "cell_type": "code",
   "execution_count": null,
   "id": "cd190d09-6852-4dca-803e-badd154e6ce5",
   "metadata": {},
   "outputs": [],
   "source": [
    "alimentos[alimentos[\"Seleccionar alimento\"].isna()][\n",
    "    \"Especifica otro alimento\"\n",
    "].isna().all()"
   ]
  },
  {
   "cell_type": "code",
   "execution_count": null,
   "id": "bb0bcfd8-bd7e-4261-b41e-0347d683160e",
   "metadata": {},
   "outputs": [],
   "source": [
    "alimentos = alimentos.dropna(\n",
    "    subset=[\"Seleccionar alimento\", \"Especifica otro alimento\"], how=\"all\"\n",
    ")"
   ]
  },
  {
   "cell_type": "code",
   "execution_count": null,
   "id": "ed3f3ea4-e0a9-4dd1-b0c2-54a9a4416f4b",
   "metadata": {},
   "outputs": [],
   "source": [
    "alimentos[\"Seleccionar alimento\"].unique()"
   ]
  },
  {
   "cell_type": "code",
   "execution_count": null,
   "id": "8b2cde62-8e6f-43fd-ba6a-abcc5c4550e3",
   "metadata": {},
   "outputs": [],
   "source": [
    "alimentos_df = alimentos[\n",
    "    [\n",
    "        \"Seleccionar alimento\",\n",
    "        \"¿Cuántas veces a la semana consume cada alimento de orígen animal mencionado en la pregunta anterior?\",\n",
    "        \"_parent_index\",\n",
    "    ]\n",
    "]"
   ]
  },
  {
   "cell_type": "code",
   "execution_count": null,
   "id": "83db4755-88b5-4252-82c3-7ab02590bd32",
   "metadata": {},
   "outputs": [],
   "source": [
    "tipo_alimentos = (\n",
    "    alimentos_df.rename(columns={\"Seleccionar alimento\": \"tipo_alimento\"})\n",
    "    .groupby(by=[\"_parent_index\", \"tipo_alimento\"], as_index=False)\n",
    "    .size()\n",
    "    .pivot(index=\"_parent_index\", columns=\"tipo_alimento\", values=\"size\")\n",
    "    .fillna(0)\n",
    ")"
   ]
  },
  {
   "cell_type": "code",
   "execution_count": null,
   "id": "09245ecf-0ddc-4ce1-a0e5-8cca5e40857d",
   "metadata": {},
   "outputs": [],
   "source": [
    "new_cols_order = tipo_alimentos.columns.drop(\"Otros\").tolist()\n",
    "new_cols_order.append(\"Otros\")\n",
    "tipo_alimentos = tipo_alimentos[new_cols_order]"
   ]
  },
  {
   "cell_type": "code",
   "execution_count": null,
   "id": "66ece8ad-7bd6-4090-896e-a2c008cc17a0",
   "metadata": {},
   "outputs": [],
   "source": [
    "tipo_alimentos.columns = [\n",
    "    f\"consume_alimento_orig_animal_{values.lower()}\"\n",
    "    for values in tipo_alimentos.columns\n",
    "]"
   ]
  },
  {
   "cell_type": "code",
   "execution_count": null,
   "id": "3431912a-a1c2-4d23-a65a-86e05bc633b7",
   "metadata": {},
   "outputs": [],
   "source": [
    "alimentos_df[\n",
    "    \"¿Cuántas veces a la semana consume cada alimento de orígen animal mencionado en la pregunta anterior?\"\n",
    "].describe()"
   ]
  },
  {
   "cell_type": "code",
   "execution_count": null,
   "id": "4f2cdd04-263c-454f-8a7d-d00eb03ef3bc",
   "metadata": {},
   "outputs": [],
   "source": [
    "freq_consumo_alimentos = (\n",
    "    alimentos_df.rename(\n",
    "        columns={\n",
    "            \"Seleccionar alimento\": \"alimento\",\n",
    "            \"¿Cuántas veces a la semana consume cada alimento de orígen animal mencionado en la pregunta anterior?\": \"freq_consumo\",\n",
    "        }\n",
    "    )\n",
    "    .groupby(by=[\"_parent_index\", \"alimento\"], as_index=False)[\"freq_consumo\"]\n",
    "    .mean()\n",
    "    .pivot(index=\"_parent_index\", columns=\"alimento\", values=\"freq_consumo\")\n",
    "    .fillna(0)\n",
    ")"
   ]
  },
  {
   "cell_type": "code",
   "execution_count": null,
   "id": "0caae4e7-6e3d-45d2-aa19-47e18af313cd",
   "metadata": {},
   "outputs": [],
   "source": [
    "freq_consumo_alimentos = freq_consumo_alimentos[new_cols_order]"
   ]
  },
  {
   "cell_type": "code",
   "execution_count": null,
   "id": "583117d1-195f-4ea7-8a0e-ff25e5636a24",
   "metadata": {},
   "outputs": [],
   "source": [
    "freq_consumo_alimentos.columns = [\n",
    "    f\"freq_consumo_{values.lower()}\" for values in tipo_alimentos.columns\n",
    "]"
   ]
  },
  {
   "cell_type": "code",
   "execution_count": null,
   "id": "296db21a-4aa1-4855-8076-dd772ccb4ef0",
   "metadata": {},
   "outputs": [],
   "source": [
    "freq_consumo_alimentos.shape"
   ]
  },
  {
   "cell_type": "code",
   "execution_count": null,
   "id": "2e897ef7-1a5a-4112-9016-254ebfec97d6",
   "metadata": {},
   "outputs": [],
   "source": [
    "tipo_alimentos.shape"
   ]
  },
  {
   "cell_type": "code",
   "execution_count": null,
   "id": "0044e37a-83b8-43ab-b9a9-84fd7d2c097d",
   "metadata": {},
   "outputs": [],
   "source": [
    "alimentos_cols = pd.concat((tipo_alimentos, freq_consumo_alimentos), axis=1)\n",
    "alimentos_cols = alimentos_cols.reset_index()\n",
    "alimentos_cols[\"_parent_index\"] = alimentos_cols[\"_parent_index\"].astype(int)"
   ]
  },
  {
   "cell_type": "code",
   "execution_count": null,
   "id": "ffcb4b0b-3bf6-44c7-867e-31aa18f64d03",
   "metadata": {},
   "outputs": [],
   "source": [
    "# Sanity check\n",
    "alimentos_cols.isna().sum()"
   ]
  },
  {
   "cell_type": "code",
   "execution_count": null,
   "id": "86bfd667-fa70-4b59-b5a9-c53ae643c620",
   "metadata": {},
   "outputs": [],
   "source": [
    "col_order = [\n",
    "    \"_parent_index\",\n",
    "    \"consume_alimento_orig_animal_cerdo\",\n",
    "    \"freq_consumo_consume_alimento_orig_animal_cerdo\",\n",
    "    \"consume_alimento_orig_animal_derivados lacteos\",\n",
    "    \"freq_consumo_consume_alimento_orig_animal_derivados lacteos\",\n",
    "    \"consume_alimento_orig_animal_huevos\",\n",
    "    \"freq_consumo_consume_alimento_orig_animal_huevos\",\n",
    "    \"consume_alimento_orig_animal_leche\",\n",
    "    \"freq_consumo_consume_alimento_orig_animal_leche\",\n",
    "    \"consume_alimento_orig_animal_pescado\",\n",
    "    \"freq_consumo_consume_alimento_orig_animal_pescado\",\n",
    "    \"consume_alimento_orig_animal_pollo\",\n",
    "    \"freq_consumo_consume_alimento_orig_animal_pollo\",\n",
    "    \"consume_alimento_orig_animal_res\",\n",
    "    \"freq_consumo_consume_alimento_orig_animal_res\",\n",
    "    \"consume_alimento_orig_animal_otros\",\n",
    "    \"freq_consumo_consume_alimento_orig_animal_otros\",\n",
    "]"
   ]
  },
  {
   "cell_type": "code",
   "execution_count": null,
   "id": "7cac9d29-badf-4679-ba8e-98b38c90c801",
   "metadata": {},
   "outputs": [],
   "source": [
    "alimentos_cols = alimentos_cols[col_order]"
   ]
  },
  {
   "cell_type": "code",
   "execution_count": null,
   "id": "70c18412-9e08-455e-b914-1265110bd830",
   "metadata": {},
   "outputs": [],
   "source": [
    "df = df.merge(\n",
    "    right=alimentos_cols, how=\"left\", left_on=\"_index\", right_on=\"_parent_index\"\n",
    ").drop(labels=\"_parent_index\", axis=1)\n",
    "df.loc[:, alimentos_cols.columns[1:]] = df[alimentos_cols.columns[1:]].fillna(0.0)"
   ]
  },
  {
   "cell_type": "code",
   "execution_count": null,
   "id": "21fedc94-d545-4b03-ba16-0e31b1bb257a",
   "metadata": {},
   "outputs": [],
   "source": [
    "df.columns[df.columns.str.startswith(\"_\")]"
   ]
  },
  {
   "cell_type": "code",
   "execution_count": null,
   "id": "b87b60f2-f95e-4897-9a42-a5ec42d6440a",
   "metadata": {},
   "outputs": [],
   "source": [
    "df = df.drop(\n",
    "    [\n",
    "        \"__version__\",\n",
    "        \"_uuid\",\n",
    "        \"_submission_time\",\n",
    "        \"_validation_status\",\n",
    "        \"_notes\",\n",
    "        \"_status\",\n",
    "        \"_submitted_by\",\n",
    "        \"_tags\",\n",
    "        \"_index\",\n",
    "        \"new_id\",\n",
    "    ],\n",
    "    axis=1,\n",
    ")"
   ]
  },
  {
   "cell_type": "code",
   "execution_count": null,
   "id": "5d9072e6-df8e-4c37-bbbf-8c9b9827886f",
   "metadata": {},
   "outputs": [],
   "source": [
    "df.to_excel(\"encuesta_agregada.xlsx\", index=False)"
   ]
  },
  {
   "cell_type": "code",
   "execution_count": null,
   "id": "af6e6e66-942a-4c8b-b13e-4e7859359bb4",
   "metadata": {},
   "outputs": [],
   "source": [
    "## Codigo que considera opciones que no son de origen animal\n",
    "\n",
    "# to_replace = {\n",
    "#     ## Opciones iniciales\n",
    "#     'Derivados lacteos': ['QUESO', 'Queso', 'queso'],\n",
    "\n",
    "#     'Pescado': ['ATUN', 'Atún', 'Atún más que la semana y menestras',\n",
    "#                 'Atún y Sandina', 'ENLATADOS'],\n",
    "\n",
    "#     ## Nuevas opciones\n",
    "#     'Granos': ['GRANOS', 'Grano', 'Granos', 'granos'],\n",
    "\n",
    "#     'Menestras': ['MENESTRAS', 'Menestras', 'Menestras come cuando los vecinos le dan',\n",
    "#                   'Menestras: Lentejas, Alverjas, caraotas, etc.',\n",
    "#                   'Menestras: lentejas, alberjas, caraota, etc.',\n",
    "#                   'Menestras: lentejas, alverjas, caraotas, etc.',\n",
    "#                   'Menestras: lentejas, alverjas, pallares, etc.'],\n",
    "\n",
    "#     'Pastas': ['Pasta', 'Pastas'],\n",
    "\n",
    "#     'Otros': ['Hojado 4 veces a la semana', 'Hotdog', 'Menudencias solo hacen sopita', 'Sangresita'],\n",
    "\n",
    "#     ## No valido\n",
    "#     np.nan: ['Verduras']\n",
    "# }\n",
    "\n",
    "\n",
    "# to_replace_dict = {e: k for k, el in to_replace.items() for e in el}\n",
    "\n",
    "# alimentos['Especifica otro alimento'] = alimentos['Especifica otro alimento'].replace(to_replace_dict)\n",
    "\n",
    "# alimentos[alimentos[\"Seleccionar alimento\"] == 'Otro, especificar']['Especifica otro alimento'].sort_values().unique().tolist()\n",
    "\n",
    "# special_vals = ['Arroz y menestra',\n",
    "# 'Arroz, pasta, granos y arina',\n",
    "# 'Menestras, fideos y arroz',\n",
    "# 'Granos y menestras',\n",
    "# 'Granos, menestras',\n",
    "# 'Harinas, menestras, pastras']\n",
    "\n",
    "# otro_alimento = (alimentos[\n",
    "#         alimentos['Especifica otro alimento'].isin(special_vals)\n",
    "#     ]['Especifica otro alimento']\n",
    "#     .str.lower()\n",
    "#     .str.replace('y', ',')\n",
    "#     .str.replace(\" \", \"\")\n",
    "#     .str.split(',', expand=True)\n",
    "#     .replace({'menestra': 'menestras',\n",
    "#               'pastras': 'pastas',\n",
    "#               'pasta': 'pastas',\n",
    "#               'fideos': 'pastas',\n",
    "#               'arina': 'harinas'})\n",
    "#     .reset_index()\n",
    "#     .melt('index')\n",
    "#     .drop('variable', axis=1)\n",
    "#     .dropna()\n",
    "# )\n",
    "\n",
    "# otro_alimento['value'] = otro_alimento['value'].str.title()\n",
    "\n",
    "# otro_alimento = (otro_alimento\n",
    "#     .rename(columns={'value': 'Especifica otro alimento'})\n",
    "#     .set_index('index')\n",
    "#     .merge(alimentos[['¿Cuántas veces a la semana consume cada alimento de orígen animal mencionado en la pregunta anterior?',\n",
    "#                       '_parent_index']], left_index=True, right_index=True, how='left')\n",
    "# )\n",
    "\n",
    "# alimentos.shape\n",
    "\n",
    "# len(otro_alimento.index.unique())\n",
    "\n",
    "# # Drop special \"other\" values\n",
    "# alimentos[~alimentos.index.isin(otro_alimento.index.unique())]\n",
    "\n",
    "# alimentos = alimentos[~alimentos.index.isin(otro_alimento.index.unique())]\n",
    "\n",
    "# completo_alimentos = pd.concat((alimentos, otro_alimento), ignore_index=True)\n",
    "\n",
    "# completo_alimentos[completo_alimentos[\"Seleccionar alimento\"] == 'Otro, especificar']['Especifica otro alimento'].unique().tolist()\n",
    "\n",
    "# completo_alimentos[completo_alimentos[\"Seleccionar alimento\"] == 'Otro, especificar']['Especifica otro alimento'].isna().sum()\n",
    "\n",
    "# otro_alimento.index.unique()\n",
    "\n",
    "# completo_alimentos[(completo_alimentos[\"Seleccionar alimento\"] == 'Otro, especificar') & (completo_alimentos[\"Especifica otro alimento\"].isna())]\n",
    "\n",
    "# completo_alimentos[(completo_alimentos[\"Seleccionar alimento\"] == 'Otro, especificar') & (completo_alimentos[\"Especifica otro alimento\"].isna())] = 'Otros'\n",
    "\n",
    "# completo_alimentos[\"Seleccionar alimento\"] = completo_alimentos[\"Seleccionar alimento\"].replace({'Otro, especificar': np.nan})\n",
    "\n",
    "# completo_alimentos[\"Seleccionar alimento\"] = completo_alimentos[\"Seleccionar alimento\"].fillna(completo_alimentos[\"Especifica otro alimento\"])\n",
    "\n",
    "# tipo_alimentos = (completo_alimentos\n",
    "#     .rename(columns={'Seleccionar alimento': 'alimento'})\n",
    "#     .groupby(by=['_parent_index', 'alimento'], as_index=False)\n",
    "#     .size()\n",
    "#     .pivot(index='_parent_index', columns='alimento', values=\"size\")\n",
    "#     .fillna(0))\n",
    "\n",
    "# tipo_alimentos.columns\n",
    "\n",
    "# tipo_alimentos.columns = ['Arroz', 'Cerdo', 'Derivados lacteos', 'Granos', 'Harinas', 'Huevos',\n",
    "#                           'Leche', 'Menestras', 'Pastas', 'Pescado', 'Pollo', 'Res', 'Otros']\n",
    "\n",
    "# tipo_alimentos.columns = [f\"consume_alimento_orig_animal_{values.lower()}\"\n",
    "#                                  for values in tipo_alimentos.columns]\n",
    "\n",
    "# tipo_alimentos"
   ]
  },
  {
   "cell_type": "code",
   "execution_count": null,
   "id": "c7815909-7dc0-4ed2-b16f-817b7e577028",
   "metadata": {},
   "outputs": [],
   "source": []
  }
 ],
 "metadata": {
  "kernelspec": {
   "display_name": "Python 3 (ipykernel)",
   "language": "python",
   "name": "python3"
  },
  "language_info": {
   "codemirror_mode": {
    "name": "ipython",
    "version": 3
   },
   "file_extension": ".py",
   "mimetype": "text/x-python",
   "name": "python",
   "nbconvert_exporter": "python",
   "pygments_lexer": "ipython3",
   "version": "3.10.9"
  }
 },
 "nbformat": 4,
 "nbformat_minor": 5
}
