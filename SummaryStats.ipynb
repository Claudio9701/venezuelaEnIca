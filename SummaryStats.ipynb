{
 "cells": [
  {
   "cell_type": "code",
   "execution_count": null,
   "id": "d9bd3482-c0d3-48c3-b7e4-49b8ac894a2f",
   "metadata": {},
   "outputs": [],
   "source": [
    "import pandas as pd"
   ]
  },
  {
   "cell_type": "code",
   "execution_count": null,
   "id": "b032a20e-112e-4c9f-b5ce-af5123c13696",
   "metadata": {},
   "outputs": [],
   "source": [
    "df = pd.read_excel(\n",
    "    \"/home/claudio/Downloads/Encuesta_limpieza_22_02_23 vEFRL sinmenores.xlsx\",\n",
    "    index_col=0,\n",
    ")"
   ]
  },
  {
   "cell_type": "code",
   "execution_count": null,
   "id": "f860a3f9-46c1-47dc-bb53-6fa38562c16b",
   "metadata": {},
   "outputs": [],
   "source": [
    "df.shape"
   ]
  },
  {
   "cell_type": "code",
   "execution_count": null,
   "id": "7389e292-da2f-4d17-870f-f5018ac27c44",
   "metadata": {},
   "outputs": [],
   "source": [
    "df[\"Provincia donde vive\"].value_counts()"
   ]
  },
  {
   "cell_type": "code",
   "execution_count": null,
   "id": "b72b82be-a1a6-40fe-923f-130333f76472",
   "metadata": {},
   "outputs": [],
   "source": [
    "df[\"Provincia donde vive\"].value_counts(normalize=True)"
   ]
  },
  {
   "cell_type": "code",
   "execution_count": null,
   "id": "a2f2878c-6ee2-4037-a32c-78d88cdc795e",
   "metadata": {},
   "outputs": [],
   "source": [
    "miembros_familia = pd.read_excel(\n",
    "    \"inputs/Encuesta_para_inmigrantes_venezolanos_en_Ica_-_all_versions_-_labels_-_2023-02-18-20-40-30.xlsx\",\n",
    "    sheet_name=1,\n",
    ")"
   ]
  },
  {
   "cell_type": "code",
   "execution_count": null,
   "id": "038bd732-c1b5-4268-8358-8da691ab9c02",
   "metadata": {},
   "outputs": [],
   "source": [
    "miembros_familia[\"Indique el sexo del miembro de familia\"].isna().sum()"
   ]
  },
  {
   "cell_type": "code",
   "execution_count": null,
   "id": "c414902f-d7f4-4007-b2de-6578a79339ca",
   "metadata": {},
   "outputs": [],
   "source": [
    "miembros_familia[\"Indique la edad del miembro de familia\"].isna().sum()"
   ]
  },
  {
   "cell_type": "code",
   "execution_count": null,
   "id": "b8ddfc89-28d3-4b95-985f-74387c4fe461",
   "metadata": {},
   "outputs": [],
   "source": [
    "(miembros_familia[\"Indique la edad del miembro de familia\"] == 0).sum()"
   ]
  },
  {
   "cell_type": "code",
   "execution_count": null,
   "id": "cb6ff878-9954-479d-b98f-4051ca57f5ea",
   "metadata": {},
   "outputs": [],
   "source": [
    "miembros_familia[\"Indique la edad del miembro de familia\"].describe()"
   ]
  },
  {
   "cell_type": "code",
   "execution_count": null,
   "id": "df4268c4-9e96-49de-b55f-41a669440cf6",
   "metadata": {},
   "outputs": [],
   "source": [
    "119 + 6"
   ]
  },
  {
   "cell_type": "code",
   "execution_count": null,
   "id": "6b6b6d14-63d6-4504-be49-dad381b40abd",
   "metadata": {},
   "outputs": [],
   "source": []
  },
  {
   "cell_type": "code",
   "execution_count": null,
   "id": "cff12102-0465-42b6-a912-76e09bcdce0b",
   "metadata": {},
   "outputs": [],
   "source": [
    "4893 - 5014"
   ]
  },
  {
   "cell_type": "code",
   "execution_count": null,
   "id": "860a49fa-a80f-4c5e-924c-ef030aaa75b4",
   "metadata": {},
   "outputs": [],
   "source": [
    "miembros_familia = miembros_familia.rename(\n",
    "    columns={\"Indique la edad del miembro de familia\": \"edad\"}\n",
    ")\n",
    "miembros_familia[\"grupo_edad_INEI\"] = pd.cut(\n",
    "    x=miembros_familia[\"edad\"], bins=[-1, 14, 59, 100], labels=[\"0-14\", \"15-59\", \"60+\"]\n",
    ")"
   ]
  },
  {
   "cell_type": "code",
   "execution_count": null,
   "id": "952a3994-f085-4843-b23f-f504499058fe",
   "metadata": {},
   "outputs": [],
   "source": [
    "miembros_familia_edad = (\n",
    "    miembros_familia.groupby(by=[\"_parent_index\", \"grupo_edad_INEI\"], as_index=False)\n",
    "    .size()\n",
    "    .pivot(index=\"_parent_index\", columns=\"grupo_edad_INEI\", values=\"size\")\n",
    "    .fillna(0)\n",
    ")\n",
    "miembros_familia_edad.columns = [\n",
    "    f\"n_miembros_{values}\" for values in miembros_familia_edad.columns\n",
    "]"
   ]
  },
  {
   "cell_type": "code",
   "execution_count": null,
   "id": "cc9d0249-46b6-42e6-a7e3-7c89e86ae9a0",
   "metadata": {},
   "outputs": [],
   "source": [
    "df = df.merge(\n",
    "    right=miembros_familia_edad, how=\"left\", left_index=True, right_on=\"_parent_index\"\n",
    ").drop(labels=\"_parent_index\", axis=1)\n",
    "df.loc[:, miembros_familia_edad.columns[1:]] = df[\n",
    "    miembros_familia_edad.columns[1:]\n",
    "].fillna(0.0)"
   ]
  },
  {
   "cell_type": "code",
   "execution_count": null,
   "id": "9f71c4d9-c8b0-4735-8588-f35be691f1eb",
   "metadata": {},
   "outputs": [],
   "source": [
    "miembros_familia[\"sexo_edad\"] = (\n",
    "    miembros_familia[\"Indique el sexo del miembro de familia\"].astype(str)\n",
    "    + \"-\"\n",
    "    + miembros_familia[\"grupo_edad_INEI\"].astype(str)\n",
    ")"
   ]
  },
  {
   "cell_type": "code",
   "execution_count": null,
   "id": "9f54a3e6-8484-488e-b56e-3e52d5d6c077",
   "metadata": {},
   "outputs": [],
   "source": [
    "miembros_familia_sexo_edad = (\n",
    "    miembros_familia.groupby(by=[\"_parent_index\", \"sexo_edad\"], as_index=False)\n",
    "    .size()\n",
    "    .pivot(index=\"_parent_index\", columns=\"sexo_edad\", values=\"size\")\n",
    "    .fillna(0)\n",
    ")"
   ]
  },
  {
   "cell_type": "code",
   "execution_count": null,
   "id": "853cdfb6-1596-42f9-9398-ee982415828a",
   "metadata": {},
   "outputs": [],
   "source": [
    "df = df.merge(\n",
    "    right=miembros_familia_sexo_edad,\n",
    "    how=\"left\",\n",
    "    left_index=True,\n",
    "    right_on=\"_parent_index\",\n",
    ").drop(labels=\"_parent_index\", axis=1)\n",
    "df.loc[:, miembros_familia_sexo_edad.columns[1:]] = df[\n",
    "    miembros_familia_sexo_edad.columns[1:]\n",
    "].fillna(0.0)"
   ]
  },
  {
   "cell_type": "code",
   "execution_count": null,
   "id": "c2b072c4-ca9f-4c64-b044-72f8d96b7b51",
   "metadata": {},
   "outputs": [],
   "source": [
    "tabla_edad = (\n",
    "    df.groupby([\"Provincia donde vive\"]).agg(\n",
    "        {\"n_miembros_0-14\": \"sum\", \"n_miembros_15-59\": \"sum\", \"n_miembros_60+\": \"sum\"}\n",
    "    )\n",
    ").T"
   ]
  },
  {
   "cell_type": "code",
   "execution_count": null,
   "id": "1648d194-c933-4694-8613-e000d1b2305f",
   "metadata": {},
   "outputs": [],
   "source": [
    "tabla_edad"
   ]
  },
  {
   "cell_type": "code",
   "execution_count": null,
   "id": "b017c5d2-dbe0-41b1-b599-2d706a3b5be9",
   "metadata": {},
   "outputs": [],
   "source": [
    "tabla_edad.to_clipboard()"
   ]
  },
  {
   "cell_type": "code",
   "execution_count": null,
   "id": "2dc4b56c-48ce-4f74-a32d-9601022d50f0",
   "metadata": {},
   "outputs": [],
   "source": [
    "tabla_sexo = (\n",
    "    df.groupby([\"Provincia donde vive\"]).agg(\n",
    "        {\"n_miembros_femenino\": \"sum\", \"n_miembros_masculino\": \"sum\"}\n",
    "    )\n",
    ").T"
   ]
  },
  {
   "cell_type": "code",
   "execution_count": null,
   "id": "ec2a98e6-7f7b-456a-853b-75812bb51c52",
   "metadata": {},
   "outputs": [],
   "source": [
    "tabla_sexo"
   ]
  },
  {
   "cell_type": "code",
   "execution_count": null,
   "id": "33d6a4ae-6d9d-4389-af19-d9375ad8ec6a",
   "metadata": {},
   "outputs": [],
   "source": [
    "tabla_sexo.to_clipboard()"
   ]
  },
  {
   "cell_type": "code",
   "execution_count": null,
   "id": "1aa3a35f-67d6-4275-b432-3e7d5caae402",
   "metadata": {},
   "outputs": [],
   "source": [
    "aggdict = {col: \"sum\" for col in miembros_familia_sexo_edad.columns if not \"nan\" in col}"
   ]
  },
  {
   "cell_type": "code",
   "execution_count": null,
   "id": "35e88d6c-99a0-42e0-8d5f-822a72b7f5be",
   "metadata": {},
   "outputs": [],
   "source": [
    "tabla_sexo_edad = (df.groupby([\"Provincia donde vive\"]).agg(aggdict)).T"
   ]
  },
  {
   "cell_type": "code",
   "execution_count": null,
   "id": "b1f69740-8b62-4678-86a2-bdfa20d0df85",
   "metadata": {},
   "outputs": [],
   "source": [
    "tabla_sexo_edad"
   ]
  },
  {
   "cell_type": "code",
   "execution_count": null,
   "id": "09d87b38-206b-4607-a8d9-e339e201c906",
   "metadata": {},
   "outputs": [],
   "source": [
    "tabla_sexo_edad.to_clipboard()"
   ]
  },
  {
   "cell_type": "code",
   "execution_count": null,
   "id": "81d22eef-7dc9-4e4d-a1fd-bff92df840f8",
   "metadata": {},
   "outputs": [],
   "source": [
    "df[\"¿Cuál es SU edad?\"].min()"
   ]
  },
  {
   "cell_type": "code",
   "execution_count": null,
   "id": "bcedc59e-52d7-4995-a3b1-df03ed4110eb",
   "metadata": {},
   "outputs": [],
   "source": [
    "df[\"¿Cuál es SU edad?\"].isna().sum()"
   ]
  },
  {
   "cell_type": "code",
   "execution_count": null,
   "id": "abc22b65-21a2-4d95-a05e-b4e4f13f4d35",
   "metadata": {},
   "outputs": [],
   "source": [
    "df[\"n_miembros_menores\"].max()"
   ]
  },
  {
   "cell_type": "code",
   "execution_count": null,
   "id": "ae3bfe0c-a69a-4b27-998f-df630828e698",
   "metadata": {},
   "outputs": [],
   "source": [
    "df[\"n_miembros_menores\"]"
   ]
  },
  {
   "cell_type": "code",
   "execution_count": null,
   "id": "38b8754d-0bbd-4f9f-9727-2a5665f5b41a",
   "metadata": {},
   "outputs": [],
   "source": [
    "df[\"n_miembros_menores_bin\"] = pd.cut(\n",
    "    df[\"n_miembros_menores\"], bins=[0.5, 1, 4, 10], labels=[\"1\", \"2-3\", \"4+\"]\n",
    ")"
   ]
  },
  {
   "cell_type": "code",
   "execution_count": null,
   "id": "75cb5f4b-8a9f-4ca7-9580-ba8350306cff",
   "metadata": {},
   "outputs": [],
   "source": [
    "un_adulto_cargo = df[\n",
    "    (df[\"n_miembros_menores\"] > 0)\n",
    "    & (df[\"n_miembros_adultos\"] == 0)\n",
    "    & (df[\"n_miembros_mayores\"] == 0)\n",
    "]"
   ]
  },
  {
   "cell_type": "code",
   "execution_count": null,
   "id": "f3301905-7545-44e6-82a1-a0b30f78684b",
   "metadata": {},
   "outputs": [],
   "source": [
    "un_adulto_cargo.shape"
   ]
  },
  {
   "cell_type": "code",
   "execution_count": null,
   "id": "c2af527a-a657-4c8b-8c11-4016756ce0c2",
   "metadata": {},
   "outputs": [],
   "source": [
    "tabla_adulto_cargo = (\n",
    "    un_adulto_cargo.groupby([\"Provincia donde vive\", \"n_miembros_menores_bin\"])\n",
    "    .size()\n",
    "    .unstack(0)\n",
    ")"
   ]
  },
  {
   "cell_type": "code",
   "execution_count": null,
   "id": "04e2f928-5a37-4d05-8db7-1c265e3afe8f",
   "metadata": {},
   "outputs": [],
   "source": [
    "tabla_adulto_cargo"
   ]
  },
  {
   "cell_type": "code",
   "execution_count": null,
   "id": "3619c268-cd02-4c43-8ddb-78275029b4b2",
   "metadata": {},
   "outputs": [],
   "source": [
    "tabla_adulto_cargo.to_clipboard()"
   ]
  },
  {
   "cell_type": "code",
   "execution_count": null,
   "id": "185a0556-4994-4692-9e79-37118c4bd285",
   "metadata": {},
   "outputs": [],
   "source": [
    "df[\"¿Cuál es SU actual ESTATUS MIGRATORIO?\"].unique()"
   ]
  },
  {
   "cell_type": "code",
   "execution_count": null,
   "id": "35091fcf-e9a4-43b8-a99e-e62f64fde224",
   "metadata": {},
   "outputs": [],
   "source": [
    "df[\"Situación migratoria\"] = df[\"¿Cuál es SU actual ESTATUS MIGRATORIO?\"]"
   ]
  },
  {
   "cell_type": "code",
   "execution_count": null,
   "id": "820aa995-db0b-46cb-9de0-2c5b26364099",
   "metadata": {},
   "outputs": [],
   "source": [
    "sit_mig = (\n",
    "    df.groupby([\"Provincia donde vive\", \"Situación migratoria\"])\n",
    "    .size()\n",
    "    .unstack(0)\n",
    "    .fillna(0)\n",
    ")\n",
    "sit_mig"
   ]
  },
  {
   "cell_type": "code",
   "execution_count": null,
   "id": "4665b7e2-38b4-48be-b8b5-c7e12c4f19ae",
   "metadata": {},
   "outputs": [],
   "source": [
    "sit_mig.to_clipboard()"
   ]
  },
  {
   "cell_type": "code",
   "execution_count": null,
   "id": "b00b83b8-9860-4f80-b6ac-ff58539cd6c7",
   "metadata": {},
   "outputs": [],
   "source": [
    "df[\"Actualmente, ¿USTED cuenta con un CONTRATO DE TRABAJO FORMAL?\"].unique()"
   ]
  },
  {
   "cell_type": "code",
   "execution_count": null,
   "id": "bf25c1d5-3c2f-4cb8-8037-ae61da71b5d8",
   "metadata": {},
   "outputs": [],
   "source": [
    "contrato_formal = (\n",
    "    df.groupby(\n",
    "        [\n",
    "            \"Provincia donde vive\",\n",
    "            \"Actualmente, ¿USTED cuenta con un CONTRATO DE TRABAJO FORMAL?\",\n",
    "        ]\n",
    "    )\n",
    "    .size()\n",
    "    .unstack(0)\n",
    "    .fillna(0)\n",
    ")\n",
    "contrato_formal"
   ]
  },
  {
   "cell_type": "code",
   "execution_count": null,
   "id": "06076ee5-5425-49fa-94d5-614361b9f16a",
   "metadata": {},
   "outputs": [],
   "source": [
    "contrato_formal.to_clipboard()"
   ]
  },
  {
   "cell_type": "code",
   "execution_count": null,
   "id": "c35486f0-4213-4d9d-abd2-bce381df2eee",
   "metadata": {},
   "outputs": [],
   "source": [
    "rel_alim = (\n",
    "    df.groupby(\n",
    "        [\n",
    "            \"Provincia donde vive\",\n",
    "            \"Actualmente ¿SU TRABAJO SE ENCUENTRA VINCULADO A TEMAS ALIMENTARIOS?\",\n",
    "        ]\n",
    "    )\n",
    "    .size()\n",
    "    .unstack(0)\n",
    "    .fillna(0)\n",
    ")\n",
    "rel_alim"
   ]
  },
  {
   "cell_type": "code",
   "execution_count": null,
   "id": "a2eb83c9-1c1e-457f-9018-71a14a60e5fd",
   "metadata": {},
   "outputs": [],
   "source": [
    "rel_alim.to_clipboard()"
   ]
  },
  {
   "cell_type": "code",
   "execution_count": null,
   "id": "d2fef324-92ac-4a55-89ba-505992f28017",
   "metadata": {},
   "outputs": [],
   "source": [
    "rel_alim_detalle = (\n",
    "    df.groupby([\"Provincia donde vive\", \"¿Podría decirnos a que se dedica?\"])\n",
    "    .size()\n",
    "    .unstack(0)\n",
    "    .fillna(0)\n",
    ")\n",
    "rel_alim_detalle"
   ]
  },
  {
   "cell_type": "code",
   "execution_count": null,
   "id": "abb5eb7f-7ef3-4622-8a7c-18926852b498",
   "metadata": {},
   "outputs": [],
   "source": [
    "rel_alim_detalle.to_clipboard()"
   ]
  },
  {
   "cell_type": "code",
   "execution_count": null,
   "id": "d71833f7-200f-40a4-92ef-cfad1a2c1e44",
   "metadata": {},
   "outputs": [],
   "source": [
    "no_rel_alim_detalle = (\n",
    "    df.groupby([\"Provincia donde vive\", \"¿Podría decirnos a que se dedica?.1\"])\n",
    "    .size()\n",
    "    .unstack(0)\n",
    "    .fillna(0)\n",
    ")\n",
    "no_rel_alim_detalle"
   ]
  },
  {
   "cell_type": "code",
   "execution_count": null,
   "id": "293b34d9-779c-43e8-ae79-8cd7b540f4b5",
   "metadata": {},
   "outputs": [],
   "source": [
    "no_rel_alim_detalle.to_clipboard()"
   ]
  },
  {
   "cell_type": "code",
   "execution_count": null,
   "id": "e6e93cdf-7730-4b23-b5fb-f0fc501ea525",
   "metadata": {},
   "outputs": [],
   "source": [
    "emprendimiento = (\n",
    "    df.groupby(\n",
    "        [\n",
    "            \"Provincia donde vive\",\n",
    "            \"Si tiene algun tipo de emprendimiento. ¿Podría decirnos cuál es el rubro de su emprendimiento?\",\n",
    "        ]\n",
    "    )\n",
    "    .size()\n",
    "    .unstack(0)\n",
    "    .fillna(0)\n",
    ")\n",
    "emprendimiento"
   ]
  },
  {
   "cell_type": "code",
   "execution_count": null,
   "id": "6f2722bc-1667-4a50-80fb-71935883cd54",
   "metadata": {},
   "outputs": [],
   "source": [
    "emprendimiento.to_clipboard()"
   ]
  },
  {
   "cell_type": "code",
   "execution_count": null,
   "id": "7481ee17-a1b7-4bc5-af3b-5a0c34a4e1de",
   "metadata": {},
   "outputs": [],
   "source": [
    "df[\"Preocupación por no tener alimentos (Leve)\"] = df[\n",
    "    \"En los últimos 12 meses ¿Usted u otra persona en su hogar se haya preocupado por no tener suficientes alimentos para comer por falta de dinero u otros recursos?\"\n",
    "]\n",
    "df[\"No pudo comer alimentos saludables y nutritivos (v)\"] = df[\n",
    "    \"Pensando aún en los últimos 12 meses, ¿hubo alguna vez en que usted u otra persona en su hogar no haya podido comer alimentos saludables y nutritivos  por falta de dinero u otros recursos?\"\n",
    "]\n",
    "df[\"Comió poca variedad de alimentos (Moderada)\"] = df[\n",
    "    \"En los últimos 12 meses ¿Hubo alguna vez en que usted u otra persona en su hogar haya comido poca variedad de  alimentos por falta de dinero u otros recursos?\"\n",
    "]\n",
    "df[\"Se saltó alguna comida por falta (Moderada)\"] = df[\n",
    "    \"En los últimos 12 meses ¿Hubo alguna vez en que usted u otra persona en su hogar haya tenido que dejar de desayunar, almorzar o cenar porque no había suficiente dinero u otros recursos para obtener alimentos?\"\n",
    "]\n",
    "df[\"Comió menos de lo que pensaba que debía (Moderada)\"] = df[\n",
    "    \"En los últimos 12 meses Pensando aún en los últimos 12 meses, ¿hubo alguna vez en que usted u otra persona en su hogar haya comido menos de lo que pensaba que debía comer por falta de dinero u otros recursos?\"\n",
    "]\n",
    "df[\"Se quedó sin alimentos (Grave)\"] = df[\n",
    "    \"En los últimos 12 meses ¿Hubo alguna vez en que su hogar se haya quedado sin alimentos por falta de dinero u otros recursos?\"\n",
    "]\n",
    "df[\"Tuvo hambre pero no comió por falta de alientos (Moderada)\"] = df[\n",
    "    \"En los últimos 12 meses ¿Hubo alguna vez en que usted u otra persona en su hogar haya sentido  hambre pero no comió porque no había suficiente dinero u otros recursos para obtener alimentos?\"\n",
    "]\n",
    "df[\"Dejo de comer todo un día (Grave)\"] = df[\n",
    "    \"En los últimos 12 meses ¿Hubo alguna vez en que usted u otra persona en su hogar haya dejado de comer todo un día por falta de dinero u otros recursos?\"\n",
    "]"
   ]
  },
  {
   "cell_type": "code",
   "execution_count": null,
   "id": "b3ec6b8b-cd54-4b27-9973-04ecb2e9b748",
   "metadata": {},
   "outputs": [],
   "source": [
    "sit_alim = [\n",
    "    \"Preocupación por no tener alimentos (Leve)\",\n",
    "    \"No pudo comer alimentos saludables y nutritivos (v)\",\n",
    "    \"Comió poca variedad de alimentos (Moderada)\",\n",
    "    \"Comió menos de lo que pensaba que debía (Moderada)\",\n",
    "    \"Se saltó alguna comida por falta (Moderada)\",\n",
    "    \"Tuvo hambre pero no comió por falta de alientos (Moderada)\",\n",
    "    \"Se quedó sin alimentos (Grave)\",\n",
    "    \"Dejo de comer todo un día (Grave)\",\n",
    "]"
   ]
  },
  {
   "cell_type": "code",
   "execution_count": null,
   "id": "ce73a445-509e-4f03-a025-89a199f6f102",
   "metadata": {},
   "outputs": [],
   "source": [
    "table = []\n",
    "for col in sit_alim:\n",
    "    dff = df[df[col] == \"Si\"]\n",
    "    table_col = dff.groupby([\"Provincia donde vive\"]).size().fillna(0)\n",
    "    table_col.name = col\n",
    "    table.append(table_col)\n",
    "table_sit_alim = pd.concat(table, axis=1).T.fillna(0)\n",
    "table_sit_alim"
   ]
  },
  {
   "cell_type": "code",
   "execution_count": null,
   "id": "cb62fff2-34c6-4b07-9bf5-2193d32281e0",
   "metadata": {},
   "outputs": [],
   "source": [
    "table_sit_alim.to_clipboard()"
   ]
  },
  {
   "cell_type": "code",
   "execution_count": null,
   "id": "8e14e16c-7a90-4fb5-85d5-17c695c39261",
   "metadata": {},
   "outputs": [],
   "source": [
    "df[\n",
    "    \"¿CUÁNDO USTED O ALGUN MIEMBRO DE SU HOGAR SE ENFERMA, A DONDE ACUDE PARA LA ATENCIÓN?\"\n",
    "].unique()"
   ]
  },
  {
   "cell_type": "code",
   "execution_count": null,
   "id": "8a5fc1f2-60b6-4f01-a575-5225ba5dfdce",
   "metadata": {},
   "outputs": [],
   "source": [
    "atnncion_medica = (\n",
    "    df.groupby(\n",
    "        [\n",
    "            \"Provincia donde vive\",\n",
    "            \"¿CUÁNDO USTED O ALGUN MIEMBRO DE SU HOGAR SE ENFERMA, A DONDE ACUDE PARA LA ATENCIÓN?\",\n",
    "        ]\n",
    "    )\n",
    "    .size()\n",
    "    .unstack(0)\n",
    "    .fillna(0)\n",
    ")\n",
    "atnncion_medica"
   ]
  },
  {
   "cell_type": "code",
   "execution_count": null,
   "id": "a253a1fc-4b81-4bdc-a5ab-dc00f14a552e",
   "metadata": {},
   "outputs": [],
   "source": [
    "df[\"¿Cual es su nivel educativo?\"].unique()"
   ]
  },
  {
   "cell_type": "code",
   "execution_count": null,
   "id": "11d079b2-4d51-47aa-ba5a-35462cfad79b",
   "metadata": {},
   "outputs": [],
   "source": [
    "df[\"¿Completó el nivel de educacion seleccionado?\"].unique()"
   ]
  },
  {
   "cell_type": "code",
   "execution_count": null,
   "id": "9f122356-59b1-45ac-8b96-64356d989620",
   "metadata": {},
   "outputs": [],
   "source": [
    "edu = (\n",
    "    df.groupby(\n",
    "        [\n",
    "            \"Provincia donde vive\",\n",
    "            \"¿Cual es su nivel educativo?\",\n",
    "            \"¿Completó el nivel de educacion seleccionado?\",\n",
    "        ]\n",
    "    )\n",
    "    .size()\n",
    "    .unstack(0)\n",
    "    .fillna(0)\n",
    ")\n",
    "edu"
   ]
  },
  {
   "cell_type": "code",
   "execution_count": null,
   "id": "a2786a9b-d8e8-483e-b9c8-48f44fc88cfb",
   "metadata": {},
   "outputs": [],
   "source": [
    "edu.to_clipboard()"
   ]
  },
  {
   "cell_type": "code",
   "execution_count": null,
   "id": "eaf04c3f-d99e-4f23-bc27-0e637e9c99c2",
   "metadata": {},
   "outputs": [],
   "source": [
    "df[\"Tipo de vivienda\"].unique()"
   ]
  },
  {
   "cell_type": "code",
   "execution_count": null,
   "id": "3f189a09-57be-45df-9127-ac770627d0f1",
   "metadata": {},
   "outputs": [],
   "source": [
    "df[\"Tipo de vivienda\"].isna().sum()"
   ]
  },
  {
   "cell_type": "code",
   "execution_count": null,
   "id": "3c85935d-f311-4bd6-97ea-8e554b12c505",
   "metadata": {},
   "outputs": [],
   "source": [
    "tipo_viv = (\n",
    "    df.groupby([\"Provincia donde vive\", \"Tipo de vivienda\"]).size().unstack(0).fillna(0)\n",
    ")\n",
    "tipo_viv"
   ]
  },
  {
   "cell_type": "code",
   "execution_count": null,
   "id": "dd45e469-08ae-4765-bf82-6e971e52291a",
   "metadata": {},
   "outputs": [],
   "source": [
    "tipo_viv.to_clipboard()"
   ]
  },
  {
   "cell_type": "code",
   "execution_count": null,
   "id": "9ba97150-d91b-4b03-9fbf-c2aa91edd19c",
   "metadata": {},
   "outputs": [],
   "source": [
    "df.columns[:30]"
   ]
  },
  {
   "cell_type": "code",
   "execution_count": null,
   "id": "ec8759a2-7242-4e39-88d9-197ce65994f4",
   "metadata": {},
   "outputs": [],
   "source": []
  },
  {
   "cell_type": "code",
   "execution_count": null,
   "id": "31fd28c7-f672-441b-b1f4-7831590103a3",
   "metadata": {},
   "outputs": [],
   "source": []
  },
  {
   "cell_type": "code",
   "execution_count": null,
   "id": "093b3e47-d8c3-4e06-92b1-3e2b31567f51",
   "metadata": {},
   "outputs": [],
   "source": []
  }
 ],
 "metadata": {
  "kernelspec": {
   "display_name": "Python 3 (ipykernel)",
   "language": "python",
   "name": "python3"
  },
  "language_info": {
   "codemirror_mode": {
    "name": "ipython",
    "version": 3
   },
   "file_extension": ".py",
   "mimetype": "text/x-python",
   "name": "python",
   "nbconvert_exporter": "python",
   "pygments_lexer": "ipython3",
   "version": "3.10.9"
  }
 },
 "nbformat": 4,
 "nbformat_minor": 5
}
