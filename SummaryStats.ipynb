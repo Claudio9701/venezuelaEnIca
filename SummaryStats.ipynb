{
 "cells": [
  {
   "cell_type": "code",
   "execution_count": 78,
   "id": "d9bd3482-c0d3-48c3-b7e4-49b8ac894a2f",
   "metadata": {},
   "outputs": [],
   "source": [
    "import pandas as pd"
   ]
  },
  {
   "cell_type": "code",
   "execution_count": 79,
   "id": "b032a20e-112e-4c9f-b5ce-af5123c13696",
   "metadata": {},
   "outputs": [],
   "source": [
    "df = pd.read_excel(\"/home/claudio/Downloads/Encuesta_limpieza_22_02_23 vEFRL sinmenores.xlsx\", index_col=0)"
   ]
  },
  {
   "cell_type": "code",
   "execution_count": 80,
   "id": "f860a3f9-46c1-47dc-bb53-6fa38562c16b",
   "metadata": {},
   "outputs": [
    {
     "data": {
      "text/plain": [
       "(1803, 101)"
      ]
     },
     "execution_count": 80,
     "metadata": {},
     "output_type": "execute_result"
    }
   ],
   "source": [
    "df.shape"
   ]
  },
  {
   "cell_type": "code",
   "execution_count": 81,
   "id": "7389e292-da2f-4d17-870f-f5018ac27c44",
   "metadata": {},
   "outputs": [
    {
     "data": {
      "text/plain": [
       "Ica        1077\n",
       "Pisco       376\n",
       "Chincha     345\n",
       "Nazca         5\n",
       "Name: Provincia donde vive, dtype: int64"
      ]
     },
     "execution_count": 81,
     "metadata": {},
     "output_type": "execute_result"
    }
   ],
   "source": [
    "df['Provincia donde vive'].value_counts()"
   ]
  },
  {
   "cell_type": "code",
   "execution_count": 82,
   "id": "b72b82be-a1a6-40fe-923f-130333f76472",
   "metadata": {},
   "outputs": [
    {
     "data": {
      "text/plain": [
       "Ica        0.597338\n",
       "Pisco      0.208541\n",
       "Chincha    0.191348\n",
       "Nazca      0.002773\n",
       "Name: Provincia donde vive, dtype: float64"
      ]
     },
     "execution_count": 82,
     "metadata": {},
     "output_type": "execute_result"
    }
   ],
   "source": [
    "df['Provincia donde vive'].value_counts(normalize=True)"
   ]
  },
  {
   "cell_type": "code",
   "execution_count": 83,
   "id": "a2f2878c-6ee2-4037-a32c-78d88cdc795e",
   "metadata": {},
   "outputs": [],
   "source": [
    "miembros_familia = pd.read_excel(\"inputs/Encuesta_para_inmigrantes_venezolanos_en_Ica_-_all_versions_-_labels_-_2023-02-18-20-40-30.xlsx\",\n",
    "             sheet_name=1)"
   ]
  },
  {
   "cell_type": "code",
   "execution_count": 84,
   "id": "860a49fa-a80f-4c5e-924c-ef030aaa75b4",
   "metadata": {},
   "outputs": [],
   "source": [
    "miembros_familia = miembros_familia.rename(\n",
    "    columns={'Indique la edad del miembro de familia': 'edad'})\n",
    "miembros_familia['grupo_edad_INEI'] = pd.cut(\n",
    "    x=miembros_familia['edad'], bins=[0,14,59,100],\n",
    "    labels=['0-14', '15-59', '60+'])"
   ]
  },
  {
   "cell_type": "code",
   "execution_count": 85,
   "id": "952a3994-f085-4843-b23f-f504499058fe",
   "metadata": {},
   "outputs": [],
   "source": [
    "miembros_familia_edad = (miembros_familia\n",
    "    .groupby(by=['_parent_index', 'grupo_edad_INEI'], as_index=False)\n",
    "    .size()\n",
    "    .pivot(index='_parent_index', columns='grupo_edad_INEI', values=\"size\")\n",
    "    .fillna(0))\n",
    "miembros_familia_edad.columns = [f\"n_miembros_{values}\" for values in miembros_familia_edad.columns]    "
   ]
  },
  {
   "cell_type": "code",
   "execution_count": 88,
   "id": "cc9d0249-46b6-42e6-a7e3-7c89e86ae9a0",
   "metadata": {},
   "outputs": [],
   "source": [
    "df = (df\n",
    "    .merge(\n",
    "        right=miembros_familia_edad, how='left', \n",
    "        left_index=True, right_on='_parent_index')\n",
    "    .drop(labels=\"_parent_index\", axis=1))\n",
    "df.loc[:, miembros_familia_edad.columns[1:]] = df[miembros_familia_edad.columns[1:]].fillna(0.0)"
   ]
  },
  {
   "cell_type": "code",
   "execution_count": null,
   "id": "c2b072c4-ca9f-4c64-b044-72f8d96b7b51",
   "metadata": {},
   "outputs": [],
   "source": [
    "tabla_edad = (df.groupby(['¿Cuál es SU sexo?', 'Provincia donde vive'])\n",
    ".agg({'n_miembros_0-14': 'sum',\n",
    "      'n_miembros_15-59': 'sum',\n",
    "      'n_miembros_60+': 'sum'})\n",
    " .unstack()\n",
    " .swaplevel(axis=1)\n",
    " .sort_index(axis=1))\n",
    "total = tabla_edad.sum(axis=0)\n",
    "total.name = 'Total'\n",
    "tabla_edad.append(total)"
   ]
  },
  {
   "cell_type": "code",
   "execution_count": 227,
   "id": "1648d194-c933-4694-8613-e000d1b2305f",
   "metadata": {},
   "outputs": [
    {
     "data": {
      "text/html": [
       "<div>\n",
       "<style scoped>\n",
       "    .dataframe tbody tr th:only-of-type {\n",
       "        vertical-align: middle;\n",
       "    }\n",
       "\n",
       "    .dataframe tbody tr th {\n",
       "        vertical-align: top;\n",
       "    }\n",
       "\n",
       "    .dataframe thead tr th {\n",
       "        text-align: left;\n",
       "    }\n",
       "\n",
       "    .dataframe thead tr:last-of-type th {\n",
       "        text-align: right;\n",
       "    }\n",
       "</style>\n",
       "<table border=\"1\" class=\"dataframe\">\n",
       "  <thead>\n",
       "    <tr>\n",
       "      <th>Provincia donde vive</th>\n",
       "      <th colspan=\"3\" halign=\"left\">Chincha</th>\n",
       "      <th colspan=\"3\" halign=\"left\">Ica</th>\n",
       "      <th colspan=\"3\" halign=\"left\">Nazca</th>\n",
       "      <th colspan=\"3\" halign=\"left\">Pisco</th>\n",
       "    </tr>\n",
       "    <tr>\n",
       "      <th></th>\n",
       "      <th>n_miembros_0-14</th>\n",
       "      <th>n_miembros_15-59</th>\n",
       "      <th>n_miembros_60+</th>\n",
       "      <th>n_miembros_0-14</th>\n",
       "      <th>n_miembros_15-59</th>\n",
       "      <th>n_miembros_60+</th>\n",
       "      <th>n_miembros_0-14</th>\n",
       "      <th>n_miembros_15-59</th>\n",
       "      <th>n_miembros_60+</th>\n",
       "      <th>n_miembros_0-14</th>\n",
       "      <th>n_miembros_15-59</th>\n",
       "      <th>n_miembros_60+</th>\n",
       "    </tr>\n",
       "    <tr>\n",
       "      <th>¿Cuál es SU sexo?</th>\n",
       "      <th></th>\n",
       "      <th></th>\n",
       "      <th></th>\n",
       "      <th></th>\n",
       "      <th></th>\n",
       "      <th></th>\n",
       "      <th></th>\n",
       "      <th></th>\n",
       "      <th></th>\n",
       "      <th></th>\n",
       "      <th></th>\n",
       "      <th></th>\n",
       "    </tr>\n",
       "  </thead>\n",
       "  <tbody>\n",
       "    <tr>\n",
       "      <th>Femenino</th>\n",
       "      <td>431.0</td>\n",
       "      <td>369.0</td>\n",
       "      <td>23.0</td>\n",
       "      <td>1365.0</td>\n",
       "      <td>1127.0</td>\n",
       "      <td>72.0</td>\n",
       "      <td>7.0</td>\n",
       "      <td>6.0</td>\n",
       "      <td>0.0</td>\n",
       "      <td>499.0</td>\n",
       "      <td>429.0</td>\n",
       "      <td>36.0</td>\n",
       "    </tr>\n",
       "    <tr>\n",
       "      <th>Masculino</th>\n",
       "      <td>61.0</td>\n",
       "      <td>51.0</td>\n",
       "      <td>4.0</td>\n",
       "      <td>207.0</td>\n",
       "      <td>146.0</td>\n",
       "      <td>5.0</td>\n",
       "      <td>0.0</td>\n",
       "      <td>1.0</td>\n",
       "      <td>0.0</td>\n",
       "      <td>31.0</td>\n",
       "      <td>36.0</td>\n",
       "      <td>1.0</td>\n",
       "    </tr>\n",
       "  </tbody>\n",
       "</table>\n",
       "</div>"
      ],
      "text/plain": [
       "Provincia donde vive         Chincha                                  \\\n",
       "                     n_miembros_0-14 n_miembros_15-59 n_miembros_60+   \n",
       "¿Cuál es SU sexo?                                                      \n",
       "Femenino                       431.0            369.0           23.0   \n",
       "Masculino                       61.0             51.0            4.0   \n",
       "\n",
       "Provincia donde vive             Ica                                  \\\n",
       "                     n_miembros_0-14 n_miembros_15-59 n_miembros_60+   \n",
       "¿Cuál es SU sexo?                                                      \n",
       "Femenino                      1365.0           1127.0           72.0   \n",
       "Masculino                      207.0            146.0            5.0   \n",
       "\n",
       "Provincia donde vive           Nazca                                  \\\n",
       "                     n_miembros_0-14 n_miembros_15-59 n_miembros_60+   \n",
       "¿Cuál es SU sexo?                                                      \n",
       "Femenino                         7.0              6.0            0.0   \n",
       "Masculino                        0.0              1.0            0.0   \n",
       "\n",
       "Provincia donde vive           Pisco                                  \n",
       "                     n_miembros_0-14 n_miembros_15-59 n_miembros_60+  \n",
       "¿Cuál es SU sexo?                                                     \n",
       "Femenino                       499.0            429.0           36.0  \n",
       "Masculino                       31.0             36.0            1.0  "
      ]
     },
     "execution_count": 227,
     "metadata": {},
     "output_type": "execute_result"
    }
   ],
   "source": [
    "tabla_edad"
   ]
  },
  {
   "cell_type": "code",
   "execution_count": 228,
   "id": "2dc4b56c-48ce-4f74-a32d-9601022d50f0",
   "metadata": {},
   "outputs": [],
   "source": [
    "tabla_edad.to_clipboard()"
   ]
  },
  {
   "cell_type": "code",
   "execution_count": 110,
   "id": "81d22eef-7dc9-4e4d-a1fd-bff92df840f8",
   "metadata": {},
   "outputs": [
    {
     "data": {
      "text/plain": [
       "18.0"
      ]
     },
     "execution_count": 110,
     "metadata": {},
     "output_type": "execute_result"
    }
   ],
   "source": [
    "df['¿Cuál es SU edad?'].min()"
   ]
  },
  {
   "cell_type": "code",
   "execution_count": 113,
   "id": "bcedc59e-52d7-4995-a3b1-df03ed4110eb",
   "metadata": {},
   "outputs": [
    {
     "data": {
      "text/plain": [
       "1"
      ]
     },
     "execution_count": 113,
     "metadata": {},
     "output_type": "execute_result"
    }
   ],
   "source": [
    "df['¿Cuál es SU edad?'].isna().sum()"
   ]
  },
  {
   "cell_type": "code",
   "execution_count": 131,
   "id": "abc22b65-21a2-4d95-a05e-b4e4f13f4d35",
   "metadata": {},
   "outputs": [
    {
     "data": {
      "text/plain": [
       "9"
      ]
     },
     "execution_count": 131,
     "metadata": {},
     "output_type": "execute_result"
    }
   ],
   "source": [
    "df['n_miembros_menores'].max()"
   ]
  },
  {
   "cell_type": "code",
   "execution_count": 133,
   "id": "38b8754d-0bbd-4f9f-9727-2a5665f5b41a",
   "metadata": {},
   "outputs": [],
   "source": [
    "df['n_miembros_menores_bin'] = pd.cut(df['n_miembros_menores'], bins=[0.5, 1, 4, 10], labels=['1','2-3','4+'])"
   ]
  },
  {
   "cell_type": "code",
   "execution_count": 134,
   "id": "75cb5f4b-8a9f-4ca7-9580-ba8350306cff",
   "metadata": {},
   "outputs": [],
   "source": [
    "un_adulto_cargo = df[(df['n_miembros_menores'] > 0) & \\\n",
    "(df['n_miembros_adultos'] == 0) & \\\n",
    "(df['n_miembros_mayores'] == 0)]"
   ]
  },
  {
   "cell_type": "code",
   "execution_count": 128,
   "id": "f3301905-7545-44e6-82a1-a0b30f78684b",
   "metadata": {},
   "outputs": [
    {
     "data": {
      "text/plain": [
       "(370, 104)"
      ]
     },
     "execution_count": 128,
     "metadata": {},
     "output_type": "execute_result"
    }
   ],
   "source": [
    "un_adulto_cargo.shape"
   ]
  },
  {
   "cell_type": "code",
   "execution_count": 229,
   "id": "c2af527a-a657-4c8b-8c11-4016756ce0c2",
   "metadata": {},
   "outputs": [],
   "source": [
    "tabla_adulto_cargo = un_adulto_cargo.groupby(['Provincia donde vive', 'n_miembros_menores_bin']).size().unstack(0)"
   ]
  },
  {
   "cell_type": "code",
   "execution_count": 230,
   "id": "04e2f928-5a37-4d05-8db7-1c265e3afe8f",
   "metadata": {},
   "outputs": [
    {
     "data": {
      "text/html": [
       "<div>\n",
       "<style scoped>\n",
       "    .dataframe tbody tr th:only-of-type {\n",
       "        vertical-align: middle;\n",
       "    }\n",
       "\n",
       "    .dataframe tbody tr th {\n",
       "        vertical-align: top;\n",
       "    }\n",
       "\n",
       "    .dataframe thead th {\n",
       "        text-align: right;\n",
       "    }\n",
       "</style>\n",
       "<table border=\"1\" class=\"dataframe\">\n",
       "  <thead>\n",
       "    <tr style=\"text-align: right;\">\n",
       "      <th>Provincia donde vive</th>\n",
       "      <th>Chincha</th>\n",
       "      <th>Ica</th>\n",
       "      <th>Pisco</th>\n",
       "    </tr>\n",
       "    <tr>\n",
       "      <th>n_miembros_menores_bin</th>\n",
       "      <th></th>\n",
       "      <th></th>\n",
       "      <th></th>\n",
       "    </tr>\n",
       "  </thead>\n",
       "  <tbody>\n",
       "    <tr>\n",
       "      <th>1</th>\n",
       "      <td>25</td>\n",
       "      <td>74</td>\n",
       "      <td>25</td>\n",
       "    </tr>\n",
       "    <tr>\n",
       "      <th>2-3</th>\n",
       "      <td>49</td>\n",
       "      <td>133</td>\n",
       "      <td>58</td>\n",
       "    </tr>\n",
       "    <tr>\n",
       "      <th>4+</th>\n",
       "      <td>2</td>\n",
       "      <td>3</td>\n",
       "      <td>1</td>\n",
       "    </tr>\n",
       "  </tbody>\n",
       "</table>\n",
       "</div>"
      ],
      "text/plain": [
       "Provincia donde vive    Chincha  Ica  Pisco\n",
       "n_miembros_menores_bin                     \n",
       "1                            25   74     25\n",
       "2-3                          49  133     58\n",
       "4+                            2    3      1"
      ]
     },
     "execution_count": 230,
     "metadata": {},
     "output_type": "execute_result"
    }
   ],
   "source": [
    "tabla_adulto_cargo"
   ]
  },
  {
   "cell_type": "code",
   "execution_count": 231,
   "id": "3619c268-cd02-4c43-8ddb-78275029b4b2",
   "metadata": {},
   "outputs": [],
   "source": [
    "tabla_adulto_cargo.to_clipboard()"
   ]
  },
  {
   "cell_type": "code",
   "execution_count": null,
   "id": "185a0556-4994-4692-9e79-37118c4bd285",
   "metadata": {},
   "outputs": [
    {
     "data": {
      "text/plain": [
       "array(['Mantengo mi documento de identidad venezolano', 'CPP',\n",
       "       'Carnet de Extranjeria', 'No posee documentos',\n",
       "       'Documento de identidad peruano', 'No especificado',\n",
       "       'Carnet de Solicitud de Refugio'], dtype=object)"
      ]
     },
     "execution_count": 145,
     "metadata": {},
     "output_type": "execute_result"
    }
   ],
   "source": [
    "df['¿Cuál es SU actual ESTATUS MIGRATORIO?'].unique()"
   ]
  },
  {
   "cell_type": "code",
   "execution_count": 153,
   "id": "35091fcf-e9a4-43b8-a99e-e62f64fde224",
   "metadata": {},
   "outputs": [],
   "source": [
    "df['Situación migratoria'] = df['¿Cuál es SU actual ESTATUS MIGRATORIO?'].replace({'Mantengo mi documento de identidad venezolano':'Cédula Venezolana',\n",
    "'Documento de identidad peruano':'Otro',\n",
    "'Carnet de Solicitud de Refugio':'Otro', \n",
    "'No especificado':'Otro',\n",
    "'No posee documentos':'Otro'})"
   ]
  },
  {
   "cell_type": "code",
   "execution_count": 232,
   "id": "820aa995-db0b-46cb-9de0-2c5b26364099",
   "metadata": {},
   "outputs": [
    {
     "data": {
      "text/html": [
       "<div>\n",
       "<style scoped>\n",
       "    .dataframe tbody tr th:only-of-type {\n",
       "        vertical-align: middle;\n",
       "    }\n",
       "\n",
       "    .dataframe tbody tr th {\n",
       "        vertical-align: top;\n",
       "    }\n",
       "\n",
       "    .dataframe thead th {\n",
       "        text-align: right;\n",
       "    }\n",
       "</style>\n",
       "<table border=\"1\" class=\"dataframe\">\n",
       "  <thead>\n",
       "    <tr style=\"text-align: right;\">\n",
       "      <th>Provincia donde vive</th>\n",
       "      <th>Chincha</th>\n",
       "      <th>Ica</th>\n",
       "      <th>Nazca</th>\n",
       "      <th>Pisco</th>\n",
       "    </tr>\n",
       "    <tr>\n",
       "      <th>Situación migratoria</th>\n",
       "      <th></th>\n",
       "      <th></th>\n",
       "      <th></th>\n",
       "      <th></th>\n",
       "    </tr>\n",
       "  </thead>\n",
       "  <tbody>\n",
       "    <tr>\n",
       "      <th>CPP</th>\n",
       "      <td>128.0</td>\n",
       "      <td>391.0</td>\n",
       "      <td>2.0</td>\n",
       "      <td>109.0</td>\n",
       "    </tr>\n",
       "    <tr>\n",
       "      <th>Carnet de Extranjeria</th>\n",
       "      <td>74.0</td>\n",
       "      <td>207.0</td>\n",
       "      <td>1.0</td>\n",
       "      <td>68.0</td>\n",
       "    </tr>\n",
       "    <tr>\n",
       "      <th>Cédula Venezolana</th>\n",
       "      <td>125.0</td>\n",
       "      <td>426.0</td>\n",
       "      <td>2.0</td>\n",
       "      <td>172.0</td>\n",
       "    </tr>\n",
       "    <tr>\n",
       "      <th>Otro</th>\n",
       "      <td>18.0</td>\n",
       "      <td>53.0</td>\n",
       "      <td>0.0</td>\n",
       "      <td>27.0</td>\n",
       "    </tr>\n",
       "  </tbody>\n",
       "</table>\n",
       "</div>"
      ],
      "text/plain": [
       "Provincia donde vive   Chincha    Ica  Nazca  Pisco\n",
       "Situación migratoria                               \n",
       "CPP                      128.0  391.0    2.0  109.0\n",
       "Carnet de Extranjeria     74.0  207.0    1.0   68.0\n",
       "Cédula Venezolana        125.0  426.0    2.0  172.0\n",
       "Otro                      18.0   53.0    0.0   27.0"
      ]
     },
     "execution_count": 232,
     "metadata": {},
     "output_type": "execute_result"
    }
   ],
   "source": [
    "sit_mig = df.groupby(['Provincia donde vive', 'Situación migratoria']).size().unstack(0).fillna(0)\n",
    "sit_mig"
   ]
  },
  {
   "cell_type": "code",
   "execution_count": 233,
   "id": "4665b7e2-38b4-48be-b8b5-c7e12c4f19ae",
   "metadata": {},
   "outputs": [],
   "source": [
    "sit_mig.to_clipboard()"
   ]
  },
  {
   "cell_type": "code",
   "execution_count": 160,
   "id": "b00b83b8-9860-4f80-b6ac-ff58539cd6c7",
   "metadata": {},
   "outputs": [
    {
     "data": {
      "text/plain": [
       "array(['NO', 'No tengo trabajo', 'No especifica', 'SÍ', 'Sin respuesta'],\n",
       "      dtype=object)"
      ]
     },
     "execution_count": 160,
     "metadata": {},
     "output_type": "execute_result"
    }
   ],
   "source": [
    "df['Actualmente, ¿USTED cuenta con un CONTRATO DE TRABAJO FORMAL?'].unique()"
   ]
  },
  {
   "cell_type": "code",
   "execution_count": 234,
   "id": "bf25c1d5-3c2f-4cb8-8037-ae61da71b5d8",
   "metadata": {},
   "outputs": [
    {
     "data": {
      "text/html": [
       "<div>\n",
       "<style scoped>\n",
       "    .dataframe tbody tr th:only-of-type {\n",
       "        vertical-align: middle;\n",
       "    }\n",
       "\n",
       "    .dataframe tbody tr th {\n",
       "        vertical-align: top;\n",
       "    }\n",
       "\n",
       "    .dataframe thead th {\n",
       "        text-align: right;\n",
       "    }\n",
       "</style>\n",
       "<table border=\"1\" class=\"dataframe\">\n",
       "  <thead>\n",
       "    <tr style=\"text-align: right;\">\n",
       "      <th>Provincia donde vive</th>\n",
       "      <th>Chincha</th>\n",
       "      <th>Ica</th>\n",
       "      <th>Nazca</th>\n",
       "      <th>Pisco</th>\n",
       "    </tr>\n",
       "    <tr>\n",
       "      <th>Actualmente, ¿USTED cuenta con un CONTRATO DE TRABAJO FORMAL?</th>\n",
       "      <th></th>\n",
       "      <th></th>\n",
       "      <th></th>\n",
       "      <th></th>\n",
       "    </tr>\n",
       "  </thead>\n",
       "  <tbody>\n",
       "    <tr>\n",
       "      <th>NO</th>\n",
       "      <td>297.0</td>\n",
       "      <td>993.0</td>\n",
       "      <td>5.0</td>\n",
       "      <td>360.0</td>\n",
       "    </tr>\n",
       "    <tr>\n",
       "      <th>No especifica</th>\n",
       "      <td>4.0</td>\n",
       "      <td>3.0</td>\n",
       "      <td>0.0</td>\n",
       "      <td>0.0</td>\n",
       "    </tr>\n",
       "    <tr>\n",
       "      <th>No tengo trabajo</th>\n",
       "      <td>24.0</td>\n",
       "      <td>54.0</td>\n",
       "      <td>0.0</td>\n",
       "      <td>12.0</td>\n",
       "    </tr>\n",
       "    <tr>\n",
       "      <th>Sin respuesta</th>\n",
       "      <td>1.0</td>\n",
       "      <td>1.0</td>\n",
       "      <td>0.0</td>\n",
       "      <td>0.0</td>\n",
       "    </tr>\n",
       "    <tr>\n",
       "      <th>SÍ</th>\n",
       "      <td>19.0</td>\n",
       "      <td>26.0</td>\n",
       "      <td>0.0</td>\n",
       "      <td>4.0</td>\n",
       "    </tr>\n",
       "  </tbody>\n",
       "</table>\n",
       "</div>"
      ],
      "text/plain": [
       "Provincia donde vive                                Chincha    Ica  Nazca  \\\n",
       "Actualmente, ¿USTED cuenta con un CONTRATO DE T...                          \n",
       "NO                                                    297.0  993.0    5.0   \n",
       "No especifica                                           4.0    3.0    0.0   \n",
       "No tengo trabajo                                       24.0   54.0    0.0   \n",
       "Sin respuesta                                           1.0    1.0    0.0   \n",
       "SÍ                                                     19.0   26.0    0.0   \n",
       "\n",
       "Provincia donde vive                                Pisco  \n",
       "Actualmente, ¿USTED cuenta con un CONTRATO DE T...         \n",
       "NO                                                  360.0  \n",
       "No especifica                                         0.0  \n",
       "No tengo trabajo                                     12.0  \n",
       "Sin respuesta                                         0.0  \n",
       "SÍ                                                    4.0  "
      ]
     },
     "execution_count": 234,
     "metadata": {},
     "output_type": "execute_result"
    }
   ],
   "source": [
    "contrato_formal = df.groupby(['Provincia donde vive', 'Actualmente, ¿USTED cuenta con un CONTRATO DE TRABAJO FORMAL?']).size().unstack(0).fillna(0)\n",
    "contrato_formal"
   ]
  },
  {
   "cell_type": "code",
   "execution_count": 235,
   "id": "06076ee5-5425-49fa-94d5-614361b9f16a",
   "metadata": {},
   "outputs": [],
   "source": [
    "contrato_formal.to_clipboard()"
   ]
  },
  {
   "cell_type": "code",
   "execution_count": 236,
   "id": "c35486f0-4213-4d9d-abd2-bce381df2eee",
   "metadata": {},
   "outputs": [
    {
     "data": {
      "text/html": [
       "<div>\n",
       "<style scoped>\n",
       "    .dataframe tbody tr th:only-of-type {\n",
       "        vertical-align: middle;\n",
       "    }\n",
       "\n",
       "    .dataframe tbody tr th {\n",
       "        vertical-align: top;\n",
       "    }\n",
       "\n",
       "    .dataframe thead th {\n",
       "        text-align: right;\n",
       "    }\n",
       "</style>\n",
       "<table border=\"1\" class=\"dataframe\">\n",
       "  <thead>\n",
       "    <tr style=\"text-align: right;\">\n",
       "      <th>Provincia donde vive</th>\n",
       "      <th>Chincha</th>\n",
       "      <th>Ica</th>\n",
       "      <th>Nazca</th>\n",
       "      <th>Pisco</th>\n",
       "    </tr>\n",
       "    <tr>\n",
       "      <th>Actualmente ¿SU TRABAJO SE ENCUENTRA VINCULADO A TEMAS ALIMENTARIOS?</th>\n",
       "      <th></th>\n",
       "      <th></th>\n",
       "      <th></th>\n",
       "      <th></th>\n",
       "    </tr>\n",
       "  </thead>\n",
       "  <tbody>\n",
       "    <tr>\n",
       "      <th>NO</th>\n",
       "      <td>207.0</td>\n",
       "      <td>671.0</td>\n",
       "      <td>4.0</td>\n",
       "      <td>208.0</td>\n",
       "    </tr>\n",
       "    <tr>\n",
       "      <th>No aplica</th>\n",
       "      <td>24.0</td>\n",
       "      <td>54.0</td>\n",
       "      <td>0.0</td>\n",
       "      <td>12.0</td>\n",
       "    </tr>\n",
       "    <tr>\n",
       "      <th>Sin respuesta</th>\n",
       "      <td>13.0</td>\n",
       "      <td>2.0</td>\n",
       "      <td>0.0</td>\n",
       "      <td>0.0</td>\n",
       "    </tr>\n",
       "    <tr>\n",
       "      <th>SÍ</th>\n",
       "      <td>101.0</td>\n",
       "      <td>350.0</td>\n",
       "      <td>1.0</td>\n",
       "      <td>156.0</td>\n",
       "    </tr>\n",
       "  </tbody>\n",
       "</table>\n",
       "</div>"
      ],
      "text/plain": [
       "Provincia donde vive                                Chincha    Ica  Nazca  \\\n",
       "Actualmente ¿SU TRABAJO SE ENCUENTRA VINCULADO ...                          \n",
       "NO                                                    207.0  671.0    4.0   \n",
       "No aplica                                              24.0   54.0    0.0   \n",
       "Sin respuesta                                          13.0    2.0    0.0   \n",
       "SÍ                                                    101.0  350.0    1.0   \n",
       "\n",
       "Provincia donde vive                                Pisco  \n",
       "Actualmente ¿SU TRABAJO SE ENCUENTRA VINCULADO ...         \n",
       "NO                                                  208.0  \n",
       "No aplica                                            12.0  \n",
       "Sin respuesta                                         0.0  \n",
       "SÍ                                                  156.0  "
      ]
     },
     "execution_count": 236,
     "metadata": {},
     "output_type": "execute_result"
    }
   ],
   "source": [
    "rel_alim = (df.groupby(['Provincia donde vive', 'Actualmente ¿SU TRABAJO SE ENCUENTRA VINCULADO A TEMAS ALIMENTARIOS?'])\n",
    ".size()\n",
    ".unstack(0)\n",
    ".fillna(0))\n",
    "rel_alim"
   ]
  },
  {
   "cell_type": "code",
   "execution_count": 237,
   "id": "a2eb83c9-1c1e-457f-9018-71a14a60e5fd",
   "metadata": {},
   "outputs": [],
   "source": [
    "rel_alim.to_clipboard()"
   ]
  },
  {
   "cell_type": "code",
   "execution_count": 238,
   "id": "d2fef324-92ac-4a55-89ba-505992f28017",
   "metadata": {},
   "outputs": [
    {
     "data": {
      "text/html": [
       "<div>\n",
       "<style scoped>\n",
       "    .dataframe tbody tr th:only-of-type {\n",
       "        vertical-align: middle;\n",
       "    }\n",
       "\n",
       "    .dataframe tbody tr th {\n",
       "        vertical-align: top;\n",
       "    }\n",
       "\n",
       "    .dataframe thead th {\n",
       "        text-align: right;\n",
       "    }\n",
       "</style>\n",
       "<table border=\"1\" class=\"dataframe\">\n",
       "  <thead>\n",
       "    <tr style=\"text-align: right;\">\n",
       "      <th>Provincia donde vive</th>\n",
       "      <th>Chincha</th>\n",
       "      <th>Ica</th>\n",
       "      <th>Nazca</th>\n",
       "      <th>Pisco</th>\n",
       "    </tr>\n",
       "    <tr>\n",
       "      <th>¿Podría decirnos a que se dedica?</th>\n",
       "      <th></th>\n",
       "      <th></th>\n",
       "      <th></th>\n",
       "      <th></th>\n",
       "    </tr>\n",
       "  </thead>\n",
       "  <tbody>\n",
       "    <tr>\n",
       "      <th>Cargador en mercado/estibador</th>\n",
       "      <td>1.0</td>\n",
       "      <td>0.0</td>\n",
       "      <td>0.0</td>\n",
       "      <td>0.0</td>\n",
       "    </tr>\n",
       "    <tr>\n",
       "      <th>Delivery</th>\n",
       "      <td>1.0</td>\n",
       "      <td>3.0</td>\n",
       "      <td>0.0</td>\n",
       "      <td>0.0</td>\n",
       "    </tr>\n",
       "    <tr>\n",
       "      <th>Empleados en actividades alimentarias (avícolas, pescaderías, chacra, otros)</th>\n",
       "      <td>11.0</td>\n",
       "      <td>39.0</td>\n",
       "      <td>0.0</td>\n",
       "      <td>43.0</td>\n",
       "    </tr>\n",
       "    <tr>\n",
       "      <th>Otro, especificar</th>\n",
       "      <td>2.0</td>\n",
       "      <td>3.0</td>\n",
       "      <td>0.0</td>\n",
       "      <td>1.0</td>\n",
       "    </tr>\n",
       "    <tr>\n",
       "      <th>Sin respuesta</th>\n",
       "      <td>13.0</td>\n",
       "      <td>2.0</td>\n",
       "      <td>0.0</td>\n",
       "      <td>0.0</td>\n",
       "    </tr>\n",
       "    <tr>\n",
       "      <th>Trabajo en restaurante, PASTELERIA, PANADERIA (en cualquier actividad)</th>\n",
       "      <td>14.0</td>\n",
       "      <td>92.0</td>\n",
       "      <td>0.0</td>\n",
       "      <td>30.0</td>\n",
       "    </tr>\n",
       "    <tr>\n",
       "      <th>Vendedor en mercado, bodega o similar (ej: vendedor de helados)</th>\n",
       "      <td>4.0</td>\n",
       "      <td>13.0</td>\n",
       "      <td>1.0</td>\n",
       "      <td>2.0</td>\n",
       "    </tr>\n",
       "    <tr>\n",
       "      <th>Venta ambulante de alimentos (Tipo 1).</th>\n",
       "      <td>64.0</td>\n",
       "      <td>153.0</td>\n",
       "      <td>0.0</td>\n",
       "      <td>69.0</td>\n",
       "    </tr>\n",
       "    <tr>\n",
       "      <th>Venta de alimentos con uno o más empleados (tipo 3)</th>\n",
       "      <td>3.0</td>\n",
       "      <td>9.0</td>\n",
       "      <td>0.0</td>\n",
       "      <td>2.0</td>\n",
       "    </tr>\n",
       "    <tr>\n",
       "      <th>Venta de alimentos no ambulante (Tipo 2)</th>\n",
       "      <td>4.0</td>\n",
       "      <td>40.0</td>\n",
       "      <td>0.0</td>\n",
       "      <td>9.0</td>\n",
       "    </tr>\n",
       "  </tbody>\n",
       "</table>\n",
       "</div>"
      ],
      "text/plain": [
       "Provincia donde vive                                Chincha    Ica  Nazca  \\\n",
       "¿Podría decirnos a que se dedica?                                           \n",
       "Cargador en mercado/estibador                           1.0    0.0    0.0   \n",
       "Delivery                                                1.0    3.0    0.0   \n",
       "Empleados en actividades alimentarias (avícolas...     11.0   39.0    0.0   \n",
       "Otro, especificar                                       2.0    3.0    0.0   \n",
       "Sin respuesta                                          13.0    2.0    0.0   \n",
       "Trabajo en restaurante, PASTELERIA, PANADERIA (...     14.0   92.0    0.0   \n",
       "Vendedor en mercado, bodega o similar (ej: vend...      4.0   13.0    1.0   \n",
       "Venta ambulante de alimentos (Tipo 1).                 64.0  153.0    0.0   \n",
       "Venta de alimentos con uno o más empleados (tip...      3.0    9.0    0.0   \n",
       "Venta de alimentos no ambulante (Tipo 2)                4.0   40.0    0.0   \n",
       "\n",
       "Provincia donde vive                                Pisco  \n",
       "¿Podría decirnos a que se dedica?                          \n",
       "Cargador en mercado/estibador                         0.0  \n",
       "Delivery                                              0.0  \n",
       "Empleados en actividades alimentarias (avícolas...   43.0  \n",
       "Otro, especificar                                     1.0  \n",
       "Sin respuesta                                         0.0  \n",
       "Trabajo en restaurante, PASTELERIA, PANADERIA (...   30.0  \n",
       "Vendedor en mercado, bodega o similar (ej: vend...    2.0  \n",
       "Venta ambulante de alimentos (Tipo 1).               69.0  \n",
       "Venta de alimentos con uno o más empleados (tip...    2.0  \n",
       "Venta de alimentos no ambulante (Tipo 2)              9.0  "
      ]
     },
     "execution_count": 238,
     "metadata": {},
     "output_type": "execute_result"
    }
   ],
   "source": [
    "rel_alim_detalle = (df.groupby(['Provincia donde vive', '¿Podría decirnos a que se dedica?'])\n",
    ".size()\n",
    ".unstack(0)\n",
    ".fillna(0))\n",
    "rel_alim_detalle"
   ]
  },
  {
   "cell_type": "code",
   "execution_count": 239,
   "id": "abb5eb7f-7ef3-4622-8a7c-18926852b498",
   "metadata": {},
   "outputs": [],
   "source": [
    "rel_alim_detalle.to_clipboard()"
   ]
  },
  {
   "cell_type": "code",
   "execution_count": 240,
   "id": "d71833f7-200f-40a4-92ef-cfad1a2c1e44",
   "metadata": {},
   "outputs": [
    {
     "data": {
      "text/html": [
       "<div>\n",
       "<style scoped>\n",
       "    .dataframe tbody tr th:only-of-type {\n",
       "        vertical-align: middle;\n",
       "    }\n",
       "\n",
       "    .dataframe tbody tr th {\n",
       "        vertical-align: top;\n",
       "    }\n",
       "\n",
       "    .dataframe thead th {\n",
       "        text-align: right;\n",
       "    }\n",
       "</style>\n",
       "<table border=\"1\" class=\"dataframe\">\n",
       "  <thead>\n",
       "    <tr style=\"text-align: right;\">\n",
       "      <th>Provincia donde vive</th>\n",
       "      <th>Chincha</th>\n",
       "      <th>Ica</th>\n",
       "      <th>Nazca</th>\n",
       "      <th>Pisco</th>\n",
       "    </tr>\n",
       "    <tr>\n",
       "      <th>¿Podría decirnos a que se dedica?.1</th>\n",
       "      <th></th>\n",
       "      <th></th>\n",
       "      <th></th>\n",
       "      <th></th>\n",
       "    </tr>\n",
       "  </thead>\n",
       "  <tbody>\n",
       "    <tr>\n",
       "      <th>ACTIVIDADES RELACIONADAS A LA CONSTRUCCIÓN</th>\n",
       "      <td>13.0</td>\n",
       "      <td>23.0</td>\n",
       "      <td>0.0</td>\n",
       "      <td>4.0</td>\n",
       "    </tr>\n",
       "    <tr>\n",
       "      <th>ACTIVIDADES RELACIONADAS A LA EXTRACCIÓN</th>\n",
       "      <td>0.0</td>\n",
       "      <td>2.0</td>\n",
       "      <td>0.0</td>\n",
       "      <td>2.0</td>\n",
       "    </tr>\n",
       "    <tr>\n",
       "      <th>ACTIVIDADES RELACIONADAS AL SECTOR SALUD</th>\n",
       "      <td>0.0</td>\n",
       "      <td>1.0</td>\n",
       "      <td>0.0</td>\n",
       "      <td>0.0</td>\n",
       "    </tr>\n",
       "    <tr>\n",
       "      <th>ACTIVIDADES RELACIONADAS AL SECTOR TRANSPORTE</th>\n",
       "      <td>17.0</td>\n",
       "      <td>41.0</td>\n",
       "      <td>1.0</td>\n",
       "      <td>4.0</td>\n",
       "    </tr>\n",
       "    <tr>\n",
       "      <th>ALMACÉN/OBRERO</th>\n",
       "      <td>4.0</td>\n",
       "      <td>4.0</td>\n",
       "      <td>0.0</td>\n",
       "      <td>1.0</td>\n",
       "    </tr>\n",
       "    <tr>\n",
       "      <th>AMA/O DE CASA</th>\n",
       "      <td>100.0</td>\n",
       "      <td>374.0</td>\n",
       "      <td>2.0</td>\n",
       "      <td>132.0</td>\n",
       "    </tr>\n",
       "    <tr>\n",
       "      <th>ATENCIÓN AL CLIENTE</th>\n",
       "      <td>4.0</td>\n",
       "      <td>13.0</td>\n",
       "      <td>0.0</td>\n",
       "      <td>3.0</td>\n",
       "    </tr>\n",
       "    <tr>\n",
       "      <th>AYUDANTE SERVICIOS GENERALES</th>\n",
       "      <td>6.0</td>\n",
       "      <td>10.0</td>\n",
       "      <td>0.0</td>\n",
       "      <td>3.0</td>\n",
       "    </tr>\n",
       "    <tr>\n",
       "      <th>CUIDADO/ENSEÑANZA/EDUCACIÓN NIÑO/AS</th>\n",
       "      <td>5.0</td>\n",
       "      <td>17.0</td>\n",
       "      <td>0.0</td>\n",
       "      <td>4.0</td>\n",
       "    </tr>\n",
       "    <tr>\n",
       "      <th>EMPLEADA DEL HOGAR</th>\n",
       "      <td>9.0</td>\n",
       "      <td>46.0</td>\n",
       "      <td>0.0</td>\n",
       "      <td>12.0</td>\n",
       "    </tr>\n",
       "    <tr>\n",
       "      <th>EMPRESA/FÁBRICA/OPERARIO/OBRERO</th>\n",
       "      <td>17.0</td>\n",
       "      <td>46.0</td>\n",
       "      <td>1.0</td>\n",
       "      <td>6.0</td>\n",
       "    </tr>\n",
       "    <tr>\n",
       "      <th>METAL MECÁNICA</th>\n",
       "      <td>1.0</td>\n",
       "      <td>2.0</td>\n",
       "      <td>0.0</td>\n",
       "      <td>1.0</td>\n",
       "    </tr>\n",
       "    <tr>\n",
       "      <th>NO ESPECIFICA</th>\n",
       "      <td>1.0</td>\n",
       "      <td>12.0</td>\n",
       "      <td>0.0</td>\n",
       "      <td>3.0</td>\n",
       "    </tr>\n",
       "    <tr>\n",
       "      <th>SEGURIDAD</th>\n",
       "      <td>0.0</td>\n",
       "      <td>3.0</td>\n",
       "      <td>0.0</td>\n",
       "      <td>1.0</td>\n",
       "    </tr>\n",
       "    <tr>\n",
       "      <th>SERVICIOS AMBULANTES</th>\n",
       "      <td>2.0</td>\n",
       "      <td>6.0</td>\n",
       "      <td>0.0</td>\n",
       "      <td>1.0</td>\n",
       "    </tr>\n",
       "    <tr>\n",
       "      <th>SERVICIOS AMBULANTES DE LIMPIEZA</th>\n",
       "      <td>15.0</td>\n",
       "      <td>31.0</td>\n",
       "      <td>0.0</td>\n",
       "      <td>10.0</td>\n",
       "    </tr>\n",
       "    <tr>\n",
       "      <th>SERVICIOS RELACIONADOS AL SECTOR BELLEZA</th>\n",
       "      <td>7.0</td>\n",
       "      <td>23.0</td>\n",
       "      <td>0.0</td>\n",
       "      <td>6.0</td>\n",
       "    </tr>\n",
       "    <tr>\n",
       "      <th>SERVICIOS/OFICIOS</th>\n",
       "      <td>10.0</td>\n",
       "      <td>19.0</td>\n",
       "      <td>0.0</td>\n",
       "      <td>10.0</td>\n",
       "    </tr>\n",
       "    <tr>\n",
       "      <th>VENTA AMBULATORIA</th>\n",
       "      <td>1.0</td>\n",
       "      <td>15.0</td>\n",
       "      <td>0.0</td>\n",
       "      <td>7.0</td>\n",
       "    </tr>\n",
       "    <tr>\n",
       "      <th>VENTA NO AMBULATORIA</th>\n",
       "      <td>3.0</td>\n",
       "      <td>4.0</td>\n",
       "      <td>0.0</td>\n",
       "      <td>4.0</td>\n",
       "    </tr>\n",
       "    <tr>\n",
       "      <th>VENTAS GENERALES</th>\n",
       "      <td>4.0</td>\n",
       "      <td>11.0</td>\n",
       "      <td>0.0</td>\n",
       "      <td>0.0</td>\n",
       "    </tr>\n",
       "  </tbody>\n",
       "</table>\n",
       "</div>"
      ],
      "text/plain": [
       "Provincia donde vive                           Chincha    Ica  Nazca  Pisco\n",
       "¿Podría decirnos a que se dedica?.1                                        \n",
       "ACTIVIDADES RELACIONADAS A LA CONSTRUCCIÓN        13.0   23.0    0.0    4.0\n",
       "ACTIVIDADES RELACIONADAS A LA EXTRACCIÓN           0.0    2.0    0.0    2.0\n",
       "ACTIVIDADES RELACIONADAS AL SECTOR SALUD           0.0    1.0    0.0    0.0\n",
       "ACTIVIDADES RELACIONADAS AL SECTOR TRANSPORTE     17.0   41.0    1.0    4.0\n",
       "ALMACÉN/OBRERO                                     4.0    4.0    0.0    1.0\n",
       "AMA/O DE CASA                                    100.0  374.0    2.0  132.0\n",
       "ATENCIÓN AL CLIENTE                                4.0   13.0    0.0    3.0\n",
       "AYUDANTE SERVICIOS GENERALES                       6.0   10.0    0.0    3.0\n",
       "CUIDADO/ENSEÑANZA/EDUCACIÓN NIÑO/AS                5.0   17.0    0.0    4.0\n",
       "EMPLEADA DEL HOGAR                                 9.0   46.0    0.0   12.0\n",
       "EMPRESA/FÁBRICA/OPERARIO/OBRERO                   17.0   46.0    1.0    6.0\n",
       "METAL MECÁNICA                                     1.0    2.0    0.0    1.0\n",
       "NO ESPECIFICA                                      1.0   12.0    0.0    3.0\n",
       "SEGURIDAD                                          0.0    3.0    0.0    1.0\n",
       "SERVICIOS AMBULANTES                               2.0    6.0    0.0    1.0\n",
       "SERVICIOS AMBULANTES DE LIMPIEZA                  15.0   31.0    0.0   10.0\n",
       "SERVICIOS RELACIONADOS AL SECTOR BELLEZA           7.0   23.0    0.0    6.0\n",
       "SERVICIOS/OFICIOS                                 10.0   19.0    0.0   10.0\n",
       "VENTA AMBULATORIA                                  1.0   15.0    0.0    7.0\n",
       "VENTA NO AMBULATORIA                               3.0    4.0    0.0    4.0\n",
       "VENTAS GENERALES                                   4.0   11.0    0.0    0.0"
      ]
     },
     "execution_count": 240,
     "metadata": {},
     "output_type": "execute_result"
    }
   ],
   "source": [
    "no_rel_alim_detalle = (df.groupby(['Provincia donde vive', '¿Podría decirnos a que se dedica?.1'])\n",
    ".size()\n",
    ".unstack(0)\n",
    ".fillna(0))\n",
    "no_rel_alim_detalle"
   ]
  },
  {
   "cell_type": "code",
   "execution_count": 241,
   "id": "293b34d9-779c-43e8-ae79-8cd7b540f4b5",
   "metadata": {},
   "outputs": [],
   "source": [
    "no_rel_alim_detalle.to_clipboard()"
   ]
  },
  {
   "cell_type": "code",
   "execution_count": 243,
   "id": "e6e93cdf-7730-4b23-b5fb-f0fc501ea525",
   "metadata": {},
   "outputs": [
    {
     "data": {
      "text/html": [
       "<div>\n",
       "<style scoped>\n",
       "    .dataframe tbody tr th:only-of-type {\n",
       "        vertical-align: middle;\n",
       "    }\n",
       "\n",
       "    .dataframe tbody tr th {\n",
       "        vertical-align: top;\n",
       "    }\n",
       "\n",
       "    .dataframe thead th {\n",
       "        text-align: right;\n",
       "    }\n",
       "</style>\n",
       "<table border=\"1\" class=\"dataframe\">\n",
       "  <thead>\n",
       "    <tr style=\"text-align: right;\">\n",
       "      <th>Provincia donde vive</th>\n",
       "      <th>Chincha</th>\n",
       "      <th>Ica</th>\n",
       "      <th>Pisco</th>\n",
       "    </tr>\n",
       "    <tr>\n",
       "      <th>Si tiene algun tipo de emprendimiento. ¿Podría decirnos cuál es el rubro de su emprendimiento?</th>\n",
       "      <th></th>\n",
       "      <th></th>\n",
       "      <th></th>\n",
       "    </tr>\n",
       "  </thead>\n",
       "  <tbody>\n",
       "    <tr>\n",
       "      <th>Bodega o negocio propio</th>\n",
       "      <td>0.0</td>\n",
       "      <td>1.0</td>\n",
       "      <td>0.0</td>\n",
       "    </tr>\n",
       "    <tr>\n",
       "      <th>Otro</th>\n",
       "      <td>16.0</td>\n",
       "      <td>26.0</td>\n",
       "      <td>18.0</td>\n",
       "    </tr>\n",
       "    <tr>\n",
       "      <th>Venta de alimentos</th>\n",
       "      <td>60.0</td>\n",
       "      <td>188.0</td>\n",
       "      <td>71.0</td>\n",
       "    </tr>\n",
       "    <tr>\n",
       "      <th>Venta de ropa</th>\n",
       "      <td>5.0</td>\n",
       "      <td>11.0</td>\n",
       "      <td>5.0</td>\n",
       "    </tr>\n",
       "  </tbody>\n",
       "</table>\n",
       "</div>"
      ],
      "text/plain": [
       "Provincia donde vive                                Chincha    Ica  Pisco\n",
       "Si tiene algun tipo de emprendimiento. ¿Podría ...                       \n",
       "Bodega o negocio propio                                 0.0    1.0    0.0\n",
       "Otro                                                   16.0   26.0   18.0\n",
       "Venta de alimentos                                     60.0  188.0   71.0\n",
       "Venta de ropa                                           5.0   11.0    5.0"
      ]
     },
     "execution_count": 243,
     "metadata": {},
     "output_type": "execute_result"
    }
   ],
   "source": [
    "emprendimiento = (df.groupby(['Provincia donde vive', 'Si tiene algun tipo de emprendimiento. ¿Podría decirnos cuál es el rubro de su emprendimiento?',])\n",
    ".size()\n",
    ".unstack(0)\n",
    ".fillna(0))\n",
    "emprendimiento"
   ]
  },
  {
   "cell_type": "code",
   "execution_count": 244,
   "id": "6f2722bc-1667-4a50-80fb-71935883cd54",
   "metadata": {},
   "outputs": [],
   "source": [
    "emprendimiento.to_clipboard()"
   ]
  },
  {
   "cell_type": "code",
   "execution_count": 198,
   "id": "7481ee17-a1b7-4bc5-af3b-5a0c34a4e1de",
   "metadata": {},
   "outputs": [],
   "source": [
    "df['Preocupación por no tener alimentos (Leve)'] = df['En los últimos 12 meses ¿Usted u otra persona en su hogar se haya preocupado por no tener suficientes alimentos para comer por falta de dinero u otros recursos?']\n",
    "df['No pudo comer alimentos saludables y nutritivos (v)'] = df['Pensando aún en los últimos 12 meses, ¿hubo alguna vez en que usted u otra persona en su hogar no haya podido comer alimentos saludables y nutritivos  por falta de dinero u otros recursos?']\n",
    "df['Comió poca variedad de alimentos (Moderada)'] = df['En los últimos 12 meses ¿Hubo alguna vez en que usted u otra persona en su hogar haya comido poca variedad de  alimentos por falta de dinero u otros recursos?']\n",
    "df['Se saltó alguna comida por falta (Moderada)'] = df['En los últimos 12 meses ¿Hubo alguna vez en que usted u otra persona en su hogar haya tenido que dejar de desayunar, almorzar o cenar porque no había suficiente dinero u otros recursos para obtener alimentos?']\n",
    "df['Comió menos de lo que pensaba que debía (Moderada)'] = df['En los últimos 12 meses Pensando aún en los últimos 12 meses, ¿hubo alguna vez en que usted u otra persona en su hogar haya comido menos de lo que pensaba que debía comer por falta de dinero u otros recursos?']\n",
    "df['Se quedó sin alimentos (Grave)'] = df['En los últimos 12 meses ¿Hubo alguna vez en que su hogar se haya quedado sin alimentos por falta de dinero u otros recursos?']\n",
    "df['Tuvo hambre pero no comió por falta de alientos (Moderada)'] = df['En los últimos 12 meses ¿Hubo alguna vez en que usted u otra persona en su hogar haya sentido  hambre pero no comió porque no había suficiente dinero u otros recursos para obtener alimentos?']\n",
    "df['Dejo de comer todo un día (Grave)'] = df['En los últimos 12 meses ¿Hubo alguna vez en que usted u otra persona en su hogar haya dejado de comer todo un día por falta de dinero u otros recursos?']"
   ]
  },
  {
   "cell_type": "code",
   "execution_count": 200,
   "id": "b3ec6b8b-cd54-4b27-9973-04ecb2e9b748",
   "metadata": {},
   "outputs": [],
   "source": [
    "sit_alim  = ['Preocupación por no tener alimentos (Leve)',\n",
    "'No pudo comer alimentos saludables y nutritivos (v)',\n",
    "'Comió poca variedad de alimentos (Moderada)',\n",
    "'Comió menos de lo que pensaba que debía (Moderada)',\n",
    "'Se saltó alguna comida por falta (Moderada)',\n",
    "'Tuvo hambre pero no comió por falta de alientos (Moderada)',\n",
    "'Se quedó sin alimentos (Grave)',\n",
    "'Dejo de comer todo un día (Grave)']\n"
   ]
  },
  {
   "cell_type": "code",
   "execution_count": 222,
   "id": "ce73a445-509e-4f03-a025-89a199f6f102",
   "metadata": {},
   "outputs": [
    {
     "data": {
      "text/html": [
       "<div>\n",
       "<style scoped>\n",
       "    .dataframe tbody tr th:only-of-type {\n",
       "        vertical-align: middle;\n",
       "    }\n",
       "\n",
       "    .dataframe tbody tr th {\n",
       "        vertical-align: top;\n",
       "    }\n",
       "\n",
       "    .dataframe thead th {\n",
       "        text-align: right;\n",
       "    }\n",
       "</style>\n",
       "<table border=\"1\" class=\"dataframe\">\n",
       "  <thead>\n",
       "    <tr style=\"text-align: right;\">\n",
       "      <th>Provincia donde vive</th>\n",
       "      <th>Chincha</th>\n",
       "      <th>Ica</th>\n",
       "      <th>Nazca</th>\n",
       "      <th>Pisco</th>\n",
       "    </tr>\n",
       "  </thead>\n",
       "  <tbody>\n",
       "    <tr>\n",
       "      <th>Preocupación por no tener alimentos (Leve)</th>\n",
       "      <td>328.0</td>\n",
       "      <td>1002.0</td>\n",
       "      <td>5.0</td>\n",
       "      <td>360.0</td>\n",
       "    </tr>\n",
       "    <tr>\n",
       "      <th>No pudo comer alimentos saludables y nutritivos (v)</th>\n",
       "      <td>267.0</td>\n",
       "      <td>761.0</td>\n",
       "      <td>3.0</td>\n",
       "      <td>274.0</td>\n",
       "    </tr>\n",
       "    <tr>\n",
       "      <th>Comió poca variedad de alimentos (Moderada)</th>\n",
       "      <td>297.0</td>\n",
       "      <td>848.0</td>\n",
       "      <td>2.0</td>\n",
       "      <td>325.0</td>\n",
       "    </tr>\n",
       "    <tr>\n",
       "      <th>Comió menos de lo que pensaba que debía (Moderada)</th>\n",
       "      <td>284.0</td>\n",
       "      <td>773.0</td>\n",
       "      <td>3.0</td>\n",
       "      <td>304.0</td>\n",
       "    </tr>\n",
       "    <tr>\n",
       "      <th>Se saltó alguna comida por falta (Moderada)</th>\n",
       "      <td>239.0</td>\n",
       "      <td>677.0</td>\n",
       "      <td>2.0</td>\n",
       "      <td>241.0</td>\n",
       "    </tr>\n",
       "    <tr>\n",
       "      <th>Tuvo hambre pero no comió por falta de alientos (Moderada)</th>\n",
       "      <td>226.0</td>\n",
       "      <td>612.0</td>\n",
       "      <td>2.0</td>\n",
       "      <td>266.0</td>\n",
       "    </tr>\n",
       "    <tr>\n",
       "      <th>Se quedó sin alimentos (Grave)</th>\n",
       "      <td>193.0</td>\n",
       "      <td>562.0</td>\n",
       "      <td>2.0</td>\n",
       "      <td>215.0</td>\n",
       "    </tr>\n",
       "    <tr>\n",
       "      <th>Dejo de comer todo un día (Grave)</th>\n",
       "      <td>71.0</td>\n",
       "      <td>232.0</td>\n",
       "      <td>0.0</td>\n",
       "      <td>97.0</td>\n",
       "    </tr>\n",
       "  </tbody>\n",
       "</table>\n",
       "</div>"
      ],
      "text/plain": [
       "Provincia donde vive                                Chincha     Ica  Nazca  \\\n",
       "Preocupación por no tener alimentos (Leve)            328.0  1002.0    5.0   \n",
       "No pudo comer alimentos saludables y nutritivos...    267.0   761.0    3.0   \n",
       "Comió poca variedad de alimentos (Moderada)           297.0   848.0    2.0   \n",
       "Comió menos de lo que pensaba que debía (Moderada)    284.0   773.0    3.0   \n",
       "Se saltó alguna comida por falta (Moderada)           239.0   677.0    2.0   \n",
       "Tuvo hambre pero no comió por falta de alientos...    226.0   612.0    2.0   \n",
       "Se quedó sin alimentos (Grave)                        193.0   562.0    2.0   \n",
       "Dejo de comer todo un día (Grave)                      71.0   232.0    0.0   \n",
       "\n",
       "Provincia donde vive                                Pisco  \n",
       "Preocupación por no tener alimentos (Leve)          360.0  \n",
       "No pudo comer alimentos saludables y nutritivos...  274.0  \n",
       "Comió poca variedad de alimentos (Moderada)         325.0  \n",
       "Comió menos de lo que pensaba que debía (Moderada)  304.0  \n",
       "Se saltó alguna comida por falta (Moderada)         241.0  \n",
       "Tuvo hambre pero no comió por falta de alientos...  266.0  \n",
       "Se quedó sin alimentos (Grave)                      215.0  \n",
       "Dejo de comer todo un día (Grave)                    97.0  "
      ]
     },
     "execution_count": 222,
     "metadata": {},
     "output_type": "execute_result"
    }
   ],
   "source": [
    "table = []\n",
    "for col in sit_alim:\n",
    "    dff = df[df[col] == 'Si']\n",
    "    table_col = (dff.groupby(['Provincia donde vive'])\n",
    "     .size()\n",
    "     .fillna(0))\n",
    "    table_col.name = col\n",
    "    table.append(table_col)\n",
    "table_sit_alim = pd.concat(table, axis=1).T.fillna(0)\n",
    "table_sit_alim"
   ]
  },
  {
   "cell_type": "code",
   "execution_count": 245,
   "id": "cb62fff2-34c6-4b07-9bf5-2193d32281e0",
   "metadata": {},
   "outputs": [],
   "source": [
    "table_sit_alim.to_clipboard()"
   ]
  },
  {
   "cell_type": "code",
   "execution_count": 225,
   "id": "8e14e16c-7a90-4fb5-85d5-17c695c39261",
   "metadata": {},
   "outputs": [
    {
     "data": {
      "text/plain": [
       "array(['POSTA', 'Automedicación', 'Botica', 'HOSPITAL', nan,\n",
       "       'CLÍNICA PRIVADA', 'Campañas o ferias de salud', 'ESSALUD',\n",
       "       'OTRO, CUAL?', 'MEDICO PARTICULAR'], dtype=object)"
      ]
     },
     "execution_count": 225,
     "metadata": {},
     "output_type": "execute_result"
    }
   ],
   "source": [
    "df['¿CUÁNDO USTED O ALGUN MIEMBRO DE SU HOGAR SE ENFERMA, A DONDE ACUDE PARA LA ATENCIÓN?'].unique()\n"
   ]
  },
  {
   "cell_type": "code",
   "execution_count": 248,
   "id": "8a5fc1f2-60b6-4f01-a575-5225ba5dfdce",
   "metadata": {},
   "outputs": [
    {
     "data": {
      "text/html": [
       "<div>\n",
       "<style scoped>\n",
       "    .dataframe tbody tr th:only-of-type {\n",
       "        vertical-align: middle;\n",
       "    }\n",
       "\n",
       "    .dataframe tbody tr th {\n",
       "        vertical-align: top;\n",
       "    }\n",
       "\n",
       "    .dataframe thead th {\n",
       "        text-align: right;\n",
       "    }\n",
       "</style>\n",
       "<table border=\"1\" class=\"dataframe\">\n",
       "  <thead>\n",
       "    <tr style=\"text-align: right;\">\n",
       "      <th>Provincia donde vive</th>\n",
       "      <th>Chincha</th>\n",
       "      <th>Ica</th>\n",
       "      <th>Nazca</th>\n",
       "      <th>Pisco</th>\n",
       "    </tr>\n",
       "    <tr>\n",
       "      <th>¿CUÁNDO USTED O ALGUN MIEMBRO DE SU HOGAR SE ENFERMA, A DONDE ACUDE PARA LA ATENCIÓN?</th>\n",
       "      <th></th>\n",
       "      <th></th>\n",
       "      <th></th>\n",
       "      <th></th>\n",
       "    </tr>\n",
       "  </thead>\n",
       "  <tbody>\n",
       "    <tr>\n",
       "      <th>Automedicación</th>\n",
       "      <td>60.0</td>\n",
       "      <td>159.0</td>\n",
       "      <td>0.0</td>\n",
       "      <td>74.0</td>\n",
       "    </tr>\n",
       "    <tr>\n",
       "      <th>Botica</th>\n",
       "      <td>36.0</td>\n",
       "      <td>141.0</td>\n",
       "      <td>1.0</td>\n",
       "      <td>30.0</td>\n",
       "    </tr>\n",
       "    <tr>\n",
       "      <th>CLÍNICA PRIVADA</th>\n",
       "      <td>5.0</td>\n",
       "      <td>4.0</td>\n",
       "      <td>0.0</td>\n",
       "      <td>0.0</td>\n",
       "    </tr>\n",
       "    <tr>\n",
       "      <th>Campañas o ferias de salud</th>\n",
       "      <td>1.0</td>\n",
       "      <td>1.0</td>\n",
       "      <td>0.0</td>\n",
       "      <td>0.0</td>\n",
       "    </tr>\n",
       "    <tr>\n",
       "      <th>ESSALUD</th>\n",
       "      <td>1.0</td>\n",
       "      <td>5.0</td>\n",
       "      <td>0.0</td>\n",
       "      <td>0.0</td>\n",
       "    </tr>\n",
       "    <tr>\n",
       "      <th>HOSPITAL</th>\n",
       "      <td>99.0</td>\n",
       "      <td>184.0</td>\n",
       "      <td>4.0</td>\n",
       "      <td>89.0</td>\n",
       "    </tr>\n",
       "    <tr>\n",
       "      <th>MEDICO PARTICULAR</th>\n",
       "      <td>1.0</td>\n",
       "      <td>4.0</td>\n",
       "      <td>0.0</td>\n",
       "      <td>1.0</td>\n",
       "    </tr>\n",
       "    <tr>\n",
       "      <th>OTRO, CUAL?</th>\n",
       "      <td>1.0</td>\n",
       "      <td>8.0</td>\n",
       "      <td>0.0</td>\n",
       "      <td>2.0</td>\n",
       "    </tr>\n",
       "    <tr>\n",
       "      <th>POSTA</th>\n",
       "      <td>136.0</td>\n",
       "      <td>570.0</td>\n",
       "      <td>0.0</td>\n",
       "      <td>180.0</td>\n",
       "    </tr>\n",
       "  </tbody>\n",
       "</table>\n",
       "</div>"
      ],
      "text/plain": [
       "Provincia donde vive                                Chincha    Ica  Nazca  \\\n",
       "¿CUÁNDO USTED O ALGUN MIEMBRO DE SU HOGAR SE EN...                          \n",
       "Automedicación                                         60.0  159.0    0.0   \n",
       "Botica                                                 36.0  141.0    1.0   \n",
       "CLÍNICA PRIVADA                                         5.0    4.0    0.0   \n",
       "Campañas o ferias de salud                              1.0    1.0    0.0   \n",
       "ESSALUD                                                 1.0    5.0    0.0   \n",
       "HOSPITAL                                               99.0  184.0    4.0   \n",
       "MEDICO PARTICULAR                                       1.0    4.0    0.0   \n",
       "OTRO, CUAL?                                             1.0    8.0    0.0   \n",
       "POSTA                                                 136.0  570.0    0.0   \n",
       "\n",
       "Provincia donde vive                                Pisco  \n",
       "¿CUÁNDO USTED O ALGUN MIEMBRO DE SU HOGAR SE EN...         \n",
       "Automedicación                                       74.0  \n",
       "Botica                                               30.0  \n",
       "CLÍNICA PRIVADA                                       0.0  \n",
       "Campañas o ferias de salud                            0.0  \n",
       "ESSALUD                                               0.0  \n",
       "HOSPITAL                                             89.0  \n",
       "MEDICO PARTICULAR                                     1.0  \n",
       "OTRO, CUAL?                                           2.0  \n",
       "POSTA                                               180.0  "
      ]
     },
     "execution_count": 248,
     "metadata": {},
     "output_type": "execute_result"
    }
   ],
   "source": [
    "atnncion_medica = (df.groupby(['Provincia donde vive', '¿CUÁNDO USTED O ALGUN MIEMBRO DE SU HOGAR SE ENFERMA, A DONDE ACUDE PARA LA ATENCIÓN?'])\n",
    ".size()\n",
    ".unstack(0)\n",
    ".fillna(0))\n",
    "atnncion_medica"
   ]
  },
  {
   "cell_type": "code",
   "execution_count": null,
   "id": "a253a1fc-4b81-4bdc-a5ab-dc00f14a552e",
   "metadata": {},
   "outputs": [],
   "source": []
  }
 ],
 "metadata": {
  "kernelspec": {
   "display_name": "Python 3 (ipykernel)",
   "language": "python",
   "name": "python3"
  },
  "language_info": {
   "codemirror_mode": {
    "name": "ipython",
    "version": 3
   },
   "file_extension": ".py",
   "mimetype": "text/x-python",
   "name": "python",
   "nbconvert_exporter": "python",
   "pygments_lexer": "ipython3",
   "version": "3.10.9"
  }
 },
 "nbformat": 4,
 "nbformat_minor": 5
}
